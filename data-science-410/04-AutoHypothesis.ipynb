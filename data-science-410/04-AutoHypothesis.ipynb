{
 "cells": [
  {
   "cell_type": "markdown",
   "metadata": {},
   "source": [
    "# Lesson 4 Assignment - Automobile Price Hypothesis Testing\n",
    "## Author - Lawrence Huang"
   ]
  },
  {
   "cell_type": "markdown",
   "metadata": {},
   "source": [
    "### Instructions\n",
    "Test hypotheses for the price of automobiles:\n",
    "\n",
    "1. Compare and test the normality of the distributions of **price** and **log price**. <br/>\n",
    "Use both a graphical method and a formal test. Hint: remember these relationships will always be approximate.\n",
    "\n",
    "2. Test significance of **price (or log price)** stratified by \n",
    "a) **fuel type**, b) **aspiration**, and c) **rear vs. front wheel drive**. <br />Use both graphical methods and the formal test.\n",
    "\n",
    "3. Apply ANOVA and Tukey's HSD test to the auto price data to compare the **price (or log price** if closer to a normal distribution) of autos stratified by **body style**.\n",
    "\n",
    "4. Graphically explore the differences between the price conditioned by the categories of each variable. <br/>\n",
    "Hint: Make sure you have enough data for each category and drop categories with insufficient data.\n",
    "\n",
    "5. Use standard ANOVA and Tukey HSD to test the differences of these groups.\n"
   ]
  },
  {
   "cell_type": "markdown",
   "metadata": {},
   "source": [
    "#### Note: \n",
    "[Please clearly outline the results of these tests with markdown text. Be sure your discussion includes narrative for your figures and tables so it is clear to the reader the importance of each bit of evidence."
   ]
  },
  {
   "cell_type": "markdown",
   "metadata": {},
   "source": [
    "[Preprocessing](#Preprocessing)<p>\n",
    "[Section 1. Compare and test the normality of the distributions of price and log price.](#Section-1)<p>\n",
    "[Section 2. Test significance of price (or log price) stratified by a) fuel type, b) aspiration, and c) rear vs. front wheel drive.](#Section-2)<p>\n",
    "[Section 3. Apply ANOVA and Tukey's HSD test to the auto price data to compare the price (or log price if closer to a normal distribution) of autos stratified by body style](#Section-3)<p>\n",
    "[Section 4&5. Graphically explore the differences between the price conditioned by the categories of each variable; Use standard ANOVA and Tukey HSD to test the differences of these groups](#Section-4&5)"
   ]
  },
  {
   "cell_type": "markdown",
   "metadata": {},
   "source": [
    "#### Preprocessing"
   ]
  },
  {
   "cell_type": "code",
   "execution_count": 1,
   "metadata": {},
   "outputs": [
    {
     "name": "stdout",
     "output_type": "stream",
     "text": [
      "dataframe shape:\n",
      "(205, 26)\n"
     ]
    },
    {
     "data": {
      "text/html": [
       "<div>\n",
       "<style scoped>\n",
       "    .dataframe tbody tr th:only-of-type {\n",
       "        vertical-align: middle;\n",
       "    }\n",
       "\n",
       "    .dataframe tbody tr th {\n",
       "        vertical-align: top;\n",
       "    }\n",
       "\n",
       "    .dataframe thead th {\n",
       "        text-align: right;\n",
       "    }\n",
       "</style>\n",
       "<table border=\"1\" class=\"dataframe\">\n",
       "  <thead>\n",
       "    <tr style=\"text-align: right;\">\n",
       "      <th></th>\n",
       "      <th>symboling</th>\n",
       "      <th>normalized-losses</th>\n",
       "      <th>make</th>\n",
       "      <th>fuel-type</th>\n",
       "      <th>aspiration</th>\n",
       "      <th>num-of-doors</th>\n",
       "      <th>body-style</th>\n",
       "      <th>drive-wheels</th>\n",
       "      <th>engine-location</th>\n",
       "      <th>wheel-base</th>\n",
       "      <th>...</th>\n",
       "      <th>engine-size</th>\n",
       "      <th>fuel-system</th>\n",
       "      <th>bore</th>\n",
       "      <th>stroke</th>\n",
       "      <th>compression-ratio</th>\n",
       "      <th>horsepower</th>\n",
       "      <th>peak-rpm</th>\n",
       "      <th>city-mpg</th>\n",
       "      <th>highway-mpg</th>\n",
       "      <th>price</th>\n",
       "    </tr>\n",
       "  </thead>\n",
       "  <tbody>\n",
       "    <tr>\n",
       "      <th>0</th>\n",
       "      <td>3</td>\n",
       "      <td>?</td>\n",
       "      <td>alfa-romero</td>\n",
       "      <td>gas</td>\n",
       "      <td>std</td>\n",
       "      <td>two</td>\n",
       "      <td>convertible</td>\n",
       "      <td>rwd</td>\n",
       "      <td>front</td>\n",
       "      <td>88.6</td>\n",
       "      <td>...</td>\n",
       "      <td>130</td>\n",
       "      <td>mpfi</td>\n",
       "      <td>3.47</td>\n",
       "      <td>2.68</td>\n",
       "      <td>9.0</td>\n",
       "      <td>111</td>\n",
       "      <td>5000</td>\n",
       "      <td>21</td>\n",
       "      <td>27</td>\n",
       "      <td>13495</td>\n",
       "    </tr>\n",
       "    <tr>\n",
       "      <th>1</th>\n",
       "      <td>3</td>\n",
       "      <td>?</td>\n",
       "      <td>alfa-romero</td>\n",
       "      <td>gas</td>\n",
       "      <td>std</td>\n",
       "      <td>two</td>\n",
       "      <td>convertible</td>\n",
       "      <td>rwd</td>\n",
       "      <td>front</td>\n",
       "      <td>88.6</td>\n",
       "      <td>...</td>\n",
       "      <td>130</td>\n",
       "      <td>mpfi</td>\n",
       "      <td>3.47</td>\n",
       "      <td>2.68</td>\n",
       "      <td>9.0</td>\n",
       "      <td>111</td>\n",
       "      <td>5000</td>\n",
       "      <td>21</td>\n",
       "      <td>27</td>\n",
       "      <td>16500</td>\n",
       "    </tr>\n",
       "    <tr>\n",
       "      <th>2</th>\n",
       "      <td>1</td>\n",
       "      <td>?</td>\n",
       "      <td>alfa-romero</td>\n",
       "      <td>gas</td>\n",
       "      <td>std</td>\n",
       "      <td>two</td>\n",
       "      <td>hatchback</td>\n",
       "      <td>rwd</td>\n",
       "      <td>front</td>\n",
       "      <td>94.5</td>\n",
       "      <td>...</td>\n",
       "      <td>152</td>\n",
       "      <td>mpfi</td>\n",
       "      <td>2.68</td>\n",
       "      <td>3.47</td>\n",
       "      <td>9.0</td>\n",
       "      <td>154</td>\n",
       "      <td>5000</td>\n",
       "      <td>19</td>\n",
       "      <td>26</td>\n",
       "      <td>16500</td>\n",
       "    </tr>\n",
       "    <tr>\n",
       "      <th>3</th>\n",
       "      <td>2</td>\n",
       "      <td>164</td>\n",
       "      <td>audi</td>\n",
       "      <td>gas</td>\n",
       "      <td>std</td>\n",
       "      <td>four</td>\n",
       "      <td>sedan</td>\n",
       "      <td>fwd</td>\n",
       "      <td>front</td>\n",
       "      <td>99.8</td>\n",
       "      <td>...</td>\n",
       "      <td>109</td>\n",
       "      <td>mpfi</td>\n",
       "      <td>3.19</td>\n",
       "      <td>3.40</td>\n",
       "      <td>10.0</td>\n",
       "      <td>102</td>\n",
       "      <td>5500</td>\n",
       "      <td>24</td>\n",
       "      <td>30</td>\n",
       "      <td>13950</td>\n",
       "    </tr>\n",
       "    <tr>\n",
       "      <th>4</th>\n",
       "      <td>2</td>\n",
       "      <td>164</td>\n",
       "      <td>audi</td>\n",
       "      <td>gas</td>\n",
       "      <td>std</td>\n",
       "      <td>four</td>\n",
       "      <td>sedan</td>\n",
       "      <td>4wd</td>\n",
       "      <td>front</td>\n",
       "      <td>99.4</td>\n",
       "      <td>...</td>\n",
       "      <td>136</td>\n",
       "      <td>mpfi</td>\n",
       "      <td>3.19</td>\n",
       "      <td>3.40</td>\n",
       "      <td>8.0</td>\n",
       "      <td>115</td>\n",
       "      <td>5500</td>\n",
       "      <td>18</td>\n",
       "      <td>22</td>\n",
       "      <td>17450</td>\n",
       "    </tr>\n",
       "  </tbody>\n",
       "</table>\n",
       "<p>5 rows × 26 columns</p>\n",
       "</div>"
      ],
      "text/plain": [
       "   symboling normalized-losses         make fuel-type aspiration num-of-doors  \\\n",
       "0          3                 ?  alfa-romero       gas        std          two   \n",
       "1          3                 ?  alfa-romero       gas        std          two   \n",
       "2          1                 ?  alfa-romero       gas        std          two   \n",
       "3          2               164         audi       gas        std         four   \n",
       "4          2               164         audi       gas        std         four   \n",
       "\n",
       "    body-style drive-wheels engine-location  wheel-base  ...  engine-size  \\\n",
       "0  convertible          rwd           front        88.6  ...          130   \n",
       "1  convertible          rwd           front        88.6  ...          130   \n",
       "2    hatchback          rwd           front        94.5  ...          152   \n",
       "3        sedan          fwd           front        99.8  ...          109   \n",
       "4        sedan          4wd           front        99.4  ...          136   \n",
       "\n",
       "   fuel-system  bore  stroke compression-ratio horsepower  peak-rpm city-mpg  \\\n",
       "0         mpfi  3.47    2.68               9.0        111      5000       21   \n",
       "1         mpfi  3.47    2.68               9.0        111      5000       21   \n",
       "2         mpfi  2.68    3.47               9.0        154      5000       19   \n",
       "3         mpfi  3.19    3.40              10.0        102      5500       24   \n",
       "4         mpfi  3.19    3.40               8.0        115      5500       18   \n",
       "\n",
       "  highway-mpg  price  \n",
       "0          27  13495  \n",
       "1          27  16500  \n",
       "2          26  16500  \n",
       "3          30  13950  \n",
       "4          22  17450  \n",
       "\n",
       "[5 rows x 26 columns]"
      ]
     },
     "execution_count": 1,
     "metadata": {},
     "output_type": "execute_result"
    }
   ],
   "source": [
    "# Cleaned up Dataset location\n",
    "fileName = \"https://library.startlearninglabs.uw.edu/DATASCI410/Datasets/Automobile%20price%20data%20_Raw_.csv\"\n",
    "\n",
    "# Import libraries\n",
    "import pandas as pd\n",
    "import numpy as np\n",
    "from sklearn.preprocessing import scale\n",
    "import numpy.random as nr\n",
    "import matplotlib.pyplot as plt\n",
    "import scipy.stats as ss\n",
    "from statsmodels.stats.multicomp import pairwise_tukeyhsd\n",
    "\n",
    "# Load data\n",
    "auto = pd.read_csv(fileName)\n",
    "print('dataframe shape:')\n",
    "print(auto.shape)\n",
    "auto.head()"
   ]
  },
  {
   "cell_type": "code",
   "execution_count": 2,
   "metadata": {},
   "outputs": [
    {
     "name": "stdout",
     "output_type": "stream",
     "text": [
      "# of missing values:\n",
      "symboling             0\n",
      "normalized-losses    41\n",
      "make                  0\n",
      "fuel-type             0\n",
      "aspiration            0\n",
      "num-of-doors          2\n",
      "body-style            0\n",
      "drive-wheels          0\n",
      "engine-location       0\n",
      "wheel-base            0\n",
      "length                0\n",
      "width                 0\n",
      "height                0\n",
      "curb-weight           0\n",
      "engine-type           0\n",
      "num-of-cylinders      0\n",
      "engine-size           0\n",
      "fuel-system           0\n",
      "bore                  4\n",
      "stroke                4\n",
      "compression-ratio     0\n",
      "horsepower            2\n",
      "peak-rpm              2\n",
      "city-mpg              0\n",
      "highway-mpg           0\n",
      "price                 4\n",
      "dtype: int64\n",
      "\n",
      "\n",
      "dataframe shape:\n",
      "(193, 25)\n"
     ]
    },
    {
     "data": {
      "text/html": [
       "<div>\n",
       "<style scoped>\n",
       "    .dataframe tbody tr th:only-of-type {\n",
       "        vertical-align: middle;\n",
       "    }\n",
       "\n",
       "    .dataframe tbody tr th {\n",
       "        vertical-align: top;\n",
       "    }\n",
       "\n",
       "    .dataframe thead th {\n",
       "        text-align: right;\n",
       "    }\n",
       "</style>\n",
       "<table border=\"1\" class=\"dataframe\">\n",
       "  <thead>\n",
       "    <tr style=\"text-align: right;\">\n",
       "      <th></th>\n",
       "      <th>symboling</th>\n",
       "      <th>make</th>\n",
       "      <th>fuel-type</th>\n",
       "      <th>aspiration</th>\n",
       "      <th>num-of-doors</th>\n",
       "      <th>body-style</th>\n",
       "      <th>drive-wheels</th>\n",
       "      <th>engine-location</th>\n",
       "      <th>wheel-base</th>\n",
       "      <th>length</th>\n",
       "      <th>...</th>\n",
       "      <th>engine-size</th>\n",
       "      <th>fuel-system</th>\n",
       "      <th>bore</th>\n",
       "      <th>stroke</th>\n",
       "      <th>compression-ratio</th>\n",
       "      <th>horsepower</th>\n",
       "      <th>peak-rpm</th>\n",
       "      <th>city-mpg</th>\n",
       "      <th>highway-mpg</th>\n",
       "      <th>price</th>\n",
       "    </tr>\n",
       "  </thead>\n",
       "  <tbody>\n",
       "    <tr>\n",
       "      <th>0</th>\n",
       "      <td>3</td>\n",
       "      <td>alfa-romero</td>\n",
       "      <td>gas</td>\n",
       "      <td>std</td>\n",
       "      <td>two</td>\n",
       "      <td>convertible</td>\n",
       "      <td>rwd</td>\n",
       "      <td>front</td>\n",
       "      <td>88.6</td>\n",
       "      <td>168.8</td>\n",
       "      <td>...</td>\n",
       "      <td>130</td>\n",
       "      <td>mpfi</td>\n",
       "      <td>3.47</td>\n",
       "      <td>2.68</td>\n",
       "      <td>9.0</td>\n",
       "      <td>111.0</td>\n",
       "      <td>5000.0</td>\n",
       "      <td>21</td>\n",
       "      <td>27</td>\n",
       "      <td>13495.0</td>\n",
       "    </tr>\n",
       "    <tr>\n",
       "      <th>1</th>\n",
       "      <td>3</td>\n",
       "      <td>alfa-romero</td>\n",
       "      <td>gas</td>\n",
       "      <td>std</td>\n",
       "      <td>two</td>\n",
       "      <td>convertible</td>\n",
       "      <td>rwd</td>\n",
       "      <td>front</td>\n",
       "      <td>88.6</td>\n",
       "      <td>168.8</td>\n",
       "      <td>...</td>\n",
       "      <td>130</td>\n",
       "      <td>mpfi</td>\n",
       "      <td>3.47</td>\n",
       "      <td>2.68</td>\n",
       "      <td>9.0</td>\n",
       "      <td>111.0</td>\n",
       "      <td>5000.0</td>\n",
       "      <td>21</td>\n",
       "      <td>27</td>\n",
       "      <td>16500.0</td>\n",
       "    </tr>\n",
       "    <tr>\n",
       "      <th>2</th>\n",
       "      <td>1</td>\n",
       "      <td>alfa-romero</td>\n",
       "      <td>gas</td>\n",
       "      <td>std</td>\n",
       "      <td>two</td>\n",
       "      <td>hatchback</td>\n",
       "      <td>rwd</td>\n",
       "      <td>front</td>\n",
       "      <td>94.5</td>\n",
       "      <td>171.2</td>\n",
       "      <td>...</td>\n",
       "      <td>152</td>\n",
       "      <td>mpfi</td>\n",
       "      <td>2.68</td>\n",
       "      <td>3.47</td>\n",
       "      <td>9.0</td>\n",
       "      <td>154.0</td>\n",
       "      <td>5000.0</td>\n",
       "      <td>19</td>\n",
       "      <td>26</td>\n",
       "      <td>16500.0</td>\n",
       "    </tr>\n",
       "    <tr>\n",
       "      <th>3</th>\n",
       "      <td>2</td>\n",
       "      <td>audi</td>\n",
       "      <td>gas</td>\n",
       "      <td>std</td>\n",
       "      <td>four</td>\n",
       "      <td>sedan</td>\n",
       "      <td>fwd</td>\n",
       "      <td>front</td>\n",
       "      <td>99.8</td>\n",
       "      <td>176.6</td>\n",
       "      <td>...</td>\n",
       "      <td>109</td>\n",
       "      <td>mpfi</td>\n",
       "      <td>3.19</td>\n",
       "      <td>3.40</td>\n",
       "      <td>10.0</td>\n",
       "      <td>102.0</td>\n",
       "      <td>5500.0</td>\n",
       "      <td>24</td>\n",
       "      <td>30</td>\n",
       "      <td>13950.0</td>\n",
       "    </tr>\n",
       "    <tr>\n",
       "      <th>4</th>\n",
       "      <td>2</td>\n",
       "      <td>audi</td>\n",
       "      <td>gas</td>\n",
       "      <td>std</td>\n",
       "      <td>four</td>\n",
       "      <td>sedan</td>\n",
       "      <td>4wd</td>\n",
       "      <td>front</td>\n",
       "      <td>99.4</td>\n",
       "      <td>176.6</td>\n",
       "      <td>...</td>\n",
       "      <td>136</td>\n",
       "      <td>mpfi</td>\n",
       "      <td>3.19</td>\n",
       "      <td>3.40</td>\n",
       "      <td>8.0</td>\n",
       "      <td>115.0</td>\n",
       "      <td>5500.0</td>\n",
       "      <td>18</td>\n",
       "      <td>22</td>\n",
       "      <td>17450.0</td>\n",
       "    </tr>\n",
       "  </tbody>\n",
       "</table>\n",
       "<p>5 rows × 25 columns</p>\n",
       "</div>"
      ],
      "text/plain": [
       "   symboling         make fuel-type aspiration num-of-doors   body-style  \\\n",
       "0          3  alfa-romero       gas        std          two  convertible   \n",
       "1          3  alfa-romero       gas        std          two  convertible   \n",
       "2          1  alfa-romero       gas        std          two    hatchback   \n",
       "3          2         audi       gas        std         four        sedan   \n",
       "4          2         audi       gas        std         four        sedan   \n",
       "\n",
       "  drive-wheels engine-location  wheel-base  length  ...  engine-size  \\\n",
       "0          rwd           front        88.6   168.8  ...          130   \n",
       "1          rwd           front        88.6   168.8  ...          130   \n",
       "2          rwd           front        94.5   171.2  ...          152   \n",
       "3          fwd           front        99.8   176.6  ...          109   \n",
       "4          4wd           front        99.4   176.6  ...          136   \n",
       "\n",
       "   fuel-system  bore stroke compression-ratio  horsepower peak-rpm  city-mpg  \\\n",
       "0         mpfi  3.47   2.68               9.0       111.0   5000.0        21   \n",
       "1         mpfi  3.47   2.68               9.0       111.0   5000.0        21   \n",
       "2         mpfi  2.68   3.47               9.0       154.0   5000.0        19   \n",
       "3         mpfi  3.19   3.40              10.0       102.0   5500.0        24   \n",
       "4         mpfi  3.19   3.40               8.0       115.0   5500.0        18   \n",
       "\n",
       "   highway-mpg    price  \n",
       "0           27  13495.0  \n",
       "1           27  16500.0  \n",
       "2           26  16500.0  \n",
       "3           30  13950.0  \n",
       "4           22  17450.0  \n",
       "\n",
       "[5 rows x 25 columns]"
      ]
     },
     "execution_count": 2,
     "metadata": {},
     "output_type": "execute_result"
    }
   ],
   "source": [
    "# making a list of missing value types\n",
    "missing_values = ['?']\n",
    "auto = pd.read_csv(fileName, na_values=missing_values)\n",
    "\n",
    "# total missing values for each feature\n",
    "print('# of missing values:')\n",
    "print(auto.isnull().sum())\n",
    "\n",
    "# most missing values are in normalized-losses. Drop normalized-losses column\n",
    "auto.drop('normalized-losses', axis=1, inplace=True)\n",
    "\n",
    "# Drop rows with missing data\n",
    "# In particular, cannot compute log_price for the missing data in price \n",
    "auto.dropna(axis=0, inplace=True)\n",
    "\n",
    "print('\\n')\n",
    "print('dataframe shape:')\n",
    "print(auto.shape)\n",
    "auto.head()"
   ]
  },
  {
   "cell_type": "markdown",
   "metadata": {},
   "source": [
    "#### Section 1\n",
    "<b>Compare and test the normality of the distributions of price and log price. \n",
    "Use both a graphical method and a formal test. Hint: remember these relationships will always be approximate.</b>"
   ]
  },
  {
   "cell_type": "code",
   "execution_count": 3,
   "metadata": {},
   "outputs": [
    {
     "data": {
      "image/png": "[encoded data removed]",
      "text/plain": [
       "<Figure size 432x288 with 2 Axes>"
      ]
     },
     "metadata": {
      "needs_background": "light"
     },
     "output_type": "display_data"
    }
   ],
   "source": [
    "# create log price\n",
    "auto['log_price'] = np.log(auto['price'])\n",
    "\n",
    "# examine distributions of price and log_price\n",
    "fig, axs = plt.subplots(1,2)\n",
    "auto['price'].hist(ax=axs[0])\n",
    "auto['log_price'].hist(ax=axs[1])\n",
    "axs[0].set_title('Distribution of price')\n",
    "axs[1].set_title('Distribution of log_price')\n",
    "plt.show()"
   ]
  },
  {
   "cell_type": "code",
   "execution_count": 4,
   "metadata": {},
   "outputs": [
    {
     "data": {
      "image/png": "[encoded data removed]",
      "text/plain": [
       "<Figure size 432x432 with 2 Axes>"
      ]
     },
     "metadata": {
      "needs_background": "light"
     },
     "output_type": "display_data"
    }
   ],
   "source": [
    "# Graphical method: Q-Q plot\n",
    "def qq_plot(vec1, vec2):\n",
    "    plt.figure(figsize=(6, 6)).gca() # define axis\n",
    "    ax1 = plt.subplot(221) ## setup the left subplot\n",
    "    ss.probplot(vec1, plot = ax1) ## Plot the left subplot\n",
    "    ax1.set_title('Probability Plot for '+vec1.name)\n",
    "    ax1 = plt.subplot(222) ## Set up the right subplot\n",
    "    ss.probplot(vec2, plot = ax1) ## Plot the right subplot\n",
    "    ax1.set_title('Probability Plot for '+vec2.name)\n",
    "    plt.tight_layout()\n",
    "\n",
    "# plot Q-Q plots\n",
    "qq_plot(auto['price'], auto['log_price'])"
   ]
  },
  {
   "cell_type": "markdown",
   "metadata": {},
   "source": [
    "<b>Results from graphical method (Q-Q plot):</b>\n",
    "\n",
    "Using probplot from scipy.stats, the above function generated a probability plot of the sample data against the quantiles of the normal distribution. If the points of the plot fall on an approximately straight line, one can conclude that the sample distribution is close to the normal distribution. \n",
    "\n",
    "Here, by visual inspection, log_price appears closer to a normal distribution compared to price, while both exhibit some deviation from the straight line. A formal test follows below."
   ]
  },
  {
   "cell_type": "code",
   "execution_count": 5,
   "metadata": {},
   "outputs": [],
   "source": [
    "# standardize samples before applying the K-S test  \n",
    "auto_price_s = scale(auto['price'])\n",
    "auto_log_price_s = scale(auto['log_price'])\n",
    "\n",
    "# plot CDF of the sample and the CDF of the theoretical distribution\n",
    "def plot_cums(dist1, dist2, label1, label2):\n",
    "    ## sort the first data sample:\n",
    "    data_sorted = np.sort(dist1)\n",
    "    # calculate the proportional values of samples\n",
    "    p = 1. * np.arange(len(dist1)) / (len(dist1) - 1)\n",
    "\n",
    "    # Now plot as line and scatter plot. \n",
    "    plt.plot(data_sorted, p)\n",
    "    plt.scatter(data_sorted, p, color = 'red', label=label1)\n",
    "    \n",
    "    # sort the seond data sample:\n",
    "    data_sorted = np.sort(dist2)\n",
    "    \n",
    "    # And the second plot\n",
    "    plt.plot(data_sorted, p, color = 'yellow')\n",
    "    plt.scatter(data_sorted, p, color = 'green', label=label2)\n",
    "    \n",
    "    plt.legend()\n",
    "\n",
    "# compute K-S statistic\n",
    "def ks_test(dat, dist = 'norm'):\n",
    "    from scipy.stats import kstest \n",
    "    ks_statisic, pvalue = kstest(dat, dist)\n",
    "    print('KS-statistic = ' + str(ks_statisic))\n",
    "    print('P-value = ' + str(pvalue))"
   ]
  },
  {
   "cell_type": "code",
   "execution_count": 6,
   "metadata": {},
   "outputs": [
    {
     "name": "stdout",
     "output_type": "stream",
     "text": [
      "\n",
      "price:\n",
      "KS-statistic = 0.15570653643875398\n",
      "P-value = 0.00014924310941231902\n"
     ]
    },
    {
     "data": {
      "image/png": "[encoded data removed]",
      "text/plain": [
       "<Figure size 432x288 with 1 Axes>"
      ]
     },
     "metadata": {
      "needs_background": "light"
     },
     "output_type": "display_data"
    }
   ],
   "source": [
    "# price\n",
    "print('\\nprice:')\n",
    "plot_cums(auto_price_s, scale(nr.normal(size = len(auto_price_s))).tolist(), 'price', 'normal dist')\n",
    "ks_test(auto_price_s)"
   ]
  },
  {
   "cell_type": "code",
   "execution_count": 7,
   "metadata": {},
   "outputs": [
    {
     "name": "stdout",
     "output_type": "stream",
     "text": [
      "\n",
      "log_price:\n",
      "KS-statistic = 0.10302687448682402\n",
      "P-value = 0.030871835339169262\n"
     ]
    },
    {
     "data": {
      "image/png": "[encoded data removed]",
      "text/plain": [
       "<Figure size 432x288 with 1 Axes>"
      ]
     },
     "metadata": {
      "needs_background": "light"
     },
     "output_type": "display_data"
    }
   ],
   "source": [
    "# log_price\n",
    "print('\\nlog_price:')\n",
    "plot_cums(auto_log_price_s, scale(nr.normal(size = len(auto_log_price_s))).tolist(), 'log_price', 'normal dist') \n",
    "ks_test(auto_log_price_s)"
   ]
  },
  {
   "cell_type": "markdown",
   "metadata": {},
   "source": [
    "<b>Results from a formal test (Kolmogorov-Smirnov Test):</b>\n",
    "\n",
    "\n",
    "1. As a first step, the CDFs of the sample (price or log_price) and the normal distribution were plotted.\n",
    "<ul><li>There are significant deviations between the CDFs of price and normal distribution. This result indicates that the two samples are drawn from different distributions.</li>\n",
    "    <li>There are also deviations between the CDFs of log_price and normal distribution, but the deviations are smaller than that for price.</li></ul>\n",
    "\n",
    "\n",
    "2. In the next step the K-S statistic is computed: the maximum vertical distance between the 2 CDFs, and the p-value or probability that this difference arises from chance alone.\n",
    "<ul><li>\n",
    "For both price and log_price, the K-S statistic is large and the p-value is small. We can reject the null hypothesis that these samples have the same distribution as the normal distribution; the chance of this difference of arising from random variation alone is small.</li></ul>\n",
    "\n",
    "<b>Summary from graphical method and format test: price and log_price are not normally distributed, but log_price is closer to a normal distribution.</b>"
   ]
  },
  {
   "cell_type": "markdown",
   "metadata": {},
   "source": [
    "#### Section 2\n",
    "<b>Test significance of price (or log price) stratified by a) fuel type, b) aspiration, and c) rear vs. front wheel drive. Use both graphical methods and the formal test.</b>\n",
    "\n",
    "Here, will test log_price.\n",
    "There are 2 groups for each comparison; will use 2-sided t-test (not assuming that the populations have equal variance)."
   ]
  },
  {
   "cell_type": "code",
   "execution_count": 8,
   "metadata": {},
   "outputs": [],
   "source": [
    "# perform 2-sided t-test, does not assume that the populations have equal variance\n",
    "def t_test(a, b, alpha, alternative='two-sided'):\n",
    "    from scipy import stats\n",
    "    import scipy.stats as ss\n",
    "    import pandas as pd\n",
    "    import statsmodels.stats.weightstats as ws\n",
    "    \n",
    "    diff = a.mean() - b.mean()\n",
    "\n",
    "    res = ss.ttest_ind(a, b, equal_var=False)\n",
    "      \n",
    "    means = ws.CompareMeans(ws.DescrStatsW(a), ws.DescrStatsW(b))\n",
    "    confint = means.tconfint_diff(alpha=alpha, alternative=alternative, usevar='unequal') \n",
    "    degfree = means.dof_satt()\n",
    "\n",
    "    index = ['DegFreedom', 'Difference', 'Statistic', 'PValue', 'Low95CI', 'High95CI']\n",
    "    return pd.Series([degfree, diff, res[0], res[1], confint[0], confint[1]], index = index)   \n",
    "\n",
    "# plot histogram with solid red line for the mean, and dashed red lines for the the upper and lower confidence interval of the difference of means of the populations.\n",
    "# (the confidence interval is taken from the t_test function above)\n",
    "def hist_mean_ci(vec, t_test, bins):\n",
    "    import matplotlib.pyplot as plt\n",
    "    from statistics import mean\n",
    "    upper = mean(vec) + t_test[5] - t_test[1]\n",
    "    lower = mean(vec) + t_test[4] - t_test[1]\n",
    "    plt.hist(vec, bins = bins)\n",
    "    plt.axvline(mean(vec), color = 'red')\n",
    "    plt.axvline(upper, color = 'red', linestyle='--')\n",
    "    plt.axvline(lower, color = 'red', linestyle='--')\n",
    "    plt.ylabel('Frequency')\n",
    "    plt.xlabel('Value')\n",
    "\n",
    "# plot histogram with red line for the mean    \n",
    "def hist_plot(vec, bins):\n",
    "    import matplotlib.pyplot as plt\n",
    "    from statistics import mean\n",
    "    plt.hist(vec, bins = bins)\n",
    "    plt.axvline(mean(vec), color = 'red')\n",
    "    plt.ylabel('Frequency')\n",
    "    plt.xlabel('Value')\n",
    "\n",
    "# wrapper to plot histograms of the two populations along with a line for the mean of each population\n",
    "# and the upper and lower confidence bounds shown as dashed lines (by calling hist_mean_ci and hist_plot above)\n",
    "def plot_t(a, b, t_test, cols=['pop_A', 'pop_B'], nbins = 20):\n",
    "    import matplotlib.pyplot as plt\n",
    "    minx = min([min(a), min(b)])\n",
    "    maxx = max([max(a), max(b)])\n",
    "    stepx = (maxx - minx)/(nbins + 1)\n",
    "    bins = [minx + i * stepx for i in range(nbins + 1)]\n",
    "    plt.subplot(2, 1, 1) # The first plot\n",
    "    hist_mean_ci(a, t_test, bins)\n",
    "    plt.title('Histogram of log_price by ' + cols[0] + ' and ' + cols[1])\n",
    "    plt.subplot(2, 1, 2) # The next plot\n",
    "    hist_plot(b, bins)"
   ]
  },
  {
   "cell_type": "code",
   "execution_count": 9,
   "metadata": {},
   "outputs": [
    {
     "name": "stdout",
     "output_type": "stream",
     "text": [
      "breakdown:\n",
      "gas       174\n",
      "diesel     19\n",
      "Name: fuel-type, dtype: int64\n",
      "\n",
      "\n",
      "DegFreedom    22.314284\n",
      "Difference    -0.244227\n",
      "Statistic     -2.028868\n",
      "PValue         0.054569\n",
      "Low95CI       -0.493667\n",
      "High95CI       0.005214\n",
      "dtype: float64\n"
     ]
    },
    {
     "data": {
      "image/png": "[encoded data removed]",
      "text/plain": [
       "<Figure size 432x288 with 2 Axes>"
      ]
     },
     "metadata": {
      "needs_background": "light"
     },
     "output_type": "display_data"
    }
   ],
   "source": [
    "# Examining log_price by fuel-type\n",
    "print('breakdown:')\n",
    "print(auto['fuel-type'].value_counts())\n",
    "auto_gas = auto.groupby('fuel-type').get_group('gas')['log_price']\n",
    "auto_diesel = auto.groupby('fuel-type').get_group('diesel')['log_price']\n",
    "\n",
    "test = t_test(auto_gas, auto_diesel, 0.05)\n",
    "print('\\n')\n",
    "print(test)\n",
    "plot_t(auto_gas, auto_diesel, test, cols=['gas', 'diesel'])"
   ]
  },
  {
   "cell_type": "markdown",
   "metadata": {},
   "source": [
    "<b>Test significance of price stratified by fuel type:</b>\n",
    "\n",
    "Formal test (2-sided t-test):\n",
    "    <li>Difference in means is small.</li><li>The t-statistic is small and the p-value is large. Therefore, there is a high chance that the difference in means is from random variation alone.</li>\n",
    "    <li>The 95% confidence interval straddles 0.</li>\n",
    "    <li>Based on these statistics we cannot reject the null hypothesis.</li>\n",
    "    \n",
    "Graphical:\n",
    "<li>The mean of the population in the lower plot is within the confidence interval of the difference of means of the populations. This confirms that we cannot reject the null hypothesis that there is no significant difference in these means.</li>"
   ]
  },
  {
   "cell_type": "code",
   "execution_count": 10,
   "metadata": {},
   "outputs": [
    {
     "name": "stdout",
     "output_type": "stream",
     "text": [
      "breakdown:\n",
      "std      158\n",
      "turbo     35\n",
      "Name: aspiration, dtype: int64\n",
      "\n",
      "\n",
      "DegFreedom    65.776506\n",
      "Difference    -0.355190\n",
      "Statistic     -4.696291\n",
      "PValue         0.000014\n",
      "Low95CI       -0.506204\n",
      "High95CI      -0.204176\n",
      "dtype: float64\n"
     ]
    },
    {
     "data": {
      "image/png": "[encoded data removed]",
      "text/plain": [
       "<Figure size 432x288 with 2 Axes>"
      ]
     },
     "metadata": {
      "needs_background": "light"
     },
     "output_type": "display_data"
    }
   ],
   "source": [
    "# Examining log_price by aspiration\n",
    "print('breakdown:')\n",
    "print(auto['aspiration'].value_counts())\n",
    "auto_std = auto.groupby('aspiration').get_group('std')['log_price']\n",
    "auto_turbo = auto.groupby('aspiration').get_group('turbo')['log_price']\n",
    "\n",
    "test = t_test(auto_std, auto_turbo, 0.05)\n",
    "print('\\n')\n",
    "print(test)\n",
    "plot_t(auto_std, auto_turbo, test, cols=['std', 'turbo'])"
   ]
  },
  {
   "cell_type": "markdown",
   "metadata": {},
   "source": [
    "<b>Test significance of log_price stratified by aspiration type:</b><br>\n",
    "Formal test (2-sided t-test):\n",
    "    <li>Difference in means is large.</li><li>The t-statistic is large and the p-value is small. Therefore, there is a low chance that the difference in means is from random variation alone.</li>\n",
    "    <li>The 95% confidence interval does not straddle 0.</li>\n",
    "    <li>Based on these statistics we reject the null hypothesis.</li>\n",
    "    \n",
    "Graphical:\n",
    "<li>The mean of the population in the lower plot is outside the confidence interval of the difference of means of the populations. This confirms that we reject the null hypothesis that there is no significant difference in these means.</li>"
   ]
  },
  {
   "cell_type": "code",
   "execution_count": 11,
   "metadata": {},
   "outputs": [
    {
     "name": "stdout",
     "output_type": "stream",
     "text": [
      "breakdown:\n",
      "fwd    114\n",
      "rwd     71\n",
      "4wd      8\n",
      "Name: drive-wheels, dtype: int64\n",
      "\n",
      "\n",
      "DegFreedom    1.166429e+02\n",
      "Difference   -7.394032e-01\n",
      "Statistic    -1.221283e+01\n",
      "PValue        1.346458e-22\n",
      "Low95CI      -8.593095e-01\n",
      "High95CI     -6.194968e-01\n",
      "dtype: float64\n"
     ]
    },
    {
     "data": {
      "image/png": "[encoded data removed]",
      "text/plain": [
       "<Figure size 432x288 with 2 Axes>"
      ]
     },
     "metadata": {
      "needs_background": "light"
     },
     "output_type": "display_data"
    }
   ],
   "source": [
    "# Examining log_price by rear vs. front wheel drive\n",
    "print('breakdown:')\n",
    "print(auto['drive-wheels'].value_counts())\n",
    "auto_fwd = auto.groupby('drive-wheels').get_group('fwd')['log_price']\n",
    "auto_rwd = auto.groupby('drive-wheels').get_group('rwd')['log_price']\n",
    "\n",
    "test = t_test(auto_fwd, auto_rwd, 0.05)\n",
    "print('\\n')\n",
    "print(test)\n",
    "plot_t(auto_fwd, auto_rwd, test, cols=['fwd', 'rwd'])"
   ]
  },
  {
   "cell_type": "markdown",
   "metadata": {},
   "source": [
    "<b>Test significance of price stratified by drive-wheels (foward vs rear):</b><br>\n",
    "Formal test (2-sided t-test):\n",
    "    <li>Difference in means is large.</li><li>The t-statistic is large and the p-value is small. Therefore, there is a low chance that the difference in means is from random variation alone.</li>\n",
    "    <li>The 95% confidence interval does not straddle 0.</li>\n",
    "    <li>Based on these statistics we reject the null hypothesis.</li>\n",
    "    \n",
    "Graphical:\n",
    "<li>The mean of the population in the lower plot is outside the confidence interval of the difference of means of the populations. This confirms that we reject the null hypothesis that there is no significant difference in these means.</li>"
   ]
  },
  {
   "cell_type": "markdown",
   "metadata": {},
   "source": [
    "#### Section 3\n",
    "<b>Apply ANOVA and Tukey's HSD test to the auto price data to compare the price (or log price if closer to a normal distribution) of autos stratified by body style.</b>\n",
    "\n",
    "From Section 1, log_price is closer to a normal distribution compared to price. Will test log_price."
   ]
  },
  {
   "cell_type": "code",
   "execution_count": 12,
   "metadata": {},
   "outputs": [
    {
     "name": "stdout",
     "output_type": "stream",
     "text": [
      "breakdown:\n",
      "sedan          92\n",
      "hatchback      63\n",
      "wagon          24\n",
      "hardtop         8\n",
      "convertible     6\n",
      "Name: body-style, dtype: int64\n"
     ]
    }
   ],
   "source": [
    "# use log_price\n",
    "# stratify by body style\n",
    "print('breakdown:')\n",
    "print(auto['body-style'].value_counts())\n",
    "auto_sedan = auto.groupby('body-style').get_group('sedan')['log_price']\n",
    "auto_hatchback = auto.groupby('body-style').get_group('hatchback')['log_price']\n",
    "auto_wagon = auto.groupby('body-style').get_group('wagon')['log_price']\n",
    "auto_hardtop = auto.groupby('body-style').get_group('hardtop')['log_price']\n",
    "auto_convertible = auto.groupby('body-style').get_group('convertible')['log_price']"
   ]
  },
  {
   "cell_type": "code",
   "execution_count": 13,
   "metadata": {},
   "outputs": [
    {
     "name": "stdout",
     "output_type": "stream",
     "text": [
      "F statistic = 8.821980795225976\n",
      "P-value = 1.5055219795547482e-06\n"
     ]
    }
   ],
   "source": [
    "# ANOVA\n",
    "f_statistic, p_value = ss.f_oneway(auto_sedan, auto_hatchback, auto_wagon, auto_hardtop, auto_convertible)\n",
    "print('F statistic = ' + str(f_statistic))\n",
    "print('P-value = ' + str(p_value))"
   ]
  },
  {
   "cell_type": "code",
   "execution_count": 14,
   "metadata": {},
   "outputs": [
    {
     "name": "stdout",
     "output_type": "stream",
     "text": [
      "  Multiple Comparison of Means - Tukey HSD,FWER=0.05 \n",
      "=====================================================\n",
      "   group1     group2  meandiff  lower   upper  reject\n",
      "-----------------------------------------------------\n",
      "convertible  hardtop  -0.0966  -0.8018  0.6085 False \n",
      "convertible hatchback -0.7854  -1.3432 -0.2276  True \n",
      "convertible   sedan   -0.4461  -0.9962  0.104  False \n",
      "convertible   wagon    -0.531  -1.1269  0.0649 False \n",
      "  hardtop   hatchback -0.6887  -1.1788 -0.1987  True \n",
      "  hardtop     sedan   -0.3495  -0.8307  0.1318 False \n",
      "  hardtop     wagon   -0.4344  -0.9674  0.0986 False \n",
      " hatchback    sedan    0.3393   0.1258  0.5528  True \n",
      " hatchback    wagon    0.2544  -0.0588  0.5675 False \n",
      "   sedan      wagon   -0.0849  -0.3842  0.2143 False \n",
      "-----------------------------------------------------\n"
     ]
    },
    {
     "data": {
      "image/png": "[encoded data removed]",
      "text/plain": [
       "<Figure size 720x432 with 1 Axes>"
      ]
     },
     "metadata": {
      "needs_background": "light"
     },
     "output_type": "display_data"
    }
   ],
   "source": [
    "# Tukey's HSD\n",
    "df = pd.DataFrame({'vals': np.concatenate((auto_sedan, auto_hatchback, auto_wagon, auto_hardtop, auto_convertible)).flatten(),\n",
    "                   'group_num': ['sedan']*len(auto_sedan)+['hatchback']*len(auto_hatchback)+['wagon']*len(auto_wagon)+\n",
    "                   ['hardtop']*len(auto_hardtop)+['convertible']*len(auto_convertible)})\n",
    "Tukey_HSD = pairwise_tukeyhsd(df.vals, df.group_num)\n",
    "print(Tukey_HSD)\n",
    "Tukey_HSD.plot_simultaneous();"
   ]
  },
  {
   "cell_type": "markdown",
   "metadata": {},
   "source": [
    "<b>log_price by body-type summary:</b>\n",
    "1. From ANOVA: the F statistic is large and the p-value is small. We can reject the null hypothesis that the variables have the same mean, as the probability of the differences arising from random chance is low.</li>\n",
    "\n",
    "\n",
    "2. From Tukey's HSD test, the following pairs are statistically different at the 95% confidence level:\n",
    "<ul>\n",
    "            <li>hatchback and sedan</li>\n",
    "        <li>hardtop and hatchback</li>\n",
    "    <li>convertible and hatchback</li>\n",
    "</ul>"
   ]
  },
  {
   "cell_type": "markdown",
   "metadata": {},
   "source": [
    "#### Section 4&5\n",
    "<b>Graphically explore the differences between the price conditioned by the categories of each variable\n",
    "<br>Use standard ANOVA and Tukey HSD to test the differences of these groups</b>"
   ]
  },
  {
   "cell_type": "code",
   "execution_count": 15,
   "metadata": {},
   "outputs": [
    {
     "data": {
      "text/html": [
       "<div>\n",
       "<style scoped>\n",
       "    .dataframe tbody tr th:only-of-type {\n",
       "        vertical-align: middle;\n",
       "    }\n",
       "\n",
       "    .dataframe tbody tr th {\n",
       "        vertical-align: top;\n",
       "    }\n",
       "\n",
       "    .dataframe thead th {\n",
       "        text-align: right;\n",
       "    }\n",
       "</style>\n",
       "<table border=\"1\" class=\"dataframe\">\n",
       "  <thead>\n",
       "    <tr style=\"text-align: right;\">\n",
       "      <th></th>\n",
       "      <th>data_type</th>\n",
       "      <th>unique_vals</th>\n",
       "    </tr>\n",
       "  </thead>\n",
       "  <tbody>\n",
       "    <tr>\n",
       "      <th>symboling</th>\n",
       "      <td>int64</td>\n",
       "      <td>6</td>\n",
       "    </tr>\n",
       "    <tr>\n",
       "      <th>make</th>\n",
       "      <td>object</td>\n",
       "      <td>21</td>\n",
       "    </tr>\n",
       "    <tr>\n",
       "      <th>fuel-type</th>\n",
       "      <td>object</td>\n",
       "      <td>2</td>\n",
       "    </tr>\n",
       "    <tr>\n",
       "      <th>aspiration</th>\n",
       "      <td>object</td>\n",
       "      <td>2</td>\n",
       "    </tr>\n",
       "    <tr>\n",
       "      <th>num-of-doors</th>\n",
       "      <td>object</td>\n",
       "      <td>2</td>\n",
       "    </tr>\n",
       "    <tr>\n",
       "      <th>body-style</th>\n",
       "      <td>object</td>\n",
       "      <td>5</td>\n",
       "    </tr>\n",
       "    <tr>\n",
       "      <th>drive-wheels</th>\n",
       "      <td>object</td>\n",
       "      <td>3</td>\n",
       "    </tr>\n",
       "    <tr>\n",
       "      <th>engine-location</th>\n",
       "      <td>object</td>\n",
       "      <td>2</td>\n",
       "    </tr>\n",
       "    <tr>\n",
       "      <th>engine-type</th>\n",
       "      <td>object</td>\n",
       "      <td>5</td>\n",
       "    </tr>\n",
       "    <tr>\n",
       "      <th>num-of-cylinders</th>\n",
       "      <td>object</td>\n",
       "      <td>6</td>\n",
       "    </tr>\n",
       "    <tr>\n",
       "      <th>fuel-system</th>\n",
       "      <td>object</td>\n",
       "      <td>7</td>\n",
       "    </tr>\n",
       "    <tr>\n",
       "      <th>peak-rpm</th>\n",
       "      <td>float64</td>\n",
       "      <td>21</td>\n",
       "    </tr>\n",
       "  </tbody>\n",
       "</table>\n",
       "</div>"
      ],
      "text/plain": [
       "                 data_type  unique_vals\n",
       "symboling            int64            6\n",
       "make                object           21\n",
       "fuel-type           object            2\n",
       "aspiration          object            2\n",
       "num-of-doors        object            2\n",
       "body-style          object            5\n",
       "drive-wheels        object            3\n",
       "engine-location     object            2\n",
       "engine-type         object            5\n",
       "num-of-cylinders    object            6\n",
       "fuel-system         object            7\n",
       "peak-rpm           float64           21"
      ]
     },
     "execution_count": 15,
     "metadata": {},
     "output_type": "execute_result"
    }
   ],
   "source": [
    "# Find categorical variables with <25 unique values (levels)\n",
    "df = pd.DataFrame({'data_type':auto.dtypes, 'unique_vals':auto.nunique()})\n",
    "df[df['unique_vals']<25]"
   ]
  },
  {
   "cell_type": "markdown",
   "metadata": {},
   "source": [
    "The above table shows variables with <25 unique values. Most are of dtype object (with the exception of symboling and peak-rpm; see below).\n",
    "\n",
    "\n",
    "---\n",
    "<ul>Some variables were already examined in previous sections:<li>fuel-type</li><li>aspiration</li><li>drive-wheels</li><li>body-style</li></ul>\n",
    "  \n",
    "    \n",
    "---\n",
    "<ul>Here, will examine log_price conditioned by categories of the following variables:<br>\n",
    "(In this section, categories with less than 10 observations were dropped to make sure there is sufficient data for each category)\n",
    "\n",
    "<li>symboling (int64, but with only 6 unique values)</li>\n",
    "<li>make</li>\n",
    "<li>num-of-doors</li>\n",
    "<li>engine-location</li>\n",
    "<li>engine-type</li>\n",
    "<li>num-of-cylinders</li>\n",
    "<li>fuel-system</li>\n",
    "<li>peak-rpm (float64, but takes on a few discrete values)</li>\n",
    "</ul>\n",
    "\n",
    "\n"
   ]
  },
  {
   "cell_type": "code",
   "execution_count": 16,
   "metadata": {},
   "outputs": [],
   "source": [
    "# plot boxplot to graphically explore the differences \n",
    "# between the price conditioned by the categories of each variable \n",
    "def make_boxplot(col, nobs=10, figsz=(6,4)):\n",
    "    import seaborn as sns\n",
    "    print('breakdown:')\n",
    "    print(auto[col].value_counts())\n",
    "\n",
    "    subset = auto[col].value_counts()[auto[col].value_counts()>=nobs].index\n",
    "    auto_plot = auto[auto[col].isin(subset)]\n",
    "\n",
    "    fig, ax = plt.subplots(figsize=figsz)\n",
    "    sns.boxplot(x=col, y='log_price', data=auto_plot, ax=ax)\n",
    "    plt.title('log_price conditioned by {}'.format(col))\n",
    "    plt.show()"
   ]
  },
  {
   "cell_type": "code",
   "execution_count": 17,
   "metadata": {},
   "outputs": [
    {
     "name": "stdout",
     "output_type": "stream",
     "text": [
      "breakdown:\n",
      " 0    63\n",
      " 1    51\n",
      " 2    31\n",
      " 3    23\n",
      "-1    22\n",
      "-2     3\n",
      "Name: symboling, dtype: int64\n"
     ]
    },
    {
     "data": {
      "image/png": "[encoded data removed]",
      "text/plain": [
       "<Figure size 432x288 with 1 Axes>"
      ]
     },
     "metadata": {
      "needs_background": "light"
     },
     "output_type": "display_data"
    },
    {
     "name": "stdout",
     "output_type": "stream",
     "text": [
      "F statistic = 14.135592343141843\n",
      "P-value = 4.381597214504394e-10\n",
      "\n",
      "\n",
      "Multiple Comparison of Means - Tukey HSD,FWER=0.05\n",
      "=============================================\n",
      "group1 group2 meandiff  lower   upper  reject\n",
      "---------------------------------------------\n",
      "  -1     0    -0.2275  -0.5373  0.0824 False \n",
      "  -1     1    -0.6248   -0.944 -0.3057  True \n",
      "  -1     2    -0.5173  -0.8661 -0.1686  True \n",
      "  -1     3     0.0366  -0.3365  0.4097 False \n",
      "  0      1    -0.3974   -0.633 -0.1617  True \n",
      "  0      2    -0.2899  -0.5644 -0.0154  True \n",
      "  0      3     0.2641  -0.0407  0.5689 False \n",
      "  1      2     0.1075  -0.1775  0.3924 False \n",
      "  1      3     0.6615   0.3472  0.9757  True \n",
      "  2      3     0.554    0.2097  0.8983  True \n",
      "---------------------------------------------\n"
     ]
    },
    {
     "data": {
      "image/png": "[encoded data removed]",
      "text/plain": [
       "<Figure size 720x432 with 1 Axes>"
      ]
     },
     "metadata": {
      "needs_background": "light"
     },
     "output_type": "display_data"
    }
   ],
   "source": [
    "# symboling\n",
    "make_boxplot('symboling')\n",
    "\n",
    "sm1 = auto.groupby('symboling').get_group(-1)['log_price']\n",
    "s0 = auto.groupby('symboling').get_group(0)['log_price']\n",
    "s1 = auto.groupby('symboling').get_group(1)['log_price']\n",
    "s2 = auto.groupby('symboling').get_group(2)['log_price']\n",
    "s3 = auto.groupby('symboling').get_group(3)['log_price']\n",
    "\n",
    "# ANOVA\n",
    "f_statistic, p_value = ss.f_oneway(sm1, s0, s1, s2, s3)\n",
    "print('F statistic = ' + str(f_statistic))\n",
    "print('P-value = ' + str(p_value))\n",
    "\n",
    "print('\\n')\n",
    "# Tukey's HSD\n",
    "df = pd.DataFrame({'vals': np.concatenate((sm1, s0, s1, s2, s3)).flatten(),\n",
    "                   'group_num': ['-1']*len(sm1)+['0']*len(s0)+['1']*len(s1)+\n",
    "                   ['2']*len(s2)+['3']*len(s3)})\n",
    "Tukey_HSD = pairwise_tukeyhsd(df.vals, df.group_num)\n",
    "print(Tukey_HSD)\n",
    "\n",
    "Tukey_HSD.plot_simultaneous();"
   ]
  },
  {
   "cell_type": "markdown",
   "metadata": {},
   "source": [
    "<b>log_price by symboling summary:</b>\n",
    "1. Graphical exploration: the boxplot shows variation between the distributions of the variables. (Also, in the multiple comparisons plot, the confidence intervals for some pairs do not overlap.)\n",
    "\n",
    "\n",
    "2. From ANOVA: the F statistic is large and the p-value is small. We can reject the null hypothesis that the variables have the same mean, as the probability of the differences arising from random chance is low.</li>\n",
    "\n",
    "\n",
    "3. From Tukey's HSD test, the following pairs are statistically different at the 95% confidence level:\n",
    "<ul>\n",
    "            <li>-1 and 1</li>\n",
    "        <li>-1 and 2</li>\n",
    "    <li>0 and 1</li>\n",
    "    <li>0 and 2</li>\n",
    "    <li>1 and 3</li>\n",
    "    <li>2 and 3</li>\n",
    "</ul>"
   ]
  },
  {
   "cell_type": "code",
   "execution_count": 18,
   "metadata": {},
   "outputs": [
    {
     "name": "stdout",
     "output_type": "stream",
     "text": [
      "breakdown:\n",
      "toyota           32\n",
      "nissan           18\n",
      "honda            13\n",
      "mitsubishi       13\n",
      "volkswagen       12\n",
      "mazda            12\n",
      "subaru           12\n",
      "volvo            11\n",
      "peugot           11\n",
      "bmw               8\n",
      "dodge             8\n",
      "mercedes-benz     8\n",
      "plymouth          7\n",
      "audi              6\n",
      "saab              6\n",
      "porsche           4\n",
      "alfa-romero       3\n",
      "chevrolet         3\n",
      "jaguar            3\n",
      "isuzu             2\n",
      "mercury           1\n",
      "Name: make, dtype: int64\n"
     ]
    },
    {
     "data": {
      "image/png": "[encoded data removed]",
      "text/plain": [
       "<Figure size 864x288 with 1 Axes>"
      ]
     },
     "metadata": {
      "needs_background": "light"
     },
     "output_type": "display_data"
    },
    {
     "name": "stdout",
     "output_type": "stream",
     "text": [
      "F statistic = 12.805768372281218\n",
      "P-value = 4.701347507588505e-12\n",
      "\n",
      "\n",
      "  Multiple Comparison of Means - Tukey HSD,FWER=0.05 \n",
      "=====================================================\n",
      "  group1     group2   meandiff  lower   upper  reject\n",
      "-----------------------------------------------------\n",
      "  honda    mitsubishi  0.1013   -0.238  0.4406 False \n",
      "  honda      nissan    0.1905  -0.1244  0.5054 False \n",
      "  honda      peugot    0.6548   0.3004  1.0093  True \n",
      "  honda      subaru    0.0452  -0.3012  0.3915 False \n",
      "  honda      toyota    0.1707  -0.1138  0.4552 False \n",
      "  honda    volkswagen  0.2146  -0.1317  0.5609 False \n",
      "  honda      volvo     0.8028   0.4483  1.1572  True \n",
      "mitsubishi   nissan    0.0892  -0.2257  0.4041 False \n",
      "mitsubishi   peugot    0.5535   0.1991  0.908   True \n",
      "mitsubishi   subaru   -0.0561  -0.4025  0.2902 False \n",
      "mitsubishi   toyota    0.0694  -0.2151  0.354  False \n",
      "mitsubishi volkswagen  0.1133   -0.233  0.4596 False \n",
      "mitsubishi   volvo     0.7015   0.347   1.0559  True \n",
      "  nissan     peugot    0.4644   0.1333  0.7955  True \n",
      "  nissan     subaru   -0.1453  -0.4677  0.1771 False \n",
      "  nissan     toyota   -0.0198  -0.2747  0.2351 False \n",
      "  nissan   volkswagen  0.0241  -0.2983  0.3465 False \n",
      "  nissan     volvo     0.6123   0.2812  0.9434  True \n",
      "  peugot     subaru   -0.6097  -0.9708 -0.2485  True \n",
      "  peugot     toyota   -0.4841  -0.7865 -0.1818  True \n",
      "  peugot   volkswagen -0.4403  -0.8014 -0.0791  True \n",
      "  peugot     volvo     0.1479   -0.221  0.5168 False \n",
      "  subaru     toyota    0.1255  -0.1673  0.4184 False \n",
      "  subaru   volkswagen  0.1694  -0.1838  0.5226 False \n",
      "  subaru     volvo     0.7576   0.3964  1.1187  True \n",
      "  toyota   volkswagen  0.0439   -0.249  0.3367 False \n",
      "  toyota     volvo     0.6321   0.3297  0.9344  True \n",
      "volkswagen   volvo     0.5882   0.227   0.9493  True \n",
      "-----------------------------------------------------\n"
     ]
    },
    {
     "data": {
      "image/png": "[encoded data removed]",
      "text/plain": [
       "<Figure size 720x432 with 1 Axes>"
      ]
     },
     "metadata": {
      "needs_background": "light"
     },
     "output_type": "display_data"
    }
   ],
   "source": [
    "# make\n",
    "make_boxplot('make', figsz=(12,4))\n",
    "\n",
    "toyota = auto.groupby('make').get_group('toyota')['log_price']\n",
    "nissan = auto.groupby('make').get_group('nissan')['log_price']\n",
    "honda = auto.groupby('make').get_group('honda')['log_price']\n",
    "mitsubishi = auto.groupby('make').get_group('mitsubishi')['log_price']\n",
    "volkswagen = auto.groupby('make').get_group('volkswagen')['log_price']\n",
    "subaru = auto.groupby('make').get_group('subaru')['log_price']\n",
    "mazda = auto.groupby('make').get_group('mazda')['log_price']\n",
    "peugot = auto.groupby('make').get_group('peugot')['log_price']\n",
    "volvo = auto.groupby('make').get_group('volvo')['log_price']\n",
    "\n",
    "# ANOVA\n",
    "f_statistic, p_value = ss.f_oneway(toyota, nissan, honda, mitsubishi, volkswagen, subaru, peugot, volvo)\n",
    "print('F statistic = ' + str(f_statistic))\n",
    "print('P-value = ' + str(p_value))\n",
    "\n",
    "print('\\n')\n",
    "# Tukey's HSD\n",
    "df = pd.DataFrame({'vals': np.concatenate((toyota, nissan, honda, mitsubishi, volkswagen, subaru, peugot, volvo)).flatten(),\n",
    "                   'group_num': ['toyota']*len(toyota)+['nissan']*len(nissan)+['honda']*len(honda)+\n",
    "                   ['mitsubishi']*len(mitsubishi)+['volkswagen']*len(volkswagen)+\n",
    "                   ['subaru']*len(subaru)+['peugot']*len(peugot)+['volvo']*len(volvo)})\n",
    "Tukey_HSD = pairwise_tukeyhsd(df.vals, df.group_num)\n",
    "print(Tukey_HSD)\n",
    "\n",
    "Tukey_HSD.plot_simultaneous();"
   ]
  },
  {
   "cell_type": "markdown",
   "metadata": {},
   "source": [
    "<b>log_price by make summary:</b>\n",
    "1. Graphical exploration: the boxplot shows variation between the distributions of the variables. (Also, in the multiple comparisons plot, the confidence intervals for some pairs do not overlap.) In particular, the distributions of peugot and volvo look different from other groups.\n",
    "\n",
    "\n",
    "2. From ANOVA: the F statistic is large and the p-value is small. We can reject the null hypothesis that the variables have the same mean, as the probability of the differences arising from random chance is low.</li>\n",
    "\n",
    "\n",
    "3. From Tukey's HSD test, the following pairs are statistically different at the 95% confidence level:\n",
    "<ul>\n",
    "            <li>honda and peugot</li>\n",
    "        <li>honda and volvo</li>\n",
    "    <li>mitsubishi and peugot</li>\n",
    "    <li>mitsubishi and volvo</li>\n",
    "    <li>nissan and peugot</li>\n",
    "    <li>nissan and volvo</li>\n",
    "        <li>peugot and subaru</li>\n",
    "            <li>peugot and toyota</li>\n",
    "                    <li>peugot and volkswagen</li>\n",
    "                            <li>subaru and volvo</li>\n",
    "                                    <li>toyota and volvo</li>\n",
    "                                            <li>volkswagen and volvo</li>\n",
    "    \n",
    "</ul>"
   ]
  },
  {
   "cell_type": "code",
   "execution_count": 19,
   "metadata": {},
   "outputs": [
    {
     "name": "stdout",
     "output_type": "stream",
     "text": [
      "breakdown:\n",
      "four    112\n",
      "two      81\n",
      "Name: num-of-doors, dtype: int64\n"
     ]
    },
    {
     "data": {
      "image/png": "[encoded data removed]",
      "text/plain": [
       "<Figure size 216x288 with 1 Axes>"
      ]
     },
     "metadata": {
      "needs_background": "light"
     },
     "output_type": "display_data"
    },
    {
     "name": "stdout",
     "output_type": "stream",
     "text": [
      "F statistic = 2.330602847650472\n",
      "P-value = 0.12850698351860285\n",
      "\n",
      "\n",
      "Multiple Comparison of Means - Tukey HSD,FWER=0.05\n",
      "==========================================\n",
      "group1 group2 meandiff lower upper  reject\n",
      "------------------------------------------\n",
      " four   two   -0.1134  -0.26 0.0331 False \n",
      "------------------------------------------\n"
     ]
    }
   ],
   "source": [
    "# num-of-doors\n",
    "make_boxplot('num-of-doors', figsz=(3,4))\n",
    "\n",
    "four = auto.groupby('num-of-doors').get_group('four')['log_price']\n",
    "two = auto.groupby('num-of-doors').get_group('two')['log_price']\n",
    "\n",
    "# ANOVA\n",
    "f_statistic, p_value = ss.f_oneway(four, two)\n",
    "print('F statistic = ' + str(f_statistic))\n",
    "print('P-value = ' + str(p_value))\n",
    "\n",
    "print('\\n')\n",
    "# Tukey's HSD\n",
    "df = pd.DataFrame({'vals': np.concatenate((four, two)).flatten(),\n",
    "                   'group_num': ['four']*len(four)+['two']*len(two)})\n",
    "Tukey_HSD = pairwise_tukeyhsd(df.vals, df.group_num)\n",
    "print(Tukey_HSD)\n",
    "\n",
    "# Tukey_HSD.plot_simultaneous();"
   ]
  },
  {
   "cell_type": "markdown",
   "metadata": {},
   "source": [
    "<b>log_price by num-of-doors summary:</b>\n",
    "1. Graphical exploration: the boxplot shows small variation between the distributions of the variables. The distributions largely overlap.\n",
    "\n",
    "\n",
    "2. From ANOVA: the F statistic is small and the p-value is large. We cannot reject the null hypothesis that the variables have the same mean, as the probability of the differences arising from random chance is high.</li>\n",
    "\n",
    "\n",
    "3. Consistent with ANOVA results, Tukey's HSD test shows that the pair are not statistically different at the 95% confidence level."
   ]
  },
  {
   "cell_type": "code",
   "execution_count": 20,
   "metadata": {},
   "outputs": [
    {
     "name": "stdout",
     "output_type": "stream",
     "text": [
      "breakdown:\n",
      "front    190\n",
      "rear       3\n",
      "Name: engine-location, dtype: int64\n"
     ]
    },
    {
     "data": {
      "image/png": "[encoded data removed]",
      "text/plain": [
       "<Figure size 144x288 with 1 Axes>"
      ]
     },
     "metadata": {
      "needs_background": "light"
     },
     "output_type": "display_data"
    }
   ],
   "source": [
    "# engine-location\n",
    "make_boxplot('engine-location', figsz=(2,4))\n",
    "# only 1 category with >10 observations"
   ]
  },
  {
   "cell_type": "markdown",
   "metadata": {},
   "source": [
    "<b>log_price by engine-location summary:</b>\n",
    "Only 1 category with >10 observations"
   ]
  },
  {
   "cell_type": "code",
   "execution_count": 21,
   "metadata": {},
   "outputs": [
    {
     "name": "stdout",
     "output_type": "stream",
     "text": [
      "breakdown:\n",
      "ohc     141\n",
      "ohcf     15\n",
      "ohcv     13\n",
      "dohc     12\n",
      "l        12\n",
      "Name: engine-type, dtype: int64\n"
     ]
    },
    {
     "data": {
      "image/png": "[encoded data removed]",
      "text/plain": [
       "<Figure size 432x288 with 1 Axes>"
      ]
     },
     "metadata": {
      "needs_background": "light"
     },
     "output_type": "display_data"
    },
    {
     "name": "stdout",
     "output_type": "stream",
     "text": [
      "F statistic = 11.60384058605387\n",
      "P-value = 1.9261012780440077e-08\n",
      "\n",
      "\n",
      "Multiple Comparison of Means - Tukey HSD,FWER=0.05\n",
      "=============================================\n",
      "group1 group2 meandiff  lower   upper  reject\n",
      "---------------------------------------------\n",
      " dohc    l    -0.1815  -0.7017  0.3387 False \n",
      " dohc   ohc   -0.4846  -0.8678 -0.1014  True \n",
      " dohc   ohcf  -0.4163  -0.9098  0.0772 False \n",
      " dohc   ohcv   0.3087  -0.2014  0.8188 False \n",
      "  l     ohc   -0.3031  -0.6863  0.0801 False \n",
      "  l     ohcf  -0.2348  -0.7283  0.2587 False \n",
      "  l     ohcv   0.4902  -0.0199  1.0003 False \n",
      " ohc    ohcf   0.0684  -0.2777  0.4144 False \n",
      " ohc    ohcv   0.7933   0.424   1.1627  True \n",
      " ohcf   ohcv   0.725    0.2421  1.2078  True \n",
      "---------------------------------------------\n"
     ]
    },
    {
     "data": {
      "image/png": "[encoded data removed]",
      "text/plain": [
       "<Figure size 720x432 with 1 Axes>"
      ]
     },
     "metadata": {
      "needs_background": "light"
     },
     "output_type": "display_data"
    }
   ],
   "source": [
    "# engine-type\n",
    "make_boxplot('engine-type')\n",
    "\n",
    "ohc = auto.groupby('engine-type').get_group('ohc')['log_price']\n",
    "ohcf = auto.groupby('engine-type').get_group('ohcf')['log_price']\n",
    "ohcv = auto.groupby('engine-type').get_group('ohcv')['log_price']\n",
    "l = auto.groupby('engine-type').get_group('l')['log_price']\n",
    "dohc = auto.groupby('engine-type').get_group('dohc')['log_price']\n",
    "\n",
    "\n",
    "# ANOVA\n",
    "f_statistic, p_value = ss.f_oneway(ohc, ohcf, ohcv, l, dohc)\n",
    "print('F statistic = ' + str(f_statistic))\n",
    "print('P-value = ' + str(p_value))\n",
    "\n",
    "print('\\n')\n",
    "# Tukey's HSD\n",
    "df = pd.DataFrame({'vals': np.concatenate((ohc, ohcf, ohcv, l, dohc)).flatten(),\n",
    "                   'group_num': ['ohc']*len(ohc)+['ohcf']*len(ohcf)+['ohcv']*len(ohcv)+\n",
    "                   ['l']*len(l)+['dohc']*len(dohc)})\n",
    "Tukey_HSD = pairwise_tukeyhsd(df.vals, df.group_num)\n",
    "print(Tukey_HSD)\n",
    "\n",
    "Tukey_HSD.plot_simultaneous();"
   ]
  },
  {
   "cell_type": "markdown",
   "metadata": {},
   "source": [
    "<b>log_price by engine-type summary:</b>\n",
    "1. Graphical exploration: the boxplot shows variation between the distributions of the variables. (Also, in the multiple comparisons plot, the confidence intervals for some pairs do not overlap.)\n",
    "\n",
    "\n",
    "2. From ANOVA: the F statistic is large and the p-value is small. We can reject the null hypothesis that the variables have the same mean, as the probability of the differences arising from random chance is low.</li>\n",
    "\n",
    "\n",
    "3. From Tukey's HSD test, the following pairs are statistically different at the 95% confidence level:\n",
    "<ul>\n",
    "            <li>dohc and ohc</li>\n",
    "        <li>ohc and ohcv</li>\n",
    "    <li>ohcf and ohcv</li>\n",
    "   \n",
    "    \n",
    "</ul>"
   ]
  },
  {
   "cell_type": "code",
   "execution_count": 22,
   "metadata": {},
   "outputs": [
    {
     "name": "stdout",
     "output_type": "stream",
     "text": [
      "breakdown:\n",
      "four      153\n",
      "six        24\n",
      "five       10\n",
      "eight       4\n",
      "twelve      1\n",
      "three       1\n",
      "Name: num-of-cylinders, dtype: int64\n"
     ]
    },
    {
     "data": {
      "image/png": "[encoded data removed]",
      "text/plain": [
       "<Figure size 432x288 with 1 Axes>"
      ]
     },
     "metadata": {
      "needs_background": "light"
     },
     "output_type": "display_data"
    },
    {
     "name": "stdout",
     "output_type": "stream",
     "text": [
      "F statistic = 73.1580287123013\n",
      "P-value = 4.185126417218107e-24\n",
      "\n",
      "\n",
      "Multiple Comparison of Means - Tukey HSD,FWER=0.05\n",
      "=============================================\n",
      "group1 group2 meandiff  lower   upper  reject\n",
      "---------------------------------------------\n",
      " five   four  -0.7861  -1.0616 -0.5105  True \n",
      " five   six    0.0467  -0.2711  0.3644 False \n",
      " four   six    0.8327   0.6474  1.0181  True \n",
      "---------------------------------------------\n"
     ]
    },
    {
     "data": {
      "image/png": "[encoded data removed]",
      "text/plain": [
       "<Figure size 720x432 with 1 Axes>"
      ]
     },
     "metadata": {
      "needs_background": "light"
     },
     "output_type": "display_data"
    }
   ],
   "source": [
    "# num-of-cylinders\n",
    "make_boxplot('num-of-cylinders')\n",
    "\n",
    "four = auto.groupby('num-of-cylinders').get_group('four')['log_price']\n",
    "six = auto.groupby('num-of-cylinders').get_group('six')['log_price']\n",
    "five = auto.groupby('num-of-cylinders').get_group('five')['log_price']\n",
    "\n",
    "# ANOVA\n",
    "f_statistic, p_value = ss.f_oneway(four, six, five)\n",
    "print('F statistic = ' + str(f_statistic))\n",
    "print('P-value = ' + str(p_value))\n",
    "\n",
    "print('\\n')\n",
    "# Tukey's HSD\n",
    "df = pd.DataFrame({'vals': np.concatenate((four, six, five)).flatten(),\n",
    "                   'group_num': ['four']*len(four)+['six']*len(six)+['five']*len(five)})\n",
    "Tukey_HSD = pairwise_tukeyhsd(df.vals, df.group_num)\n",
    "print(Tukey_HSD)\n",
    "\n",
    "Tukey_HSD.plot_simultaneous();"
   ]
  },
  {
   "cell_type": "markdown",
   "metadata": {},
   "source": [
    "<b>log_price by num-of-cylinders summary:</b>\n",
    "1. Graphical exploration: the boxplot shows variation between the distributions of the variables. (Also, in the multiple comparisons plot, the confidence intervals for some pairs do not overlap.)\n",
    "\n",
    "\n",
    "2. From ANOVA: the F statistic is large and the p-value is small. We can reject the null hypothesis that the variables have the same mean, as the probability of the differences arising from random chance is low.</li>\n",
    "\n",
    "\n",
    "3. From Tukey's HSD test, the following pairs are statistically different at the 95% confidence level:\n",
    "<ul>\n",
    "            <li>five and four</li>\n",
    "        <li>four and six</li>\n",
    "   \n",
    "    \n",
    "</ul>"
   ]
  },
  {
   "cell_type": "code",
   "execution_count": 23,
   "metadata": {},
   "outputs": [
    {
     "name": "stdout",
     "output_type": "stream",
     "text": [
      "breakdown:\n",
      "mpfi    88\n",
      "2bbl    64\n",
      "idi     19\n",
      "1bbl    11\n",
      "spdi     9\n",
      "mfi      1\n",
      "spfi     1\n",
      "Name: fuel-system, dtype: int64\n"
     ]
    },
    {
     "data": {
      "image/png": "[encoded data removed]",
      "text/plain": [
       "<Figure size 432x288 with 1 Axes>"
      ]
     },
     "metadata": {
      "needs_background": "light"
     },
     "output_type": "display_data"
    },
    {
     "name": "stdout",
     "output_type": "stream",
     "text": [
      "F statistic = 69.0005910804866\n",
      "P-value = 1.1953255491936265e-29\n",
      "\n",
      "\n",
      "Multiple Comparison of Means - Tukey HSD,FWER=0.05\n",
      "============================================\n",
      "group1 group2 meandiff  lower  upper  reject\n",
      "--------------------------------------------\n",
      "_1bbl  _2bbl   -0.018  -0.3219 0.2858 False \n",
      "_1bbl   idi    0.6566   0.304  1.0093  True \n",
      "_1bbl   mpfi   0.7807   0.483  1.0784  True \n",
      "_2bbl   idi    0.6747   0.4315 0.9179  True \n",
      "_2bbl   mpfi   0.7988   0.6459 0.9517  True \n",
      " idi    mpfi   0.1241  -0.1114 0.3596 False \n",
      "--------------------------------------------\n"
     ]
    },
    {
     "data": {
      "image/png": "[encoded data removed]",
      "text/plain": [
       "<Figure size 720x432 with 1 Axes>"
      ]
     },
     "metadata": {
      "needs_background": "light"
     },
     "output_type": "display_data"
    }
   ],
   "source": [
    "# fuel-system\n",
    "make_boxplot('fuel-system')\n",
    "\n",
    "mpfi = auto.groupby('fuel-system').get_group('mpfi')['log_price']\n",
    "_2bbl = auto.groupby('fuel-system').get_group('2bbl')['log_price']\n",
    "idi = auto.groupby('fuel-system').get_group('idi')['log_price']\n",
    "_1bbl = auto.groupby('fuel-system').get_group('1bbl')['log_price']\n",
    "\n",
    "# ANOVA\n",
    "f_statistic, p_value = ss.f_oneway(mpfi, _2bbl, idi, _1bbl)\n",
    "print('F statistic = ' + str(f_statistic))\n",
    "print('P-value = ' + str(p_value))\n",
    "\n",
    "print('\\n')\n",
    "# Tukey's HSD\n",
    "df = pd.DataFrame({'vals': np.concatenate((mpfi, _2bbl, idi, _1bbl)).flatten(),\n",
    "                   'group_num': ['mpfi']*len(mpfi)+['_2bbl']*len(_2bbl)+['idi']*len(idi)+['_1bbl']*len(_1bbl)})\n",
    "Tukey_HSD = pairwise_tukeyhsd(df.vals, df.group_num)\n",
    "print(Tukey_HSD)\n",
    "\n",
    "Tukey_HSD.plot_simultaneous();"
   ]
  },
  {
   "cell_type": "markdown",
   "metadata": {},
   "source": [
    "<b>log_price by fuel-system summary:</b>\n",
    "1. Graphical exploration: the boxplot shows variation between the distributions of the variables. (Also, in the multiple comparisons plot, the confidence intervals for some pairs do not overlap.)\n",
    "\n",
    "\n",
    "2. From ANOVA: the F statistic is large and the p-value is small. We can reject the null hypothesis that the variables have the same mean, as the probability of the differences arising from random chance is low.</li>\n",
    "\n",
    "\n",
    "3. From Tukey's HSD test, the following pairs are statistically different at the 95% confidence level:\n",
    "<ul>\n",
    "            <li>1bbl and idi</li>\n",
    "        <li>1bbl and mpfi</li>\n",
    "    <li>2bbl and idi</li>\n",
    "    <li>2bbl and mpfi</li>\n",
    "   \n",
    "    \n",
    "</ul>"
   ]
  },
  {
   "cell_type": "code",
   "execution_count": 24,
   "metadata": {},
   "outputs": [
    {
     "name": "stdout",
     "output_type": "stream",
     "text": [
      "breakdown:\n",
      "4800.0    36\n",
      "5500.0    35\n",
      "5000.0    27\n",
      "5200.0    23\n",
      "5400.0    11\n",
      "4500.0     7\n",
      "5800.0     7\n",
      "5250.0     7\n",
      "6000.0     5\n",
      "4200.0     5\n",
      "4150.0     5\n",
      "4750.0     4\n",
      "4350.0     4\n",
      "5900.0     3\n",
      "4400.0     3\n",
      "5100.0     3\n",
      "4250.0     3\n",
      "6600.0     2\n",
      "4900.0     1\n",
      "5600.0     1\n",
      "5300.0     1\n",
      "Name: peak-rpm, dtype: int64\n"
     ]
    },
    {
     "data": {
      "image/png": "[encoded data removed]",
      "text/plain": [
       "<Figure size 432x288 with 1 Axes>"
      ]
     },
     "metadata": {
      "needs_background": "light"
     },
     "output_type": "display_data"
    },
    {
     "name": "stdout",
     "output_type": "stream",
     "text": [
      "F statistic = 5.8958303943536094\n",
      "P-value = 0.00021974446503854038\n",
      "\n",
      "\n",
      "Multiple Comparison of Means - Tukey HSD,FWER=0.05\n",
      "===============================================\n",
      " group1  group2 meandiff  lower   upper  reject\n",
      "-----------------------------------------------\n",
      "rpm4800 rpm5000  0.2805  -0.0133  0.5744 False \n",
      "rpm4800 rpm5200  0.2023  -0.1059  0.5104 False \n",
      "rpm4800 rpm5400  0.6635   0.2658  1.0612  True \n",
      "rpm4800 rpm5500  0.1317  -0.1423  0.4057 False \n",
      "rpm5000 rpm5200 -0.0783  -0.4058  0.2493 False \n",
      "rpm5000 rpm5400  0.383   -0.0299  0.7958 False \n",
      "rpm5000 rpm5500 -0.1488  -0.4445  0.1469 False \n",
      "rpm5200 rpm5400  0.4612   0.0381  0.8844  True \n",
      "rpm5200 rpm5500 -0.0705  -0.3804  0.2393 False \n",
      "rpm5400 rpm5500 -0.5318  -0.9307 -0.1328  True \n",
      "-----------------------------------------------\n"
     ]
    },
    {
     "data": {
      "image/png": "[encoded data removed]",
      "text/plain": [
       "<Figure size 720x432 with 1 Axes>"
      ]
     },
     "metadata": {
      "needs_background": "light"
     },
     "output_type": "display_data"
    }
   ],
   "source": [
    "# peak-rpm\n",
    "make_boxplot('peak-rpm')\n",
    "\n",
    "rpm4800 = auto.groupby('peak-rpm').get_group(4800)['log_price']\n",
    "rpm5500 = auto.groupby('peak-rpm').get_group(5500)['log_price']\n",
    "rpm5000 = auto.groupby('peak-rpm').get_group(5000)['log_price']\n",
    "rpm5200 = auto.groupby('peak-rpm').get_group(5200)['log_price']\n",
    "rpm5400 = auto.groupby('peak-rpm').get_group(5400)['log_price']\n",
    "\n",
    "# ANOVA\n",
    "f_statistic, p_value = ss.f_oneway(rpm4800, rpm5500, rpm5000, rpm5200, rpm5400)\n",
    "print('F statistic = ' + str(f_statistic))\n",
    "print('P-value = ' + str(p_value))\n",
    "\n",
    "print('\\n')\n",
    "# Tukey's HSD\n",
    "df = pd.DataFrame({'vals': np.concatenate((rpm4800, rpm5500, rpm5000, rpm5200, rpm5400)).flatten(),\n",
    "                   'group_num': ['rpm4800']*len(rpm4800)+['rpm5500']*len(rpm5500)+\n",
    "                   ['rpm5000']*len(rpm5000)+['rpm5200']*len(rpm5200)+['rpm5400']*len(rpm5400)})\n",
    "Tukey_HSD = pairwise_tukeyhsd(df.vals, df.group_num)\n",
    "print(Tukey_HSD)\n",
    "\n",
    "Tukey_HSD.plot_simultaneous();"
   ]
  },
  {
   "cell_type": "markdown",
   "metadata": {},
   "source": [
    "<b>log_price by peak-rpm summary:</b>\n",
    "1. Graphical exploration:  the boxplot shows variation between the distributions of the variables. (Also, in the multiple comparisons plot, the confidence intervals for some pairs do not overlap.)\n",
    "\n",
    "\n",
    "2. From ANOVA: the F statistic is large and the p-value is small. We can reject the null hypothesis that the variables have the same mean, as the probability of the differences arising from random chance is low.</li>\n",
    "\n",
    "\n",
    "3. From Tukey's HSD test, the following pairs are statistically different at the 95% confidence level:\n",
    "<ul>\n",
    "            <li>4800 and 5400</li>\n",
    "        <li>5200 and 5400</li>\n",
    "    <li>5400 and 5500</li>\n",
    "   \n",
    "    \n",
    "</ul>"
   ]
  }
 ],
 "metadata": {
  "kernelspec": {
   "display_name": "Python 3",
   "language": "python",
   "name": "python3"
  },
  "language_info": {
   "codemirror_mode": {
    "name": "ipython",
    "version": 3
   },
   "file_extension": ".py",
   "mimetype": "text/x-python",
   "name": "python",
   "nbconvert_exporter": "python",
   "pygments_lexer": "ipython3",
   "version": "3.7.3"
  }
 },
 "nbformat": 4,
 "nbformat_minor": 2
}
