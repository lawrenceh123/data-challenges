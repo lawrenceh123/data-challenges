{
 "cells": [
  {
   "cell_type": "markdown",
   "metadata": {},
   "source": [
    "# Lesson 7 - Parkinson PCR\n",
    "\n",
    "## Author - Lawrence Huang"
   ]
  },
  {
   "cell_type": "markdown",
   "metadata": {},
   "source": [
    "### Description:\n",
    "\n",
    "Perform Principal Component Regression on a <a href=\"https://archive.ics.uci.edu/ml/datasets/parkinsons+telemonitoring\">dataset that tracked patients with Parkinson's Disease</a>.\n",
    "\n",
    "Citation: A Tsanas, MA Little, PE McSharry, LO Ramig (2009)\n",
    "'Accurate telemonitoring of Parkinson's disease progression by non-invasive speech tests',\n",
    "IEEE Transactions on Biomedical Engineering.\n",
    "\n",
    "About the data:\n",
    "This dataset is composed of a range of biomedical voice measurements from 42 people with early-stage Parkinson's disease recruited to a six-month trial of a telemonitoring device for remote symptom progression monitoring. The recordings were automatically captured in the patient's homes.\n",
    "\n",
    "#### Instructions:\n",
    "\n",
    " 1. Load the dataset.\n",
    " 2. Create the X-matrix (one-hot encoding categorical factors).\n",
    " 3. Scale the X-matrix.\n",
    " 4. Create the principal components and do a simple plot of the explained variance.\n",
    " 5. PCR - Linear regression with the principal components.\n",
    "\n",
    "Report on:\n",
    "\n",
    " 1. Number of components before and after (choose a smaller number of principal components and explain how you chose them).\n",
    " 2. Interpret the adjusted R-squared."
   ]
  },
  {
   "cell_type": "code",
   "execution_count": 1,
   "metadata": {},
   "outputs": [],
   "source": [
    "# Import libraries \n",
    "import pandas as pd\n",
    "import numpy as np\n",
    "from sklearn.decomposition import PCA\n",
    "import matplotlib.pyplot as plt\n",
    "import statsmodels.formula.api as sm\n",
    "import seaborn as sns\n",
    "%matplotlib inline"
   ]
  },
  {
   "cell_type": "markdown",
   "metadata": {},
   "source": [
    "#### 1. Load the dataset."
   ]
  },
  {
   "cell_type": "code",
   "execution_count": 2,
   "metadata": {},
   "outputs": [
    {
     "data": {
      "text/html": [
       "<div>\n",
       "<style scoped>\n",
       "    .dataframe tbody tr th:only-of-type {\n",
       "        vertical-align: middle;\n",
       "    }\n",
       "\n",
       "    .dataframe tbody tr th {\n",
       "        vertical-align: top;\n",
       "    }\n",
       "\n",
       "    .dataframe thead th {\n",
       "        text-align: right;\n",
       "    }\n",
       "</style>\n",
       "<table border=\"1\" class=\"dataframe\">\n",
       "  <thead>\n",
       "    <tr style=\"text-align: right;\">\n",
       "      <th></th>\n",
       "      <th>subject#</th>\n",
       "      <th>age</th>\n",
       "      <th>sex</th>\n",
       "      <th>test_time</th>\n",
       "      <th>motor_UPDRS</th>\n",
       "      <th>total_UPDRS</th>\n",
       "      <th>Jitter(%)</th>\n",
       "      <th>Jitter(Abs)</th>\n",
       "      <th>Jitter:RAP</th>\n",
       "      <th>Jitter:PPQ5</th>\n",
       "      <th>...</th>\n",
       "      <th>Shimmer(dB)</th>\n",
       "      <th>Shimmer:APQ3</th>\n",
       "      <th>Shimmer:APQ5</th>\n",
       "      <th>Shimmer:APQ11</th>\n",
       "      <th>Shimmer:DDA</th>\n",
       "      <th>NHR</th>\n",
       "      <th>HNR</th>\n",
       "      <th>RPDE</th>\n",
       "      <th>DFA</th>\n",
       "      <th>PPE</th>\n",
       "    </tr>\n",
       "  </thead>\n",
       "  <tbody>\n",
       "    <tr>\n",
       "      <th>0</th>\n",
       "      <td>1</td>\n",
       "      <td>72</td>\n",
       "      <td>0</td>\n",
       "      <td>5.6431</td>\n",
       "      <td>28.199</td>\n",
       "      <td>34.398</td>\n",
       "      <td>0.00662</td>\n",
       "      <td>0.000034</td>\n",
       "      <td>0.00401</td>\n",
       "      <td>0.00317</td>\n",
       "      <td>...</td>\n",
       "      <td>0.230</td>\n",
       "      <td>0.01438</td>\n",
       "      <td>0.01309</td>\n",
       "      <td>0.01662</td>\n",
       "      <td>0.04314</td>\n",
       "      <td>0.014290</td>\n",
       "      <td>21.640</td>\n",
       "      <td>0.41888</td>\n",
       "      <td>0.54842</td>\n",
       "      <td>0.16006</td>\n",
       "    </tr>\n",
       "    <tr>\n",
       "      <th>1</th>\n",
       "      <td>1</td>\n",
       "      <td>72</td>\n",
       "      <td>0</td>\n",
       "      <td>12.6660</td>\n",
       "      <td>28.447</td>\n",
       "      <td>34.894</td>\n",
       "      <td>0.00300</td>\n",
       "      <td>0.000017</td>\n",
       "      <td>0.00132</td>\n",
       "      <td>0.00150</td>\n",
       "      <td>...</td>\n",
       "      <td>0.179</td>\n",
       "      <td>0.00994</td>\n",
       "      <td>0.01072</td>\n",
       "      <td>0.01689</td>\n",
       "      <td>0.02982</td>\n",
       "      <td>0.011112</td>\n",
       "      <td>27.183</td>\n",
       "      <td>0.43493</td>\n",
       "      <td>0.56477</td>\n",
       "      <td>0.10810</td>\n",
       "    </tr>\n",
       "    <tr>\n",
       "      <th>2</th>\n",
       "      <td>1</td>\n",
       "      <td>72</td>\n",
       "      <td>0</td>\n",
       "      <td>19.6810</td>\n",
       "      <td>28.695</td>\n",
       "      <td>35.389</td>\n",
       "      <td>0.00481</td>\n",
       "      <td>0.000025</td>\n",
       "      <td>0.00205</td>\n",
       "      <td>0.00208</td>\n",
       "      <td>...</td>\n",
       "      <td>0.181</td>\n",
       "      <td>0.00734</td>\n",
       "      <td>0.00844</td>\n",
       "      <td>0.01458</td>\n",
       "      <td>0.02202</td>\n",
       "      <td>0.020220</td>\n",
       "      <td>23.047</td>\n",
       "      <td>0.46222</td>\n",
       "      <td>0.54405</td>\n",
       "      <td>0.21014</td>\n",
       "    </tr>\n",
       "    <tr>\n",
       "      <th>3</th>\n",
       "      <td>1</td>\n",
       "      <td>72</td>\n",
       "      <td>0</td>\n",
       "      <td>25.6470</td>\n",
       "      <td>28.905</td>\n",
       "      <td>35.810</td>\n",
       "      <td>0.00528</td>\n",
       "      <td>0.000027</td>\n",
       "      <td>0.00191</td>\n",
       "      <td>0.00264</td>\n",
       "      <td>...</td>\n",
       "      <td>0.327</td>\n",
       "      <td>0.01106</td>\n",
       "      <td>0.01265</td>\n",
       "      <td>0.01963</td>\n",
       "      <td>0.03317</td>\n",
       "      <td>0.027837</td>\n",
       "      <td>24.445</td>\n",
       "      <td>0.48730</td>\n",
       "      <td>0.57794</td>\n",
       "      <td>0.33277</td>\n",
       "    </tr>\n",
       "    <tr>\n",
       "      <th>4</th>\n",
       "      <td>1</td>\n",
       "      <td>72</td>\n",
       "      <td>0</td>\n",
       "      <td>33.6420</td>\n",
       "      <td>29.187</td>\n",
       "      <td>36.375</td>\n",
       "      <td>0.00335</td>\n",
       "      <td>0.000020</td>\n",
       "      <td>0.00093</td>\n",
       "      <td>0.00130</td>\n",
       "      <td>...</td>\n",
       "      <td>0.176</td>\n",
       "      <td>0.00679</td>\n",
       "      <td>0.00929</td>\n",
       "      <td>0.01819</td>\n",
       "      <td>0.02036</td>\n",
       "      <td>0.011625</td>\n",
       "      <td>26.126</td>\n",
       "      <td>0.47188</td>\n",
       "      <td>0.56122</td>\n",
       "      <td>0.19361</td>\n",
       "    </tr>\n",
       "  </tbody>\n",
       "</table>\n",
       "<p>5 rows × 22 columns</p>\n",
       "</div>"
      ],
      "text/plain": [
       "   subject#  age  sex  test_time  motor_UPDRS  total_UPDRS  Jitter(%)  \\\n",
       "0         1   72    0     5.6431       28.199       34.398    0.00662   \n",
       "1         1   72    0    12.6660       28.447       34.894    0.00300   \n",
       "2         1   72    0    19.6810       28.695       35.389    0.00481   \n",
       "3         1   72    0    25.6470       28.905       35.810    0.00528   \n",
       "4         1   72    0    33.6420       29.187       36.375    0.00335   \n",
       "\n",
       "   Jitter(Abs)  Jitter:RAP  Jitter:PPQ5  ...  Shimmer(dB)  Shimmer:APQ3  \\\n",
       "0     0.000034     0.00401      0.00317  ...        0.230       0.01438   \n",
       "1     0.000017     0.00132      0.00150  ...        0.179       0.00994   \n",
       "2     0.000025     0.00205      0.00208  ...        0.181       0.00734   \n",
       "3     0.000027     0.00191      0.00264  ...        0.327       0.01106   \n",
       "4     0.000020     0.00093      0.00130  ...        0.176       0.00679   \n",
       "\n",
       "   Shimmer:APQ5  Shimmer:APQ11  Shimmer:DDA       NHR     HNR     RPDE  \\\n",
       "0       0.01309        0.01662      0.04314  0.014290  21.640  0.41888   \n",
       "1       0.01072        0.01689      0.02982  0.011112  27.183  0.43493   \n",
       "2       0.00844        0.01458      0.02202  0.020220  23.047  0.46222   \n",
       "3       0.01265        0.01963      0.03317  0.027837  24.445  0.48730   \n",
       "4       0.00929        0.01819      0.02036  0.011625  26.126  0.47188   \n",
       "\n",
       "       DFA      PPE  \n",
       "0  0.54842  0.16006  \n",
       "1  0.56477  0.10810  \n",
       "2  0.54405  0.21014  \n",
       "3  0.57794  0.33277  \n",
       "4  0.56122  0.19361  \n",
       "\n",
       "[5 rows x 22 columns]"
      ]
     },
     "execution_count": 2,
     "metadata": {},
     "output_type": "execute_result"
    }
   ],
   "source": [
    "# Load dataset\n",
    "filename = \"https://archive.ics.uci.edu/ml/machine-learning-databases/parkinsons/telemonitoring/parkinsons_updrs.data\"\n",
    "parkinsons_df = pd.read_csv(filename)\n",
    "parkinsons_df.head()"
   ]
  },
  {
   "cell_type": "code",
   "execution_count": 3,
   "metadata": {},
   "outputs": [
    {
     "data": {
      "text/plain": [
       "Index(['subject#', 'age', 'sex', 'test_time', 'motor_UPDRS', 'total_UPDRS',\n",
       "       'Jitter(%)', 'Jitter(Abs)', 'Jitter:RAP', 'Jitter:PPQ5', 'Jitter:DDP',\n",
       "       'Shimmer', 'Shimmer(dB)', 'Shimmer:APQ3', 'Shimmer:APQ5',\n",
       "       'Shimmer:APQ11', 'Shimmer:DDA', 'NHR', 'HNR', 'RPDE', 'DFA', 'PPE'],\n",
       "      dtype='object')"
      ]
     },
     "execution_count": 3,
     "metadata": {},
     "output_type": "execute_result"
    }
   ],
   "source": [
    "# view dataset columns\n",
    "parkinsons_df.columns"
   ]
  },
  {
   "cell_type": "code",
   "execution_count": 4,
   "metadata": {},
   "outputs": [
    {
     "name": "stdout",
     "output_type": "stream",
     "text": [
      "<class 'pandas.core.frame.DataFrame'>\n",
      "RangeIndex: 5875 entries, 0 to 5874\n",
      "Data columns (total 22 columns):\n",
      "subject#         5875 non-null int64\n",
      "age              5875 non-null int64\n",
      "sex              5875 non-null int64\n",
      "test_time        5875 non-null float64\n",
      "motor_UPDRS      5875 non-null float64\n",
      "total_UPDRS      5875 non-null float64\n",
      "Jitter(%)        5875 non-null float64\n",
      "Jitter(Abs)      5875 non-null float64\n",
      "Jitter:RAP       5875 non-null float64\n",
      "Jitter:PPQ5      5875 non-null float64\n",
      "Jitter:DDP       5875 non-null float64\n",
      "Shimmer          5875 non-null float64\n",
      "Shimmer(dB)      5875 non-null float64\n",
      "Shimmer:APQ3     5875 non-null float64\n",
      "Shimmer:APQ5     5875 non-null float64\n",
      "Shimmer:APQ11    5875 non-null float64\n",
      "Shimmer:DDA      5875 non-null float64\n",
      "NHR              5875 non-null float64\n",
      "HNR              5875 non-null float64\n",
      "RPDE             5875 non-null float64\n",
      "DFA              5875 non-null float64\n",
      "PPE              5875 non-null float64\n",
      "dtypes: float64(19), int64(3)\n",
      "memory usage: 1009.8 KB\n"
     ]
    }
   ],
   "source": [
    "# all columns are in numeric type\n",
    "parkinsons_df.info()"
   ]
  },
  {
   "cell_type": "markdown",
   "metadata": {},
   "source": [
    "#### 2. Create the X-matrix (one-hot encoding categorical factors)."
   ]
  },
  {
   "cell_type": "code",
   "execution_count": 5,
   "metadata": {},
   "outputs": [
    {
     "name": "stdout",
     "output_type": "stream",
     "text": [
      "Unique values for features and target:\n",
      "total_UPDRS      1129\n",
      "Jitter(%)        1305\n",
      "Jitter(Abs)      4105\n",
      "Jitter:RAP        853\n",
      "Jitter:PPQ5       840\n",
      "Jitter:DDP       1703\n",
      "Shimmer          3581\n",
      "Shimmer(dB)       852\n",
      "Shimmer:APQ3     2664\n",
      "Shimmer:APQ5     2850\n",
      "Shimmer:APQ11    3283\n",
      "Shimmer:DDA      4223\n",
      "NHR              5532\n",
      "HNR              4780\n",
      "RPDE             5430\n",
      "DFA              5282\n",
      "PPE              4777\n",
      "dtype: int64\n",
      "\n",
      "DataFrame original shape: (5875, 17)\n",
      "DataFrame one-hot-expanded shape: (5875, 17)\n"
     ]
    },
    {
     "name": "stderr",
     "output_type": "stream",
     "text": [
      "/Users/lawrence/anaconda3/lib/python3.7/site-packages/ipykernel_launcher.py:25: FutureWarning: Method .as_matrix will be removed in a future version. Use .values instead.\n"
     ]
    }
   ],
   "source": [
    "# Define the target and features:\n",
    "# target\n",
    "target_label = 'total_UPDRS'\n",
    "# non-features to be removed\n",
    "non_features = ['subject#', 'age', 'sex', 'test_time', 'motor_UPDRS']\n",
    "# features\n",
    "feature_labels = [x for x in parkinsons_df.columns if x not in [target_label] + non_features]\n",
    "\n",
    "# Filter out non-features and non-targets\n",
    "parkinsons_df = parkinsons_df.drop(non_features, axis=1)\n",
    "\n",
    "# unique values for selected features and target\n",
    "print('Unique values for features and target:')\n",
    "print(parkinsons_df.nunique())\n",
    "\n",
    "# One-hot encode inputs \n",
    "# In this case, there appears to be no categorical factors in the selected features; the features appear continuous and have many unique values.\n",
    "parkinsons_expanded = pd.get_dummies(parkinsons_df, drop_first=True)\n",
    "print('\\nDataFrame original shape: {}'.format(parkinsons_df.shape))\n",
    "print('DataFrame one-hot-expanded shape: {}'.format(parkinsons_expanded.shape))\n",
    "# the expanded dataframe remains the same size as the original\n",
    "\n",
    "# Get target and original x-matrix (from the non-expanded dataframe)\n",
    "y = parkinsons_df[target_label]\n",
    "X = parkinsons_df.as_matrix(columns=feature_labels)"
   ]
  },
  {
   "cell_type": "markdown",
   "metadata": {},
   "source": [
    "#### 3. Scale the X-matrix."
   ]
  },
  {
   "cell_type": "code",
   "execution_count": 6,
   "metadata": {},
   "outputs": [],
   "source": [
    "# Scale function (subtract mean, divide by standard deviation)\n",
    "def scale(col):\n",
    "    mean_col = np.mean(col)\n",
    "    sd_col = np.std(col)\n",
    "    std = (col - mean_col) / sd_col\n",
    "    return std"
   ]
  },
  {
   "cell_type": "code",
   "execution_count": 7,
   "metadata": {},
   "outputs": [],
   "source": [
    "# Scale all columns first\n",
    "\n",
    "# Create x-scaled (look into the function np.apply_along_axis to apply 'scale' function\n",
    "#    to each column).\n",
    "x_scaled = np.apply_along_axis(scale, 0, X)\n",
    "\n",
    "# results are the same as with sklearn's StandardScaler\n",
    "# from sklearn.preprocessing import StandardScaler\n",
    "# X_scaled = StandardScaler().fit_transform(X)\n",
    "\n",
    "# Create a scaled y-target.\n",
    "y_scaled = scale(y)"
   ]
  },
  {
   "cell_type": "markdown",
   "metadata": {},
   "source": [
    "#### 4. Create the principal components and do a simple plot of the explained variance."
   ]
  },
  {
   "cell_type": "code",
   "execution_count": 8,
   "metadata": {},
   "outputs": [],
   "source": [
    "# find principal components\n",
    "pca = PCA(n_components=len(feature_labels))\n",
    "pca_result = pca.fit_transform(x_scaled)\n",
    "\n",
    "column_names = ['pc' + str(ix+1) for ix in range(x_scaled.shape[1])]\n",
    "pca_df = pd.DataFrame(data = pca_result, columns=column_names)\n",
    "pca_df[target_label] = y_scaled"
   ]
  },
  {
   "cell_type": "code",
   "execution_count": 9,
   "metadata": {},
   "outputs": [
    {
     "data": {
      "text/html": [
       "<div>\n",
       "<style scoped>\n",
       "    .dataframe tbody tr th:only-of-type {\n",
       "        vertical-align: middle;\n",
       "    }\n",
       "\n",
       "    .dataframe tbody tr th {\n",
       "        vertical-align: top;\n",
       "    }\n",
       "\n",
       "    .dataframe thead th {\n",
       "        text-align: right;\n",
       "    }\n",
       "</style>\n",
       "<table border=\"1\" class=\"dataframe\">\n",
       "  <thead>\n",
       "    <tr style=\"text-align: right;\">\n",
       "      <th></th>\n",
       "      <th>pc1</th>\n",
       "      <th>pc2</th>\n",
       "      <th>pc3</th>\n",
       "      <th>pc4</th>\n",
       "      <th>pc5</th>\n",
       "      <th>pc6</th>\n",
       "      <th>pc7</th>\n",
       "      <th>pc8</th>\n",
       "      <th>pc9</th>\n",
       "      <th>pc10</th>\n",
       "      <th>pc11</th>\n",
       "      <th>pc12</th>\n",
       "      <th>pc13</th>\n",
       "      <th>pc14</th>\n",
       "      <th>pc15</th>\n",
       "      <th>pc16</th>\n",
       "      <th>total_UPDRS</th>\n",
       "    </tr>\n",
       "  </thead>\n",
       "  <tbody>\n",
       "    <tr>\n",
       "      <th>0</th>\n",
       "      <td>-0.978108</td>\n",
       "      <td>-0.057540</td>\n",
       "      <td>1.760088</td>\n",
       "      <td>-0.049483</td>\n",
       "      <td>-0.476558</td>\n",
       "      <td>0.376887</td>\n",
       "      <td>-0.561067</td>\n",
       "      <td>0.635614</td>\n",
       "      <td>0.339977</td>\n",
       "      <td>0.039112</td>\n",
       "      <td>-0.027261</td>\n",
       "      <td>-0.024319</td>\n",
       "      <td>0.001029</td>\n",
       "      <td>0.031725</td>\n",
       "      <td>0.000752</td>\n",
       "      <td>0.000007</td>\n",
       "      <td>0.502745</td>\n",
       "    </tr>\n",
       "    <tr>\n",
       "      <th>1</th>\n",
       "      <td>-2.601857</td>\n",
       "      <td>0.553154</td>\n",
       "      <td>1.487455</td>\n",
       "      <td>0.058596</td>\n",
       "      <td>0.066572</td>\n",
       "      <td>0.170468</td>\n",
       "      <td>0.215560</td>\n",
       "      <td>-0.165989</td>\n",
       "      <td>0.122985</td>\n",
       "      <td>-0.018919</td>\n",
       "      <td>-0.003925</td>\n",
       "      <td>0.052872</td>\n",
       "      <td>-0.011968</td>\n",
       "      <td>0.024268</td>\n",
       "      <td>-0.000761</td>\n",
       "      <td>-0.000007</td>\n",
       "      <td>0.549103</td>\n",
       "    </tr>\n",
       "    <tr>\n",
       "      <th>2</th>\n",
       "      <td>-1.939773</td>\n",
       "      <td>-0.115513</td>\n",
       "      <td>1.205962</td>\n",
       "      <td>-0.687477</td>\n",
       "      <td>-0.856751</td>\n",
       "      <td>-0.136187</td>\n",
       "      <td>-0.139529</td>\n",
       "      <td>0.228277</td>\n",
       "      <td>0.088253</td>\n",
       "      <td>0.041748</td>\n",
       "      <td>-0.079120</td>\n",
       "      <td>-0.015546</td>\n",
       "      <td>-0.059301</td>\n",
       "      <td>-0.002890</td>\n",
       "      <td>0.000743</td>\n",
       "      <td>0.000004</td>\n",
       "      <td>0.595367</td>\n",
       "    </tr>\n",
       "    <tr>\n",
       "      <th>3</th>\n",
       "      <td>-1.022993</td>\n",
       "      <td>-0.103017</td>\n",
       "      <td>0.533406</td>\n",
       "      <td>-0.508542</td>\n",
       "      <td>-1.541859</td>\n",
       "      <td>-0.189726</td>\n",
       "      <td>0.583599</td>\n",
       "      <td>-0.088389</td>\n",
       "      <td>-0.618057</td>\n",
       "      <td>0.102112</td>\n",
       "      <td>-0.265533</td>\n",
       "      <td>-0.024285</td>\n",
       "      <td>0.001197</td>\n",
       "      <td>-0.182390</td>\n",
       "      <td>-0.000022</td>\n",
       "      <td>0.000180</td>\n",
       "      <td>0.634716</td>\n",
       "    </tr>\n",
       "    <tr>\n",
       "      <th>4</th>\n",
       "      <td>-2.475704</td>\n",
       "      <td>0.230181</td>\n",
       "      <td>0.960314</td>\n",
       "      <td>-0.476941</td>\n",
       "      <td>-0.604783</td>\n",
       "      <td>-0.080478</td>\n",
       "      <td>0.417343</td>\n",
       "      <td>-0.175978</td>\n",
       "      <td>0.016228</td>\n",
       "      <td>0.004227</td>\n",
       "      <td>-0.036416</td>\n",
       "      <td>0.009636</td>\n",
       "      <td>-0.068263</td>\n",
       "      <td>0.004084</td>\n",
       "      <td>-0.000762</td>\n",
       "      <td>0.000172</td>\n",
       "      <td>0.687522</td>\n",
       "    </tr>\n",
       "  </tbody>\n",
       "</table>\n",
       "</div>"
      ],
      "text/plain": [
       "        pc1       pc2       pc3       pc4       pc5       pc6       pc7  \\\n",
       "0 -0.978108 -0.057540  1.760088 -0.049483 -0.476558  0.376887 -0.561067   \n",
       "1 -2.601857  0.553154  1.487455  0.058596  0.066572  0.170468  0.215560   \n",
       "2 -1.939773 -0.115513  1.205962 -0.687477 -0.856751 -0.136187 -0.139529   \n",
       "3 -1.022993 -0.103017  0.533406 -0.508542 -1.541859 -0.189726  0.583599   \n",
       "4 -2.475704  0.230181  0.960314 -0.476941 -0.604783 -0.080478  0.417343   \n",
       "\n",
       "        pc8       pc9      pc10      pc11      pc12      pc13      pc14  \\\n",
       "0  0.635614  0.339977  0.039112 -0.027261 -0.024319  0.001029  0.031725   \n",
       "1 -0.165989  0.122985 -0.018919 -0.003925  0.052872 -0.011968  0.024268   \n",
       "2  0.228277  0.088253  0.041748 -0.079120 -0.015546 -0.059301 -0.002890   \n",
       "3 -0.088389 -0.618057  0.102112 -0.265533 -0.024285  0.001197 -0.182390   \n",
       "4 -0.175978  0.016228  0.004227 -0.036416  0.009636 -0.068263  0.004084   \n",
       "\n",
       "       pc15      pc16  total_UPDRS  \n",
       "0  0.000752  0.000007     0.502745  \n",
       "1 -0.000761 -0.000007     0.549103  \n",
       "2  0.000743  0.000004     0.595367  \n",
       "3 -0.000022  0.000180     0.634716  \n",
       "4 -0.000762  0.000172     0.687522  "
      ]
     },
     "execution_count": 9,
     "metadata": {},
     "output_type": "execute_result"
    }
   ],
   "source": [
    "# view resultant pca dataframe\n",
    "pca_df.head()"
   ]
  },
  {
   "cell_type": "code",
   "execution_count": 10,
   "metadata": {},
   "outputs": [
    {
     "name": "stdout",
     "output_type": "stream",
     "text": [
      "explained variance:\n",
      "[1.12629682e+01 1.67318476e+00 1.24072101e+00 7.64997339e-01\n",
      " 3.09303033e-01 2.22920126e-01 1.72792228e-01 1.61771857e-01\n",
      " 1.03092483e-01 4.35311730e-02 2.02908815e-02 1.40172168e-02\n",
      " 8.66818249e-03 4.46498205e-03 3.77897603e-07 2.08498997e-08]\n"
     ]
    },
    {
     "data": {
      "image/png": "[encoded data removed]",
      "text/plain": [
       "<Figure size 432x288 with 1 Axes>"
      ]
     },
     "metadata": {
      "needs_background": "light"
     },
     "output_type": "display_data"
    },
    {
     "data": {
      "image/png": "[encoded data removed]",
      "text/plain": [
       "<Figure size 432x288 with 1 Axes>"
      ]
     },
     "metadata": {
      "needs_background": "light"
     },
     "output_type": "display_data"
    }
   ],
   "source": [
    "# Plot the explained variance for all principal components.\n",
    "# Note: If the first value is too large, it may dwarf how the rest look.\n",
    "# You may consider plotting starting with the 2nd value (python index at 1).\n",
    "\n",
    "# explained variance\n",
    "exp_var = pca.explained_variance_\n",
    "print('explained variance:')\n",
    "print(exp_var)\n",
    "\n",
    "# plot for all principal components\n",
    "plt.plot(range(1,len(exp_var)+1), exp_var)\n",
    "plt.title('Explained variance by Principal Component Num\\nAll Principal Components')\n",
    "plt.xlabel('Principal Component')\n",
    "plt.ylabel('Explained Variance')\n",
    "plt.show()\n",
    "\n",
    "# start with principal component 2 since the first value dwarfs how the rest look\n",
    "plt.plot(range(1+1,len(exp_var)+1), exp_var[1:])\n",
    "plt.title('Explained variance by Principal Component Num\\nStarting at Principal Component 2')\n",
    "plt.xlabel('Principal Component')\n",
    "plt.ylabel('Explained Variance')\n",
    "plt.show()"
   ]
  },
  {
   "cell_type": "markdown",
   "metadata": {},
   "source": [
    "#### 5. PCR - Linear regression with the principal components."
   ]
  },
  {
   "cell_type": "code",
   "execution_count": 11,
   "metadata": {},
   "outputs": [
    {
     "name": "stdout",
     "output_type": "stream",
     "text": [
      "Formula used:\n",
      "total_UPDRS ~ pc1 + pc2 + pc3 + pc4 + pc5 + pc6 + pc7 + pc8 + pc9\n",
      "\n",
      "\n",
      "                            OLS Regression Results                            \n",
      "==============================================================================\n",
      "Dep. Variable:            total_UPDRS   R-squared:                       0.099\n",
      "Model:                            OLS   Adj. R-squared:                  0.098\n",
      "Method:                 Least Squares   F-statistic:                     71.84\n",
      "Date:                Wed, 31 Jul 2019   Prob (F-statistic):          2.42e-126\n",
      "Time:                        16:31:39   Log-Likelihood:                -8029.1\n",
      "No. Observations:                5875   AIC:                         1.608e+04\n",
      "Df Residuals:                    5865   BIC:                         1.614e+04\n",
      "Df Model:                           9                                         \n",
      "Covariance Type:            nonrobust                                         \n",
      "==============================================================================\n",
      "                 coef    std err          t      P>|t|      [0.025      0.975]\n",
      "------------------------------------------------------------------------------\n",
      "Intercept   -4.38e-15      0.012  -3.53e-13      1.000      -0.024       0.024\n",
      "pc1            0.0309      0.004      8.378      0.000       0.024       0.038\n",
      "pc2            0.0328      0.010      3.426      0.001       0.014       0.052\n",
      "pc3           -0.0230      0.011     -2.066      0.039      -0.045      -0.001\n",
      "pc4           -0.2295      0.014    -16.195      0.000      -0.257      -0.202\n",
      "pc5           -0.2666      0.022    -11.966      0.000      -0.310      -0.223\n",
      "pc6           -0.0037      0.026     -0.140      0.889      -0.055       0.048\n",
      "pc7            0.0837      0.030      2.808      0.005       0.025       0.142\n",
      "pc8            0.3429      0.031     11.128      0.000       0.282       0.403\n",
      "pc9            0.1857      0.039      4.811      0.000       0.110       0.261\n",
      "==============================================================================\n",
      "Omnibus:                      170.644   Durbin-Watson:                   0.136\n",
      "Prob(Omnibus):                  0.000   Jarque-Bera (JB):              180.771\n",
      "Skew:                           0.417   Prob(JB):                     5.57e-40\n",
      "Kurtosis:                       2.790   Cond. No.                         10.5\n",
      "==============================================================================\n",
      "\n",
      "Warnings:\n",
      "[1] Standard Errors assume that the covariance matrix of the errors is correctly specified.\n"
     ]
    },
    {
     "data": {
      "image/png": "[encoded data removed]",
      "text/plain": [
       "<Figure size 432x288 with 1 Axes>"
      ]
     },
     "metadata": {
      "needs_background": "light"
     },
     "output_type": "display_data"
    }
   ],
   "source": [
    "# Perform linear regression with the first n columns.\n",
    "n = 9 # choice for n explained below\n",
    "formula_start = target_label + ' ~ '\n",
    "formula_terms = ['pc' + str(x+1) for x in range(n)]\n",
    "formula_end = ' + '.join(formula_terms)\n",
    "formula_final = formula_start + formula_end\n",
    "\n",
    "# print formula used\n",
    "print('Formula used:')\n",
    "print(formula_final)\n",
    "print('\\n')\n",
    "\n",
    "pcr_model = sm.ols(formula = formula_final, data=pca_df)\n",
    "\n",
    "results = pcr_model.fit()\n",
    "\n",
    "# Get most of the linear regression statistics we are interested in:\n",
    "print(results.summary())\n",
    "\n",
    "# Plot a histogram of the residuals\n",
    "sns.distplot(results.resid, hist=True)\n",
    "plt.xlabel('Residual')\n",
    "plt.ylabel('Frequency')\n",
    "plt.title('Residual Histogram')\n",
    "plt.show()"
   ]
  },
  {
   "cell_type": "markdown",
   "metadata": {},
   "source": [
    "Summary of your results!"
   ]
  },
  {
   "cell_type": "markdown",
   "metadata": {},
   "source": [
    "<b>Summary</b>\n",
    "\n",
    "16 features were selected from the Parkinsons Telemonitoring Data. 'total_UPDRS' was the target. \n",
    "Features and target were scaled (standardized). \n",
    "Principal components were created and the explained variance was plotted.\n",
    "Linear regression was performed with a subset of the principal components."
   ]
  },
  {
   "cell_type": "markdown",
   "metadata": {
    "collapsed": true
   },
   "source": [
    "<b>1. Number of components before and after (choose a smaller number of principal components and explain how you chose them).</b>\n",
    "\n",
    "Before: there are 16 principal components from 16 features. <br>After: the number of principal components chosen was 9.<br>\n",
    "\n",
    "When all 16 principal components were used, the last 7 (pc10-pc16) are not needed for a significant fit (all with p>0.05). The $R^2_{adj}$ for this full model was 0.098. Excluding these components and choosing pc1-pc9, the $R^2_{adj}$ remained 0.098, indicating essentially no loss in explanatory power.\n",
    "\n",
    "Consistently, the explained variance plot flattens at/after around pc9, and the variance explained by the last 7 components were relatively small. "
   ]
  },
  {
   "cell_type": "markdown",
   "metadata": {},
   "source": [
    "<b>2. Interpret the adjusted R-squared.</b>\n",
    "\n",
    "$R^2$ is the fraction of the variance of the original data explained by the model. A model that perfectly explains the data has $R^2 = 1$. A model which does not explain the data at all has $R^2 = 0$. However, $R^2$ is generally non-decreasing when model paremeters are added, and a model with more terms may appear to have a better fit simply because it has more terms.\n",
    "\n",
    "$R^2_{adj}$ adjusts for the number of model parameters. $R^2_{adj}$ increases only if the new feature improves the model more than would be expected by chance. It decreases when a feature improves the model by less than expected by chance. \n",
    "\n",
    "Here, $R^2_{adj}$ was assessed as a function of n, the number of principal components.\n",
    "\n",
    "$R^2_{adj}$ increased when n was increased from 1 to 9. When n = 9, $R^2_{adj}$ = 0.098.\n",
    "$R^2_{adj}$ remained 0.098 when n was increased from 9 to 16.\n",
    "\n",
    "Here, $R^2_{adj}$ of 0.098 indicates that the model only explains ~10% of the variance of the original data. Because of this large amount of unexplained variability, predictions will be imprecise. Nevertheless, significant feature coefficients still indicate a relationship between the features and the target variable."
   ]
  }
 ],
 "metadata": {
  "kernelspec": {
   "display_name": "Python 3",
   "language": "python",
   "name": "python3"
  },
  "language_info": {
   "codemirror_mode": {
    "name": "ipython",
    "version": 3
   },
   "file_extension": ".py",
   "mimetype": "text/x-python",
   "name": "python",
   "nbconvert_exporter": "python",
   "pygments_lexer": "ipython3",
   "version": "3.7.3"
  }
 },
 "nbformat": 4,
 "nbformat_minor": 2
}
