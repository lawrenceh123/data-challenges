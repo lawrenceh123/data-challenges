{
 "cells": [
  {
   "cell_type": "markdown",
   "metadata": {},
   "source": [
    "# Lesson 5 Assignment - Hypothesis Simulation\n",
    "\n",
    "## Author - Lawrence Huang\n",
    "\n"
   ]
  },
  {
   "cell_type": "markdown",
   "metadata": {},
   "source": [
    "## Instructions\n",
    "Use the <a href=\"https://archive.ics.uci.edu/ml/datasets/Automobile\">automotive data set</a> to perform the following:\n",
    "\n",
    "1. Identify a likely distribution for price and several other features.\n",
    "2. Compute basic summary statistics by both classical, bootstrap, and Bayesian methods\n",
    "3. Compute confidence intervals for these summary statistics by classical, bootstrap, and Bayesian methods\n",
    "4. Correctly use hypothesis tests to determine if the differences in pairs and multiple populations are significant:\n",
    "            Classical tests\n",
    "            Tukey’s Honest Significant Differences (HSD)\n",
    "            Bootstrap methods\n",
    "            Bayesian model\n"
   ]
  },
  {
   "cell_type": "markdown",
   "metadata": {},
   "source": [
    "### Note\n",
    "Please clearly outline the results with markdown text. Be sure your discussion includes narrative for your figures and tables so it is clear to the reader the importance of each bit of evidence."
   ]
  },
  {
   "cell_type": "markdown",
   "metadata": {},
   "source": [
    "[Preprocessing](#Preprocessing)<br>\n",
    "[1. Identify a likely distribution for price and several other features](#Q1)<br>\n",
    "[2. Compute basic summary statistics by both classical, bootstrap, and Bayesian methods](#Q2,Q3)<br>\n",
    "[3. Compute confidence intervals for these summary statistics by classical, bootstrap, and Bayesian methods](#Q2,Q3)<br>\n",
    "[4. Correctly use hypothesis tests to determine if the differences in pairs and multiple populations are significant](#Q4)"
   ]
  },
  {
   "cell_type": "markdown",
   "metadata": {},
   "source": [
    "#### Preprocessing\n",
    "<b>From the problem description, the task is to impress the client with other revelations, possibliy regarding insurance risk rating (symboling) and losses compared to other cars (normalized-losses).</b>"
   ]
  },
  {
   "cell_type": "code",
   "execution_count": 1,
   "metadata": {},
   "outputs": [
    {
     "name": "stdout",
     "output_type": "stream",
     "text": [
      "dataframe shape:\n",
      "(205, 26)\n"
     ]
    },
    {
     "data": {
      "text/html": [
       "<div>\n",
       "<style scoped>\n",
       "    .dataframe tbody tr th:only-of-type {\n",
       "        vertical-align: middle;\n",
       "    }\n",
       "\n",
       "    .dataframe tbody tr th {\n",
       "        vertical-align: top;\n",
       "    }\n",
       "\n",
       "    .dataframe thead th {\n",
       "        text-align: right;\n",
       "    }\n",
       "</style>\n",
       "<table border=\"1\" class=\"dataframe\">\n",
       "  <thead>\n",
       "    <tr style=\"text-align: right;\">\n",
       "      <th></th>\n",
       "      <th>symboling</th>\n",
       "      <th>normalized-losses</th>\n",
       "      <th>make</th>\n",
       "      <th>fuel-type</th>\n",
       "      <th>aspiration</th>\n",
       "      <th>num-of-doors</th>\n",
       "      <th>body-style</th>\n",
       "      <th>drive-wheels</th>\n",
       "      <th>engine-location</th>\n",
       "      <th>wheel-base</th>\n",
       "      <th>...</th>\n",
       "      <th>engine-size</th>\n",
       "      <th>fuel-system</th>\n",
       "      <th>bore</th>\n",
       "      <th>stroke</th>\n",
       "      <th>compression-ratio</th>\n",
       "      <th>horsepower</th>\n",
       "      <th>peak-rpm</th>\n",
       "      <th>city-mpg</th>\n",
       "      <th>highway-mpg</th>\n",
       "      <th>price</th>\n",
       "    </tr>\n",
       "  </thead>\n",
       "  <tbody>\n",
       "    <tr>\n",
       "      <th>0</th>\n",
       "      <td>3</td>\n",
       "      <td>?</td>\n",
       "      <td>alfa-romero</td>\n",
       "      <td>gas</td>\n",
       "      <td>std</td>\n",
       "      <td>two</td>\n",
       "      <td>convertible</td>\n",
       "      <td>rwd</td>\n",
       "      <td>front</td>\n",
       "      <td>88.6</td>\n",
       "      <td>...</td>\n",
       "      <td>130</td>\n",
       "      <td>mpfi</td>\n",
       "      <td>3.47</td>\n",
       "      <td>2.68</td>\n",
       "      <td>9.0</td>\n",
       "      <td>111</td>\n",
       "      <td>5000</td>\n",
       "      <td>21</td>\n",
       "      <td>27</td>\n",
       "      <td>13495</td>\n",
       "    </tr>\n",
       "    <tr>\n",
       "      <th>1</th>\n",
       "      <td>3</td>\n",
       "      <td>?</td>\n",
       "      <td>alfa-romero</td>\n",
       "      <td>gas</td>\n",
       "      <td>std</td>\n",
       "      <td>two</td>\n",
       "      <td>convertible</td>\n",
       "      <td>rwd</td>\n",
       "      <td>front</td>\n",
       "      <td>88.6</td>\n",
       "      <td>...</td>\n",
       "      <td>130</td>\n",
       "      <td>mpfi</td>\n",
       "      <td>3.47</td>\n",
       "      <td>2.68</td>\n",
       "      <td>9.0</td>\n",
       "      <td>111</td>\n",
       "      <td>5000</td>\n",
       "      <td>21</td>\n",
       "      <td>27</td>\n",
       "      <td>16500</td>\n",
       "    </tr>\n",
       "    <tr>\n",
       "      <th>2</th>\n",
       "      <td>1</td>\n",
       "      <td>?</td>\n",
       "      <td>alfa-romero</td>\n",
       "      <td>gas</td>\n",
       "      <td>std</td>\n",
       "      <td>two</td>\n",
       "      <td>hatchback</td>\n",
       "      <td>rwd</td>\n",
       "      <td>front</td>\n",
       "      <td>94.5</td>\n",
       "      <td>...</td>\n",
       "      <td>152</td>\n",
       "      <td>mpfi</td>\n",
       "      <td>2.68</td>\n",
       "      <td>3.47</td>\n",
       "      <td>9.0</td>\n",
       "      <td>154</td>\n",
       "      <td>5000</td>\n",
       "      <td>19</td>\n",
       "      <td>26</td>\n",
       "      <td>16500</td>\n",
       "    </tr>\n",
       "    <tr>\n",
       "      <th>3</th>\n",
       "      <td>2</td>\n",
       "      <td>164</td>\n",
       "      <td>audi</td>\n",
       "      <td>gas</td>\n",
       "      <td>std</td>\n",
       "      <td>four</td>\n",
       "      <td>sedan</td>\n",
       "      <td>fwd</td>\n",
       "      <td>front</td>\n",
       "      <td>99.8</td>\n",
       "      <td>...</td>\n",
       "      <td>109</td>\n",
       "      <td>mpfi</td>\n",
       "      <td>3.19</td>\n",
       "      <td>3.40</td>\n",
       "      <td>10.0</td>\n",
       "      <td>102</td>\n",
       "      <td>5500</td>\n",
       "      <td>24</td>\n",
       "      <td>30</td>\n",
       "      <td>13950</td>\n",
       "    </tr>\n",
       "    <tr>\n",
       "      <th>4</th>\n",
       "      <td>2</td>\n",
       "      <td>164</td>\n",
       "      <td>audi</td>\n",
       "      <td>gas</td>\n",
       "      <td>std</td>\n",
       "      <td>four</td>\n",
       "      <td>sedan</td>\n",
       "      <td>4wd</td>\n",
       "      <td>front</td>\n",
       "      <td>99.4</td>\n",
       "      <td>...</td>\n",
       "      <td>136</td>\n",
       "      <td>mpfi</td>\n",
       "      <td>3.19</td>\n",
       "      <td>3.40</td>\n",
       "      <td>8.0</td>\n",
       "      <td>115</td>\n",
       "      <td>5500</td>\n",
       "      <td>18</td>\n",
       "      <td>22</td>\n",
       "      <td>17450</td>\n",
       "    </tr>\n",
       "  </tbody>\n",
       "</table>\n",
       "<p>5 rows × 26 columns</p>\n",
       "</div>"
      ],
      "text/plain": [
       "   symboling normalized-losses         make fuel-type aspiration num-of-doors  \\\n",
       "0          3                 ?  alfa-romero       gas        std          two   \n",
       "1          3                 ?  alfa-romero       gas        std          two   \n",
       "2          1                 ?  alfa-romero       gas        std          two   \n",
       "3          2               164         audi       gas        std         four   \n",
       "4          2               164         audi       gas        std         four   \n",
       "\n",
       "    body-style drive-wheels engine-location  wheel-base  ...  engine-size  \\\n",
       "0  convertible          rwd           front        88.6  ...          130   \n",
       "1  convertible          rwd           front        88.6  ...          130   \n",
       "2    hatchback          rwd           front        94.5  ...          152   \n",
       "3        sedan          fwd           front        99.8  ...          109   \n",
       "4        sedan          4wd           front        99.4  ...          136   \n",
       "\n",
       "   fuel-system  bore  stroke compression-ratio horsepower  peak-rpm city-mpg  \\\n",
       "0         mpfi  3.47    2.68               9.0        111      5000       21   \n",
       "1         mpfi  3.47    2.68               9.0        111      5000       21   \n",
       "2         mpfi  2.68    3.47               9.0        154      5000       19   \n",
       "3         mpfi  3.19    3.40              10.0        102      5500       24   \n",
       "4         mpfi  3.19    3.40               8.0        115      5500       18   \n",
       "\n",
       "  highway-mpg  price  \n",
       "0          27  13495  \n",
       "1          27  16500  \n",
       "2          26  16500  \n",
       "3          30  13950  \n",
       "4          22  17450  \n",
       "\n",
       "[5 rows x 26 columns]"
      ]
     },
     "execution_count": 1,
     "metadata": {},
     "output_type": "execute_result"
    }
   ],
   "source": [
    "# Cleaned up Dataset location\n",
    "fileName = \"https://library.startlearninglabs.uw.edu/DATASCI410/Datasets/Automobile%20price%20data%20_Raw_.csv\"\n",
    "\n",
    "# Import libraries\n",
    "import pandas as pd\n",
    "import numpy as np\n",
    "from sklearn.preprocessing import scale\n",
    "import numpy.random as nr\n",
    "import matplotlib.pyplot as plt\n",
    "import scipy.stats as ss\n",
    "from statsmodels.stats.multicomp import pairwise_tukeyhsd\n",
    "import statsmodels.stats.weightstats as ws\n",
    "\n",
    "# Load data\n",
    "auto = pd.read_csv(fileName)\n",
    "print('dataframe shape:')\n",
    "print(auto.shape)\n",
    "auto.head()"
   ]
  },
  {
   "cell_type": "code",
   "execution_count": 2,
   "metadata": {},
   "outputs": [
    {
     "name": "stdout",
     "output_type": "stream",
     "text": [
      "# of missing values:\n",
      "symboling             0\n",
      "normalized-losses    41\n",
      "make                  0\n",
      "fuel-type             0\n",
      "aspiration            0\n",
      "num-of-doors          2\n",
      "body-style            0\n",
      "drive-wheels          0\n",
      "engine-location       0\n",
      "wheel-base            0\n",
      "length                0\n",
      "width                 0\n",
      "height                0\n",
      "curb-weight           0\n",
      "engine-type           0\n",
      "num-of-cylinders      0\n",
      "engine-size           0\n",
      "fuel-system           0\n",
      "bore                  4\n",
      "stroke                4\n",
      "compression-ratio     0\n",
      "horsepower            2\n",
      "peak-rpm              2\n",
      "city-mpg              0\n",
      "highway-mpg           0\n",
      "price                 4\n",
      "dtype: int64\n",
      "\n",
      "\n",
      "dataframe shape:\n",
      "(159, 26)\n"
     ]
    },
    {
     "data": {
      "text/html": [
       "<div>\n",
       "<style scoped>\n",
       "    .dataframe tbody tr th:only-of-type {\n",
       "        vertical-align: middle;\n",
       "    }\n",
       "\n",
       "    .dataframe tbody tr th {\n",
       "        vertical-align: top;\n",
       "    }\n",
       "\n",
       "    .dataframe thead th {\n",
       "        text-align: right;\n",
       "    }\n",
       "</style>\n",
       "<table border=\"1\" class=\"dataframe\">\n",
       "  <thead>\n",
       "    <tr style=\"text-align: right;\">\n",
       "      <th></th>\n",
       "      <th>symboling</th>\n",
       "      <th>normalized-losses</th>\n",
       "      <th>make</th>\n",
       "      <th>fuel-type</th>\n",
       "      <th>aspiration</th>\n",
       "      <th>num-of-doors</th>\n",
       "      <th>body-style</th>\n",
       "      <th>drive-wheels</th>\n",
       "      <th>engine-location</th>\n",
       "      <th>wheel-base</th>\n",
       "      <th>...</th>\n",
       "      <th>engine-size</th>\n",
       "      <th>fuel-system</th>\n",
       "      <th>bore</th>\n",
       "      <th>stroke</th>\n",
       "      <th>compression-ratio</th>\n",
       "      <th>horsepower</th>\n",
       "      <th>peak-rpm</th>\n",
       "      <th>city-mpg</th>\n",
       "      <th>highway-mpg</th>\n",
       "      <th>price</th>\n",
       "    </tr>\n",
       "  </thead>\n",
       "  <tbody>\n",
       "    <tr>\n",
       "      <th>3</th>\n",
       "      <td>2</td>\n",
       "      <td>164.0</td>\n",
       "      <td>audi</td>\n",
       "      <td>gas</td>\n",
       "      <td>std</td>\n",
       "      <td>four</td>\n",
       "      <td>sedan</td>\n",
       "      <td>fwd</td>\n",
       "      <td>front</td>\n",
       "      <td>99.8</td>\n",
       "      <td>...</td>\n",
       "      <td>109</td>\n",
       "      <td>mpfi</td>\n",
       "      <td>3.19</td>\n",
       "      <td>3.4</td>\n",
       "      <td>10.0</td>\n",
       "      <td>102.0</td>\n",
       "      <td>5500.0</td>\n",
       "      <td>24</td>\n",
       "      <td>30</td>\n",
       "      <td>13950.0</td>\n",
       "    </tr>\n",
       "    <tr>\n",
       "      <th>4</th>\n",
       "      <td>2</td>\n",
       "      <td>164.0</td>\n",
       "      <td>audi</td>\n",
       "      <td>gas</td>\n",
       "      <td>std</td>\n",
       "      <td>four</td>\n",
       "      <td>sedan</td>\n",
       "      <td>4wd</td>\n",
       "      <td>front</td>\n",
       "      <td>99.4</td>\n",
       "      <td>...</td>\n",
       "      <td>136</td>\n",
       "      <td>mpfi</td>\n",
       "      <td>3.19</td>\n",
       "      <td>3.4</td>\n",
       "      <td>8.0</td>\n",
       "      <td>115.0</td>\n",
       "      <td>5500.0</td>\n",
       "      <td>18</td>\n",
       "      <td>22</td>\n",
       "      <td>17450.0</td>\n",
       "    </tr>\n",
       "    <tr>\n",
       "      <th>6</th>\n",
       "      <td>1</td>\n",
       "      <td>158.0</td>\n",
       "      <td>audi</td>\n",
       "      <td>gas</td>\n",
       "      <td>std</td>\n",
       "      <td>four</td>\n",
       "      <td>sedan</td>\n",
       "      <td>fwd</td>\n",
       "      <td>front</td>\n",
       "      <td>105.8</td>\n",
       "      <td>...</td>\n",
       "      <td>136</td>\n",
       "      <td>mpfi</td>\n",
       "      <td>3.19</td>\n",
       "      <td>3.4</td>\n",
       "      <td>8.5</td>\n",
       "      <td>110.0</td>\n",
       "      <td>5500.0</td>\n",
       "      <td>19</td>\n",
       "      <td>25</td>\n",
       "      <td>17710.0</td>\n",
       "    </tr>\n",
       "    <tr>\n",
       "      <th>8</th>\n",
       "      <td>1</td>\n",
       "      <td>158.0</td>\n",
       "      <td>audi</td>\n",
       "      <td>gas</td>\n",
       "      <td>turbo</td>\n",
       "      <td>four</td>\n",
       "      <td>sedan</td>\n",
       "      <td>fwd</td>\n",
       "      <td>front</td>\n",
       "      <td>105.8</td>\n",
       "      <td>...</td>\n",
       "      <td>131</td>\n",
       "      <td>mpfi</td>\n",
       "      <td>3.13</td>\n",
       "      <td>3.4</td>\n",
       "      <td>8.3</td>\n",
       "      <td>140.0</td>\n",
       "      <td>5500.0</td>\n",
       "      <td>17</td>\n",
       "      <td>20</td>\n",
       "      <td>23875.0</td>\n",
       "    </tr>\n",
       "    <tr>\n",
       "      <th>10</th>\n",
       "      <td>2</td>\n",
       "      <td>192.0</td>\n",
       "      <td>bmw</td>\n",
       "      <td>gas</td>\n",
       "      <td>std</td>\n",
       "      <td>two</td>\n",
       "      <td>sedan</td>\n",
       "      <td>rwd</td>\n",
       "      <td>front</td>\n",
       "      <td>101.2</td>\n",
       "      <td>...</td>\n",
       "      <td>108</td>\n",
       "      <td>mpfi</td>\n",
       "      <td>3.50</td>\n",
       "      <td>2.8</td>\n",
       "      <td>8.8</td>\n",
       "      <td>101.0</td>\n",
       "      <td>5800.0</td>\n",
       "      <td>23</td>\n",
       "      <td>29</td>\n",
       "      <td>16430.0</td>\n",
       "    </tr>\n",
       "  </tbody>\n",
       "</table>\n",
       "<p>5 rows × 26 columns</p>\n",
       "</div>"
      ],
      "text/plain": [
       "    symboling  normalized-losses  make fuel-type aspiration num-of-doors  \\\n",
       "3           2              164.0  audi       gas        std         four   \n",
       "4           2              164.0  audi       gas        std         four   \n",
       "6           1              158.0  audi       gas        std         four   \n",
       "8           1              158.0  audi       gas      turbo         four   \n",
       "10          2              192.0   bmw       gas        std          two   \n",
       "\n",
       "   body-style drive-wheels engine-location  wheel-base  ...  engine-size  \\\n",
       "3       sedan          fwd           front        99.8  ...          109   \n",
       "4       sedan          4wd           front        99.4  ...          136   \n",
       "6       sedan          fwd           front       105.8  ...          136   \n",
       "8       sedan          fwd           front       105.8  ...          131   \n",
       "10      sedan          rwd           front       101.2  ...          108   \n",
       "\n",
       "    fuel-system  bore  stroke compression-ratio horsepower  peak-rpm city-mpg  \\\n",
       "3          mpfi  3.19     3.4              10.0      102.0    5500.0       24   \n",
       "4          mpfi  3.19     3.4               8.0      115.0    5500.0       18   \n",
       "6          mpfi  3.19     3.4               8.5      110.0    5500.0       19   \n",
       "8          mpfi  3.13     3.4               8.3      140.0    5500.0       17   \n",
       "10         mpfi  3.50     2.8               8.8      101.0    5800.0       23   \n",
       "\n",
       "    highway-mpg    price  \n",
       "3            30  13950.0  \n",
       "4            22  17450.0  \n",
       "6            25  17710.0  \n",
       "8            20  23875.0  \n",
       "10           29  16430.0  \n",
       "\n",
       "[5 rows x 26 columns]"
      ]
     },
     "execution_count": 2,
     "metadata": {},
     "output_type": "execute_result"
    }
   ],
   "source": [
    "# making a list of missing value types\n",
    "missing_values = ['?']\n",
    "auto = pd.read_csv(fileName, na_values=missing_values)\n",
    "\n",
    "# total missing values for each feature\n",
    "print('# of missing values:')\n",
    "print(auto.isnull().sum())\n",
    "\n",
    "# Drop rows with missing data\n",
    "auto.dropna(axis=0, inplace=True)\n",
    "\n",
    "print('\\n')\n",
    "print('dataframe shape:')\n",
    "print(auto.shape)\n",
    "auto.head()"
   ]
  },
  {
   "cell_type": "markdown",
   "metadata": {},
   "source": [
    "#### Q1\n",
    "<b>Identify a likely distribution for price and several other features.</b><br>\n",
    "Features to explore: 1. price, 2. wheel-base, 3. length, 4. highway-mpg<br>\n",
    "Method: Kolmogorov-Smirnov test"
   ]
  },
  {
   "cell_type": "code",
   "execution_count": 3,
   "metadata": {},
   "outputs": [],
   "source": [
    "# plot CDF of the sample and the CDF of the theoretical distribution\n",
    "def plot_cums(dist1, dist2, label1, label2):\n",
    "    ## sort the first data sample:\n",
    "    data_sorted = np.sort(dist1)\n",
    "    # calculate the proportional values of samples\n",
    "    p = 1. * np.arange(len(dist1)) / (len(dist1) - 1)\n",
    "\n",
    "    # Now plot as line and scatter plot. \n",
    "    plt.plot(data_sorted, p)\n",
    "    plt.scatter(data_sorted, p, color = 'red', label=label1)\n",
    "    \n",
    "    # sort the seond data sample:\n",
    "    data_sorted = np.sort(dist2)\n",
    "    \n",
    "    # And the second plot\n",
    "    plt.plot(data_sorted, p, color = 'yellow')\n",
    "    plt.scatter(data_sorted, p, color = 'green', label=label2)\n",
    "    plt.title(label2)\n",
    "    plt.legend()\n",
    "    plt.show()\n",
    "    \n",
    "# plot feature histogram\n",
    "def plot_col(col):\n",
    "    auto[col].hist()\n",
    "    plt.title('Histogram of {}'.format(col))\n",
    "    plt.ylabel('Frequency')\n",
    "    plt.xlabel(col)\n",
    "    plt.grid(b=None)\n",
    "    plt.show()"
   ]
  },
  {
   "cell_type": "code",
   "execution_count": 4,
   "metadata": {},
   "outputs": [],
   "source": [
    "# standardize samples before applying the K-S test  \n",
    "price_s = scale(auto['price'])\n",
    "wheel_base_s = scale(auto['wheel-base'])\n",
    "length_s = scale(auto['length'])\n",
    "highway_mpg_s = scale(auto['highway-mpg'])"
   ]
  },
  {
   "cell_type": "markdown",
   "metadata": {},
   "source": [
    "<b>feature 1: price</b>"
   ]
  },
  {
   "cell_type": "code",
   "execution_count": 5,
   "metadata": {},
   "outputs": [
    {
     "data": {
      "image/png": "[encoded data removed]",
      "text/plain": [
       "<Figure size 432x288 with 1 Axes>"
      ]
     },
     "metadata": {
      "needs_background": "light"
     },
     "output_type": "display_data"
    },
    {
     "data": {
      "image/png": "[encoded data removed]",
      "text/plain": [
       "<Figure size 432x288 with 1 Axes>"
      ]
     },
     "metadata": {
      "needs_background": "light"
     },
     "output_type": "display_data"
    },
    {
     "name": "stdout",
     "output_type": "stream",
     "text": [
      "KS-statistic = 0.19085855605578028\n",
      "P-value = 1.5137283208020269e-05\n"
     ]
    }
   ],
   "source": [
    "# plot feature histogram\n",
    "plot_col('price')\n",
    "\n",
    "# test against normal distribution\n",
    "# fit sample to norm dist\n",
    "args = ss.norm.fit(price_s) \n",
    "\n",
    "# graphical\n",
    "plot_cums(price_s, scale(ss.norm.rvs(args[0], args[1], size = len(price_s), random_state=123)), 'price', 'normal dist')\n",
    "\n",
    "# formal test\n",
    "ks_statisic, pvalue = ss.kstest(rvs=price_s, cdf='norm', args=args)\n",
    "print('KS-statistic = ' + str(ks_statisic))\n",
    "print('P-value = ' + str(pvalue))"
   ]
  },
  {
   "cell_type": "code",
   "execution_count": 6,
   "metadata": {},
   "outputs": [
    {
     "data": {
      "image/png": "[encoded data removed]",
      "text/plain": [
       "<Figure size 432x288 with 1 Axes>"
      ]
     },
     "metadata": {
      "needs_background": "light"
     },
     "output_type": "display_data"
    },
    {
     "name": "stdout",
     "output_type": "stream",
     "text": [
      "KS-statistic = 0.07418481111368125\n",
      "P-value = 0.33083761053095684\n"
     ]
    }
   ],
   "source": [
    "# test against lognormal distribution, since log_price calculated in previous assignment was close to a normal distribution.\n",
    "# fit sample to lognorm dist\n",
    "args = ss.lognorm.fit(price_s) \n",
    "\n",
    "# graphical\n",
    "plot_cums(price_s, scale(ss.lognorm.rvs(args[0], args[1], size = len(price_s), random_state=123)), 'price', 'lognormal dist')\n",
    "\n",
    "# formal test\n",
    "ks_statisic, pvalue = ss.kstest(rvs=price_s, cdf='lognorm', args=args)\n",
    "print('KS-statistic = ' + str(ks_statisic))\n",
    "print('P-value = ' + str(pvalue))"
   ]
  },
  {
   "cell_type": "markdown",
   "metadata": {},
   "source": [
    "These results suggest that price is not normally distributed; a likely distribution is lognormal."
   ]
  },
  {
   "cell_type": "markdown",
   "metadata": {},
   "source": [
    "<b>feature 2: wheel-base</b>"
   ]
  },
  {
   "cell_type": "code",
   "execution_count": 7,
   "metadata": {},
   "outputs": [
    {
     "data": {
      "image/png": "[encoded data removed]",
      "text/plain": [
       "<Figure size 432x288 with 1 Axes>"
      ]
     },
     "metadata": {
      "needs_background": "light"
     },
     "output_type": "display_data"
    },
    {
     "data": {
      "image/png": "[encoded data removed]",
      "text/plain": [
       "<Figure size 432x288 with 1 Axes>"
      ]
     },
     "metadata": {
      "needs_background": "light"
     },
     "output_type": "display_data"
    },
    {
     "name": "stdout",
     "output_type": "stream",
     "text": [
      "KS-statistic = 0.17801082210796998\n",
      "P-value = 7.040779879846302e-05\n"
     ]
    }
   ],
   "source": [
    "# plot feature histogram\n",
    "plot_col('wheel-base')\n",
    "\n",
    "# test against normal distribution\n",
    "# fit sample to norm dist\n",
    "args = ss.norm.fit(wheel_base_s) \n",
    "\n",
    "# graphical\n",
    "plot_cums(wheel_base_s, scale(ss.norm.rvs(args[0], args[1], size = len(wheel_base_s), random_state=123)), 'wheel-base', 'normal dist')\n",
    "\n",
    "# formal test\n",
    "ks_statisic, pvalue = ss.kstest(rvs=wheel_base_s, cdf='norm', args=args)\n",
    "print('KS-statistic = ' + str(ks_statisic))\n",
    "print('P-value = ' + str(pvalue))"
   ]
  },
  {
   "cell_type": "code",
   "execution_count": 8,
   "metadata": {},
   "outputs": [
    {
     "data": {
      "image/png": "[encoded data removed]",
      "text/plain": [
       "<Figure size 432x288 with 1 Axes>"
      ]
     },
     "metadata": {
      "needs_background": "light"
     },
     "output_type": "display_data"
    },
    {
     "name": "stdout",
     "output_type": "stream",
     "text": [
      "KS-statistic = 0.09803980560279169\n",
      "P-value = 0.08793271516856202\n"
     ]
    }
   ],
   "source": [
    "# test against expnnorm distribution\n",
    "args = ss.exponnorm.fit(wheel_base_s) \n",
    "\n",
    "# graphical\n",
    "plot_cums(wheel_base_s, scale(ss.exponnorm.rvs(args[0], args[1], args[2], size=len(wheel_base_s), random_state=123)), 'wheel-base', 'exponnorm dist')\n",
    "\n",
    "# formal test\n",
    "ks_statisic, pvalue = ss.kstest(rvs=wheel_base_s, cdf='exponnorm', args=args)\n",
    "print('KS-statistic = ' + str(ks_statisic))\n",
    "print('P-value = ' + str(pvalue))"
   ]
  },
  {
   "cell_type": "markdown",
   "metadata": {},
   "source": [
    "These results suggest that wheel-base is not normally distributed; a likely distribution is exponentially modified normal."
   ]
  },
  {
   "cell_type": "markdown",
   "metadata": {},
   "source": [
    "<b>feature 3: length</b>"
   ]
  },
  {
   "cell_type": "code",
   "execution_count": 9,
   "metadata": {},
   "outputs": [
    {
     "data": {
      "image/png": "[encoded data removed]",
      "text/plain": [
       "<Figure size 432x288 with 1 Axes>"
      ]
     },
     "metadata": {
      "needs_background": "light"
     },
     "output_type": "display_data"
    },
    {
     "data": {
      "image/png": "[encoded data removed]",
      "text/plain": [
       "<Figure size 432x288 with 1 Axes>"
      ]
     },
     "metadata": {
      "needs_background": "light"
     },
     "output_type": "display_data"
    },
    {
     "name": "stdout",
     "output_type": "stream",
     "text": [
      "KS-statistic = 0.09284038458217014\n",
      "P-value = 0.12108738511593291\n"
     ]
    }
   ],
   "source": [
    "# plot feature histogram\n",
    "plot_col('length')\n",
    "\n",
    "# test against normal distribution\n",
    "# fit sample to norm dist\n",
    "args = ss.norm.fit(length_s) \n",
    "\n",
    "# graphical\n",
    "plot_cums(length_s, scale(ss.norm.rvs(args[0], args[1], size = len(length_s), random_state=123)), 'length', 'normal dist')\n",
    "\n",
    "# formal test\n",
    "ks_statisic, pvalue = ss.kstest(rvs=length_s, cdf='norm', args=args)\n",
    "print('KS-statistic = ' + str(ks_statisic))\n",
    "print('P-value = ' + str(pvalue))"
   ]
  },
  {
   "cell_type": "markdown",
   "metadata": {},
   "source": [
    "These results suggest that a likely distribution for length is normal distribution."
   ]
  },
  {
   "cell_type": "markdown",
   "metadata": {},
   "source": [
    "<b>feature 4: highway-mpg</b>"
   ]
  },
  {
   "cell_type": "code",
   "execution_count": 10,
   "metadata": {},
   "outputs": [
    {
     "data": {
      "image/png": "[encoded data removed]",
      "text/plain": [
       "<Figure size 432x288 with 1 Axes>"
      ]
     },
     "metadata": {
      "needs_background": "light"
     },
     "output_type": "display_data"
    },
    {
     "data": {
      "image/png": "[encoded data removed]",
      "text/plain": [
       "<Figure size 432x288 with 1 Axes>"
      ]
     },
     "metadata": {
      "needs_background": "light"
     },
     "output_type": "display_data"
    },
    {
     "name": "stdout",
     "output_type": "stream",
     "text": [
      "KS-statistic = 0.09357522064902901\n",
      "P-value = 0.11585620251062947\n"
     ]
    }
   ],
   "source": [
    "# plot feature histogram\n",
    "plot_col('highway-mpg')\n",
    "\n",
    "# test against normal distribution\n",
    "# fit sample to norm dist\n",
    "args = ss.norm.fit(highway_mpg_s) \n",
    "\n",
    "# graphical\n",
    "plot_cums(length_s, scale(ss.norm.rvs(args[0], args[1], size = len(length_s), random_state=123)), 'highway-mpg', 'normal dist')\n",
    "\n",
    "# formal test\n",
    "ks_statisic, pvalue = ss.kstest(rvs=highway_mpg_s, cdf='norm', args=args)\n",
    "print('KS-statistic = ' + str(ks_statisic))\n",
    "print('P-value = ' + str(pvalue))"
   ]
  },
  {
   "cell_type": "markdown",
   "metadata": {},
   "source": [
    "These results suggest that a likely distribution for highway-mpg is normal distribution."
   ]
  },
  {
   "cell_type": "markdown",
   "metadata": {},
   "source": [
    "#### Q2,Q3\n",
    "<b>Q2: Compute basic summary statistics by both classical, bootstrap, and Bayesian methods</b><br>\n",
    "<b>Q3: Compute confidence intervals for these summary statistics by classical, bootstrap, and Bayesian methods</b>"
   ]
  },
  {
   "cell_type": "markdown",
   "metadata": {},
   "source": [
    "<b>Classical method</b>"
   ]
  },
  {
   "cell_type": "code",
   "execution_count": 11,
   "metadata": {},
   "outputs": [
    {
     "data": {
      "text/html": [
       "<div>\n",
       "<style scoped>\n",
       "    .dataframe tbody tr th:only-of-type {\n",
       "        vertical-align: middle;\n",
       "    }\n",
       "\n",
       "    .dataframe tbody tr th {\n",
       "        vertical-align: top;\n",
       "    }\n",
       "\n",
       "    .dataframe thead th {\n",
       "        text-align: right;\n",
       "    }\n",
       "</style>\n",
       "<table border=\"1\" class=\"dataframe\">\n",
       "  <thead>\n",
       "    <tr style=\"text-align: right;\">\n",
       "      <th></th>\n",
       "      <th>price</th>\n",
       "      <th>wheel-base</th>\n",
       "      <th>length</th>\n",
       "      <th>highway-mpg</th>\n",
       "    </tr>\n",
       "  </thead>\n",
       "  <tbody>\n",
       "    <tr>\n",
       "      <th>count</th>\n",
       "      <td>159.000000</td>\n",
       "      <td>159.000000</td>\n",
       "      <td>159.000000</td>\n",
       "      <td>159.000000</td>\n",
       "    </tr>\n",
       "    <tr>\n",
       "      <th>mean</th>\n",
       "      <td>11445.729560</td>\n",
       "      <td>98.264151</td>\n",
       "      <td>172.413836</td>\n",
       "      <td>32.081761</td>\n",
       "    </tr>\n",
       "    <tr>\n",
       "      <th>std</th>\n",
       "      <td>5877.856195</td>\n",
       "      <td>5.167416</td>\n",
       "      <td>11.523177</td>\n",
       "      <td>6.459189</td>\n",
       "    </tr>\n",
       "    <tr>\n",
       "      <th>min</th>\n",
       "      <td>5118.000000</td>\n",
       "      <td>86.600000</td>\n",
       "      <td>141.100000</td>\n",
       "      <td>18.000000</td>\n",
       "    </tr>\n",
       "    <tr>\n",
       "      <th>25%</th>\n",
       "      <td>7372.000000</td>\n",
       "      <td>94.500000</td>\n",
       "      <td>165.650000</td>\n",
       "      <td>28.000000</td>\n",
       "    </tr>\n",
       "    <tr>\n",
       "      <th>50%</th>\n",
       "      <td>9233.000000</td>\n",
       "      <td>96.900000</td>\n",
       "      <td>172.400000</td>\n",
       "      <td>32.000000</td>\n",
       "    </tr>\n",
       "    <tr>\n",
       "      <th>75%</th>\n",
       "      <td>14719.500000</td>\n",
       "      <td>100.800000</td>\n",
       "      <td>177.800000</td>\n",
       "      <td>37.000000</td>\n",
       "    </tr>\n",
       "    <tr>\n",
       "      <th>max</th>\n",
       "      <td>35056.000000</td>\n",
       "      <td>115.600000</td>\n",
       "      <td>202.600000</td>\n",
       "      <td>54.000000</td>\n",
       "    </tr>\n",
       "  </tbody>\n",
       "</table>\n",
       "</div>"
      ],
      "text/plain": [
       "              price  wheel-base      length  highway-mpg\n",
       "count    159.000000  159.000000  159.000000   159.000000\n",
       "mean   11445.729560   98.264151  172.413836    32.081761\n",
       "std     5877.856195    5.167416   11.523177     6.459189\n",
       "min     5118.000000   86.600000  141.100000    18.000000\n",
       "25%     7372.000000   94.500000  165.650000    28.000000\n",
       "50%     9233.000000   96.900000  172.400000    32.000000\n",
       "75%    14719.500000  100.800000  177.800000    37.000000\n",
       "max    35056.000000  115.600000  202.600000    54.000000"
      ]
     },
     "execution_count": 11,
     "metadata": {},
     "output_type": "execute_result"
    }
   ],
   "source": [
    "# quick look at summary statistics\n",
    "cols = ['price', 'wheel-base', 'length', 'highway-mpg']\n",
    "auto[cols].describe()"
   ]
  },
  {
   "cell_type": "code",
   "execution_count": 12,
   "metadata": {},
   "outputs": [],
   "source": [
    "# 95% confidence interval\n",
    "# Assuming the data is being considered a population, and with sample size > 30, use z-score\n",
    "price_classical_ci = ws.DescrStatsW(auto['price']).zconfint_mean(alpha=0.05, alternative='two-sided')\n",
    "wheel_classical_ci = ws.DescrStatsW(auto['wheel-base']).zconfint_mean(alpha=0.05, alternative='two-sided')\n",
    "length_classical_ci = ws.DescrStatsW(auto['length']).zconfint_mean(alpha=0.05, alternative='two-sided')\n",
    "highway_classical_ci = ws.DescrStatsW(auto['highway-mpg']).zconfint_mean(alpha=0.05, alternative='two-sided')"
   ]
  },
  {
   "cell_type": "code",
   "execution_count": 13,
   "metadata": {},
   "outputs": [
    {
     "data": {
      "text/html": [
       "<div>\n",
       "<style scoped>\n",
       "    .dataframe tbody tr th:only-of-type {\n",
       "        vertical-align: middle;\n",
       "    }\n",
       "\n",
       "    .dataframe tbody tr th {\n",
       "        vertical-align: top;\n",
       "    }\n",
       "\n",
       "    .dataframe thead th {\n",
       "        text-align: right;\n",
       "    }\n",
       "</style>\n",
       "<table border=\"1\" class=\"dataframe\">\n",
       "  <thead>\n",
       "    <tr style=\"text-align: right;\">\n",
       "      <th></th>\n",
       "      <th>mean</th>\n",
       "      <th>standard deviation</th>\n",
       "      <th>95% conf int for mean</th>\n",
       "    </tr>\n",
       "  </thead>\n",
       "  <tbody>\n",
       "    <tr>\n",
       "      <th>price</th>\n",
       "      <td>11445.729560</td>\n",
       "      <td>5859.343216</td>\n",
       "      <td>(10532.10348560652, 12359.355633890336)</td>\n",
       "    </tr>\n",
       "    <tr>\n",
       "      <th>wheel-base</th>\n",
       "      <td>98.264151</td>\n",
       "      <td>5.151141</td>\n",
       "      <td>(97.46095232778192, 99.06734955901054)</td>\n",
       "    </tr>\n",
       "    <tr>\n",
       "      <th>length</th>\n",
       "      <td>172.413836</td>\n",
       "      <td>11.486883</td>\n",
       "      <td>(170.6227285500121, 174.20494440596272)</td>\n",
       "    </tr>\n",
       "    <tr>\n",
       "      <th>highway-mpg</th>\n",
       "      <td>32.081761</td>\n",
       "      <td>6.438845</td>\n",
       "      <td>(31.077775338981798, 33.085746673596816)</td>\n",
       "    </tr>\n",
       "  </tbody>\n",
       "</table>\n",
       "</div>"
      ],
      "text/plain": [
       "                     mean  standard deviation  \\\n",
       "price        11445.729560         5859.343216   \n",
       "wheel-base      98.264151            5.151141   \n",
       "length         172.413836           11.486883   \n",
       "highway-mpg     32.081761            6.438845   \n",
       "\n",
       "                                95% conf int for mean  \n",
       "price         (10532.10348560652, 12359.355633890336)  \n",
       "wheel-base     (97.46095232778192, 99.06734955901054)  \n",
       "length        (170.6227285500121, 174.20494440596272)  \n",
       "highway-mpg  (31.077775338981798, 33.085746673596816)  "
      ]
     },
     "execution_count": 13,
     "metadata": {},
     "output_type": "execute_result"
    }
   ],
   "source": [
    "# mean, standard deviation, 95% confidence interval\n",
    "pd.DataFrame({'mean':np.mean(auto[cols]), 'standard deviation':np.std(auto[cols]),\n",
    "             '95% conf int for mean':[price_classical_ci, wheel_classical_ci, length_classical_ci, highway_classical_ci]})"
   ]
  },
  {
   "cell_type": "markdown",
   "metadata": {},
   "source": [
    "<b>Bootstrap method: bootstrap the means using 1000 bootstrap samples</b><br>\n",
    "(since the CLT only applies to sample means and not medians or any other statistic)"
   ]
  },
  {
   "cell_type": "code",
   "execution_count": 14,
   "metadata": {},
   "outputs": [
    {
     "data": {
      "text/html": [
       "<div>\n",
       "<style scoped>\n",
       "    .dataframe tbody tr th:only-of-type {\n",
       "        vertical-align: middle;\n",
       "    }\n",
       "\n",
       "    .dataframe tbody tr th {\n",
       "        vertical-align: top;\n",
       "    }\n",
       "\n",
       "    .dataframe thead th {\n",
       "        text-align: right;\n",
       "    }\n",
       "</style>\n",
       "<table border=\"1\" class=\"dataframe\">\n",
       "  <thead>\n",
       "    <tr style=\"text-align: right;\">\n",
       "      <th></th>\n",
       "      <th>mean</th>\n",
       "      <th>standard error</th>\n",
       "      <th>95% conf int for mean</th>\n",
       "    </tr>\n",
       "  </thead>\n",
       "  <tbody>\n",
       "    <tr>\n",
       "      <th>price</th>\n",
       "      <td>11420.744943</td>\n",
       "      <td>459.453138</td>\n",
       "      <td>(10535.89858490566, 12363.622327044026)</td>\n",
       "    </tr>\n",
       "    <tr>\n",
       "      <th>wheel-base</th>\n",
       "      <td>98.260721</td>\n",
       "      <td>0.405108</td>\n",
       "      <td>(97.45279874213837, 99.0831132075472)</td>\n",
       "    </tr>\n",
       "    <tr>\n",
       "      <th>length</th>\n",
       "      <td>172.437967</td>\n",
       "      <td>0.897452</td>\n",
       "      <td>(170.64537735849044, 174.1551257861634)</td>\n",
       "    </tr>\n",
       "    <tr>\n",
       "      <th>highway-mpg</th>\n",
       "      <td>32.082899</td>\n",
       "      <td>0.505104</td>\n",
       "      <td>(31.087893081761006, 33.06949685534591)</td>\n",
       "    </tr>\n",
       "  </tbody>\n",
       "</table>\n",
       "</div>"
      ],
      "text/plain": [
       "                     mean  standard error  \\\n",
       "price        11420.744943      459.453138   \n",
       "wheel-base      98.260721        0.405108   \n",
       "length         172.437967        0.897452   \n",
       "highway-mpg     32.082899        0.505104   \n",
       "\n",
       "                               95% conf int for mean  \n",
       "price        (10535.89858490566, 12363.622327044026)  \n",
       "wheel-base     (97.45279874213837, 99.0831132075472)  \n",
       "length       (170.64537735849044, 174.1551257861634)  \n",
       "highway-mpg  (31.087893081761006, 33.06949685534591)  "
      ]
     },
     "execution_count": 14,
     "metadata": {},
     "output_type": "execute_result"
    }
   ],
   "source": [
    "# bootstrap the mean\n",
    "def bootstrap_mean(col, n_replicas=1000):\n",
    "    return pd.Series([auto[col].sample(frac=1, replace=True).mean()\n",
    "    for i in range(n_replicas)])\n",
    "\n",
    "price_bootstrap_means = bootstrap_mean('price')\n",
    "wheel_bootstrap_means = bootstrap_mean('wheel-base')\n",
    "length_bootstrap_means = bootstrap_mean('length')\n",
    "highway_bootstrap_means = bootstrap_mean('highway-mpg')\n",
    "\n",
    "pd.DataFrame({'mean':[np.mean(price_bootstrap_means), np.mean(wheel_bootstrap_means), \n",
    "          np.mean(length_bootstrap_means), np.mean(highway_bootstrap_means)],\n",
    " 'standard error':[np.std(price_bootstrap_means), np.std(wheel_bootstrap_means),\n",
    "             np.std(length_bootstrap_means), np.std(highway_bootstrap_means)],\n",
    "              '95% conf int for mean': [(np.percentile(np.sort(price_bootstrap_means), 5/2), np.percentile(np.sort(price_bootstrap_means), 100-5/2)),\n",
    "             (np.percentile(np.sort(wheel_bootstrap_means), 5/2), np.percentile(np.sort(wheel_bootstrap_means), 100-5/2)),\n",
    "             (np.percentile(np.sort(length_bootstrap_means), 5/2), np.percentile(np.sort(length_bootstrap_means), 100-5/2)),\n",
    "             (np.percentile(np.sort(highway_bootstrap_means), 5/2), np.percentile(np.sort(highway_bootstrap_means), 100-5/2))]},\n",
    "             index=['price', 'wheel-base', 'length', 'highway-mpg'])"
   ]
  },
  {
   "cell_type": "markdown",
   "metadata": {},
   "source": [
    "<b>Bayesian method</b>"
   ]
  },
  {
   "cell_type": "code",
   "execution_count": 15,
   "metadata": {},
   "outputs": [],
   "source": [
    "# Bayesian confidence intervals for the mean, var, and std using bayes_mvs\n",
    "price_bayesian_ci = ss.bayes_mvs(auto['price'], alpha=0.95)\n",
    "wheel_bayesian_ci = ss.bayes_mvs(auto['wheel-base'], alpha=0.95)\n",
    "length_bayesian_ci = ss.bayes_mvs(auto['length'], alpha=0.95)\n",
    "highway_bayesian_ci = ss.bayes_mvs(auto['highway-mpg'], alpha=0.95)"
   ]
  },
  {
   "cell_type": "code",
   "execution_count": 16,
   "metadata": {},
   "outputs": [
    {
     "data": {
      "text/html": [
       "<div>\n",
       "<style scoped>\n",
       "    .dataframe tbody tr th:only-of-type {\n",
       "        vertical-align: middle;\n",
       "    }\n",
       "\n",
       "    .dataframe tbody tr th {\n",
       "        vertical-align: top;\n",
       "    }\n",
       "\n",
       "    .dataframe thead th {\n",
       "        text-align: right;\n",
       "    }\n",
       "</style>\n",
       "<table border=\"1\" class=\"dataframe\">\n",
       "  <thead>\n",
       "    <tr style=\"text-align: right;\">\n",
       "      <th></th>\n",
       "      <th>mean</th>\n",
       "      <th>standard deviation</th>\n",
       "      <th>95% Bayesian conf int/credible interval for mean</th>\n",
       "    </tr>\n",
       "  </thead>\n",
       "  <tbody>\n",
       "    <tr>\n",
       "      <th>price</th>\n",
       "      <td>11445.729560</td>\n",
       "      <td>5905.942589</td>\n",
       "      <td>(10525.051613272095, 12366.407506224761)</td>\n",
       "    </tr>\n",
       "    <tr>\n",
       "      <th>wheel-base</th>\n",
       "      <td>98.264151</td>\n",
       "      <td>5.192108</td>\n",
       "      <td>(97.4547527957668, 99.07354909102567)</td>\n",
       "    </tr>\n",
       "    <tr>\n",
       "      <th>length</th>\n",
       "      <td>172.413836</td>\n",
       "      <td>11.578239</td>\n",
       "      <td>(170.60890378646522, 174.21876916950956)</td>\n",
       "    </tr>\n",
       "    <tr>\n",
       "      <th>highway-mpg</th>\n",
       "      <td>32.081761</td>\n",
       "      <td>6.490053</td>\n",
       "      <td>(31.07002602123373, 33.09349599134488)</td>\n",
       "    </tr>\n",
       "  </tbody>\n",
       "</table>\n",
       "</div>"
      ],
      "text/plain": [
       "                     mean  standard deviation  \\\n",
       "price        11445.729560         5905.942589   \n",
       "wheel-base      98.264151            5.192108   \n",
       "length         172.413836           11.578239   \n",
       "highway-mpg     32.081761            6.490053   \n",
       "\n",
       "            95% Bayesian conf int/credible interval for mean  \n",
       "price               (10525.051613272095, 12366.407506224761)  \n",
       "wheel-base             (97.4547527957668, 99.07354909102567)  \n",
       "length              (170.60890378646522, 174.21876916950956)  \n",
       "highway-mpg           (31.07002602123373, 33.09349599134488)  "
      ]
     },
     "execution_count": 16,
     "metadata": {},
     "output_type": "execute_result"
    }
   ],
   "source": [
    "pd.DataFrame({'mean':[price_bayesian_ci[0][0], wheel_bayesian_ci[0][0], length_bayesian_ci[0][0], highway_bayesian_ci[0][0]],\n",
    "             'standard deviation':[price_bayesian_ci[2][0], wheel_bayesian_ci[2][0], length_bayesian_ci[2][0], highway_bayesian_ci[2][0]],\n",
    "             '95% Bayesian conf int/credible interval for mean':[price_bayesian_ci[0][1], wheel_bayesian_ci[0][1], length_bayesian_ci[0][1], highway_bayesian_ci[0][1]]},\n",
    "            index=['price', 'wheel-base', 'length', 'highway-mpg'])"
   ]
  },
  {
   "cell_type": "markdown",
   "metadata": {},
   "source": [
    "#### Q4\n",
    "<b>Correctly use hypothesis tests to determine if the differences in pairs and multiple populations are significant:\n",
    "    <li>Classical tests</li>\n",
    "    <li>Tukey’s Honest Significant Differences (HSD)</li>\n",
    "    <li>Bootstrap methods</li>\n",
    "    <li>Bayesian model</li></b>\n",
    "    \n",
    "Following the assignment prompt (insurance risk rating is of interest), will compare pairs/multiple populations of <b>price</b> conditioned by <b>symboling</b>. The same analysis could be replicated for other features.<br>\n",
    "Symboling is preferred over normalized-losses because the latter is not categorical, as shown in the plot below."
   ]
  },
  {
   "cell_type": "code",
   "execution_count": 17,
   "metadata": {},
   "outputs": [
    {
     "data": {
      "text/plain": [
       "<matplotlib.axes._subplots.AxesSubplot at 0x1dc20321b38>"
      ]
     },
     "execution_count": 17,
     "metadata": {},
     "output_type": "execute_result"
    },
    {
     "data": {
      "image/png": "[encoded data removed]",
      "text/plain": [
       "<Figure size 432x288 with 1 Axes>"
      ]
     },
     "metadata": {
      "needs_background": "light"
     },
     "output_type": "display_data"
    }
   ],
   "source": [
    "auto['normalized-losses'].hist()"
   ]
  },
  {
   "cell_type": "code",
   "execution_count": 18,
   "metadata": {},
   "outputs": [],
   "source": [
    "# plot boxplot to graphically explore the differences \n",
    "# between the feature (col) conditioned by symboling\n",
    "def make_boxplot_symboling(col, nobs=10, figsz=(6,4)):\n",
    "    import seaborn as sns\n",
    "    print('breakdown:')\n",
    "    print(auto['symboling'].value_counts())\n",
    "\n",
    "    subset = auto['symboling'].value_counts()[auto['symboling'].value_counts()>=nobs].index\n",
    "    auto_plot = auto[auto['symboling'].isin(subset)]\n",
    "\n",
    "    fig, ax = plt.subplots(figsize=figsz)\n",
    "    sns.boxplot(x='symboling', y=col, data=auto_plot, ax=ax)\n",
    "    plt.title('{} conditioned by symboling'.format(col))\n",
    "    plt.show()"
   ]
  },
  {
   "cell_type": "markdown",
   "metadata": {},
   "source": [
    "<b>Determine whether multiple populations of price conditioned by symboling are significant by ANOVA and Tukey's HSD</b><br>\n",
    "Here, to make sure there is sufficient data for each category, symboling categories with less than 10 observations were dropped."
   ]
  },
  {
   "cell_type": "code",
   "execution_count": 19,
   "metadata": {},
   "outputs": [
    {
     "name": "stdout",
     "output_type": "stream",
     "text": [
      "breakdown:\n",
      " 0    48\n",
      " 1    46\n",
      " 2    29\n",
      "-1    20\n",
      " 3    13\n",
      "-2     3\n",
      "Name: symboling, dtype: int64\n"
     ]
    },
    {
     "data": {
      "image/png": "[encoded data removed]",
      "text/plain": [
       "<Figure size 432x288 with 1 Axes>"
      ]
     },
     "metadata": {
      "needs_background": "light"
     },
     "output_type": "display_data"
    },
    {
     "name": "stdout",
     "output_type": "stream",
     "text": [
      "F statistic = 13.79133797348645\n",
      "P-value = 1.3057369093144778e-09\n",
      "\n",
      "\n",
      "     Multiple Comparison of Means - Tukey HSD, FWER=0.05     \n",
      "=============================================================\n",
      "group1 group2  meandiff  p-adj     lower      upper    reject\n",
      "-------------------------------------------------------------\n",
      "    -1      0 -4699.8208 0.0063  -8455.8888  -943.7529   True\n",
      "    -1      1 -8495.6587  0.001 -12275.6661 -4715.6513   True\n",
      "    -1      2 -6660.0155  0.001 -10762.0437 -2557.9873   True\n",
      "    -1      3  -184.7423    0.9  -5212.6222  4843.1376  False\n",
      "     0      1 -3795.8379 0.0039  -6707.7549  -883.9209   True\n",
      "     0      2 -1960.1947 0.4809  -5279.4476  1359.0582  False\n",
      "     0      3  4515.0785 0.0421    102.5531   8927.604   True\n",
      "     1      2  1835.6432 0.5474  -1510.6756   5181.962  False\n",
      "     1      3  8310.9164  0.001   3877.9952 12743.8376   True\n",
      "     2      3  6475.2732  0.002   1764.7563 11185.7901   True\n",
      "-------------------------------------------------------------\n"
     ]
    },
    {
     "data": {
      "image/png": "[encoded data removed]",
      "text/plain": [
       "<Figure size 720x432 with 1 Axes>"
      ]
     },
     "metadata": {
      "needs_background": "light"
     },
     "output_type": "display_data"
    }
   ],
   "source": [
    "# price\n",
    "make_boxplot_symboling('price')\n",
    "\n",
    "# price conditioned by symboling\n",
    "sm1 = auto.groupby('symboling').get_group(-1)['price']\n",
    "s0 = auto.groupby('symboling').get_group(0)['price']\n",
    "s1 = auto.groupby('symboling').get_group(1)['price']\n",
    "s2 = auto.groupby('symboling').get_group(2)['price']\n",
    "s3 = auto.groupby('symboling').get_group(3)['price']\n",
    "\n",
    "# ANOVA\n",
    "f_statistic, p_value = ss.f_oneway(sm1, s0, s1, s2, s3)\n",
    "print('F statistic = ' + str(f_statistic))\n",
    "print('P-value = ' + str(p_value))\n",
    "\n",
    "print('\\n')\n",
    "# Tukey's HSD\n",
    "df = pd.DataFrame({'vals': np.concatenate((sm1, s0, s1, s2, s3)).flatten(),\n",
    "                   'group_num': ['-1']*len(sm1)+['0']*len(s0)+['1']*len(s1)+\n",
    "                   ['2']*len(s2)+['3']*len(s3)})\n",
    "Tukey_HSD = pairwise_tukeyhsd(df.vals, df.group_num)\n",
    "print(Tukey_HSD)\n",
    "\n",
    "Tukey_HSD.plot_simultaneous();"
   ]
  },
  {
   "cell_type": "markdown",
   "metadata": {},
   "source": [
    "<b>Results:</b>\n",
    "<br>\n",
    "From ANOVA: the F statistic is large and the p-value is small. We can reject the null hypothesis that the variables have the same mean, as the probability of the differences arising from random chance is low.</li>\n",
    "<p>\n",
    "From Tukey's HSD test, the following pairs are statistically different at the 95% confidence level:\n",
    "<ul><li>-1 and 0</li>\n",
    "            <li>-1 and 1</li>\n",
    "        <li>-1 and 2</li>\n",
    "    <li>0 and 1</li>\n",
    "    <li>0 and 3</li>\n",
    "    <li>1 and 3</li>\n",
    "    <li>2 and 3</li>\n",
    "</ul>"
   ]
  },
  {
   "cell_type": "markdown",
   "metadata": {},
   "source": [
    "<b>Determine whether difference in pairs of price conditioned by symboling are significant by Bootstrapping</b>"
   ]
  },
  {
   "cell_type": "markdown",
   "metadata": {},
   "source": [
    "Group 1: symboling = 0<br>\n",
    "Group 2: symboling = 1<br>\n",
    "<b>Hypothesis test</b>: Does the confidence interval of the diffrence in means cover zero? Significantly different if (lower CI>0) or (upper CI<0), in which case we reject the null hypothesis that the two samples were drawn from the same population distribution.<br>"
   ]
  },
  {
   "cell_type": "code",
   "execution_count": 20,
   "metadata": {},
   "outputs": [],
   "source": [
    "# bootstrap price for symboling = 0 and symboling = 1 groups\n",
    "n_replicas = 1000\n",
    "diffs = []\n",
    "for i in range(n_replicas):\n",
    "    sample = auto.sample(frac=1.0, replace=True)\n",
    "    s0_sample_mean = sample[sample['symboling'] == 0]['price'].mean()\n",
    "    s1_sample_mean = sample[sample['symboling'] == 1]['price'].mean()\n",
    "    diffs.append(s0_sample_mean - s1_sample_mean)\n",
    "diffs = pd.Series(diffs)"
   ]
  },
  {
   "cell_type": "code",
   "execution_count": 21,
   "metadata": {},
   "outputs": [],
   "source": [
    "# Plot the distribution and mark the mean, 95% confidence interval\n",
    "def plot_hist(x, p=5):\n",
    "    plt.hist(x, alpha=0.5)\n",
    "    plt.axvline(x.mean())\n",
    "    # 95% confidence interval    \n",
    "    plt.axvline(np.percentile(x, p/2.), color='red', linewidth=3)\n",
    "    plt.axvline(np.percentile(x, 100-p/2.), color='red', linewidth=3)"
   ]
  },
  {
   "cell_type": "code",
   "execution_count": 22,
   "metadata": {},
   "outputs": [
    {
     "data": {
      "image/png": "[encoded data removed]",
      "text/plain": [
       "<Figure size 432x288 with 1 Axes>"
      ]
     },
     "metadata": {
      "needs_background": "light"
     },
     "output_type": "display_data"
    }
   ],
   "source": [
    "# plot difference in mean + 95% confidence interval\n",
    "plot_hist(diffs)\n",
    "plt.title('Bootstrap difference in mean price, symboling 0 vs. 1')\n",
    "plt.show()"
   ]
  },
  {
   "cell_type": "markdown",
   "metadata": {},
   "source": [
    "<b>Result</b>: The distribution of the difference in means does not cover zero. We can infer that the means of the two populations are significantly different."
   ]
  },
  {
   "cell_type": "markdown",
   "metadata": {},
   "source": [
    "Group 1: symboling = 1<br>\n",
    "Group 2: symboling = 2<br>\n",
    "<b>Hypothesis test</b>: Does the confidence interval of the diffrence in means cover zero? Significantly different if (lower CI>0) or (upper CI<0), in which case we reject the null hypothesis that the two samples were drawn from the same population distribution.<br>"
   ]
  },
  {
   "cell_type": "code",
   "execution_count": 23,
   "metadata": {},
   "outputs": [],
   "source": [
    "# bootstrap price for symboling = 0 and symboling = 2 groups\n",
    "n_replicas = 1000\n",
    "diffs = []\n",
    "for i in range(n_replicas):\n",
    "    sample = auto.sample(frac=1.0, replace=True)\n",
    "    s0_sample_mean = sample[sample['symboling'] == 0]['price'].mean()\n",
    "    s2_sample_mean = sample[sample['symboling'] == 2]['price'].mean()\n",
    "    diffs.append(s0_sample_mean - s2_sample_mean)\n",
    "diffs = pd.Series(diffs)"
   ]
  },
  {
   "cell_type": "code",
   "execution_count": 24,
   "metadata": {},
   "outputs": [
    {
     "data": {
      "image/png": "[encoded data removed]",
      "text/plain": [
       "<Figure size 432x288 with 1 Axes>"
      ]
     },
     "metadata": {
      "needs_background": "light"
     },
     "output_type": "display_data"
    }
   ],
   "source": [
    "# plot difference in mean + 95% confidence interval\n",
    "plot_hist(diffs)\n",
    "plt.title('Bootstrap difference in mean price, symboling 1 vs. 2')\n",
    "plt.show()"
   ]
  },
  {
   "cell_type": "markdown",
   "metadata": {},
   "source": [
    "<b>Results</b>: The distribution of the difference in means covers zero. We can infer that the means of the two populations are not significantly different."
   ]
  },
  {
   "cell_type": "markdown",
   "metadata": {},
   "source": [
    "<b>Determine whether difference in pairs of price conditioned by symboling are significant by Bayesian method</b>"
   ]
  },
  {
   "cell_type": "markdown",
   "metadata": {},
   "source": [
    "Group 1: symboling = 0<br>\n",
    "Group 2: symboling = 1<br>\n",
    "<b>Hypothesis test</b>: Reject null hypothesis that the 2 samples were drawn from the same population distribution if the 95% credible intervals do not overlap."
   ]
  },
  {
   "cell_type": "code",
   "execution_count": 25,
   "metadata": {},
   "outputs": [],
   "source": [
    "# Bayesian confidence intervals for the mean, var, and std using bayes_mvs\n",
    "s0 = auto.groupby('symboling').get_group(0)['price']\n",
    "s1 = auto.groupby('symboling').get_group(1)['price']\n",
    "s2 = auto.groupby('symboling').get_group(2)['price']\n",
    "\n",
    "s0_bayesian_ci = ss.bayes_mvs(s0, alpha=0.95)\n",
    "s1_bayesian_ci = ss.bayes_mvs(s1, alpha=0.95)\n",
    "s2_bayesian_ci = ss.bayes_mvs(s2, alpha=0.95)"
   ]
  },
  {
   "cell_type": "code",
   "execution_count": 26,
   "metadata": {},
   "outputs": [
    {
     "data": {
      "image/png": "[encoded data removed]",
      "text/plain": [
       "<Figure size 432x288 with 2 Axes>"
      ]
     },
     "metadata": {
      "needs_background": "light"
     },
     "output_type": "display_data"
    }
   ],
   "source": [
    "# Plot means and credible intervals\n",
    "fig, axs = plt.subplots(2,1, sharex=True, sharey=True)\n",
    "axs[0].hist(s0, bins=20, density=True, label='Histogram of data')\n",
    "axs[0].vlines(s0_bayesian_ci[0].statistic, axs[0].get_ylim()[0], axs[0].get_ylim()[1], colors='r', label='Estimated mean')\n",
    "axs[0].axvspan(s0_bayesian_ci[0].minmax[0],s0_bayesian_ci[0].minmax[1], facecolor='r', \n",
    "           alpha=0.2, label=r'Estimated mean (95% limits)')\n",
    "axs[0].legend()\n",
    "axs[0].set_title('symboling=0')\n",
    "\n",
    "axs[1].hist(s1, bins=20, density=True, label='Histogram of data')\n",
    "axs[1].vlines(s1_bayesian_ci[0].statistic, axs[1].get_ylim()[0], axs[1].get_ylim()[1], colors='r', label='Estimated mean')\n",
    "axs[1].axvspan(s1_bayesian_ci[0].minmax[0],s1_bayesian_ci[0].minmax[1], facecolor='r', \n",
    "           alpha=0.2, label=r'Estimated mean (95% limits)')\n",
    "axs[1].legend()\n",
    "axs[1].set_title('symboling=1')\n",
    "\n",
    "plt.show()"
   ]
  },
  {
   "cell_type": "markdown",
   "metadata": {},
   "source": [
    "<b>Results:</b> Reject null hypothesis that the 2 samples were drawn from the same population distribution as the 95% credible intervals do not overlap."
   ]
  },
  {
   "cell_type": "markdown",
   "metadata": {},
   "source": [
    "Group 1: symboling = 1<br>\n",
    "Group 2: symboling = 2<br>\n",
    "<b>Hypothesis test</b>: Reject null hypothesis that the 2 samples were drawn from the same population distribution if the 95% credible intervals do not overlap."
   ]
  },
  {
   "cell_type": "code",
   "execution_count": 27,
   "metadata": {},
   "outputs": [
    {
     "data": {
      "image/png": "[encoded data removed]",
      "text/plain": [
       "<Figure size 432x288 with 2 Axes>"
      ]
     },
     "metadata": {
      "needs_background": "light"
     },
     "output_type": "display_data"
    }
   ],
   "source": [
    "# Plot means and credible intervals\n",
    "fig, axs = plt.subplots(2,1, sharex=True, sharey=True)\n",
    "axs[0].hist(s1, bins=20, density=True, label='Histogram of data')\n",
    "axs[0].vlines(s1_bayesian_ci[0].statistic, axs[0].get_ylim()[0], axs[0].get_ylim()[1], colors='r', label='Estimated mean')\n",
    "axs[0].axvspan(s1_bayesian_ci[0].minmax[0],s1_bayesian_ci[0].minmax[1], facecolor='r', \n",
    "           alpha=0.2, label=r'Estimated mean (95% limits)')\n",
    "axs[0].legend()\n",
    "axs[0].set_title('symboling=1')\n",
    "\n",
    "axs[1].hist(s2, bins=20, density=True, label='Histogram of data')\n",
    "axs[1].vlines(s2_bayesian_ci[0].statistic, axs[1].get_ylim()[0], axs[1].get_ylim()[1], colors='r', label='Estimated mean')\n",
    "axs[1].axvspan(s2_bayesian_ci[0].minmax[0],s2_bayesian_ci[0].minmax[1], facecolor='r', \n",
    "           alpha=0.2, label=r'Estimated mean (95% limits)')\n",
    "axs[1].legend()\n",
    "axs[1].set_title('symboling=2')\n",
    "\n",
    "plt.show()"
   ]
  },
  {
   "cell_type": "markdown",
   "metadata": {},
   "source": [
    "<b>Results</b>: Fail to reject null hypothesis that the 2 samples were drawn from the same population distribution as the 95% credible intervals overlap."
   ]
  }
 ],
 "metadata": {
  "kernelspec": {
   "display_name": "Python 3",
   "language": "python",
   "name": "python3"
  },
  "language_info": {
   "codemirror_mode": {
    "name": "ipython",
    "version": 3
   },
   "file_extension": ".py",
   "mimetype": "text/x-python",
   "name": "python",
   "nbconvert_exporter": "python",
   "pygments_lexer": "ipython3",
   "version": "3.7.3"
  }
 },
 "nbformat": 4,
 "nbformat_minor": 1
}
