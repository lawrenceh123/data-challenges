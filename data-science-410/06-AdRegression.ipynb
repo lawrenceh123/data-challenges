{
 "cells": [
  {
   "cell_type": "markdown",
   "metadata": {},
   "source": [
    "# Lesson 6 Assignment - Advertising Sales Regression\n",
    "\n",
    "## Author - Lawrence Huang\n",
    "\n"
   ]
  },
  {
   "cell_type": "markdown",
   "metadata": {},
   "source": [
    "### Instructions  \n",
    "Perform four different linear regressions on advertising sales data located in 'Advertising.csv'.  Your dependent feature is 'sales', a measure of sales of a product in a given market in thousands of dollars. \n",
    "\n",
    "The independent features for each of the first 3 separate regressions are:\n",
    "\n",
    " 1. 'TV': advertising dollars spent on TV ads for a single product in a given market\n",
    " 2. 'radio': advertising dollars spent on radio ads\n",
    " 3. 'newspaper': advertising dollars spent on newspaper ads\n",
    "\n",
    "For the first 3 linear regression performed:\n",
    "\n",
    "- Produce a labeled graph showing the best fit line with the data points.\n",
    "- Interpret both the slope and y-intercept.\n",
    " \n",
    "The final regression(#4) includes all 3 features: (a) TV, (b) radio, and (c) newspaper. \n",
    "- Interpret each partial slope and the intercept parameters.\n",
    "- Interpret the adjusted R-squared.\n",
    "- Find and report the mean-squared error.\n",
    "\n",
    "#### Please prepare this information for a client who may not understand what the parameters mean.\n"
   ]
  },
  {
   "cell_type": "code",
   "execution_count": 1,
   "metadata": {},
   "outputs": [],
   "source": [
    "# Import libraries\n",
    "import numpy as np\n",
    "import pandas as pd\n",
    "import matplotlib.pyplot as plt\n",
    "%matplotlib inline\n",
    "from sklearn.linear_model import LinearRegression\n",
    "from sklearn.preprocessing import StandardScaler\n",
    "from sklearn.metrics import r2_score, mean_squared_error\n",
    "import statsmodels.formula.api as sm\n",
    "import seaborn as sns"
   ]
  },
  {
   "cell_type": "code",
   "execution_count": 2,
   "metadata": {},
   "outputs": [
    {
     "name": "stdout",
     "output_type": "stream",
     "text": [
      "      TV  radio  newspaper  sales\n",
      "0  230.1   37.8       69.2   22.1\n",
      "1   44.5   39.3       45.1   10.4\n",
      "2   17.2   45.9       69.3    9.3\n",
      "3  151.5   41.3       58.5   18.5\n",
      "4  180.8   10.8       58.4   12.9\n",
      "(200, 4)\n"
     ]
    },
    {
     "data": {
      "text/html": [
       "<div>\n",
       "<style scoped>\n",
       "    .dataframe tbody tr th:only-of-type {\n",
       "        vertical-align: middle;\n",
       "    }\n",
       "\n",
       "    .dataframe tbody tr th {\n",
       "        vertical-align: top;\n",
       "    }\n",
       "\n",
       "    .dataframe thead th {\n",
       "        text-align: right;\n",
       "    }\n",
       "</style>\n",
       "<table border=\"1\" class=\"dataframe\">\n",
       "  <thead>\n",
       "    <tr style=\"text-align: right;\">\n",
       "      <th></th>\n",
       "      <th>TV</th>\n",
       "      <th>radio</th>\n",
       "      <th>newspaper</th>\n",
       "      <th>sales</th>\n",
       "    </tr>\n",
       "  </thead>\n",
       "  <tbody>\n",
       "    <tr>\n",
       "      <th>count</th>\n",
       "      <td>200.000000</td>\n",
       "      <td>200.000000</td>\n",
       "      <td>200.000000</td>\n",
       "      <td>200.000000</td>\n",
       "    </tr>\n",
       "    <tr>\n",
       "      <th>mean</th>\n",
       "      <td>147.042500</td>\n",
       "      <td>23.264000</td>\n",
       "      <td>30.554000</td>\n",
       "      <td>14.022500</td>\n",
       "    </tr>\n",
       "    <tr>\n",
       "      <th>std</th>\n",
       "      <td>85.854236</td>\n",
       "      <td>14.846809</td>\n",
       "      <td>21.778621</td>\n",
       "      <td>5.217457</td>\n",
       "    </tr>\n",
       "    <tr>\n",
       "      <th>min</th>\n",
       "      <td>0.700000</td>\n",
       "      <td>0.000000</td>\n",
       "      <td>0.300000</td>\n",
       "      <td>1.600000</td>\n",
       "    </tr>\n",
       "    <tr>\n",
       "      <th>25%</th>\n",
       "      <td>74.375000</td>\n",
       "      <td>9.975000</td>\n",
       "      <td>12.750000</td>\n",
       "      <td>10.375000</td>\n",
       "    </tr>\n",
       "    <tr>\n",
       "      <th>50%</th>\n",
       "      <td>149.750000</td>\n",
       "      <td>22.900000</td>\n",
       "      <td>25.750000</td>\n",
       "      <td>12.900000</td>\n",
       "    </tr>\n",
       "    <tr>\n",
       "      <th>75%</th>\n",
       "      <td>218.825000</td>\n",
       "      <td>36.525000</td>\n",
       "      <td>45.100000</td>\n",
       "      <td>17.400000</td>\n",
       "    </tr>\n",
       "    <tr>\n",
       "      <th>max</th>\n",
       "      <td>296.400000</td>\n",
       "      <td>49.600000</td>\n",
       "      <td>114.000000</td>\n",
       "      <td>27.000000</td>\n",
       "    </tr>\n",
       "  </tbody>\n",
       "</table>\n",
       "</div>"
      ],
      "text/plain": [
       "               TV       radio   newspaper       sales\n",
       "count  200.000000  200.000000  200.000000  200.000000\n",
       "mean   147.042500   23.264000   30.554000   14.022500\n",
       "std     85.854236   14.846809   21.778621    5.217457\n",
       "min      0.700000    0.000000    0.300000    1.600000\n",
       "25%     74.375000    9.975000   12.750000   10.375000\n",
       "50%    149.750000   22.900000   25.750000   12.900000\n",
       "75%    218.825000   36.525000   45.100000   17.400000\n",
       "max    296.400000   49.600000  114.000000   27.000000"
      ]
     },
     "execution_count": 2,
     "metadata": {},
     "output_type": "execute_result"
    }
   ],
   "source": [
    "# Load data\n",
    "filename = 'https://library.startlearninglabs.uw.edu/DATASCI410/Datasets/Advertising.csv'\n",
    "ad_data = pd.read_csv(filename, index_col=0).reset_index(drop=True)\n",
    "print(ad_data.head())\n",
    "print(ad_data.shape)\n",
    "ad_data.describe()"
   ]
  },
  {
   "cell_type": "code",
   "execution_count": 3,
   "metadata": {},
   "outputs": [
    {
     "name": "stdout",
     "output_type": "stream",
     "text": [
      "scaled features mean:\n",
      "TV_scaled           1.104672e-16\n",
      "radio_scaled       -4.413137e-16\n",
      "newspaper_scaled    2.220446e-16\n",
      "dtype: float64\n",
      "\n",
      "scaled features standard deviation:\n",
      "TV_scaled           1.002509\n",
      "radio_scaled        1.002509\n",
      "newspaper_scaled    1.002509\n",
      "dtype: float64\n"
     ]
    }
   ],
   "source": [
    "# scale features, store as new columns in ad_data\n",
    "scaler = StandardScaler().fit(ad_data[['TV', 'radio', 'newspaper']])\n",
    "ad_data[['TV_scaled', 'radio_scaled', 'newspaper_scaled']] = pd.DataFrame(scaler.transform(ad_data[['TV', 'radio', 'newspaper']]))\n",
    "\n",
    "# check scaling: mean, std expected to be 0, 1\n",
    "print('scaled features mean:')\n",
    "print(ad_data[['TV_scaled', 'radio_scaled', 'newspaper_scaled']].mean())\n",
    "print('\\nscaled features standard deviation:')\n",
    "print(ad_data[['TV_scaled', 'radio_scaled', 'newspaper_scaled']].std())"
   ]
  },
  {
   "cell_type": "markdown",
   "metadata": {
    "collapsed": true
   },
   "source": [
    "<b>Linear regression 1: TV advertising</b>"
   ]
  },
  {
   "cell_type": "code",
   "execution_count": 4,
   "metadata": {},
   "outputs": [
    {
     "name": "stdout",
     "output_type": "stream",
     "text": [
      "Outputs:\n",
      "1. Produce a labeled graph showing the best fit line with the data points:\n"
     ]
    },
    {
     "data": {
      "image/png": "[encoded data removed]",
      "text/plain": [
       "<Figure size 432x288 with 1 Axes>"
      ]
     },
     "metadata": {
      "needs_background": "light"
     },
     "output_type": "display_data"
    },
    {
     "name": "stdout",
     "output_type": "stream",
     "text": [
      "from sklearn:\n",
      "Intercept: 7.03259\n",
      "Slope : 0.04754\n",
      "                            OLS Regression Results                            \n",
      "==============================================================================\n",
      "Dep. Variable:                  sales   R-squared:                       0.612\n",
      "Model:                            OLS   Adj. R-squared:                  0.610\n",
      "Method:                 Least Squares   F-statistic:                     312.1\n",
      "Date:                Tue, 30 Jul 2019   Prob (F-statistic):           1.47e-42\n",
      "Time:                        11:34:14   Log-Likelihood:                -519.05\n",
      "No. Observations:                 200   AIC:                             1042.\n",
      "Df Residuals:                     198   BIC:                             1049.\n",
      "Df Model:                           1                                         \n",
      "Covariance Type:            nonrobust                                         \n",
      "==============================================================================\n",
      "                 coef    std err          t      P>|t|      [0.025      0.975]\n",
      "------------------------------------------------------------------------------\n",
      "Intercept      7.0326      0.458     15.360      0.000       6.130       7.935\n",
      "TV             0.0475      0.003     17.668      0.000       0.042       0.053\n",
      "==============================================================================\n",
      "Omnibus:                        0.531   Durbin-Watson:                   1.935\n",
      "Prob(Omnibus):                  0.767   Jarque-Bera (JB):                0.669\n",
      "Skew:                          -0.089   Prob(JB):                        0.716\n",
      "Kurtosis:                       2.779   Cond. No.                         338.\n",
      "==============================================================================\n",
      "\n",
      "Warnings:\n",
      "[1] Standard Errors assume that the covariance matrix of the errors is correctly specified.\n",
      "\n",
      "from statsmodels:\n",
      "Intercept: 7.03259\n",
      "Slope : 0.04754\n",
      "\n",
      "2. Interpret both the slope and y-intercept:\n",
      "Y Intercept: When x (TV advertising) is zero dollars, y (sales) is 7.03259 K dollars\n",
      "Slope: When we increase x (TV advertising) by 1 dollar then we expect that y (sales) will go up by 0.04754 K dollars\n"
     ]
    }
   ],
   "source": [
    "# since there is only 1 feature, first try no feature scaling\n",
    "\n",
    "# 1. using sklearn\n",
    "# First initialize the model.\n",
    "regressor = LinearRegression()\n",
    "\n",
    "# Fit the model to the data\n",
    "X = ad_data['TV'].values\n",
    "X = X.reshape(-1, 1)\n",
    "y = ad_data['sales'].values\n",
    "y = y.reshape(-1, 1)\n",
    "regressor.fit(X,y)\n",
    "\n",
    "# Get predictions\n",
    "y_pred = regressor.predict(X)\n",
    "\n",
    "# function to plot data and regression line\n",
    "def get_plot(col):\n",
    "    fig, ax = plt.subplots()\n",
    "    ax.scatter(X, y, label='Data points')\n",
    "    ax.grid(True)\n",
    "    ax.plot(X, y_pred, linewidth=2, color='k', label='Best fit line')\n",
    "    ax.set_xlabel('{} advertising (dollars)'.format(col))\n",
    "    ax.set_ylabel('Sales (dollars*1000)')\n",
    "    ax.legend()\n",
    "    plt.title('Sales vs. {} spending'.format(col))\n",
    "    plt.show()\n",
    "\n",
    "# plot data and regression line\n",
    "print('Outputs:')\n",
    "print('1. Produce a labeled graph showing the best fit line with the data points:')\n",
    "get_plot('TV')\n",
    "\n",
    "# Print model parameters\n",
    "# Get slope (m) and y-intercept (b)\n",
    "print('from sklearn:')\n",
    "print('Intercept: {0:.5f}'.format(regressor.intercept_[0]))\n",
    "print('Slope : {0:.5f}'.format(regressor.coef_[0][0]))\n",
    "\n",
    "# 2. confirm using statsmodels\n",
    "# initialize and fit model\n",
    "ols_model = sm.ols(formula = 'sales ~ TV', data=ad_data)\n",
    "results = ols_model.fit()\n",
    "\n",
    "# model summary\n",
    "print(results.summary())\n",
    "\n",
    "# Get slope (m) and y-intercept (b)\n",
    "print('\\nfrom statsmodels:')\n",
    "print('Intercept: {0:.5f}'.format(results.params.Intercept))\n",
    "print('Slope : {0:.5f}'.format(results.params.TV))\n",
    "\n",
    "# Intrepretation:\n",
    "print('\\n2. Interpret both the slope and y-intercept:')\n",
    "print('Y Intercept: When x (TV advertising) is zero dollars, y (sales) is {0:.5f} K dollars'.format(regressor.intercept_[0]))\n",
    "print('Slope: When we increase x (TV advertising) by 1 dollar then we expect that y (sales) will go up by {0:.5f} K dollars'.format(regressor.coef_[0][0]))"
   ]
  },
  {
   "cell_type": "code",
   "execution_count": 5,
   "metadata": {},
   "outputs": [
    {
     "name": "stdout",
     "output_type": "stream",
     "text": [
      "Outputs:\n",
      "1. Produce a labeled graph showing the best fit line with the data points:\n"
     ]
    },
    {
     "data": {
      "image/png": "[encoded data removed]",
      "text/plain": [
       "<Figure size 432x288 with 1 Axes>"
      ]
     },
     "metadata": {
      "needs_background": "light"
     },
     "output_type": "display_data"
    },
    {
     "name": "stdout",
     "output_type": "stream",
     "text": [
      "from sklearn:\n",
      "Intercept: 14.02250\n",
      "Slope : 4.07101\n",
      "\n",
      "from statsmodels:\n",
      "Intercept: 14.02250\n",
      "Slope : 4.07101\n",
      "\n",
      "2. Interpret both the slope and y-intercept:\n",
      "Y Intercept: When TV advertising is at its mean value (i.e. when TV_scaled is 0), y (sales) is 14.02250 K dollars\n",
      "Slope: When we increase x (TV_scaled) by 1 (i.e. 1 standard deviation of TV) then we expect that y (sales) will go up by 4.07101 K dollars\n",
      "\n",
      "After scaling back, the intercept and slope matches the unscaled model.\n",
      "Intercept (original scale): 7.03259\n",
      "Slope (original scale): 0.04754\n"
     ]
    }
   ],
   "source": [
    "# repeat with feature scaling\n",
    "\n",
    "# 1. using sklearn\n",
    "# First initialize the model.\n",
    "regressor = LinearRegression()\n",
    "\n",
    "# Fit the model to the data\n",
    "X = ad_data['TV_scaled'].values\n",
    "X = X.reshape(-1, 1)\n",
    "y = ad_data['sales'].values\n",
    "y = y.reshape(-1, 1)\n",
    "regressor.fit(X,y)\n",
    "\n",
    "# Get predictions\n",
    "y_pred = regressor.predict(X)\n",
    "\n",
    "# function to plot data and regression line\n",
    "def get_plot_scaled(col):\n",
    "    fig, ax = plt.subplots()\n",
    "    ax.scatter(X, y, label='Data points')\n",
    "    ax.grid(True)\n",
    "    ax.plot(X, y_pred, linewidth=2, color='k', label='Best fit line')\n",
    "    ax.set_xlabel('{}'.format(col))\n",
    "    ax.set_ylabel('Sales (dollars*1000)')\n",
    "    ax.legend()\n",
    "    plt.title('Sales vs. {}'.format(col))\n",
    "    plt.show()\n",
    "\n",
    "# plot data and regression line\n",
    "print('Outputs:')\n",
    "print('1. Produce a labeled graph showing the best fit line with the data points:')\n",
    "get_plot_scaled('TV_scaled')\n",
    "\n",
    "# Print model parameters\n",
    "# Get slope (m) and y-intercept (b)\n",
    "print('from sklearn:')\n",
    "print('Intercept: {0:.5f}'.format(regressor.intercept_[0]))\n",
    "print('Slope : {0:.5f}'.format(regressor.coef_[0][0]))\n",
    "\n",
    "# 2. confirm using statsmodels\n",
    "# initialize and fit model\n",
    "ols_model = sm.ols(formula = 'sales ~ TV_scaled', data=ad_data)\n",
    "results = ols_model.fit()\n",
    "\n",
    "# Get slope (m) and y-intercept (b)\n",
    "print('\\nfrom statsmodels:')\n",
    "print('Intercept: {0:.5f}'.format(results.params.Intercept))\n",
    "print('Slope : {0:.5f}'.format(results.params.TV_scaled))\n",
    "\n",
    "# Intrepretation:\n",
    "print('\\n2. Interpret both the slope and y-intercept:')\n",
    "print('Y Intercept: When TV advertising is at its mean value (i.e. when TV_scaled is 0), y (sales) is {0:.5f} K dollars'.format(regressor.intercept_[0]))\n",
    "print('Slope: When we increase x (TV_scaled) by 1 (i.e. 1 standard deviation of TV) then we expect that y (sales) will go up by {0:.5f} K dollars'.format(regressor.coef_[0][0]))\n",
    "\n",
    "# inverse scale the intercept and slope\n",
    "print('\\nAfter scaling back, the intercept and slope matches the unscaled model.')\n",
    "intercept_orig_scale = regressor.intercept_[0]-scaler.mean_[0]/scaler.scale_[0]*regressor.coef_[0][0]\n",
    "print('Intercept (original scale): {0:.5f}'.format(intercept_orig_scale))\n",
    "slope_orig_scale = regressor.coef_[0][0]/scaler.scale_[0]  \n",
    "print('Slope (original scale): {0:.5f}'.format(slope_orig_scale))"
   ]
  },
  {
   "cell_type": "markdown",
   "metadata": {},
   "source": [
    "<b>Linear regression 2: radio advertising</b>"
   ]
  },
  {
   "cell_type": "code",
   "execution_count": 6,
   "metadata": {},
   "outputs": [
    {
     "name": "stdout",
     "output_type": "stream",
     "text": [
      "Outputs:\n",
      "1. Produce a labeled graph showing the best fit line with the data points:\n"
     ]
    },
    {
     "data": {
      "image/png": "[encoded data removed]",
      "text/plain": [
       "<Figure size 432x288 with 1 Axes>"
      ]
     },
     "metadata": {
      "needs_background": "light"
     },
     "output_type": "display_data"
    },
    {
     "name": "stdout",
     "output_type": "stream",
     "text": [
      "from sklearn:\n",
      "Intercept: 9.31164\n",
      "Slope : 0.20250\n",
      "                            OLS Regression Results                            \n",
      "==============================================================================\n",
      "Dep. Variable:                  sales   R-squared:                       0.332\n",
      "Model:                            OLS   Adj. R-squared:                  0.329\n",
      "Method:                 Least Squares   F-statistic:                     98.42\n",
      "Date:                Tue, 30 Jul 2019   Prob (F-statistic):           4.35e-19\n",
      "Time:                        11:34:14   Log-Likelihood:                -573.34\n",
      "No. Observations:                 200   AIC:                             1151.\n",
      "Df Residuals:                     198   BIC:                             1157.\n",
      "Df Model:                           1                                         \n",
      "Covariance Type:            nonrobust                                         \n",
      "==============================================================================\n",
      "                 coef    std err          t      P>|t|      [0.025      0.975]\n",
      "------------------------------------------------------------------------------\n",
      "Intercept      9.3116      0.563     16.542      0.000       8.202      10.422\n",
      "radio          0.2025      0.020      9.921      0.000       0.162       0.243\n",
      "==============================================================================\n",
      "Omnibus:                       19.358   Durbin-Watson:                   1.946\n",
      "Prob(Omnibus):                  0.000   Jarque-Bera (JB):               21.910\n",
      "Skew:                          -0.764   Prob(JB):                     1.75e-05\n",
      "Kurtosis:                       3.544   Cond. No.                         51.4\n",
      "==============================================================================\n",
      "\n",
      "Warnings:\n",
      "[1] Standard Errors assume that the covariance matrix of the errors is correctly specified.\n",
      "\n",
      "from statsmodels:\n",
      "Intercept: 9.31164\n",
      "Slope : 0.20250\n",
      "\n",
      "2. Interpret both the slope and y-intercept:\n",
      "Y Intercept: When x (radio advertising) is zero dollars, y (sales) is 9.31164 K dollars\n",
      "Slope: When we increase x (radio advertising) by 1 dollar then we expect that y (sales) will go up by 0.20250 K dollars\n"
     ]
    }
   ],
   "source": [
    "# since there is only 1 feature, first try no feature scaling\n",
    "\n",
    "# 1. using sklearn\n",
    "# First initialize the model.\n",
    "regressor = LinearRegression()\n",
    "\n",
    "# Fit the model to the data\n",
    "X = ad_data['radio'].values\n",
    "X = X.reshape(-1, 1)\n",
    "y = ad_data['sales'].values\n",
    "y = y.reshape(-1, 1)\n",
    "regressor.fit(X,y)\n",
    "\n",
    "# Get predictions\n",
    "y_pred = regressor.predict(X)\n",
    "\n",
    "# plot data and regression line\n",
    "print('Outputs:')\n",
    "print('1. Produce a labeled graph showing the best fit line with the data points:')\n",
    "get_plot('radio')\n",
    "\n",
    "# Print model parameters\n",
    "# Get slope (m) and y-intercept (b)\n",
    "print('from sklearn:')\n",
    "print('Intercept: {0:.5f}'.format(regressor.intercept_[0]))\n",
    "print('Slope : {0:.5f}'.format(regressor.coef_[0][0]))\n",
    "\n",
    "# 2. confirm using statsmodels\n",
    "# initialize and fit model\n",
    "ols_model = sm.ols(formula = 'sales ~ radio', data=ad_data)\n",
    "results = ols_model.fit()\n",
    "\n",
    "# model summary\n",
    "print(results.summary())\n",
    "\n",
    "# Get slope (m) and y-intercept (b)\n",
    "print('\\nfrom statsmodels:')\n",
    "print('Intercept: {0:.5f}'.format(results.params.Intercept))\n",
    "print('Slope : {0:.5f}'.format(results.params.radio))\n",
    "\n",
    "# Intrepretation:\n",
    "print('\\n2. Interpret both the slope and y-intercept:')\n",
    "print('Y Intercept: When x (radio advertising) is zero dollars, y (sales) is {0:.5f} K dollars'.format(regressor.intercept_[0]))\n",
    "print('Slope: When we increase x (radio advertising) by 1 dollar then we expect that y (sales) will go up by {0:.5f} K dollars'.format(regressor.coef_[0][0]))"
   ]
  },
  {
   "cell_type": "code",
   "execution_count": 7,
   "metadata": {},
   "outputs": [
    {
     "name": "stdout",
     "output_type": "stream",
     "text": [
      "Outputs:\n",
      "1. Produce a labeled graph showing the best fit line with the data points:\n"
     ]
    },
    {
     "data": {
      "image/png": "[encoded data removed]",
      "text/plain": [
       "<Figure size 432x288 with 1 Axes>"
      ]
     },
     "metadata": {
      "needs_background": "light"
     },
     "output_type": "display_data"
    },
    {
     "name": "stdout",
     "output_type": "stream",
     "text": [
      "from sklearn:\n",
      "Intercept: 14.02250\n",
      "Slope : 2.99889\n",
      "\n",
      "from statsmodels:\n",
      "Intercept: 14.02250\n",
      "Slope : 2.99889\n",
      "\n",
      "2. Interpret both the slope and y-intercept:\n",
      "Y Intercept: When radio advertising is at its mean value (i.e. when radio_scaled is 0), y (sales) is 14.02250 K dollars\n",
      "Slope: When we increase x (radio_scaled) by 1 (i.e. 1 standard deviation of radio) then we expect that y (sales) will go up by 2.99889 K dollars\n",
      "\n",
      "After scaling back, the intercept and slope matches the unscaled model.\n",
      "Intercept (original scale): 9.31164\n",
      "Slope (original scale): 0.20250\n"
     ]
    }
   ],
   "source": [
    "# repeat with feature scaling\n",
    "\n",
    "# 1. using sklearn\n",
    "# First initialize the model.\n",
    "regressor = LinearRegression()\n",
    "\n",
    "# Fit the model to the data\n",
    "X = ad_data['radio_scaled'].values\n",
    "X = X.reshape(-1, 1)\n",
    "y = ad_data['sales'].values\n",
    "y = y.reshape(-1, 1)\n",
    "regressor.fit(X,y)\n",
    "\n",
    "# Get predictions\n",
    "y_pred = regressor.predict(X)\n",
    "\n",
    "# plot data and regression line\n",
    "print('Outputs:')\n",
    "print('1. Produce a labeled graph showing the best fit line with the data points:')\n",
    "get_plot_scaled('radio_scaled')\n",
    "\n",
    "# Print model parameters\n",
    "# Get slope (m) and y-intercept (b)\n",
    "print('from sklearn:')\n",
    "print('Intercept: {0:.5f}'.format(regressor.intercept_[0]))\n",
    "print('Slope : {0:.5f}'.format(regressor.coef_[0][0]))\n",
    "\n",
    "# 2. confirm using statsmodels\n",
    "# initialize and fit model\n",
    "ols_model = sm.ols(formula = 'sales ~ radio_scaled', data=ad_data)\n",
    "results = ols_model.fit()\n",
    "\n",
    "# Get slope (m) and y-intercept (b)\n",
    "print('\\nfrom statsmodels:')\n",
    "print('Intercept: {0:.5f}'.format(results.params.Intercept))\n",
    "print('Slope : {0:.5f}'.format(results.params.radio_scaled))\n",
    "\n",
    "# Intrepretation:\n",
    "print('\\n2. Interpret both the slope and y-intercept:')\n",
    "print('Y Intercept: When radio advertising is at its mean value (i.e. when radio_scaled is 0), y (sales) is {0:.5f} K dollars'.format(regressor.intercept_[0]))\n",
    "print('Slope: When we increase x (radio_scaled) by 1 (i.e. 1 standard deviation of radio) then we expect that y (sales) will go up by {0:.5f} K dollars'.format(regressor.coef_[0][0]))\n",
    "\n",
    "# inverse scale the intercept and slope\n",
    "print('\\nAfter scaling back, the intercept and slope matches the unscaled model.')\n",
    "intercept_orig_scale = regressor.intercept_[0]-scaler.mean_[1]/scaler.scale_[1]*regressor.coef_[0][0]\n",
    "print('Intercept (original scale): {0:.5f}'.format(intercept_orig_scale))\n",
    "slope_orig_scale = regressor.coef_[0][0]/scaler.scale_[1]  \n",
    "print('Slope (original scale): {0:.5f}'.format(slope_orig_scale))"
   ]
  },
  {
   "cell_type": "markdown",
   "metadata": {},
   "source": [
    "<b>Linear regression 3: newspaper advertising</b>"
   ]
  },
  {
   "cell_type": "code",
   "execution_count": 8,
   "metadata": {},
   "outputs": [
    {
     "name": "stdout",
     "output_type": "stream",
     "text": [
      "Outputs:\n",
      "1. Produce a labeled graph showing the best fit line with the data points:\n"
     ]
    },
    {
     "data": {
      "image/png": "[encoded data removed]",
      "text/plain": [
       "<Figure size 432x288 with 1 Axes>"
      ]
     },
     "metadata": {
      "needs_background": "light"
     },
     "output_type": "display_data"
    },
    {
     "name": "stdout",
     "output_type": "stream",
     "text": [
      "from sklearn:\n",
      "Intercept: 12.35141\n",
      "Slope : 0.05469\n",
      "                            OLS Regression Results                            \n",
      "==============================================================================\n",
      "Dep. Variable:                  sales   R-squared:                       0.052\n",
      "Model:                            OLS   Adj. R-squared:                  0.047\n",
      "Method:                 Least Squares   F-statistic:                     10.89\n",
      "Date:                Tue, 30 Jul 2019   Prob (F-statistic):            0.00115\n",
      "Time:                        11:34:15   Log-Likelihood:                -608.34\n",
      "No. Observations:                 200   AIC:                             1221.\n",
      "Df Residuals:                     198   BIC:                             1227.\n",
      "Df Model:                           1                                         \n",
      "Covariance Type:            nonrobust                                         \n",
      "==============================================================================\n",
      "                 coef    std err          t      P>|t|      [0.025      0.975]\n",
      "------------------------------------------------------------------------------\n",
      "Intercept     12.3514      0.621     19.876      0.000      11.126      13.577\n",
      "newspaper      0.0547      0.017      3.300      0.001       0.022       0.087\n",
      "==============================================================================\n",
      "Omnibus:                        6.231   Durbin-Watson:                   1.983\n",
      "Prob(Omnibus):                  0.044   Jarque-Bera (JB):                5.483\n",
      "Skew:                           0.330   Prob(JB):                       0.0645\n",
      "Kurtosis:                       2.527   Cond. No.                         64.7\n",
      "==============================================================================\n",
      "\n",
      "Warnings:\n",
      "[1] Standard Errors assume that the covariance matrix of the errors is correctly specified.\n",
      "\n",
      "from statsmodels:\n",
      "Intercept: 12.35141\n",
      "Slope : 0.05469\n",
      "\n",
      "2. Interpret both the slope and y-intercept:\n",
      "Y Intercept: When x (newspaper advertising) is zero dollars, y (sales) is 12.35141 K dollars\n",
      "Slope: When we increase x (newspaper advertising) by 1 dollar then we expect that y (sales) will go up by 0.05469 K dollars\n"
     ]
    }
   ],
   "source": [
    "# since there is only 1 feature, first try no feature scaling\n",
    "\n",
    "# 1. using sklearn\n",
    "# First initialize the model.\n",
    "regressor = LinearRegression()\n",
    "\n",
    "# Fit the model to the data\n",
    "X = ad_data['newspaper'].values\n",
    "X = X.reshape(-1, 1)\n",
    "y = ad_data['sales'].values\n",
    "y = y.reshape(-1, 1)\n",
    "regressor.fit(X,y)\n",
    "\n",
    "# Get predictions\n",
    "y_pred = regressor.predict(X)\n",
    "\n",
    "# plot data and regression line\n",
    "print('Outputs:')\n",
    "print('1. Produce a labeled graph showing the best fit line with the data points:')\n",
    "get_plot('newspaper')\n",
    "\n",
    "# Print model parameters\n",
    "# Get slope (m) and y-intercept (b)\n",
    "print('from sklearn:')\n",
    "print('Intercept: {0:.5f}'.format(regressor.intercept_[0]))\n",
    "print('Slope : {0:.5f}'.format(regressor.coef_[0][0]))\n",
    "\n",
    "# 2. confirm using statsmodels\n",
    "# initialize and fit model\n",
    "ols_model = sm.ols(formula = 'sales ~ newspaper', data=ad_data)\n",
    "results = ols_model.fit()\n",
    "\n",
    "# model summary\n",
    "print(results.summary())\n",
    "\n",
    "# Get slope (m) and y-intercept (b)\n",
    "print('\\nfrom statsmodels:')\n",
    "print('Intercept: {0:.5f}'.format(results.params.Intercept))\n",
    "print('Slope : {0:.5f}'.format(results.params.newspaper))\n",
    "\n",
    "# Intrepretation:\n",
    "print('\\n2. Interpret both the slope and y-intercept:')\n",
    "print('Y Intercept: When x (newspaper advertising) is zero dollars, y (sales) is {0:.5f} K dollars'.format(regressor.intercept_[0]))\n",
    "print('Slope: When we increase x (newspaper advertising) by 1 dollar then we expect that y (sales) will go up by {0:.5f} K dollars'.format(regressor.coef_[0][0]))"
   ]
  },
  {
   "cell_type": "code",
   "execution_count": 9,
   "metadata": {},
   "outputs": [
    {
     "name": "stdout",
     "output_type": "stream",
     "text": [
      "Outputs:\n",
      "1. Produce a labeled graph showing the best fit line with the data points:\n"
     ]
    },
    {
     "data": {
      "image/png": "[encoded data removed]",
      "text/plain": [
       "<Figure size 432x288 with 1 Axes>"
      ]
     },
     "metadata": {
      "needs_background": "light"
     },
     "output_type": "display_data"
    },
    {
     "name": "stdout",
     "output_type": "stream",
     "text": [
      "from sklearn:\n",
      "Intercept: 14.02250\n",
      "Slope : 1.18816\n",
      "\n",
      "from statsmodels:\n",
      "Intercept: 14.02250\n",
      "Slope : 1.18816\n",
      "\n",
      "2. Interpret both the slope and y-intercept:\n",
      "Y Intercept: When newspaper advertising is at its mean value (i.e. when newspaper_scaled is 0), y (sales) is 14.02250 K dollars\n",
      "Slope: When we increase x (newspaper_scaled) by 1 (i.e. 1 standard deviation of newspaper) then we expect that y (sales) will go up by 1.18816 K dollars\n",
      "\n",
      "After scaling back, the intercept and slope matches the unscaled model.\n",
      "Intercept (original scale): 12.35141\n",
      "Slope (original scale): 0.05469\n"
     ]
    }
   ],
   "source": [
    "# repeat with feature scaling\n",
    "\n",
    "# 1. using sklearn\n",
    "# First initialize the model.\n",
    "regressor = LinearRegression()\n",
    "\n",
    "# Fit the model to the data\n",
    "X = ad_data['newspaper_scaled'].values\n",
    "X = X.reshape(-1, 1)\n",
    "y = ad_data['sales'].values\n",
    "y = y.reshape(-1, 1)\n",
    "regressor.fit(X,y)\n",
    "\n",
    "# Get predictions\n",
    "y_pred = regressor.predict(X)\n",
    "\n",
    "# plot data and regression line\n",
    "print('Outputs:')\n",
    "print('1. Produce a labeled graph showing the best fit line with the data points:')\n",
    "get_plot_scaled('newspaper_scaled')\n",
    "\n",
    "# Print model parameters\n",
    "# Get slope (m) and y-intercept (b)\n",
    "print('from sklearn:')\n",
    "print('Intercept: {0:.5f}'.format(regressor.intercept_[0]))\n",
    "print('Slope : {0:.5f}'.format(regressor.coef_[0][0]))\n",
    "\n",
    "# 2. confirm using statsmodels\n",
    "# initialize and fit model\n",
    "ols_model = sm.ols(formula = 'sales ~ newspaper_scaled', data=ad_data)\n",
    "results = ols_model.fit()\n",
    "\n",
    "# Get slope (m) and y-intercept (b)\n",
    "print('\\nfrom statsmodels:')\n",
    "print('Intercept: {0:.5f}'.format(results.params.Intercept))\n",
    "print('Slope : {0:.5f}'.format(results.params.newspaper_scaled))\n",
    "\n",
    "# Intrepretation:\n",
    "print('\\n2. Interpret both the slope and y-intercept:')\n",
    "print('Y Intercept: When newspaper advertising is at its mean value (i.e. when newspaper_scaled is 0), y (sales) is {0:.5f} K dollars'.format(regressor.intercept_[0]))\n",
    "print('Slope: When we increase x (newspaper_scaled) by 1 (i.e. 1 standard deviation of newspaper) then we expect that y (sales) will go up by {0:.5f} K dollars'.format(regressor.coef_[0][0]))\n",
    "\n",
    "# inverse scale the intercept and slope\n",
    "print('\\nAfter scaling back, the intercept and slope matches the unscaled model.')\n",
    "intercept_orig_scale = regressor.intercept_[0]-scaler.mean_[2]/scaler.scale_[2]*regressor.coef_[0][0]\n",
    "print('Intercept (original scale): {0:.5f}'.format(intercept_orig_scale))\n",
    "slope_orig_scale = regressor.coef_[0][0]/scaler.scale_[2]  \n",
    "print('Slope (original scale): {0:.5f}'.format(slope_orig_scale))"
   ]
  },
  {
   "cell_type": "markdown",
   "metadata": {},
   "source": [
    "<b>Regression 4: includes all 3 features: (a) TV, (b) radio, and (c) newspaper.</b>"
   ]
  },
  {
   "cell_type": "code",
   "execution_count": 10,
   "metadata": {},
   "outputs": [
    {
     "name": "stdout",
     "output_type": "stream",
     "text": [
      "Partial slope and the intercept parameters:\n",
      "Intercept: 14.02250\n",
      "TV_scaled Slope : 3.91925\n",
      "radio_scaled Slope : 2.79206\n",
      "newspaper_scaled Slope : -0.02254\n"
     ]
    }
   ],
   "source": [
    "# 1. using sklearn\n",
    "# First initialize the model.\n",
    "regressor = LinearRegression()\n",
    "\n",
    "# Fit the model to the data\n",
    "X = ad_data[['TV_scaled', 'radio_scaled', 'newspaper_scaled']]\n",
    "y = ad_data['sales'].values\n",
    "y = y.reshape(-1, 1)\n",
    "regressor.fit(X,y)\n",
    "\n",
    "# Get predictions\n",
    "y_pred = regressor.predict(X)\n",
    "\n",
    "# Print model parameters\n",
    "# Get slope (m) and y-intercept (b)\n",
    "print('Partial slope and the intercept parameters:')\n",
    "print('Intercept: {0:.5f}'.format(regressor.intercept_[0]))\n",
    "print('TV_scaled Slope : {0:.5f}'.format(regressor.coef_[0][0]))\n",
    "print('radio_scaled Slope : {0:.5f}'.format(regressor.coef_[0][1]))\n",
    "print('newspaper_scaled Slope : {0:.5f}'.format(regressor.coef_[0][2]))"
   ]
  },
  {
   "cell_type": "code",
   "execution_count": 11,
   "metadata": {},
   "outputs": [
    {
     "name": "stdout",
     "output_type": "stream",
     "text": [
      "                            OLS Regression Results                            \n",
      "==============================================================================\n",
      "Dep. Variable:                  sales   R-squared:                       0.897\n",
      "Model:                            OLS   Adj. R-squared:                  0.896\n",
      "Method:                 Least Squares   F-statistic:                     570.3\n",
      "Date:                Tue, 30 Jul 2019   Prob (F-statistic):           1.58e-96\n",
      "Time:                        11:34:15   Log-Likelihood:                -386.18\n",
      "No. Observations:                 200   AIC:                             780.4\n",
      "Df Residuals:                     196   BIC:                             793.6\n",
      "Df Model:                           3                                         \n",
      "Covariance Type:            nonrobust                                         \n",
      "====================================================================================\n",
      "                       coef    std err          t      P>|t|      [0.025      0.975]\n",
      "------------------------------------------------------------------------------------\n",
      "Intercept           14.0225      0.119    117.655      0.000      13.787      14.258\n",
      "TV_scaled            3.9193      0.119     32.809      0.000       3.684       4.155\n",
      "radio_scaled         2.7921      0.128     21.893      0.000       2.541       3.044\n",
      "newspaper_scaled    -0.0225      0.128     -0.177      0.860      -0.274       0.229\n",
      "==============================================================================\n",
      "Omnibus:                       60.414   Durbin-Watson:                   2.084\n",
      "Prob(Omnibus):                  0.000   Jarque-Bera (JB):              151.241\n",
      "Skew:                          -1.327   Prob(JB):                     1.44e-33\n",
      "Kurtosis:                       6.332   Cond. No.                         1.46\n",
      "==============================================================================\n",
      "\n",
      "Warnings:\n",
      "[1] Standard Errors assume that the covariance matrix of the errors is correctly specified.\n",
      "\n",
      "Intercept: 14.02250\n",
      "Slope TV_scaled: 3.91925\n",
      "Slope radio_scaled: 2.79206\n",
      "Slope newspaper_scaled: -0.02254\n"
     ]
    }
   ],
   "source": [
    "# 2. statsmodels\n",
    "ols_model = sm.ols('sales ~ TV_scaled + radio_scaled + newspaper_scaled', data=ad_data)\n",
    "results = ols_model.fit()\n",
    "print(results.summary())\n",
    "\n",
    "# Get slope (m) and y-intercept (b)\n",
    "print('\\nIntercept: {0:.5f}'.format(results.params.Intercept))\n",
    "print('Slope TV_scaled: {0:.5f}'.format(results.params.TV_scaled))\n",
    "print('Slope radio_scaled: {0:.5f}'.format(results.params.radio_scaled))\n",
    "print('Slope newspaper_scaled: {0:.5f}'.format(results.params.newspaper_scaled))"
   ]
  },
  {
   "cell_type": "markdown",
   "metadata": {},
   "source": [
    "<b>1. Interpret each partial slope and the intercept parameters.</b>"
   ]
  },
  {
   "cell_type": "markdown",
   "metadata": {},
   "source": [
    "<b>Partial slopes:</b> interpretation of the scaled and unscaled coefficients\n",
    "<ul>\n",
    "    <li>\n",
    "Slope TV_scaled: When we increase TV_scaled by 1 (i.e. 1 standard deviation of TV advertising) then we expect that sales will go up by 3.91925 K dollars, assuming that radio and newspaper advertising are fixed.\n",
    "    </li>\n",
    "    <li>\n",
    "Slope radio_scaled: When we increase radio_scaled by 1 (i.e. 1 standard deviation of radio advertising) then we expect that sales will go up by 2.79206 K dollars, assuming that TV and newspaper advertising are fixed.\n",
    "    </li>\n",
    "    <li>\n",
    "Slope newspaper_scaled: When we increase newspaper_scaled by 1 (i.e. 1 standard deviation of newspaper advertising) then we expect that sales will go down by 0.02254 K dollars, assuming that TV and radio advertising are fixed.\n",
    "    </li>\n",
    "    <li>\n",
    "Note that from the model summary, the coefficient for newspaper_scaled is not statistically different from 0 (p=0.860; fail to reject the null hypothesis that the coefficient is 0). Thus, changes in newspaper advertisement is not likely to be associated with changes in sales.\n",
    "    </li>\n",
    "    </ul>\n",
    "    "
   ]
  },
  {
   "cell_type": "code",
   "execution_count": 12,
   "metadata": {},
   "outputs": [
    {
     "name": "stdout",
     "output_type": "stream",
     "text": [
      "TV Slope (original scale): 0.04576\n",
      "radio Slope (original scale) : 0.18853\n",
      "newspaper Slope (original scale): -0.00104\n"
     ]
    }
   ],
   "source": [
    "# partial slope\n",
    "# we can recompute original (unscaled) coefficients by dividing by the scale of the feature\n",
    "print('TV Slope (original scale): {0:.5f}'.format(regressor.coef_[0][0]/scaler.scale_[0]))\n",
    "print('radio Slope (original scale) : {0:.5f}'.format(regressor.coef_[0][1]/scaler.scale_[1]))\n",
    "print('newspaper Slope (original scale): {0:.5f}'.format(regressor.coef_[0][2]/scaler.scale_[2]))"
   ]
  },
  {
   "cell_type": "markdown",
   "metadata": {},
   "source": [
    "\n",
    "We can transform the coefficient back to the original scale by dividing by the scale of the feature.\n",
    "<ul>\n",
    "    <li>\n",
    "When we increase TV by 1 dollar then we expect that sales will go up by 0.04576 K dollars, assuming that radio and newspaper advertising are fixed.\n",
    "    </li>\n",
    "    <li>        \n",
    "When we increase radio by 1 dollar then we expect that sales will go up by 0.18853 K dollars, assuming that TV and newspaper advertising are fixed.\n",
    "    </li>\n",
    "    <li>\n",
    "When we increase newspaper by 1 dollar then we expect that sales will go up by -0.00104 K dollars, assuming that TV and radio advertising are fixed.\n",
    "    </li>\n",
    "    <li>\n",
    "However, as discussed above, changes in newspaper advertisement is not likely to be associated with changes in sales, since its coefficient is not statistically different from 0.      \n",
    "    </li>\n",
    "    </ul>\n",
    "    \n",
    "\n"
   ]
  },
  {
   "cell_type": "markdown",
   "metadata": {},
   "source": [
    "<b>Intercept:</b> When all scaled features are zero (i.e. TV_scaled, radio_scaled, newspaper_scaled are all zero), sales is 14.02 K dollars.<br>\n",
    "In other words, this is the expected sales when all feature values are set to their means."
   ]
  },
  {
   "cell_type": "code",
   "execution_count": 13,
   "metadata": {},
   "outputs": [
    {
     "name": "stdout",
     "output_type": "stream",
     "text": [
      "Intercept (original scale): 2.93889\n"
     ]
    }
   ],
   "source": [
    "# we can find the unscaled intercept\n",
    "print('Intercept (original scale): {0:.5f}'.format(regressor.intercept_[0]-np.sum(scaler.mean_/scaler.scale_*regressor.coef_)))"
   ]
  },
  {
   "cell_type": "markdown",
   "metadata": {},
   "source": [
    "When all features are zero (i.e. TV, radio, newspaper advertising are all zero), sales is 2.94 K dollars."
   ]
  },
  {
   "cell_type": "markdown",
   "metadata": {},
   "source": [
    "<b>2. Interpret the adjusted R-squared.</b>"
   ]
  },
  {
   "cell_type": "code",
   "execution_count": 14,
   "metadata": {},
   "outputs": [
    {
     "name": "stdout",
     "output_type": "stream",
     "text": [
      "from sklearn (using r2_score):\n",
      "R2: 0.8972106381789522\n",
      "Adjusted R2: 0.8956373316204668\n",
      "\n",
      "from statsmodels:\n",
      "Adjusted R2: 0.8956373316204668\n"
     ]
    }
   ],
   "source": [
    "n = 200 # number of data samples\n",
    "k = 3 # number of model coefficients\n",
    "print('from sklearn (using r2_score):')\n",
    "print('R2: {}'.format(r2_score(y, y_pred)))\n",
    "adjr2 = 1-(1-r2_score(y, y_pred))*(n-1)/(n-k-1)\n",
    "print('Adjusted R2: {}'.format(adjr2,3))\n",
    "\n",
    "print('\\nfrom statsmodels:')\n",
    "print('Adjusted R2: {}'.format(results.rsquared_adj))"
   ]
  },
  {
   "cell_type": "markdown",
   "metadata": {},
   "source": [
    "$R^2$ is the fraction of the variance of the original data explained by the model. A model that perfectly explains the data has $R^2 = 1$. A model which does not explain the data at all has $R^2 = 0$.\n",
    "\n",
    "However, $R^2$ is generally non-decreasing when model paremeters are added, and a model with more terms may appear to have a better fit simply because it has more terms.\n",
    "\n",
    "$R^2_{adj}$ adjusts for the number of model parameters (e.g. 3 in this model). Without this adjustment we will get a false sense of model performance as the model parameters increase. $R^2_{adj}$ increases only if the new feature improves the model more than would be expected by chance. It decreases when a feature improves the model by less than expected by chance. \n",
    "\n",
    "Here, $R^2_{adj}$ of 0.896 indicates that the model explains 89.6% of the variance of the original data and is thus a good fit."
   ]
  },
  {
   "cell_type": "markdown",
   "metadata": {},
   "source": [
    "<b>3. Find and report the mean-squared error.</b>"
   ]
  },
  {
   "cell_type": "markdown",
   "metadata": {},
   "source": [
    "The mean squared error (MSE) is the mean of the squares of the errors. \n",
    "\n",
    "From the course notebook, root mean squared error is written as:\n",
    "$$RMSE = \\sqrt{ \\frac{\\Sigma^n_{i-1} (y_i - \\hat{y_i})^2}{n}}$$\n",
    "From that, the mean squared error can be written as:\n",
    "$$MSE = \\frac{\\Sigma^n_{i-1} (y_i - \\hat{y_i})^2}{n}$$\n",
    "where:"
   ]
  },
  {
   "cell_type": "markdown",
   "metadata": {},
   "source": [
    "$$\n",
    "n = number\\ of\\ data\\ samples\\\\\n",
    "y_i = ith\\ data\\ value\\\\\n",
    "\\\\\\hat{y_i} = regression\\ estimate\\ of\\ y_i\\\\\n",
    "SSR = sum\\ square\\ residual\\ = \\Sigma_i{(y_i - \\hat{y_i})^2}$$"
   ]
  },
  {
   "cell_type": "code",
   "execution_count": 15,
   "metadata": {},
   "outputs": [
    {
     "name": "stdout",
     "output_type": "stream",
     "text": [
      "from sklearn (using mean_squared_error):\n",
      "MSE: 2.784\n",
      "\n",
      "Manual computation from y_true (yi) and y_pred (yhat i): 2.784\n",
      "\n",
      "from statsmodels:\n",
      "MSE: 2.784\n"
     ]
    }
   ],
   "source": [
    "# sklearn \n",
    "print('from sklearn (using mean_squared_error):')\n",
    "print('MSE: {0:.3f}'.format(mean_squared_error(y, y_pred)))\n",
    "\n",
    "# check using true and predicted y values from sklearn model\n",
    "MSE_check = np.mean((y-y_pred) ** 2)\n",
    "print('\\nManual computation from y_true (yi) and y_pred (yhat i): {0:.3f}'.format(MSE_check))\n",
    "\n",
    "# statsmodel\n",
    "print('\\nfrom statsmodels:')\n",
    "n = 200 # number of data samples\n",
    "print('MSE: {0:.3f}'.format(results.ssr/n)) # using formula above"
   ]
  },
  {
   "cell_type": "markdown",
   "metadata": {},
   "source": [
    "Interpretation: MSE, the average squared difference between the estimated (predicted) values and the observed (true) values, is a measure of regression model performance. We want to minimize MSE (values closer to zero are better)."
   ]
  }
 ],
 "metadata": {
  "kernelspec": {
   "display_name": "Python 3",
   "language": "python",
   "name": "python3"
  },
  "language_info": {
   "codemirror_mode": {
    "name": "ipython",
    "version": 3
   },
   "file_extension": ".py",
   "mimetype": "text/x-python",
   "name": "python",
   "nbconvert_exporter": "python",
   "pygments_lexer": "ipython3",
   "version": "3.7.3"
  }
 },
 "nbformat": 4,
 "nbformat_minor": 2
}
