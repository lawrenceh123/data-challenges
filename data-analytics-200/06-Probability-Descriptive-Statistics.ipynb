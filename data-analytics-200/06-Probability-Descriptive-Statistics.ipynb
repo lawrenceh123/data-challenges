{
 "cells": [
  {
   "cell_type": "markdown",
   "metadata": {},
   "source": [
    "\n",
    "# L06-2 Probability and Descriptive Statistics Continued\n",
    "## Assignment Instructions\n",
    "Rename with your name in place of Studentname and make your edits and updates here.\n",
    "\n"
   ]
  },
  {
   "cell_type": "markdown",
   "metadata": {
    "collapsed": true
   },
   "source": [
    "# Lesson 6: Homework / Assesment\n",
    "\n",
    "## Objective\n",
    "Acquire hands-on experience with descriptive statistics and associated plots\n",
    "\n",
    "## Questions To Answer\n",
    "1. What are the central tendencies, standard deviation, and MAD of **Lot Area**?\n",
    "2. Plot histogram of **Lot Area**. What can you tell about it? Is it skewed?\n",
    "3. Assuming that housing dataset is a complete population and we can use it's standard deviation as population deviation, calculate 95% confidence interval for **Lot Area** mean from 200 size sample. Output: mean, -confidence interval, +confidence interval.\n",
    "4. Plot normalized scatterplot **Lot Area** and **SalePrice**\n",
    "5. What is correlation coefficient for **Lot Area** and **SalePrice**?\n",
    "\n",
    "Tips: \n",
    "1. Remember to include required libraries and missing stat. functions from the lab.\n",
    "2. Enclosing the expression in () will output the value of the expression. Example: (x <- 1) will output 1."
   ]
  },
  {
   "cell_type": "markdown",
   "metadata": {},
   "source": [
    "## Initial Setup"
   ]
  },
  {
   "cell_type": "code",
   "execution_count": 1,
   "metadata": {},
   "outputs": [
    {
     "data": {
      "text/html": [
       "<ol class=list-inline>\n",
       "\t<li>'AmesHousing.xls'</li>\n",
       "\t<li>'AmesHousingDataDictionary.txt'</li>\n",
       "\t<li>'AmesHousingWithStats.xlsx'</li>\n",
       "\t<li>'Bayes.xlsx'</li>\n",
       "\t<li>'LawrenceHuang-LabHw06-Probability-Descriptive-Statistics.ipynb'</li>\n",
       "\t<li>'Studentname-L06-1-Lab-Center-Deviation-Histogram-Probability-Copy1.ipynb'</li>\n",
       "\t<li>'Studentname-L06-1-Lab-Center-Deviation-Histogram-Probability.ipynb'</li>\n",
       "\t<li>'Studentname-LabHw06-Probability-Descriptive-Statistics-Copy1.ipynb'</li>\n",
       "\t<li>'Studentname-LabHw06-Probability-Descriptive-Statistics.ipynb'</li>\n",
       "</ol>\n"
      ],
      "text/latex": [
       "\\begin{enumerate*}\n",
       "\\item 'AmesHousing.xls'\n",
       "\\item 'AmesHousingDataDictionary.txt'\n",
       "\\item 'AmesHousingWithStats.xlsx'\n",
       "\\item 'Bayes.xlsx'\n",
       "\\item 'LawrenceHuang-LabHw06-Probability-Descriptive-Statistics.ipynb'\n",
       "\\item 'Studentname-L06-1-Lab-Center-Deviation-Histogram-Probability-Copy1.ipynb'\n",
       "\\item 'Studentname-L06-1-Lab-Center-Deviation-Histogram-Probability.ipynb'\n",
       "\\item 'Studentname-LabHw06-Probability-Descriptive-Statistics-Copy1.ipynb'\n",
       "\\item 'Studentname-LabHw06-Probability-Descriptive-Statistics.ipynb'\n",
       "\\end{enumerate*}\n"
      ],
      "text/markdown": [
       "1. 'AmesHousing.xls'\n",
       "2. 'AmesHousingDataDictionary.txt'\n",
       "3. 'AmesHousingWithStats.xlsx'\n",
       "4. 'Bayes.xlsx'\n",
       "5. 'LawrenceHuang-LabHw06-Probability-Descriptive-Statistics.ipynb'\n",
       "6. 'Studentname-L06-1-Lab-Center-Deviation-Histogram-Probability-Copy1.ipynb'\n",
       "7. 'Studentname-L06-1-Lab-Center-Deviation-Histogram-Probability.ipynb'\n",
       "8. 'Studentname-LabHw06-Probability-Descriptive-Statistics-Copy1.ipynb'\n",
       "9. 'Studentname-LabHw06-Probability-Descriptive-Statistics.ipynb'\n",
       "\n",
       "\n"
      ],
      "text/plain": [
       "[1] \"AmesHousing.xls\"                                                         \n",
       "[2] \"AmesHousingDataDictionary.txt\"                                           \n",
       "[3] \"AmesHousingWithStats.xlsx\"                                               \n",
       "[4] \"Bayes.xlsx\"                                                              \n",
       "[5] \"LawrenceHuang-LabHw06-Probability-Descriptive-Statistics.ipynb\"          \n",
       "[6] \"Studentname-L06-1-Lab-Center-Deviation-Histogram-Probability-Copy1.ipynb\"\n",
       "[7] \"Studentname-L06-1-Lab-Center-Deviation-Histogram-Probability.ipynb\"      \n",
       "[8] \"Studentname-LabHw06-Probability-Descriptive-Statistics-Copy1.ipynb\"      \n",
       "[9] \"Studentname-LabHw06-Probability-Descriptive-Statistics.ipynb\"            "
      ]
     },
     "metadata": {},
     "output_type": "display_data"
    }
   ],
   "source": [
    "# Display directory contents. This directory should contain the data for this exercise: AmesHousing.xls\n",
    "dir()                                           \n"
   ]
  },
  {
   "cell_type": "code",
   "execution_count": 2,
   "metadata": {
    "collapsed": true
   },
   "outputs": [],
   "source": [
    "# R doesn't have a method to calculate mode statistic - create\n",
    "# parameters: \n",
    "#    x - vector of values \n",
    "#    na_rm = FALSE \n",
    "# output: most frequently occuring element in x\n",
    "stat_mode <- function(x, na_rm = FALSE) {\n",
    "  if(na_rm){\n",
    "    x = x[!is.na(x)]\n",
    "  }\n",
    "  \n",
    "  ux <- unique(x)\n",
    "  return(ux[which.max(tabulate(match(x, ux)))])\n",
    "}\n",
    "\n",
    "# R doesn't have a method to calculate deviation around mean - create \n",
    "# parameters: \n",
    "#    x - vector of values \n",
    "#    na_rm = FALSE \n",
    "# output: absolute deviation around mean\n",
    "avgAD <- function(x, na_rm = FALSE)\n",
    "{\n",
    "  if(na_rm){\n",
    "    x = x[!is.na(x)]\n",
    "  }\n",
    "  return(sum(abs(mean(x)-x))/length(x))\n",
    "}\n"
   ]
  },
  {
   "cell_type": "code",
   "execution_count": 3,
   "metadata": {},
   "outputs": [
    {
     "name": "stderr",
     "output_type": "stream",
     "text": [
      "Loading tidyverse: ggplot2\n",
      "Loading tidyverse: tibble\n",
      "Loading tidyverse: tidyr\n",
      "Loading tidyverse: readr\n",
      "Loading tidyverse: purrr\n",
      "Loading tidyverse: dplyr\n",
      "Conflicts with tidy packages ---------------------------------------------------\n",
      "filter(): dplyr, stats\n",
      "lag():    dplyr, stats\n",
      "Loading required package: lattice\n",
      "\n",
      "Attaching package: ‘caret’\n",
      "\n",
      "The following object is masked from ‘package:purrr’:\n",
      "\n",
      "    lift\n",
      "\n"
     ]
    }
   ],
   "source": [
    "#Install packages if not already installed\n",
    "library(readxl)\n",
    "library(tidyverse)\n",
    "library(corrgram)\n",
    "library(caret)"
   ]
  },
  {
   "cell_type": "code",
   "execution_count": 4,
   "metadata": {
    "scrolled": true
   },
   "outputs": [
    {
     "data": {
      "text/html": [
       "<table>\n",
       "<thead><tr><th scope=col>Order</th><th scope=col>PID</th><th scope=col>MS SubClass</th><th scope=col>MS Zoning</th><th scope=col>Lot Frontage</th><th scope=col>Lot Area</th><th scope=col>Street</th><th scope=col>Alley</th><th scope=col>Lot Shape</th><th scope=col>Land Contour</th><th scope=col>⋯</th><th scope=col>Pool Area</th><th scope=col>Pool QC</th><th scope=col>Fence</th><th scope=col>Misc Feature</th><th scope=col>Misc Val</th><th scope=col>Mo Sold</th><th scope=col>Yr Sold</th><th scope=col>Sale Type</th><th scope=col>Sale Condition</th><th scope=col>SalePrice</th></tr></thead>\n",
       "<tbody>\n",
       "\t<tr><td> 1        </td><td>0526301100</td><td>020       </td><td>RL        </td><td>141       </td><td>31770     </td><td>Pave      </td><td>NA        </td><td>IR1       </td><td>Lvl       </td><td>⋯         </td><td>0         </td><td>NA        </td><td>NA        </td><td>NA        </td><td>    0     </td><td>5         </td><td>2010      </td><td>WD        </td><td>Normal    </td><td>215000    </td></tr>\n",
       "\t<tr><td> 2        </td><td>0526350040</td><td>020       </td><td>RH        </td><td> 80       </td><td>11622     </td><td>Pave      </td><td>NA        </td><td>Reg       </td><td>Lvl       </td><td>⋯         </td><td>0         </td><td>NA        </td><td>MnPrv     </td><td>NA        </td><td>    0     </td><td>6         </td><td>2010      </td><td>WD        </td><td>Normal    </td><td>105000    </td></tr>\n",
       "\t<tr><td> 3        </td><td>0526351010</td><td>020       </td><td>RL        </td><td> 81       </td><td>14267     </td><td>Pave      </td><td>NA        </td><td>IR1       </td><td>Lvl       </td><td>⋯         </td><td>0         </td><td>NA        </td><td>NA        </td><td>Gar2      </td><td>12500     </td><td>6         </td><td>2010      </td><td>WD        </td><td>Normal    </td><td>172000    </td></tr>\n",
       "\t<tr><td> 4        </td><td>0526353030</td><td>020       </td><td>RL        </td><td> 93       </td><td>11160     </td><td>Pave      </td><td>NA        </td><td>Reg       </td><td>Lvl       </td><td>⋯         </td><td>0         </td><td>NA        </td><td>NA        </td><td>NA        </td><td>    0     </td><td>4         </td><td>2010      </td><td>WD        </td><td>Normal    </td><td>244000    </td></tr>\n",
       "\t<tr><td> 5        </td><td>0527105010</td><td>060       </td><td>RL        </td><td> 74       </td><td>13830     </td><td>Pave      </td><td>NA        </td><td>IR1       </td><td>Lvl       </td><td>⋯         </td><td>0         </td><td>NA        </td><td>MnPrv     </td><td>NA        </td><td>    0     </td><td>3         </td><td>2010      </td><td>WD        </td><td>Normal    </td><td>189900    </td></tr>\n",
       "\t<tr><td> 6        </td><td>0527105030</td><td>060       </td><td>RL        </td><td> 78       </td><td> 9978     </td><td>Pave      </td><td>NA        </td><td>IR1       </td><td>Lvl       </td><td>⋯         </td><td>0         </td><td>NA        </td><td>NA        </td><td>NA        </td><td>    0     </td><td>6         </td><td>2010      </td><td>WD        </td><td>Normal    </td><td>195500    </td></tr>\n",
       "\t<tr><td> 7        </td><td>0527127150</td><td>120       </td><td>RL        </td><td> 41       </td><td> 4920     </td><td>Pave      </td><td>NA        </td><td>Reg       </td><td>Lvl       </td><td>⋯         </td><td>0         </td><td>NA        </td><td>NA        </td><td>NA        </td><td>    0     </td><td>4         </td><td>2010      </td><td>WD        </td><td>Normal    </td><td>213500    </td></tr>\n",
       "\t<tr><td> 8        </td><td>0527145080</td><td>120       </td><td>RL        </td><td> 43       </td><td> 5005     </td><td>Pave      </td><td>NA        </td><td>IR1       </td><td>HLS       </td><td>⋯         </td><td>0         </td><td>NA        </td><td>NA        </td><td>NA        </td><td>    0     </td><td>1         </td><td>2010      </td><td>WD        </td><td>Normal    </td><td>191500    </td></tr>\n",
       "\t<tr><td> 9        </td><td>0527146030</td><td>120       </td><td>RL        </td><td> 39       </td><td> 5389     </td><td>Pave      </td><td>NA        </td><td>IR1       </td><td>Lvl       </td><td>⋯         </td><td>0         </td><td>NA        </td><td>NA        </td><td>NA        </td><td>    0     </td><td>3         </td><td>2010      </td><td>WD        </td><td>Normal    </td><td>236500    </td></tr>\n",
       "\t<tr><td>10        </td><td>0527162130</td><td>060       </td><td>RL        </td><td> 60       </td><td> 7500     </td><td>Pave      </td><td>NA        </td><td>Reg       </td><td>Lvl       </td><td>⋯         </td><td>0         </td><td>NA        </td><td>NA        </td><td>NA        </td><td>    0     </td><td>6         </td><td>2010      </td><td>WD        </td><td>Normal    </td><td>189000    </td></tr>\n",
       "</tbody>\n",
       "</table>\n"
      ],
      "text/latex": [
       "\\begin{tabular}{r|llllllllllllllllllllllllllllllllllllllllllllllllllllllllllllllllllllllllllllllllll}\n",
       " Order & PID & MS SubClass & MS Zoning & Lot Frontage & Lot Area & Street & Alley & Lot Shape & Land Contour & ⋯ & Pool Area & Pool QC & Fence & Misc Feature & Misc Val & Mo Sold & Yr Sold & Sale Type & Sale Condition & SalePrice\\\\\n",
       "\\hline\n",
       "\t  1         & 0526301100 & 020        & RL         & 141        & 31770      & Pave       & NA         & IR1        & Lvl        & ⋯          & 0          & NA         & NA         & NA         &     0      & 5          & 2010       & WD         & Normal     & 215000    \\\\\n",
       "\t  2         & 0526350040 & 020        & RH         &  80        & 11622      & Pave       & NA         & Reg        & Lvl        & ⋯          & 0          & NA         & MnPrv      & NA         &     0      & 6          & 2010       & WD         & Normal     & 105000    \\\\\n",
       "\t  3         & 0526351010 & 020        & RL         &  81        & 14267      & Pave       & NA         & IR1        & Lvl        & ⋯          & 0          & NA         & NA         & Gar2       & 12500      & 6          & 2010       & WD         & Normal     & 172000    \\\\\n",
       "\t  4         & 0526353030 & 020        & RL         &  93        & 11160      & Pave       & NA         & Reg        & Lvl        & ⋯          & 0          & NA         & NA         & NA         &     0      & 4          & 2010       & WD         & Normal     & 244000    \\\\\n",
       "\t  5         & 0527105010 & 060        & RL         &  74        & 13830      & Pave       & NA         & IR1        & Lvl        & ⋯          & 0          & NA         & MnPrv      & NA         &     0      & 3          & 2010       & WD         & Normal     & 189900    \\\\\n",
       "\t  6         & 0527105030 & 060        & RL         &  78        &  9978      & Pave       & NA         & IR1        & Lvl        & ⋯          & 0          & NA         & NA         & NA         &     0      & 6          & 2010       & WD         & Normal     & 195500    \\\\\n",
       "\t  7         & 0527127150 & 120        & RL         &  41        &  4920      & Pave       & NA         & Reg        & Lvl        & ⋯          & 0          & NA         & NA         & NA         &     0      & 4          & 2010       & WD         & Normal     & 213500    \\\\\n",
       "\t  8         & 0527145080 & 120        & RL         &  43        &  5005      & Pave       & NA         & IR1        & HLS        & ⋯          & 0          & NA         & NA         & NA         &     0      & 1          & 2010       & WD         & Normal     & 191500    \\\\\n",
       "\t  9         & 0527146030 & 120        & RL         &  39        &  5389      & Pave       & NA         & IR1        & Lvl        & ⋯          & 0          & NA         & NA         & NA         &     0      & 3          & 2010       & WD         & Normal     & 236500    \\\\\n",
       "\t 10         & 0527162130 & 060        & RL         &  60        &  7500      & Pave       & NA         & Reg        & Lvl        & ⋯          & 0          & NA         & NA         & NA         &     0      & 6          & 2010       & WD         & Normal     & 189000    \\\\\n",
       "\\end{tabular}\n"
      ],
      "text/markdown": [
       "\n",
       "Order | PID | MS SubClass | MS Zoning | Lot Frontage | Lot Area | Street | Alley | Lot Shape | Land Contour | ⋯ | Pool Area | Pool QC | Fence | Misc Feature | Misc Val | Mo Sold | Yr Sold | Sale Type | Sale Condition | SalePrice | \n",
       "|---|---|---|---|---|---|---|---|---|---|\n",
       "|  1         | 0526301100 | 020        | RL         | 141        | 31770      | Pave       | NA         | IR1        | Lvl        | ⋯          | 0          | NA         | NA         | NA         |     0      | 5          | 2010       | WD         | Normal     | 215000     | \n",
       "|  2         | 0526350040 | 020        | RH         |  80        | 11622      | Pave       | NA         | Reg        | Lvl        | ⋯          | 0          | NA         | MnPrv      | NA         |     0      | 6          | 2010       | WD         | Normal     | 105000     | \n",
       "|  3         | 0526351010 | 020        | RL         |  81        | 14267      | Pave       | NA         | IR1        | Lvl        | ⋯          | 0          | NA         | NA         | Gar2       | 12500      | 6          | 2010       | WD         | Normal     | 172000     | \n",
       "|  4         | 0526353030 | 020        | RL         |  93        | 11160      | Pave       | NA         | Reg        | Lvl        | ⋯          | 0          | NA         | NA         | NA         |     0      | 4          | 2010       | WD         | Normal     | 244000     | \n",
       "|  5         | 0527105010 | 060        | RL         |  74        | 13830      | Pave       | NA         | IR1        | Lvl        | ⋯          | 0          | NA         | MnPrv      | NA         |     0      | 3          | 2010       | WD         | Normal     | 189900     | \n",
       "|  6         | 0527105030 | 060        | RL         |  78        |  9978      | Pave       | NA         | IR1        | Lvl        | ⋯          | 0          | NA         | NA         | NA         |     0      | 6          | 2010       | WD         | Normal     | 195500     | \n",
       "|  7         | 0527127150 | 120        | RL         |  41        |  4920      | Pave       | NA         | Reg        | Lvl        | ⋯          | 0          | NA         | NA         | NA         |     0      | 4          | 2010       | WD         | Normal     | 213500     | \n",
       "|  8         | 0527145080 | 120        | RL         |  43        |  5005      | Pave       | NA         | IR1        | HLS        | ⋯          | 0          | NA         | NA         | NA         |     0      | 1          | 2010       | WD         | Normal     | 191500     | \n",
       "|  9         | 0527146030 | 120        | RL         |  39        |  5389      | Pave       | NA         | IR1        | Lvl        | ⋯          | 0          | NA         | NA         | NA         |     0      | 3          | 2010       | WD         | Normal     | 236500     | \n",
       "| 10         | 0527162130 | 060        | RL         |  60        |  7500      | Pave       | NA         | Reg        | Lvl        | ⋯          | 0          | NA         | NA         | NA         |     0      | 6          | 2010       | WD         | Normal     | 189000     | \n",
       "\n",
       "\n"
      ],
      "text/plain": [
       "   Order PID        MS SubClass MS Zoning Lot Frontage Lot Area Street Alley\n",
       "1   1    0526301100 020         RL        141          31770    Pave   NA   \n",
       "2   2    0526350040 020         RH         80          11622    Pave   NA   \n",
       "3   3    0526351010 020         RL         81          14267    Pave   NA   \n",
       "4   4    0526353030 020         RL         93          11160    Pave   NA   \n",
       "5   5    0527105010 060         RL         74          13830    Pave   NA   \n",
       "6   6    0527105030 060         RL         78           9978    Pave   NA   \n",
       "7   7    0527127150 120         RL         41           4920    Pave   NA   \n",
       "8   8    0527145080 120         RL         43           5005    Pave   NA   \n",
       "9   9    0527146030 120         RL         39           5389    Pave   NA   \n",
       "10 10    0527162130 060         RL         60           7500    Pave   NA   \n",
       "   Lot Shape Land Contour ⋯ Pool Area Pool QC Fence Misc Feature Misc Val\n",
       "1  IR1       Lvl          ⋯ 0         NA      NA    NA               0   \n",
       "2  Reg       Lvl          ⋯ 0         NA      MnPrv NA               0   \n",
       "3  IR1       Lvl          ⋯ 0         NA      NA    Gar2         12500   \n",
       "4  Reg       Lvl          ⋯ 0         NA      NA    NA               0   \n",
       "5  IR1       Lvl          ⋯ 0         NA      MnPrv NA               0   \n",
       "6  IR1       Lvl          ⋯ 0         NA      NA    NA               0   \n",
       "7  Reg       Lvl          ⋯ 0         NA      NA    NA               0   \n",
       "8  IR1       HLS          ⋯ 0         NA      NA    NA               0   \n",
       "9  IR1       Lvl          ⋯ 0         NA      NA    NA               0   \n",
       "10 Reg       Lvl          ⋯ 0         NA      NA    NA               0   \n",
       "   Mo Sold Yr Sold Sale Type Sale Condition SalePrice\n",
       "1  5       2010    WD        Normal         215000   \n",
       "2  6       2010    WD        Normal         105000   \n",
       "3  6       2010    WD        Normal         172000   \n",
       "4  4       2010    WD        Normal         244000   \n",
       "5  3       2010    WD        Normal         189900   \n",
       "6  6       2010    WD        Normal         195500   \n",
       "7  4       2010    WD        Normal         213500   \n",
       "8  1       2010    WD        Normal         191500   \n",
       "9  3       2010    WD        Normal         236500   \n",
       "10 6       2010    WD        Normal         189000   "
      ]
     },
     "metadata": {},
     "output_type": "display_data"
    },
    {
     "name": "stdout",
     "output_type": "stream",
     "text": [
      "Classes ‘tbl_df’, ‘tbl’ and 'data.frame':\t2930 obs. of  82 variables:\n",
      " $ Order          : num  1 2 3 4 5 6 7 8 9 10 ...\n",
      " $ PID            : chr  \"0526301100\" \"0526350040\" \"0526351010\" \"0526353030\" ...\n",
      " $ MS SubClass    : chr  \"020\" \"020\" \"020\" \"020\" ...\n",
      " $ MS Zoning      : chr  \"RL\" \"RH\" \"RL\" \"RL\" ...\n",
      " $ Lot Frontage   : num  141 80 81 93 74 78 41 43 39 60 ...\n",
      " $ Lot Area       : num  31770 11622 14267 11160 13830 ...\n",
      " $ Street         : chr  \"Pave\" \"Pave\" \"Pave\" \"Pave\" ...\n",
      " $ Alley          : chr  \"NA\" \"NA\" \"NA\" \"NA\" ...\n",
      " $ Lot Shape      : chr  \"IR1\" \"Reg\" \"IR1\" \"Reg\" ...\n",
      " $ Land Contour   : chr  \"Lvl\" \"Lvl\" \"Lvl\" \"Lvl\" ...\n",
      " $ Utilities      : chr  \"AllPub\" \"AllPub\" \"AllPub\" \"AllPub\" ...\n",
      " $ Lot Config     : chr  \"Corner\" \"Inside\" \"Corner\" \"Corner\" ...\n",
      " $ Land Slope     : chr  \"Gtl\" \"Gtl\" \"Gtl\" \"Gtl\" ...\n",
      " $ Neighborhood   : chr  \"NAmes\" \"NAmes\" \"NAmes\" \"NAmes\" ...\n",
      " $ Condition 1    : chr  \"Norm\" \"Feedr\" \"Norm\" \"Norm\" ...\n",
      " $ Condition 2    : chr  \"Norm\" \"Norm\" \"Norm\" \"Norm\" ...\n",
      " $ Bldg Type      : chr  \"1Fam\" \"1Fam\" \"1Fam\" \"1Fam\" ...\n",
      " $ House Style    : chr  \"1Story\" \"1Story\" \"1Story\" \"1Story\" ...\n",
      " $ Overall Qual   : num  6 5 6 7 5 6 8 8 8 7 ...\n",
      " $ Overall Cond   : num  5 6 6 5 5 6 5 5 5 5 ...\n",
      " $ Year Built     : num  1960 1961 1958 1968 1997 ...\n",
      " $ Year Remod/Add : num  1960 1961 1958 1968 1998 ...\n",
      " $ Roof Style     : chr  \"Hip\" \"Gable\" \"Hip\" \"Hip\" ...\n",
      " $ Roof Matl      : chr  \"CompShg\" \"CompShg\" \"CompShg\" \"CompShg\" ...\n",
      " $ Exterior 1st   : chr  \"BrkFace\" \"VinylSd\" \"Wd Sdng\" \"BrkFace\" ...\n",
      " $ Exterior 2nd   : chr  \"Plywood\" \"VinylSd\" \"Wd Sdng\" \"BrkFace\" ...\n",
      " $ Mas Vnr Type   : chr  \"Stone\" \"None\" \"BrkFace\" \"None\" ...\n",
      " $ Mas Vnr Area   : num  112 0 108 0 0 20 0 0 0 0 ...\n",
      " $ Exter Qual     : chr  \"TA\" \"TA\" \"TA\" \"Gd\" ...\n",
      " $ Exter Cond     : chr  \"TA\" \"TA\" \"TA\" \"TA\" ...\n",
      " $ Foundation     : chr  \"CBlock\" \"CBlock\" \"CBlock\" \"CBlock\" ...\n",
      " $ Bsmt Qual      : chr  \"TA\" \"TA\" \"TA\" \"TA\" ...\n",
      " $ Bsmt Cond      : chr  \"Gd\" \"TA\" \"TA\" \"TA\" ...\n",
      " $ Bsmt Exposure  : chr  \"Gd\" \"No\" \"No\" \"No\" ...\n",
      " $ BsmtFin Type 1 : chr  \"BLQ\" \"Rec\" \"ALQ\" \"ALQ\" ...\n",
      " $ BsmtFin SF 1   : num  639 468 923 1065 791 ...\n",
      " $ BsmtFin Type 2 : chr  \"Unf\" \"LwQ\" \"Unf\" \"Unf\" ...\n",
      " $ BsmtFin SF 2   : num  0 144 0 0 0 0 0 0 0 0 ...\n",
      " $ Bsmt Unf SF    : num  441 270 406 1045 137 ...\n",
      " $ Total Bsmt SF  : num  1080 882 1329 2110 928 ...\n",
      " $ Heating        : chr  \"GasA\" \"GasA\" \"GasA\" \"GasA\" ...\n",
      " $ Heating QC     : chr  \"Fa\" \"TA\" \"TA\" \"Ex\" ...\n",
      " $ Central Air    : chr  \"Y\" \"Y\" \"Y\" \"Y\" ...\n",
      " $ Electrical     : chr  \"SBrkr\" \"SBrkr\" \"SBrkr\" \"SBrkr\" ...\n",
      " $ 1st Flr SF     : num  1656 896 1329 2110 928 ...\n",
      " $ 2nd Flr SF     : num  0 0 0 0 701 678 0 0 0 776 ...\n",
      " $ Low Qual Fin SF: num  0 0 0 0 0 0 0 0 0 0 ...\n",
      " $ Gr Liv Area    : num  1656 896 1329 2110 1629 ...\n",
      " $ Bsmt Full Bath : num  1 0 0 1 0 0 1 0 1 0 ...\n",
      " $ Bsmt Half Bath : num  0 0 0 0 0 0 0 0 0 0 ...\n",
      " $ Full Bath      : num  1 1 1 2 2 2 2 2 2 2 ...\n",
      " $ Half Bath      : num  0 0 1 1 1 1 0 0 0 1 ...\n",
      " $ Bedroom AbvGr  : num  3 2 3 3 3 3 2 2 2 3 ...\n",
      " $ Kitchen AbvGr  : num  1 1 1 1 1 1 1 1 1 1 ...\n",
      " $ Kitchen Qual   : chr  \"TA\" \"TA\" \"Gd\" \"Ex\" ...\n",
      " $ TotRms AbvGrd  : num  7 5 6 8 6 7 6 5 5 7 ...\n",
      " $ Functional     : chr  \"Typ\" \"Typ\" \"Typ\" \"Typ\" ...\n",
      " $ Fireplaces     : num  2 0 0 2 1 1 0 0 1 1 ...\n",
      " $ Fireplace Qu   : chr  \"Gd\" \"NA\" \"NA\" \"TA\" ...\n",
      " $ Garage Type    : chr  \"Attchd\" \"Attchd\" \"Attchd\" \"Attchd\" ...\n",
      " $ Garage Yr Blt  : num  1960 1961 1958 1968 1997 ...\n",
      " $ Garage Finish  : chr  \"Fin\" \"Unf\" \"Unf\" \"Fin\" ...\n",
      " $ Garage Cars    : num  2 1 1 2 2 2 2 2 2 2 ...\n",
      " $ Garage Area    : num  528 730 312 522 482 470 582 506 608 442 ...\n",
      " $ Garage Qual    : chr  \"TA\" \"TA\" \"TA\" \"TA\" ...\n",
      " $ Garage Cond    : chr  \"TA\" \"TA\" \"TA\" \"TA\" ...\n",
      " $ Paved Drive    : chr  \"P\" \"Y\" \"Y\" \"Y\" ...\n",
      " $ Wood Deck SF   : num  210 140 393 0 212 360 0 0 237 140 ...\n",
      " $ Open Porch SF  : num  62 0 36 0 34 36 0 82 152 60 ...\n",
      " $ Enclosed Porch : num  0 0 0 0 0 0 170 0 0 0 ...\n",
      " $ 3Ssn Porch     : num  0 0 0 0 0 0 0 0 0 0 ...\n",
      " $ Screen Porch   : num  0 120 0 0 0 0 0 144 0 0 ...\n",
      " $ Pool Area      : num  0 0 0 0 0 0 0 0 0 0 ...\n",
      " $ Pool QC        : chr  \"NA\" \"NA\" \"NA\" \"NA\" ...\n",
      " $ Fence          : chr  \"NA\" \"MnPrv\" \"NA\" \"NA\" ...\n",
      " $ Misc Feature   : chr  \"NA\" \"NA\" \"Gar2\" \"NA\" ...\n",
      " $ Misc Val       : num  0 0 12500 0 0 0 0 0 0 0 ...\n",
      " $ Mo Sold        : num  5 6 6 4 3 6 4 1 3 6 ...\n",
      " $ Yr Sold        : num  2010 2010 2010 2010 2010 2010 2010 2010 2010 2010 ...\n",
      " $ Sale Type      : chr  \"WD\" \"WD\" \"WD\" \"WD\" ...\n",
      " $ Sale Condition : chr  \"Normal\" \"Normal\" \"Normal\" \"Normal\" ...\n",
      " $ SalePrice      : num  215000 105000 172000 244000 189900 ...\n"
     ]
    }
   ],
   "source": [
    "#load data\n",
    "\n",
    "AmesHousing<-readxl::read_excel(\"AmesHousing.xls\")\n",
    "\n",
    "head(AmesHousing, 10)\n",
    "str(AmesHousing)"
   ]
  },
  {
   "cell_type": "markdown",
   "metadata": {},
   "source": [
    "## 1. Central tendencies, standard deviation, and MAD of Lot Area\n",
    "\n",
    "Hint: `Lot Area` is two words."
   ]
  },
  {
   "cell_type": "code",
   "execution_count": 5,
   "metadata": {},
   "outputs": [
    {
     "name": "stdout",
     "output_type": "stream",
     "text": [
      "[1] \"mean (Lot Area) = 10147.9218430034\"\n",
      "[1] \"median (Lot Area) = 9436.5\"\n",
      "[1] \"mode (Lot Area) = 9600\"\n",
      "[1] \"standard deviation (Lot Area) = 7880.01775943909\"\n",
      "[1] \"mean absolute deviation (Lot Area) = 3427.42755326212\"\n"
     ]
    }
   ],
   "source": [
    "# Question 1:\n",
    "#central tendencies\n",
    "meanLotArea <- mean(AmesHousing$'Lot Area')\n",
    "medLotArea <- median(AmesHousing$'Lot Area')\n",
    "modeLotArea <- stat_mode(AmesHousing$'Lot Area')\n",
    "print(paste(\"mean (Lot Area) =\",meanLotArea))\n",
    "print(paste(\"median (Lot Area) =\",medLotArea))\n",
    "print(paste(\"mode (Lot Area) =\",modeLotArea))\n",
    "\n",
    "#standard deviation\n",
    "S <- sd(AmesHousing$'Lot Area')\n",
    "print(paste(\"standard deviation (Lot Area) =\", S))\n",
    "\n",
    "#MAD\n",
    "meanAD <- avgAD(AmesHousing$'Lot Area')\n",
    "print(paste(\"mean absolute deviation (Lot Area) =\",meanAD))"
   ]
  },
  {
   "cell_type": "markdown",
   "metadata": {},
   "source": [
    "## 2. Histogram Plot\n",
    "\n",
    "Hint: Refer to Section 6.C in the Lab."
   ]
  },
  {
   "cell_type": "code",
   "execution_count": 6,
   "metadata": {},
   "outputs": [
    {
     "data": {},
     "metadata": {},
     "output_type": "display_data"
    },
    {
     "data": {
      "image/png": "[encoded data removed]",
      "text/plain": [
       "plot without title"
      ]
     },
     "metadata": {},
     "output_type": "display_data"
    }
   ],
   "source": [
    "#Question 2:\n",
    "# Histogram of lot area overlaid with density curve\n",
    "# What can you tell about it? Is it skewed?\n",
    "\n",
    "ggplot(AmesHousing, aes(x=`Lot Area`)) + \n",
    "  geom_histogram(aes(y=..count..),      # Density on y-axis\n",
    "                 color=\"black\", fill=\"white\",\n",
    "                 bins = 100) +\n",
    "  geom_density(alpha=.2, fill=\"#FF7777\") + # Overlay with density plot\n",
    "  geom_vline(aes(xintercept=mean(`Lot Area`), color=\"mean\"), linetype=\"dashed\", size=.5) + #vertical line for mean\n",
    "  geom_vline(aes(xintercept=median(`Lot Area`), color=\"median\"), linetype=\"dashed\", size=.5) + #vertical line for mean\n",
    "  geom_vline(aes(xintercept=stat_mode(`Lot Area`), color=\"mode\"), linetype=\"dashed\", size=.5)  #vertical line for mode\n"
   ]
  },
  {
   "cell_type": "markdown",
   "metadata": {},
   "source": [
    "The right tail of the distribution is longer and the mean is greater than the median and the mode. Positively skewed/right-skewed."
   ]
  },
  {
   "cell_type": "markdown",
   "metadata": {},
   "source": [
    "## 3. Mean, -confidence interval, +confidence interval\n",
    "\n",
    "Hint: Refer to Section 6.5.1 in the Lab."
   ]
  },
  {
   "cell_type": "code",
   "execution_count": 7,
   "metadata": {},
   "outputs": [
    {
     "name": "stdout",
     "output_type": "stream",
     "text": [
      "[1] \"mean:\"\n"
     ]
    },
    {
     "data": {
      "text/html": [
       "9890.955"
      ],
      "text/latex": [
       "9890.955"
      ],
      "text/markdown": [
       "9890.955"
      ],
      "text/plain": [
       "[1] 9890.955"
      ]
     },
     "metadata": {},
     "output_type": "display_data"
    },
    {
     "name": "stdout",
     "output_type": "stream",
     "text": [
      "[1] \"-confidence interval:\"\n"
     ]
    },
    {
     "data": {
      "text/html": [
       "8798.860325125"
      ],
      "text/latex": [
       "8798.860325125"
      ],
      "text/markdown": [
       "8798.860325125"
      ],
      "text/plain": [
       "[1] 8798.86"
      ]
     },
     "metadata": {},
     "output_type": "display_data"
    },
    {
     "name": "stdout",
     "output_type": "stream",
     "text": [
      "[1] \"+confidence interval:\"\n"
     ]
    },
    {
     "data": {
      "text/html": [
       "10983.049674875"
      ],
      "text/latex": [
       "10983.049674875"
      ],
      "text/markdown": [
       "10983.049674875"
      ],
      "text/plain": [
       "[1] 10983.05"
      ]
     },
     "metadata": {},
     "output_type": "display_data"
    }
   ],
   "source": [
    "#Question 3:\n",
    "#Assuming that housing dataset is a complete population and we can use its standard deviation as population deviation,\n",
    "#calculate 95% confidence interval for **Lot Area** mean from 200 size sample. \n",
    "#Output: mean, -confidence interval, +confidence interval.\n",
    "\n",
    "sample_size <- 200\n",
    "sample <- sample(AmesHousing$`Lot Area`, sample_size)\n",
    "print(\"mean:\")\n",
    "mean(sample) \n",
    "print(\"-confidence interval:\")\n",
    "(mean(sample)-qnorm(0.975)*sd(AmesHousing$'Lot Area')/sqrt(sample_size))\n",
    "print(\"+confidence interval:\")\n",
    "(mean(sample)+qnorm(0.975)*sd(AmesHousing$'Lot Area')/sqrt(sample_size))"
   ]
  },
  {
   "cell_type": "markdown",
   "metadata": {},
   "source": [
    "## 4. Normalized Scatterplot\n",
    "\n",
    "Hint: Refer to Section 6.5.2 in the Lab"
   ]
  },
  {
   "cell_type": "code",
   "execution_count": 8,
   "metadata": {},
   "outputs": [
    {
     "data": {},
     "metadata": {},
     "output_type": "display_data"
    },
    {
     "data": {
      "image/png": "[encoded data removed]",
      "text/plain": [
       "plot without title"
      ]
     },
     "metadata": {},
     "output_type": "display_data"
    }
   ],
   "source": [
    "#Question 4:\n",
    "# Plot normalized scatterplot **Lot Area** and **SalePrice**\n",
    "\n",
    "ggplot(AmesHousing,aes(x = scale(SalePrice), y=scale(`Lot Area`))) +\n",
    "    geom_point(shape=1) "
   ]
  },
  {
   "cell_type": "markdown",
   "metadata": {},
   "source": [
    "## 5. Correlation Matrix\n",
    "\n",
    "Hint: Refer to Section 6.6 in the Lab"
   ]
  },
  {
   "cell_type": "code",
   "execution_count": 9,
   "metadata": {},
   "outputs": [
    {
     "data": {
      "text/html": [
       "<table>\n",
       "<thead><tr><th></th><th scope=col>Lot Area</th><th scope=col>SalePrice</th></tr></thead>\n",
       "<tbody>\n",
       "\t<tr><th scope=row>Lot Area</th><td>1.0000000</td><td>0.2665492</td></tr>\n",
       "\t<tr><th scope=row>SalePrice</th><td>0.2665492</td><td>1.0000000</td></tr>\n",
       "</tbody>\n",
       "</table>\n"
      ],
      "text/latex": [
       "\\begin{tabular}{r|ll}\n",
       "  & Lot Area & SalePrice\\\\\n",
       "\\hline\n",
       "\tLot Area & 1.0000000 & 0.2665492\\\\\n",
       "\tSalePrice & 0.2665492 & 1.0000000\\\\\n",
       "\\end{tabular}\n"
      ],
      "text/markdown": [
       "\n",
       "| <!--/--> | Lot Area | SalePrice | \n",
       "|---|---|\n",
       "| Lot Area | 1.0000000 | 0.2665492 | \n",
       "| SalePrice | 0.2665492 | 1.0000000 | \n",
       "\n",
       "\n"
      ],
      "text/plain": [
       "          Lot Area  SalePrice\n",
       "Lot Area  1.0000000 0.2665492\n",
       "SalePrice 0.2665492 1.0000000"
      ]
     },
     "metadata": {},
     "output_type": "display_data"
    },
    {
     "name": "stdout",
     "output_type": "stream",
     "text": [
      "[1] \"correlation coefficient:\"\n"
     ]
    },
    {
     "data": {
      "text/html": [
       "0.26654922032843"
      ],
      "text/latex": [
       "0.26654922032843"
      ],
      "text/markdown": [
       "0.26654922032843"
      ],
      "text/plain": [
       "[1] 0.2665492"
      ]
     },
     "metadata": {},
     "output_type": "display_data"
    }
   ],
   "source": [
    "#Question 5: What is correlation coefficient for **Lot Area** and **SalePrice**?\n",
    "(corMatrix <- cor((na.omit(AmesHousing[, c(\"Lot Area\", \"SalePrice\")]))))\n",
    "print(\"correlation coefficient:\")\n",
    "corMatrix[c(\"Lot Area\"),c(\"SalePrice\")]"
   ]
  }
 ],
 "metadata": {
  "kernelspec": {
   "display_name": "R",
   "language": "R",
   "name": "ir"
  },
  "language_info": {
   "codemirror_mode": "r",
   "file_extension": ".r",
   "mimetype": "text/x-r-source",
   "name": "R",
   "pygments_lexer": "r",
   "version": "3.3.2"
  }
 },
 "nbformat": 4,
 "nbformat_minor": 2
}
