{
 "cells": [
  {
   "cell_type": "markdown",
   "metadata": {},
   "source": [
    "### Lesson 3 Assignment: Data Sources\n",
    "### Lawrence Huang\n",
    "#### Instructions:\n",
    "\n",
    "Using the Superstore Transaction dataset, create a new notebook and perform each of the following tasks and answer the related questions:\n",
    "\n",
    "1. Read dataset\n",
    "2. Calculate the Recency, Frequency, Monitory for each customer\n",
    "3. Using K-means algorithm, perform customer segmentation\n",
    "4. Describe your results\n"
   ]
  },
  {
   "cell_type": "code",
   "execution_count": 1,
   "metadata": {},
   "outputs": [],
   "source": [
    "# Imports\n",
    "import pandas as pd\n",
    "import numpy as np\n",
    "from sklearn.preprocessing import StandardScaler\n",
    "from sklearn.cluster import KMeans\n",
    "import matplotlib.pyplot as plt\n",
    "%matplotlib inline\n",
    "import seaborn as sns"
   ]
  },
  {
   "cell_type": "markdown",
   "metadata": {},
   "source": [
    "##### 1. Read dataset"
   ]
  },
  {
   "cell_type": "code",
   "execution_count": 2,
   "metadata": {},
   "outputs": [
    {
     "name": "stdout",
     "output_type": "stream",
     "text": [
      "dataset shape:(9994, 21)\n"
     ]
    },
    {
     "data": {
      "text/html": [
       "<div>\n",
       "<style scoped>\n",
       "    .dataframe tbody tr th:only-of-type {\n",
       "        vertical-align: middle;\n",
       "    }\n",
       "\n",
       "    .dataframe tbody tr th {\n",
       "        vertical-align: top;\n",
       "    }\n",
       "\n",
       "    .dataframe thead th {\n",
       "        text-align: right;\n",
       "    }\n",
       "</style>\n",
       "<table border=\"1\" class=\"dataframe\">\n",
       "  <thead>\n",
       "    <tr style=\"text-align: right;\">\n",
       "      <th></th>\n",
       "      <th>Row ID</th>\n",
       "      <th>Order ID</th>\n",
       "      <th>Order Date</th>\n",
       "      <th>Ship Date</th>\n",
       "      <th>Ship Mode</th>\n",
       "      <th>Customer ID</th>\n",
       "      <th>Customer Name</th>\n",
       "      <th>Segment</th>\n",
       "      <th>Country</th>\n",
       "      <th>City</th>\n",
       "      <th>...</th>\n",
       "      <th>Postal Code</th>\n",
       "      <th>Region</th>\n",
       "      <th>Product ID</th>\n",
       "      <th>Category</th>\n",
       "      <th>Sub-Category</th>\n",
       "      <th>Product Name</th>\n",
       "      <th>Sales</th>\n",
       "      <th>Quantity</th>\n",
       "      <th>Discount</th>\n",
       "      <th>Profit</th>\n",
       "    </tr>\n",
       "  </thead>\n",
       "  <tbody>\n",
       "    <tr>\n",
       "      <th>0</th>\n",
       "      <td>1</td>\n",
       "      <td>CA-2016-152156</td>\n",
       "      <td>11/8/2016</td>\n",
       "      <td>11/11/2016</td>\n",
       "      <td>Second Class</td>\n",
       "      <td>CG-12520</td>\n",
       "      <td>Claire Gute</td>\n",
       "      <td>Consumer</td>\n",
       "      <td>United States</td>\n",
       "      <td>Henderson</td>\n",
       "      <td>...</td>\n",
       "      <td>42420</td>\n",
       "      <td>South</td>\n",
       "      <td>FUR-BO-10001798</td>\n",
       "      <td>Furniture</td>\n",
       "      <td>Bookcases</td>\n",
       "      <td>Bush Somerset Collection Bookcase</td>\n",
       "      <td>261.9600</td>\n",
       "      <td>2</td>\n",
       "      <td>0.00</td>\n",
       "      <td>41.9136</td>\n",
       "    </tr>\n",
       "    <tr>\n",
       "      <th>1</th>\n",
       "      <td>2</td>\n",
       "      <td>CA-2016-152156</td>\n",
       "      <td>11/8/2016</td>\n",
       "      <td>11/11/2016</td>\n",
       "      <td>Second Class</td>\n",
       "      <td>CG-12520</td>\n",
       "      <td>Claire Gute</td>\n",
       "      <td>Consumer</td>\n",
       "      <td>United States</td>\n",
       "      <td>Henderson</td>\n",
       "      <td>...</td>\n",
       "      <td>42420</td>\n",
       "      <td>South</td>\n",
       "      <td>FUR-CH-10000454</td>\n",
       "      <td>Furniture</td>\n",
       "      <td>Chairs</td>\n",
       "      <td>Hon Deluxe Fabric Upholstered Stacking Chairs,...</td>\n",
       "      <td>731.9400</td>\n",
       "      <td>3</td>\n",
       "      <td>0.00</td>\n",
       "      <td>219.5820</td>\n",
       "    </tr>\n",
       "    <tr>\n",
       "      <th>2</th>\n",
       "      <td>3</td>\n",
       "      <td>CA-2016-138688</td>\n",
       "      <td>6/12/2016</td>\n",
       "      <td>6/16/2016</td>\n",
       "      <td>Second Class</td>\n",
       "      <td>DV-13045</td>\n",
       "      <td>Darrin Van Huff</td>\n",
       "      <td>Corporate</td>\n",
       "      <td>United States</td>\n",
       "      <td>Los Angeles</td>\n",
       "      <td>...</td>\n",
       "      <td>90036</td>\n",
       "      <td>West</td>\n",
       "      <td>OFF-LA-10000240</td>\n",
       "      <td>Office Supplies</td>\n",
       "      <td>Labels</td>\n",
       "      <td>Self-Adhesive Address Labels for Typewriters b...</td>\n",
       "      <td>14.6200</td>\n",
       "      <td>2</td>\n",
       "      <td>0.00</td>\n",
       "      <td>6.8714</td>\n",
       "    </tr>\n",
       "    <tr>\n",
       "      <th>3</th>\n",
       "      <td>4</td>\n",
       "      <td>US-2015-108966</td>\n",
       "      <td>10/11/2015</td>\n",
       "      <td>10/18/2015</td>\n",
       "      <td>Standard Class</td>\n",
       "      <td>SO-20335</td>\n",
       "      <td>Sean O'Donnell</td>\n",
       "      <td>Consumer</td>\n",
       "      <td>United States</td>\n",
       "      <td>Fort Lauderdale</td>\n",
       "      <td>...</td>\n",
       "      <td>33311</td>\n",
       "      <td>South</td>\n",
       "      <td>FUR-TA-10000577</td>\n",
       "      <td>Furniture</td>\n",
       "      <td>Tables</td>\n",
       "      <td>Bretford CR4500 Series Slim Rectangular Table</td>\n",
       "      <td>957.5775</td>\n",
       "      <td>5</td>\n",
       "      <td>0.45</td>\n",
       "      <td>-383.0310</td>\n",
       "    </tr>\n",
       "    <tr>\n",
       "      <th>4</th>\n",
       "      <td>5</td>\n",
       "      <td>US-2015-108966</td>\n",
       "      <td>10/11/2015</td>\n",
       "      <td>10/18/2015</td>\n",
       "      <td>Standard Class</td>\n",
       "      <td>SO-20335</td>\n",
       "      <td>Sean O'Donnell</td>\n",
       "      <td>Consumer</td>\n",
       "      <td>United States</td>\n",
       "      <td>Fort Lauderdale</td>\n",
       "      <td>...</td>\n",
       "      <td>33311</td>\n",
       "      <td>South</td>\n",
       "      <td>OFF-ST-10000760</td>\n",
       "      <td>Office Supplies</td>\n",
       "      <td>Storage</td>\n",
       "      <td>Eldon Fold 'N Roll Cart System</td>\n",
       "      <td>22.3680</td>\n",
       "      <td>2</td>\n",
       "      <td>0.20</td>\n",
       "      <td>2.5164</td>\n",
       "    </tr>\n",
       "  </tbody>\n",
       "</table>\n",
       "<p>5 rows × 21 columns</p>\n",
       "</div>"
      ],
      "text/plain": [
       "   Row ID        Order ID  Order Date   Ship Date       Ship Mode Customer ID  \\\n",
       "0       1  CA-2016-152156   11/8/2016  11/11/2016    Second Class    CG-12520   \n",
       "1       2  CA-2016-152156   11/8/2016  11/11/2016    Second Class    CG-12520   \n",
       "2       3  CA-2016-138688   6/12/2016   6/16/2016    Second Class    DV-13045   \n",
       "3       4  US-2015-108966  10/11/2015  10/18/2015  Standard Class    SO-20335   \n",
       "4       5  US-2015-108966  10/11/2015  10/18/2015  Standard Class    SO-20335   \n",
       "\n",
       "     Customer Name    Segment        Country             City  ...  \\\n",
       "0      Claire Gute   Consumer  United States        Henderson  ...   \n",
       "1      Claire Gute   Consumer  United States        Henderson  ...   \n",
       "2  Darrin Van Huff  Corporate  United States      Los Angeles  ...   \n",
       "3   Sean O'Donnell   Consumer  United States  Fort Lauderdale  ...   \n",
       "4   Sean O'Donnell   Consumer  United States  Fort Lauderdale  ...   \n",
       "\n",
       "  Postal Code  Region       Product ID         Category Sub-Category  \\\n",
       "0       42420   South  FUR-BO-10001798        Furniture    Bookcases   \n",
       "1       42420   South  FUR-CH-10000454        Furniture       Chairs   \n",
       "2       90036    West  OFF-LA-10000240  Office Supplies       Labels   \n",
       "3       33311   South  FUR-TA-10000577        Furniture       Tables   \n",
       "4       33311   South  OFF-ST-10000760  Office Supplies      Storage   \n",
       "\n",
       "                                        Product Name     Sales  Quantity  \\\n",
       "0                  Bush Somerset Collection Bookcase  261.9600         2   \n",
       "1  Hon Deluxe Fabric Upholstered Stacking Chairs,...  731.9400         3   \n",
       "2  Self-Adhesive Address Labels for Typewriters b...   14.6200         2   \n",
       "3      Bretford CR4500 Series Slim Rectangular Table  957.5775         5   \n",
       "4                     Eldon Fold 'N Roll Cart System   22.3680         2   \n",
       "\n",
       "   Discount    Profit  \n",
       "0      0.00   41.9136  \n",
       "1      0.00  219.5820  \n",
       "2      0.00    6.8714  \n",
       "3      0.45 -383.0310  \n",
       "4      0.20    2.5164  \n",
       "\n",
       "[5 rows x 21 columns]"
      ]
     },
     "execution_count": 2,
     "metadata": {},
     "output_type": "execute_result"
    }
   ],
   "source": [
    "# Load data: Superstore Transaction dataset\n",
    "filename = 'https://library.startlearninglabs.uw.edu/DATASCI420/2019/Datasets/SuperstoreTransaction.csv'\n",
    "df = pd.read_csv(filename)\n",
    "# preview data\n",
    "print('dataset shape:{}'.format(df.shape))\n",
    "df.head()"
   ]
  },
  {
   "cell_type": "markdown",
   "metadata": {},
   "source": [
    "##### 2. Calculate the Recency, Frequency, Monitory for each customer\n",
    "Strategy: \n",
    "<ul>\n",
    "    <li>Use Order Date (instead of Ship Date) for calcuating the Recency, Frequency, Monetary features</li>\n",
    "    <li>In order to segment the entire customer base, consider all customers who have placed an order within the time range of the data (i.e. Customers are not dropped because of inactivity)</li>\n",
    "    <li>Time window for frequency and monetary calcuations: over entire date range</li>\n",
    "    <li>Set checkpoint as max date in the data</li>\n",
    "</ul>    "
   ]
  },
  {
   "cell_type": "code",
   "execution_count": 3,
   "metadata": {},
   "outputs": [
    {
     "name": "stdout",
     "output_type": "stream",
     "text": [
      "Order Date range: 2014-01-03 to 2017-12-30\n"
     ]
    }
   ],
   "source": [
    "# convert order date to datetime format\n",
    "df['Order Date'] = pd.to_datetime(df['Order Date'])\n",
    "# get time range for data\n",
    "print('Order Date range: {} to {}'.format(df['Order Date'].min().strftime('%Y-%m-%d'), df['Order Date'].max().strftime('%Y-%m-%d')))"
   ]
  },
  {
   "cell_type": "code",
   "execution_count": 4,
   "metadata": {},
   "outputs": [
    {
     "name": "stdout",
     "output_type": "stream",
     "text": [
      "Checkpoint: 2017-12-30\n"
     ]
    }
   ],
   "source": [
    "# set checkpoint as max date in the data\n",
    "checkpoint = df['Order Date'].max()+pd.DateOffset(days=0)\n",
    "print('Checkpoint: {}'.format(checkpoint.strftime('%Y-%m-%d')))"
   ]
  },
  {
   "cell_type": "code",
   "execution_count": 5,
   "metadata": {},
   "outputs": [
    {
     "name": "stdout",
     "output_type": "stream",
     "text": [
      "# Customers: 793\n",
      "\n",
      "RFM for first 5 customers:\n"
     ]
    },
    {
     "data": {
      "text/html": [
       "<div>\n",
       "<style scoped>\n",
       "    .dataframe tbody tr th:only-of-type {\n",
       "        vertical-align: middle;\n",
       "    }\n",
       "\n",
       "    .dataframe tbody tr th {\n",
       "        vertical-align: top;\n",
       "    }\n",
       "\n",
       "    .dataframe thead th {\n",
       "        text-align: right;\n",
       "    }\n",
       "</style>\n",
       "<table border=\"1\" class=\"dataframe\">\n",
       "  <thead>\n",
       "    <tr style=\"text-align: right;\">\n",
       "      <th></th>\n",
       "      <th></th>\n",
       "      <th>Recency</th>\n",
       "      <th>Frequency</th>\n",
       "      <th>Monetary_Value</th>\n",
       "      <th>Monetary_Quantity</th>\n",
       "      <th>Monetary_Profit</th>\n",
       "    </tr>\n",
       "    <tr>\n",
       "      <th>Customer ID</th>\n",
       "      <th>Customer Name</th>\n",
       "      <th></th>\n",
       "      <th></th>\n",
       "      <th></th>\n",
       "      <th></th>\n",
       "      <th></th>\n",
       "    </tr>\n",
       "  </thead>\n",
       "  <tbody>\n",
       "    <tr>\n",
       "      <th>AA-10315</th>\n",
       "      <th>Alex Avila</th>\n",
       "      <td>184</td>\n",
       "      <td>11</td>\n",
       "      <td>5563.560</td>\n",
       "      <td>30</td>\n",
       "      <td>-362.8825</td>\n",
       "    </tr>\n",
       "    <tr>\n",
       "      <th>AA-10375</th>\n",
       "      <th>Allen Armold</th>\n",
       "      <td>19</td>\n",
       "      <td>15</td>\n",
       "      <td>1056.390</td>\n",
       "      <td>41</td>\n",
       "      <td>277.3824</td>\n",
       "    </tr>\n",
       "    <tr>\n",
       "      <th>AA-10480</th>\n",
       "      <th>Andrew Allen</th>\n",
       "      <td>259</td>\n",
       "      <td>12</td>\n",
       "      <td>1790.512</td>\n",
       "      <td>36</td>\n",
       "      <td>435.8274</td>\n",
       "    </tr>\n",
       "    <tr>\n",
       "      <th>AA-10645</th>\n",
       "      <th>Anna Andreadi</th>\n",
       "      <td>55</td>\n",
       "      <td>18</td>\n",
       "      <td>5086.935</td>\n",
       "      <td>64</td>\n",
       "      <td>857.8033</td>\n",
       "    </tr>\n",
       "    <tr>\n",
       "      <th>AB-10015</th>\n",
       "      <th>Aaron Bergman</th>\n",
       "      <td>415</td>\n",
       "      <td>6</td>\n",
       "      <td>886.156</td>\n",
       "      <td>13</td>\n",
       "      <td>129.3465</td>\n",
       "    </tr>\n",
       "  </tbody>\n",
       "</table>\n",
       "</div>"
      ],
      "text/plain": [
       "                           Recency  Frequency  Monetary_Value  \\\n",
       "Customer ID Customer Name                                       \n",
       "AA-10315    Alex Avila         184         11        5563.560   \n",
       "AA-10375    Allen Armold        19         15        1056.390   \n",
       "AA-10480    Andrew Allen       259         12        1790.512   \n",
       "AA-10645    Anna Andreadi       55         18        5086.935   \n",
       "AB-10015    Aaron Bergman      415          6         886.156   \n",
       "\n",
       "                           Monetary_Quantity  Monetary_Profit  \n",
       "Customer ID Customer Name                                      \n",
       "AA-10315    Alex Avila                    30        -362.8825  \n",
       "AA-10375    Allen Armold                  41         277.3824  \n",
       "AA-10480    Andrew Allen                  36         435.8274  \n",
       "AA-10645    Anna Andreadi                 64         857.8033  \n",
       "AB-10015    Aaron Bergman                 13         129.3465  "
      ]
     },
     "execution_count": 5,
     "metadata": {},
     "output_type": "execute_result"
    }
   ],
   "source": [
    "# Recency, Frequency, Monetary (RFM) table\n",
    "rfm = df.groupby(['Customer ID','Customer Name']).agg(\n",
    "        Recency=('Order Date', lambda x: (checkpoint-x.max()).days),\n",
    "        Frequency=('Quantity', 'count'),\n",
    "        Monetary_Value=('Sales', 'sum'),\n",
    "        Monetary_Quantity=('Quantity', 'sum'),\n",
    "        Monetary_Profit=('Profit', 'sum')\n",
    "        )\n",
    "print('# Customers: {}'.format(rfm.shape[0]))\n",
    "print('\\nRFM for first 5 customers:')\n",
    "rfm.head()"
   ]
  },
  {
   "cell_type": "code",
   "execution_count": 6,
   "metadata": {},
   "outputs": [
    {
     "data": {
      "image/png": "[encoded data removed]",
      "text/plain": [
       "<Figure size 432x288 with 1 Axes>"
      ]
     },
     "metadata": {
      "needs_background": "light"
     },
     "output_type": "display_data"
    },
    {
     "name": "stdout",
     "output_type": "stream",
     "text": [
      "Number of customers who have not placed an order in ~3 years: 3 out of 793\n"
     ]
    }
   ],
   "source": [
    "# Examine distribution of Recency\n",
    "rfm.boxplot(column='Recency')\n",
    "plt.ylabel('Recency (# Days)')\n",
    "plt.title('Boxplot of Recency')\n",
    "plt.show()\n",
    "\n",
    "# number of customers who haven't placed an order in 3 years (3*365 days)\n",
    "print('Number of customers who have not placed an order in ~3 years: {} out of {}'.format(np.sum(rfm['Recency']>1095), rfm.shape[0]))   "
   ]
  },
  {
   "cell_type": "code",
   "execution_count": 7,
   "metadata": {},
   "outputs": [
    {
     "data": {
      "image/png": "[encoded data removed]",
      "text/plain": [
       "<Figure size 432x288 with 1 Axes>"
      ]
     },
     "metadata": {
      "needs_background": "light"
     },
     "output_type": "display_data"
    },
    {
     "name": "stdout",
     "output_type": "stream",
     "text": [
      "Number of customers with 1 order: 5 out of 793\n"
     ]
    }
   ],
   "source": [
    "# Examine distribution of Frequency\n",
    "rfm.boxplot(column='Frequency')\n",
    "plt.ylabel('Frequency (# Orders)')\n",
    "plt.title('Boxplot of Frequency')\n",
    "plt.show()\n",
    "\n",
    "# number of customers with 1 order\n",
    "print('Number of customers with 1 order: {} out of {}'.format(np.sum(rfm['Frequency']==1), rfm.shape[0]))   "
   ]
  },
  {
   "cell_type": "markdown",
   "metadata": {},
   "source": [
    "Observation: 3 out of 793 customers have not placed an order in 3 years. They could potentially be removed from the customer base to be segmented, if the superstore considers them lost. The frequency feature revealed that most customers are repeat customers."
   ]
  },
  {
   "cell_type": "markdown",
   "metadata": {},
   "source": [
    "##### 3. Using K-means algorithm, perform customer segmentation\n",
    "KMeans on RFM features"
   ]
  },
  {
   "cell_type": "code",
   "execution_count": 8,
   "metadata": {},
   "outputs": [],
   "source": [
    "# standardize columns (z-score)\n",
    "X = StandardScaler().fit_transform(rfm.copy())\n",
    "X = pd.DataFrame(X, columns=rfm.columns)"
   ]
  },
  {
   "cell_type": "markdown",
   "metadata": {},
   "source": [
    "KMeans on RFM features without Profit"
   ]
  },
  {
   "cell_type": "code",
   "execution_count": 9,
   "metadata": {},
   "outputs": [
    {
     "data": {
      "image/png": "[encoded data removed]",
      "text/plain": [
       "<Figure size 432x288 with 1 Axes>"
      ]
     },
     "metadata": {
      "needs_background": "light"
     },
     "output_type": "display_data"
    }
   ],
   "source": [
    "# RFM features without profit\n",
    "X1 = X[['Recency', 'Frequency', 'Monetary_Value', 'Monetary_Quantity']]\n",
    "\n",
    "# estimate optimal number of clusters; compare within-cluster sum of squares for a range of number of clusters\n",
    "wcss = []\n",
    "for i in range(2, 11):\n",
    "    kmeans = KMeans(n_clusters=i, random_state=5)\n",
    "    kmeans.fit(X1)\n",
    "    wcss.append(kmeans.inertia_)\n",
    "plt.plot(range(2, 11), wcss)\n",
    "plt.title('Within Cluster Sum of Squares vs. # Clusters (Profit not included)')\n",
    "plt.xlabel('# Clusters')\n",
    "plt.ylabel('WCSS')\n",
    "plt.show()"
   ]
  },
  {
   "cell_type": "code",
   "execution_count": 10,
   "metadata": {},
   "outputs": [],
   "source": [
    "# fit Kmeans to RFM table, using 6 clusters\n",
    "kmeans = KMeans(n_clusters=6, random_state=5)\n",
    "kmeans_labels1 = kmeans.fit_predict(X1)\n",
    "\n",
    "# add the cluster label to the RFM table\n",
    "rfm['Cluster'] = kmeans_labels1"
   ]
  },
  {
   "cell_type": "markdown",
   "metadata": {},
   "source": [
    "KMeans on RFM features + Profit"
   ]
  },
  {
   "cell_type": "code",
   "execution_count": 11,
   "metadata": {},
   "outputs": [
    {
     "data": {
      "image/png": "[encoded data removed]",
      "text/plain": [
       "<Figure size 432x288 with 1 Axes>"
      ]
     },
     "metadata": {
      "needs_background": "light"
     },
     "output_type": "display_data"
    }
   ],
   "source": [
    "# estimate optimal number of clusters; compare within-cluster sum of squares for a range of number of clusters\n",
    "wcss = []\n",
    "for i in range(2, 11):\n",
    "    kmeans = KMeans(n_clusters=i, random_state=5)\n",
    "    kmeans.fit(X)\n",
    "    wcss.append(kmeans.inertia_)\n",
    "plt.plot(range(2, 11), wcss)\n",
    "plt.title('Within Cluster Sum of Squares vs. # Clusters (Profit included)')\n",
    "plt.xlabel('# Clusters')\n",
    "plt.ylabel('WCSS')\n",
    "plt.show()"
   ]
  },
  {
   "cell_type": "code",
   "execution_count": 12,
   "metadata": {},
   "outputs": [],
   "source": [
    "# fit Kmeans to RFM table + Profit, using 6 clusters\n",
    "kmeans = KMeans(n_clusters=6, random_state=5)\n",
    "kmeans_labels2 = kmeans.fit_predict(X)\n",
    "\n",
    "# add the cluster label to the RFM table\n",
    "rfm['Cluster_Profit'] = kmeans_labels2"
   ]
  },
  {
   "cell_type": "code",
   "execution_count": 13,
   "metadata": {},
   "outputs": [
    {
     "name": "stdout",
     "output_type": "stream",
     "text": [
      "\n",
      "RFM for first 5 customers, with cluster labels:\n"
     ]
    },
    {
     "data": {
      "text/html": [
       "<div>\n",
       "<style scoped>\n",
       "    .dataframe tbody tr th:only-of-type {\n",
       "        vertical-align: middle;\n",
       "    }\n",
       "\n",
       "    .dataframe tbody tr th {\n",
       "        vertical-align: top;\n",
       "    }\n",
       "\n",
       "    .dataframe thead th {\n",
       "        text-align: right;\n",
       "    }\n",
       "</style>\n",
       "<table border=\"1\" class=\"dataframe\">\n",
       "  <thead>\n",
       "    <tr style=\"text-align: right;\">\n",
       "      <th></th>\n",
       "      <th></th>\n",
       "      <th>Recency</th>\n",
       "      <th>Frequency</th>\n",
       "      <th>Monetary_Value</th>\n",
       "      <th>Monetary_Quantity</th>\n",
       "      <th>Monetary_Profit</th>\n",
       "      <th>Cluster</th>\n",
       "      <th>Cluster_Profit</th>\n",
       "    </tr>\n",
       "    <tr>\n",
       "      <th>Customer ID</th>\n",
       "      <th>Customer Name</th>\n",
       "      <th></th>\n",
       "      <th></th>\n",
       "      <th></th>\n",
       "      <th></th>\n",
       "      <th></th>\n",
       "      <th></th>\n",
       "      <th></th>\n",
       "    </tr>\n",
       "  </thead>\n",
       "  <tbody>\n",
       "    <tr>\n",
       "      <th>AA-10315</th>\n",
       "      <th>Alex Avila</th>\n",
       "      <td>184</td>\n",
       "      <td>11</td>\n",
       "      <td>5563.560</td>\n",
       "      <td>30</td>\n",
       "      <td>-362.8825</td>\n",
       "      <td>0</td>\n",
       "      <td>0</td>\n",
       "    </tr>\n",
       "    <tr>\n",
       "      <th>AA-10375</th>\n",
       "      <th>Allen Armold</th>\n",
       "      <td>19</td>\n",
       "      <td>15</td>\n",
       "      <td>1056.390</td>\n",
       "      <td>41</td>\n",
       "      <td>277.3824</td>\n",
       "      <td>0</td>\n",
       "      <td>2</td>\n",
       "    </tr>\n",
       "    <tr>\n",
       "      <th>AA-10480</th>\n",
       "      <th>Andrew Allen</th>\n",
       "      <td>259</td>\n",
       "      <td>12</td>\n",
       "      <td>1790.512</td>\n",
       "      <td>36</td>\n",
       "      <td>435.8274</td>\n",
       "      <td>0</td>\n",
       "      <td>0</td>\n",
       "    </tr>\n",
       "    <tr>\n",
       "      <th>AA-10645</th>\n",
       "      <th>Anna Andreadi</th>\n",
       "      <td>55</td>\n",
       "      <td>18</td>\n",
       "      <td>5086.935</td>\n",
       "      <td>64</td>\n",
       "      <td>857.8033</td>\n",
       "      <td>2</td>\n",
       "      <td>2</td>\n",
       "    </tr>\n",
       "    <tr>\n",
       "      <th>AB-10015</th>\n",
       "      <th>Aaron Bergman</th>\n",
       "      <td>415</td>\n",
       "      <td>6</td>\n",
       "      <td>886.156</td>\n",
       "      <td>13</td>\n",
       "      <td>129.3465</td>\n",
       "      <td>3</td>\n",
       "      <td>5</td>\n",
       "    </tr>\n",
       "  </tbody>\n",
       "</table>\n",
       "</div>"
      ],
      "text/plain": [
       "                           Recency  Frequency  Monetary_Value  \\\n",
       "Customer ID Customer Name                                       \n",
       "AA-10315    Alex Avila         184         11        5563.560   \n",
       "AA-10375    Allen Armold        19         15        1056.390   \n",
       "AA-10480    Andrew Allen       259         12        1790.512   \n",
       "AA-10645    Anna Andreadi       55         18        5086.935   \n",
       "AB-10015    Aaron Bergman      415          6         886.156   \n",
       "\n",
       "                           Monetary_Quantity  Monetary_Profit  Cluster  \\\n",
       "Customer ID Customer Name                                                \n",
       "AA-10315    Alex Avila                    30        -362.8825        0   \n",
       "AA-10375    Allen Armold                  41         277.3824        0   \n",
       "AA-10480    Andrew Allen                  36         435.8274        0   \n",
       "AA-10645    Anna Andreadi                 64         857.8033        2   \n",
       "AB-10015    Aaron Bergman                 13         129.3465        3   \n",
       "\n",
       "                           Cluster_Profit  \n",
       "Customer ID Customer Name                  \n",
       "AA-10315    Alex Avila                  0  \n",
       "AA-10375    Allen Armold                2  \n",
       "AA-10480    Andrew Allen                0  \n",
       "AA-10645    Anna Andreadi               2  \n",
       "AB-10015    Aaron Bergman               5  "
      ]
     },
     "execution_count": 13,
     "metadata": {},
     "output_type": "execute_result"
    }
   ],
   "source": [
    "# resultant RFM table with cluster labels\n",
    "# Cluster: KMeans label without profit\n",
    "# Cluster_Profit: KMeans label with profit\n",
    "print('\\nRFM for first 5 customers, with cluster labels:')\n",
    "rfm.head()"
   ]
  },
  {
   "cell_type": "markdown",
   "metadata": {},
   "source": [
    "##### 4. Describe your results\n",
    "\n",
    "RFM features were calculated for each customer (see strategy described above), and KMeans clustering was used for customer segmentation. Customers were segmented into 6 clusters, based on the elbow method and within-cluster sum of squares. \n",
    "\n",
    "Customer segmentation results are described below:"
   ]
  },
  {
   "cell_type": "code",
   "execution_count": 14,
   "metadata": {},
   "outputs": [
    {
     "data": {
      "image/png": "[encoded data removed]",
      "text/plain": [
       "<Figure size 576x288 with 2 Axes>"
      ]
     },
     "metadata": {
      "needs_background": "light"
     },
     "output_type": "display_data"
    }
   ],
   "source": [
    "# distribution of clusters/customer segments\n",
    "fig, axs = plt.subplots(1,2, sharey=True, figsize=(8,4))\n",
    "rfm['Cluster'].value_counts().plot(kind='bar', width=0.8, ax=axs[0])\n",
    "axs[0].set_title('Profit not included in KMeans culustering')\n",
    "axs[0].set_ylabel('Count')\n",
    "axs[0].set_xlabel('Cluster/Customer segment')\n",
    "\n",
    "rfm['Cluster_Profit'].value_counts().plot(kind='bar', width=0.8, ax=axs[1])\n",
    "axs[1].set_title('Profit included in KMeans clustering')\n",
    "axs[1].set_ylabel('Count')\n",
    "axs[1].set_xlabel('Cluster/Customer segment')\n",
    "plt.show()"
   ]
  },
  {
   "cell_type": "code",
   "execution_count": 15,
   "metadata": {},
   "outputs": [
    {
     "name": "stdout",
     "output_type": "stream",
     "text": [
      "Customer segmentation without Profit:\n",
      "Clusters sorted by Frequency and Monetary average (high to low): [1 5 2 0 3 4]\n"
     ]
    },
    {
     "data": {
      "image/png": "[encoded data removed]",
      "text/plain": [
       "<Figure size 432x288 with 2 Axes>"
      ]
     },
     "metadata": {
      "needs_background": "light"
     },
     "output_type": "display_data"
    }
   ],
   "source": [
    "# for easier comparison, convert RFM features to quantiles, and compare the mean between clusters\n",
    "rfm['RecencyQ'] = pd.qcut(rfm['Recency'].values, 5).codes + 1\n",
    "rfm['FrequencyQ'] = pd.qcut(rfm['Frequency'].values, 5).codes + 1\n",
    "rfm['Monetary_ValueQ'] = pd.qcut(rfm['Monetary_Value'].values, 5).codes + 1\n",
    "rfm['Monetary_QuantityQ'] = pd.qcut(rfm['Monetary_Quantity'].values, 5).codes + 1\n",
    "rfm['Monetary_ProfitQ'] = pd.qcut(rfm['Monetary_Profit'].values, 5).codes + 1\n",
    "\n",
    "# clusters without profit\n",
    "print('Customer segmentation without Profit:')\n",
    "rfmq = rfm.groupby('Cluster')[['RecencyQ', 'FrequencyQ', 'Monetary_ValueQ', 'Monetary_QuantityQ']].mean()\n",
    "sns.heatmap(rfmq.T, vmin=1, vmax=5, cmap='Blues', annot=True, fmt='.1f', linewidth=0.5, square=True);\n",
    "\n",
    "# find clusters with highest mean F and M features\n",
    "print('Clusters sorted by Frequency and Monetary average (high to low): {}'.format(rfmq.loc[:, ~rfmq.columns.isin(['RecencyQ'])].mean(axis=1).sort_values(ascending=False).index.values))"
   ]
  },
  {
   "cell_type": "markdown",
   "metadata": {},
   "source": [
    "##### Results from customer segmentation, not using Profit:\n",
    "From largest cluster to smallest cluster:<br>\n",
    "\n",
    "<ul>\n",
    "    <li>Cluster 0: average R, F, MV, MQ</li>\n",
    "    <li>Cluster 4: average R, low F, MV, MQ</li>\n",
    "    <li>Cluster 2: average R, high F, MV, MQ</li>\n",
    "    <li>Cluster 3: max R, low F, MV, MQ</li>\n",
    "    <li>Cluster 1: average R, max F, high MV, max MQ</li>\n",
    "    <li>Cluster 5: average R, high F, max MV, high MQ</li>\n",
    "</ul>\n",
    "where R: Recency, F: Frequency, MV: Monetary_Value, MQ: Monetary_Quantity\n",
    "\n",
    "<ul>\n",
    "    <li>Assuming that the lowest R, highest F and M represent the best customers: Cluster 1 arguably represents the best and Cluster 3 arguably represents the worse.</li>\n",
    "    <li>Customers with average RFM features make up the largest cluster (Cluster 0), followed by customers with average R but high and low F and M features (tie between Clusters 4 and 2). These 3 clusters make up 76% of the customer base.</li>\n",
    "    </ul>"
   ]
  },
  {
   "cell_type": "code",
   "execution_count": 16,
   "metadata": {},
   "outputs": [
    {
     "name": "stdout",
     "output_type": "stream",
     "text": [
      "Customer segmentation with Profit:\n",
      "Clusters sorted by Frequency and Monetary average (high to low): [3 4 2 1 0 5]\n"
     ]
    },
    {
     "data": {
      "image/png": "[encoded data removed]",
      "text/plain": [
       "<Figure size 432x288 with 2 Axes>"
      ]
     },
     "metadata": {
      "needs_background": "light"
     },
     "output_type": "display_data"
    }
   ],
   "source": [
    "# clusters with profit\n",
    "print('Customer segmentation with Profit:')\n",
    "rfmq = rfm.groupby('Cluster_Profit')[['RecencyQ', 'FrequencyQ', 'Monetary_ValueQ', 'Monetary_QuantityQ', 'Monetary_ProfitQ']].mean()\n",
    "sns.heatmap(rfmq.T, vmin=1, vmax=5, cmap='Blues', annot=True, fmt='.1f', linewidth=0.5, square=True);\n",
    "\n",
    "# find clusters with highest mean F and M features\n",
    "print('Clusters sorted by Frequency and Monetary average (high to low): {}'.format(rfmq.loc[:, ~rfmq.columns.isin(['RecencyQ'])].mean(axis=1).sort_values(ascending=False).index.values))"
   ]
  },
  {
   "cell_type": "markdown",
   "metadata": {},
   "source": [
    "##### Results from customer segmentation using Profit:\n",
    "From largest cluster to smallest cluster:<br>\n",
    "<ul>\n",
    "    <li>Cluster 0: average R, F, MV, MQ, MP</li>\n",
    "    <li>Cluster 2: average R, high F, MV, MQ, MP</li>\n",
    "    <li>Cluster 5: max R, low-average F, MV, MQ, MP</li>\n",
    "    <li>Cluster 3: average R, close to max F, MV, MQ, high MP</li>\n",
    "    <li>Cluster 4: average R, high F, max MV, high MQ, max MP</li>\n",
    "    <li>Cluster 1: average R, high F, max MV, MQ, min MP</li>\n",
    "</ul>\n",
    "where R: Recency, F: Frequency, MV: Monetary_Value, MQ: Monetary_Quantity, MP: Monetary_Profit\n",
    "\n",
    "<ul>\n",
    "    <li>Assuming that the lowest R, highest F and M represent the best customers: Cluster 3 arguably represents the best (or Cluster 4, if profit most important) and Cluster 5 arguably represents the worse.</li>\n",
    "    <li>Cluster 1 takes advantage of discounts.</li>\n",
    "    <li>Customers with average RFM features (slightly below average for F, MV, MQ) make up the largest cluster (Cluster 0), followed by customers with average R but above average/high F, MV, MQ, MP (Cluster 2). Cluster 0 and Cluster 2 make up 73% of the customer base.</li>\n",
    "    </ul>"
   ]
  }
 ],
 "metadata": {
  "kernelspec": {
   "display_name": "Python 3",
   "language": "python",
   "name": "python3"
  },
  "language_info": {
   "codemirror_mode": {
    "name": "ipython",
    "version": 3
   },
   "file_extension": ".py",
   "mimetype": "text/x-python",
   "name": "python",
   "nbconvert_exporter": "python",
   "pygments_lexer": "ipython3",
   "version": "3.7.4"
  }
 },
 "nbformat": 4,
 "nbformat_minor": 2
}
