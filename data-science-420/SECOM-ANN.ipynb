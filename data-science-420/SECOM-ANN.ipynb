{
 "cells": [
  {
   "cell_type": "markdown",
   "metadata": {},
   "source": [
    "### Capstone - Final Project\n",
    "### Lawrence Huang\n",
    "##### Instructions\n",
    "Create a new notebook and perform each of the following tasks and answer the related questions:\n",
    "\n",
    "1. Build a simple neural networks model\n",
    "2. Build a DNN model\n",
    "3. Build a RNN model\n",
    "4. Summarize your findings with examples.  Explain what the manufacturer should focus on to optimize the diaper manufacturing process."
   ]
  },
  {
   "cell_type": "code",
   "execution_count": 1,
   "metadata": {},
   "outputs": [
    {
     "name": "stderr",
     "output_type": "stream",
     "text": [
      "Using TensorFlow backend.\n"
     ]
    },
    {
     "name": "stdout",
     "output_type": "stream",
     "text": [
      "Couldn't import dot_parser, loading of dot files will not be possible.\n"
     ]
    }
   ],
   "source": [
    "# Imports\n",
    "import numpy as np\n",
    "import pandas as pd\n",
    "import matplotlib.pyplot as plt\n",
    "%matplotlib inline\n",
    "import seaborn as sns\n",
    "from sklearn.impute import SimpleImputer\n",
    "from sklearn.model_selection import train_test_split\n",
    "from sklearn.preprocessing import StandardScaler\n",
    "from imblearn.over_sampling import SMOTE\n",
    "from sklearn.feature_selection import SelectKBest, f_classif\n",
    "from tensorflow.keras.models import Sequential\n",
    "from tensorflow.keras.layers import Dense, Dropout, LSTM\n",
    "from tensorflow.keras.callbacks import EarlyStopping\n",
    "from tensorflow.keras.metrics import Recall, TruePositives\n",
    "from sklearn.metrics import confusion_matrix, classification_report, precision_recall_fscore_support, accuracy_score"
   ]
  },
  {
   "cell_type": "markdown",
   "metadata": {},
   "source": [
    "##### Data prepration "
   ]
  },
  {
   "cell_type": "code",
   "execution_count": 2,
   "metadata": {},
   "outputs": [
    {
     "name": "stdout",
     "output_type": "stream",
     "text": [
      "dataset shape:(1567, 591)\n"
     ]
    },
    {
     "data": {
      "text/html": [
       "<div>\n",
       "<style scoped>\n",
       "    .dataframe tbody tr th:only-of-type {\n",
       "        vertical-align: middle;\n",
       "    }\n",
       "\n",
       "    .dataframe tbody tr th {\n",
       "        vertical-align: top;\n",
       "    }\n",
       "\n",
       "    .dataframe thead th {\n",
       "        text-align: right;\n",
       "    }\n",
       "</style>\n",
       "<table border=\"1\" class=\"dataframe\">\n",
       "  <thead>\n",
       "    <tr style=\"text-align: right;\">\n",
       "      <th></th>\n",
       "      <th>0</th>\n",
       "      <th>1</th>\n",
       "      <th>2</th>\n",
       "      <th>3</th>\n",
       "      <th>4</th>\n",
       "      <th>5</th>\n",
       "      <th>6</th>\n",
       "      <th>7</th>\n",
       "      <th>8</th>\n",
       "      <th>9</th>\n",
       "      <th>...</th>\n",
       "      <th>581</th>\n",
       "      <th>582</th>\n",
       "      <th>583</th>\n",
       "      <th>584</th>\n",
       "      <th>585</th>\n",
       "      <th>586</th>\n",
       "      <th>587</th>\n",
       "      <th>588</th>\n",
       "      <th>589</th>\n",
       "      <th>label</th>\n",
       "    </tr>\n",
       "  </thead>\n",
       "  <tbody>\n",
       "    <tr>\n",
       "      <th>0</th>\n",
       "      <td>3030.93</td>\n",
       "      <td>2564.00</td>\n",
       "      <td>2187.7333</td>\n",
       "      <td>1411.1265</td>\n",
       "      <td>1.3602</td>\n",
       "      <td>100.0</td>\n",
       "      <td>97.6133</td>\n",
       "      <td>0.1242</td>\n",
       "      <td>1.5005</td>\n",
       "      <td>0.0162</td>\n",
       "      <td>...</td>\n",
       "      <td>NaN</td>\n",
       "      <td>0.5005</td>\n",
       "      <td>0.0118</td>\n",
       "      <td>0.0035</td>\n",
       "      <td>2.3630</td>\n",
       "      <td>NaN</td>\n",
       "      <td>NaN</td>\n",
       "      <td>NaN</td>\n",
       "      <td>NaN</td>\n",
       "      <td>-1</td>\n",
       "    </tr>\n",
       "    <tr>\n",
       "      <th>1</th>\n",
       "      <td>3095.78</td>\n",
       "      <td>2465.14</td>\n",
       "      <td>2230.4222</td>\n",
       "      <td>1463.6606</td>\n",
       "      <td>0.8294</td>\n",
       "      <td>100.0</td>\n",
       "      <td>102.3433</td>\n",
       "      <td>0.1247</td>\n",
       "      <td>1.4966</td>\n",
       "      <td>-0.0005</td>\n",
       "      <td>...</td>\n",
       "      <td>208.2045</td>\n",
       "      <td>0.5019</td>\n",
       "      <td>0.0223</td>\n",
       "      <td>0.0055</td>\n",
       "      <td>4.4447</td>\n",
       "      <td>0.0096</td>\n",
       "      <td>0.0201</td>\n",
       "      <td>0.0060</td>\n",
       "      <td>208.2045</td>\n",
       "      <td>-1</td>\n",
       "    </tr>\n",
       "    <tr>\n",
       "      <th>2</th>\n",
       "      <td>2932.61</td>\n",
       "      <td>2559.94</td>\n",
       "      <td>2186.4111</td>\n",
       "      <td>1698.0172</td>\n",
       "      <td>1.5102</td>\n",
       "      <td>100.0</td>\n",
       "      <td>95.4878</td>\n",
       "      <td>0.1241</td>\n",
       "      <td>1.4436</td>\n",
       "      <td>0.0041</td>\n",
       "      <td>...</td>\n",
       "      <td>82.8602</td>\n",
       "      <td>0.4958</td>\n",
       "      <td>0.0157</td>\n",
       "      <td>0.0039</td>\n",
       "      <td>3.1745</td>\n",
       "      <td>0.0584</td>\n",
       "      <td>0.0484</td>\n",
       "      <td>0.0148</td>\n",
       "      <td>82.8602</td>\n",
       "      <td>1</td>\n",
       "    </tr>\n",
       "    <tr>\n",
       "      <th>3</th>\n",
       "      <td>2988.72</td>\n",
       "      <td>2479.90</td>\n",
       "      <td>2199.0333</td>\n",
       "      <td>909.7926</td>\n",
       "      <td>1.3204</td>\n",
       "      <td>100.0</td>\n",
       "      <td>104.2367</td>\n",
       "      <td>0.1217</td>\n",
       "      <td>1.4882</td>\n",
       "      <td>-0.0124</td>\n",
       "      <td>...</td>\n",
       "      <td>73.8432</td>\n",
       "      <td>0.4990</td>\n",
       "      <td>0.0103</td>\n",
       "      <td>0.0025</td>\n",
       "      <td>2.0544</td>\n",
       "      <td>0.0202</td>\n",
       "      <td>0.0149</td>\n",
       "      <td>0.0044</td>\n",
       "      <td>73.8432</td>\n",
       "      <td>-1</td>\n",
       "    </tr>\n",
       "    <tr>\n",
       "      <th>4</th>\n",
       "      <td>3032.24</td>\n",
       "      <td>2502.87</td>\n",
       "      <td>2233.3667</td>\n",
       "      <td>1326.5200</td>\n",
       "      <td>1.5334</td>\n",
       "      <td>100.0</td>\n",
       "      <td>100.3967</td>\n",
       "      <td>0.1235</td>\n",
       "      <td>1.5031</td>\n",
       "      <td>-0.0031</td>\n",
       "      <td>...</td>\n",
       "      <td>NaN</td>\n",
       "      <td>0.4800</td>\n",
       "      <td>0.4766</td>\n",
       "      <td>0.1045</td>\n",
       "      <td>99.3032</td>\n",
       "      <td>0.0202</td>\n",
       "      <td>0.0149</td>\n",
       "      <td>0.0044</td>\n",
       "      <td>73.8432</td>\n",
       "      <td>-1</td>\n",
       "    </tr>\n",
       "  </tbody>\n",
       "</table>\n",
       "<p>5 rows × 591 columns</p>\n",
       "</div>"
      ],
      "text/plain": [
       "         0        1          2          3       4      5         6       7  \\\n",
       "0  3030.93  2564.00  2187.7333  1411.1265  1.3602  100.0   97.6133  0.1242   \n",
       "1  3095.78  2465.14  2230.4222  1463.6606  0.8294  100.0  102.3433  0.1247   \n",
       "2  2932.61  2559.94  2186.4111  1698.0172  1.5102  100.0   95.4878  0.1241   \n",
       "3  2988.72  2479.90  2199.0333   909.7926  1.3204  100.0  104.2367  0.1217   \n",
       "4  3032.24  2502.87  2233.3667  1326.5200  1.5334  100.0  100.3967  0.1235   \n",
       "\n",
       "        8       9  ...       581     582     583     584      585     586  \\\n",
       "0  1.5005  0.0162  ...       NaN  0.5005  0.0118  0.0035   2.3630     NaN   \n",
       "1  1.4966 -0.0005  ...  208.2045  0.5019  0.0223  0.0055   4.4447  0.0096   \n",
       "2  1.4436  0.0041  ...   82.8602  0.4958  0.0157  0.0039   3.1745  0.0584   \n",
       "3  1.4882 -0.0124  ...   73.8432  0.4990  0.0103  0.0025   2.0544  0.0202   \n",
       "4  1.5031 -0.0031  ...       NaN  0.4800  0.4766  0.1045  99.3032  0.0202   \n",
       "\n",
       "      587     588       589  label  \n",
       "0     NaN     NaN       NaN     -1  \n",
       "1  0.0201  0.0060  208.2045     -1  \n",
       "2  0.0484  0.0148   82.8602      1  \n",
       "3  0.0149  0.0044   73.8432     -1  \n",
       "4  0.0149  0.0044   73.8432     -1  \n",
       "\n",
       "[5 rows x 591 columns]"
      ]
     },
     "execution_count": 2,
     "metadata": {},
     "output_type": "execute_result"
    }
   ],
   "source": [
    "# load data: SECOM manufacturing Data Set from UCI Machine Learning Repository\n",
    "filename_features = 'https://archive.ics.uci.edu/ml/machine-learning-databases/secom/secom.data'\n",
    "df = pd.read_csv(filename_features, header=None, sep=' ')\n",
    "filename_label = 'http://archive.ics.uci.edu/ml/machine-learning-databases/secom/secom_labels.data'\n",
    "df_label = pd.read_csv(filename_label, header=None, sep= ' ', usecols=[0]) # don't need label timestamp\n",
    "\n",
    "# merge data: add label to features\n",
    "df['label'] = df_label\n",
    "\n",
    "# preview data\n",
    "print('dataset shape:{}'.format(df.shape))\n",
    "df.head()"
   ]
  },
  {
   "cell_type": "code",
   "execution_count": 3,
   "metadata": {},
   "outputs": [
    {
     "name": "stdout",
     "output_type": "stream",
     "text": [
      "Columns with single value:\n",
      "[5 13 42 49 52 69 97 141 149 178 179 186 189 190 191 192 193 194 226 229\n",
      " 230 231 232 233 234 235 236 237 240 241 242 243 256 257 258 259 260 261\n",
      " 262 263 264 265 266 276 284 313 314 315 322 325 326 327 328 329 330 364\n",
      " 369 370 371 372 373 374 375 378 379 380 381 394 395 396 397 398 399 400\n",
      " 401 402 403 404 414 422 449 450 451 458 461 462 463 464 465 466 481 498\n",
      " 501 502 503 504 505 506 507 508 509 512 513 514 515 528 529 530 531 532\n",
      " 533 534 535 536 537 538]\n",
      "\n",
      "# columns with single value: 116\n"
     ]
    }
   ],
   "source": [
    "# identify zero variance columns with constant/single value \n",
    "cols_zero_var = df.loc[:, df.nunique()==1].columns.values\n",
    "print('Columns with single value:\\n{}'.format(cols_zero_var))\n",
    "print('\\n# columns with single value: {}'.format(len(cols_zero_var)))\n",
    "# drop zero variance columns with constant/single value \n",
    "df.drop(cols_zero_var, axis=1, inplace=True)"
   ]
  },
  {
   "cell_type": "code",
   "execution_count": 4,
   "metadata": {},
   "outputs": [
    {
     "name": "stdout",
     "output_type": "stream",
     "text": [
      "data type:\n",
      "float64    474\n",
      "int64        1\n",
      "dtype: int64\n",
      "\n",
      "# missing values/ # of columns:\n",
      "0       53\n",
      "1       80\n",
      "2       84\n",
      "3       20\n",
      "4        9\n",
      "5        3\n",
      "6       57\n",
      "7       20\n",
      "8       12\n",
      "9       15\n",
      "10       4\n",
      "12       4\n",
      "14      16\n",
      "24      38\n",
      "51       8\n",
      "260     12\n",
      "273      8\n",
      "715      4\n",
      "794      4\n",
      "949      4\n",
      "1018    12\n",
      "1341     4\n",
      "1429     4\n",
      "dtype: int64\n"
     ]
    }
   ],
   "source": [
    "# handle null/missing values\n",
    "# examine data type: all numeric\n",
    "print('data type:')\n",
    "print(df.dtypes.value_counts())\n",
    "\n",
    "# number of missing values: some columns are missing > 90% of values\n",
    "num_missing = df.isna().sum()\n",
    "print('\\n# missing values/ # of columns:')\n",
    "print(num_missing.value_counts().sort_index())"
   ]
  },
  {
   "cell_type": "code",
   "execution_count": 5,
   "metadata": {},
   "outputs": [
    {
     "name": "stdout",
     "output_type": "stream",
     "text": [
      "\n",
      "Columns with >50% missing values:\n",
      "[72, 73, 85, 109, 110, 111, 157, 158, 220, 244, 245, 246, 292, 293, 345, 346, 358, 382, 383, 384, 492, 516, 517, 518, 578, 579, 580, 581]\n",
      "\n",
      "# columns with >50% missing values: 28\n"
     ]
    }
   ],
   "source": [
    "# drop columns missing >50%\n",
    "cols_excess_missing = num_missing[num_missing>df.shape[0]/2].index.to_list()\n",
    "print('\\nColumns with >50% missing values:\\n{}'.format(cols_excess_missing))\n",
    "print('\\n# columns with >50% missing values: {}'.format(len(cols_excess_missing)))\n",
    "df.drop(cols_excess_missing, axis=1, inplace=True)"
   ]
  },
  {
   "cell_type": "code",
   "execution_count": 6,
   "metadata": {},
   "outputs": [
    {
     "name": "stdout",
     "output_type": "stream",
     "text": [
      "# missing values before imputation: 10868\n",
      "# missing values after imputation: 0\n"
     ]
    }
   ],
   "source": [
    "# impute other columns with missing values\n",
    "# strategy: fill with median or 0. Trying median here.\n",
    "print('# missing values before imputation: {}'.format(df.isna().sum().sum()))\n",
    "imputer = SimpleImputer(missing_values=np.nan, strategy='median')\n",
    "# imputer = SimpleImputer(missing_values=np.nan, strategy='constant') # fill with 0\n",
    "df = pd.DataFrame(imputer.fit_transform(df), columns=df.columns)\n",
    "print('# missing values after imputation: {}'.format(df.isna().sum().sum()))"
   ]
  },
  {
   "cell_type": "code",
   "execution_count": 7,
   "metadata": {},
   "outputs": [
    {
     "name": "stdout",
     "output_type": "stream",
     "text": [
      "columns with near-zero variance:\n",
      "[74, 114, 206, 209, 249, 342, 347, 387, 478, 521, 542]\n",
      "\n",
      "# columns with near-zero variance: 11\n"
     ]
    }
   ],
   "source": [
    "# find columns with near-zero variance, with conditions 1 and 2:\n",
    "# 1. few (<10%) unique values relative to the number of samples \n",
    "# 2. large ratio (>19, or >95:5%) of the frequency of the most common value to the frequency of the second most common value\n",
    "top2 = (df.apply(lambda x: pd.Series(x.value_counts().values[:2]))).T\n",
    "cols_nzv = df.columns[(df.nunique()/df.shape[0]<0.1) & (top2[0]/top2[1]>19)].to_list()\n",
    "print('columns with near-zero variance:\\n{}'.format(cols_nzv))\n",
    "print('\\n# columns with near-zero variance: {}'.format(len(cols_nzv)))\n",
    "# drop columns with near-zero variance\n",
    "df.drop(cols_nzv, axis=1, inplace=True)"
   ]
  },
  {
   "cell_type": "code",
   "execution_count": 8,
   "metadata": {},
   "outputs": [],
   "source": [
    "# change label to binary\n",
    "df['label'].replace({-1:0}, inplace=True)\n",
    "# df['label'] = df['label'].astype(int)"
   ]
  },
  {
   "cell_type": "code",
   "execution_count": 9,
   "metadata": {},
   "outputs": [
    {
     "name": "stdout",
     "output_type": "stream",
     "text": [
      "dataset shape:(1567, 436)\n"
     ]
    },
    {
     "data": {
      "text/html": [
       "<div>\n",
       "<style scoped>\n",
       "    .dataframe tbody tr th:only-of-type {\n",
       "        vertical-align: middle;\n",
       "    }\n",
       "\n",
       "    .dataframe tbody tr th {\n",
       "        vertical-align: top;\n",
       "    }\n",
       "\n",
       "    .dataframe thead th {\n",
       "        text-align: right;\n",
       "    }\n",
       "</style>\n",
       "<table border=\"1\" class=\"dataframe\">\n",
       "  <thead>\n",
       "    <tr style=\"text-align: right;\">\n",
       "      <th></th>\n",
       "      <th>0</th>\n",
       "      <th>1</th>\n",
       "      <th>2</th>\n",
       "      <th>3</th>\n",
       "      <th>4</th>\n",
       "      <th>6</th>\n",
       "      <th>7</th>\n",
       "      <th>8</th>\n",
       "      <th>9</th>\n",
       "      <th>10</th>\n",
       "      <th>...</th>\n",
       "      <th>577</th>\n",
       "      <th>582</th>\n",
       "      <th>583</th>\n",
       "      <th>584</th>\n",
       "      <th>585</th>\n",
       "      <th>586</th>\n",
       "      <th>587</th>\n",
       "      <th>588</th>\n",
       "      <th>589</th>\n",
       "      <th>label</th>\n",
       "    </tr>\n",
       "  </thead>\n",
       "  <tbody>\n",
       "    <tr>\n",
       "      <th>0</th>\n",
       "      <td>3030.93</td>\n",
       "      <td>2564.00</td>\n",
       "      <td>2187.7333</td>\n",
       "      <td>1411.1265</td>\n",
       "      <td>1.3602</td>\n",
       "      <td>97.6133</td>\n",
       "      <td>0.1242</td>\n",
       "      <td>1.5005</td>\n",
       "      <td>0.0162</td>\n",
       "      <td>-0.0034</td>\n",
       "      <td>...</td>\n",
       "      <td>14.9509</td>\n",
       "      <td>0.5005</td>\n",
       "      <td>0.0118</td>\n",
       "      <td>0.0035</td>\n",
       "      <td>2.3630</td>\n",
       "      <td>0.0205</td>\n",
       "      <td>0.0148</td>\n",
       "      <td>0.0046</td>\n",
       "      <td>71.9005</td>\n",
       "      <td>0.0</td>\n",
       "    </tr>\n",
       "    <tr>\n",
       "      <th>1</th>\n",
       "      <td>3095.78</td>\n",
       "      <td>2465.14</td>\n",
       "      <td>2230.4222</td>\n",
       "      <td>1463.6606</td>\n",
       "      <td>0.8294</td>\n",
       "      <td>102.3433</td>\n",
       "      <td>0.1247</td>\n",
       "      <td>1.4966</td>\n",
       "      <td>-0.0005</td>\n",
       "      <td>-0.0148</td>\n",
       "      <td>...</td>\n",
       "      <td>10.9003</td>\n",
       "      <td>0.5019</td>\n",
       "      <td>0.0223</td>\n",
       "      <td>0.0055</td>\n",
       "      <td>4.4447</td>\n",
       "      <td>0.0096</td>\n",
       "      <td>0.0201</td>\n",
       "      <td>0.0060</td>\n",
       "      <td>208.2045</td>\n",
       "      <td>0.0</td>\n",
       "    </tr>\n",
       "    <tr>\n",
       "      <th>2</th>\n",
       "      <td>2932.61</td>\n",
       "      <td>2559.94</td>\n",
       "      <td>2186.4111</td>\n",
       "      <td>1698.0172</td>\n",
       "      <td>1.5102</td>\n",
       "      <td>95.4878</td>\n",
       "      <td>0.1241</td>\n",
       "      <td>1.4436</td>\n",
       "      <td>0.0041</td>\n",
       "      <td>0.0013</td>\n",
       "      <td>...</td>\n",
       "      <td>9.2721</td>\n",
       "      <td>0.4958</td>\n",
       "      <td>0.0157</td>\n",
       "      <td>0.0039</td>\n",
       "      <td>3.1745</td>\n",
       "      <td>0.0584</td>\n",
       "      <td>0.0484</td>\n",
       "      <td>0.0148</td>\n",
       "      <td>82.8602</td>\n",
       "      <td>1.0</td>\n",
       "    </tr>\n",
       "    <tr>\n",
       "      <th>3</th>\n",
       "      <td>2988.72</td>\n",
       "      <td>2479.90</td>\n",
       "      <td>2199.0333</td>\n",
       "      <td>909.7926</td>\n",
       "      <td>1.3204</td>\n",
       "      <td>104.2367</td>\n",
       "      <td>0.1217</td>\n",
       "      <td>1.4882</td>\n",
       "      <td>-0.0124</td>\n",
       "      <td>-0.0033</td>\n",
       "      <td>...</td>\n",
       "      <td>8.5831</td>\n",
       "      <td>0.4990</td>\n",
       "      <td>0.0103</td>\n",
       "      <td>0.0025</td>\n",
       "      <td>2.0544</td>\n",
       "      <td>0.0202</td>\n",
       "      <td>0.0149</td>\n",
       "      <td>0.0044</td>\n",
       "      <td>73.8432</td>\n",
       "      <td>0.0</td>\n",
       "    </tr>\n",
       "    <tr>\n",
       "      <th>4</th>\n",
       "      <td>3032.24</td>\n",
       "      <td>2502.87</td>\n",
       "      <td>2233.3667</td>\n",
       "      <td>1326.5200</td>\n",
       "      <td>1.5334</td>\n",
       "      <td>100.3967</td>\n",
       "      <td>0.1235</td>\n",
       "      <td>1.5031</td>\n",
       "      <td>-0.0031</td>\n",
       "      <td>-0.0072</td>\n",
       "      <td>...</td>\n",
       "      <td>10.9698</td>\n",
       "      <td>0.4800</td>\n",
       "      <td>0.4766</td>\n",
       "      <td>0.1045</td>\n",
       "      <td>99.3032</td>\n",
       "      <td>0.0202</td>\n",
       "      <td>0.0149</td>\n",
       "      <td>0.0044</td>\n",
       "      <td>73.8432</td>\n",
       "      <td>0.0</td>\n",
       "    </tr>\n",
       "  </tbody>\n",
       "</table>\n",
       "<p>5 rows × 436 columns</p>\n",
       "</div>"
      ],
      "text/plain": [
       "         0        1          2          3       4         6       7       8  \\\n",
       "0  3030.93  2564.00  2187.7333  1411.1265  1.3602   97.6133  0.1242  1.5005   \n",
       "1  3095.78  2465.14  2230.4222  1463.6606  0.8294  102.3433  0.1247  1.4966   \n",
       "2  2932.61  2559.94  2186.4111  1698.0172  1.5102   95.4878  0.1241  1.4436   \n",
       "3  2988.72  2479.90  2199.0333   909.7926  1.3204  104.2367  0.1217  1.4882   \n",
       "4  3032.24  2502.87  2233.3667  1326.5200  1.5334  100.3967  0.1235  1.5031   \n",
       "\n",
       "        9      10  ...      577     582     583     584      585     586  \\\n",
       "0  0.0162 -0.0034  ...  14.9509  0.5005  0.0118  0.0035   2.3630  0.0205   \n",
       "1 -0.0005 -0.0148  ...  10.9003  0.5019  0.0223  0.0055   4.4447  0.0096   \n",
       "2  0.0041  0.0013  ...   9.2721  0.4958  0.0157  0.0039   3.1745  0.0584   \n",
       "3 -0.0124 -0.0033  ...   8.5831  0.4990  0.0103  0.0025   2.0544  0.0202   \n",
       "4 -0.0031 -0.0072  ...  10.9698  0.4800  0.4766  0.1045  99.3032  0.0202   \n",
       "\n",
       "      587     588       589  label  \n",
       "0  0.0148  0.0046   71.9005    0.0  \n",
       "1  0.0201  0.0060  208.2045    0.0  \n",
       "2  0.0484  0.0148   82.8602    1.0  \n",
       "3  0.0149  0.0044   73.8432    0.0  \n",
       "4  0.0149  0.0044   73.8432    0.0  \n",
       "\n",
       "[5 rows x 436 columns]"
      ]
     },
     "execution_count": 9,
     "metadata": {},
     "output_type": "execute_result"
    }
   ],
   "source": [
    "# view cleaned and preprocessed dataframe\n",
    "print('dataset shape:{}'.format(df.shape))\n",
    "df.head()"
   ]
  },
  {
   "cell_type": "code",
   "execution_count": 10,
   "metadata": {},
   "outputs": [
    {
     "name": "stdout",
     "output_type": "stream",
     "text": [
      "\n",
      "# features after preprocessing: 435\n"
     ]
    }
   ],
   "source": [
    "# train/test split\n",
    "# stratify to ensure minority class representation in both sets\n",
    "y = df['label'] # label\n",
    "X = df.loc[:, ~df.columns.isin(['label'])] # features, start with all but the target\n",
    "X_train, X_test, y_train, y_test = train_test_split(X, y, stratify=y, test_size=0.2, random_state=8)\n",
    "# print('features:\\n{}'.format(X.columns.values))\n",
    "print('\\n# features after preprocessing: {}'.format(len(X.columns.values)))"
   ]
  },
  {
   "cell_type": "code",
   "execution_count": 11,
   "metadata": {},
   "outputs": [],
   "source": [
    "# normalize data (z-score)\n",
    "scaler = StandardScaler().fit(X_train)\n",
    "X_train = pd.DataFrame(scaler.transform(X_train), columns=X_train.columns)\n",
    "X_test = pd.DataFrame(scaler.transform(X_test), columns=X_test.columns)"
   ]
  },
  {
   "cell_type": "markdown",
   "metadata": {},
   "source": [
    "##### Handle class imbalance problem"
   ]
  },
  {
   "cell_type": "code",
   "execution_count": 12,
   "metadata": {},
   "outputs": [
    {
     "data": {
      "image/png": "[encoded data removed]",
      "text/plain": [
       "<Figure size 216x216 with 1 Axes>"
      ]
     },
     "metadata": {
      "needs_background": "light"
     },
     "output_type": "display_data"
    },
    {
     "name": "stdout",
     "output_type": "stream",
     "text": [
      "fail rate: 6.6%\n"
     ]
    }
   ],
   "source": [
    "# plot distribution of label; check for imbalanced classes\n",
    "fig, ax = plt.subplots(figsize=(3,3))\n",
    "sns.countplot(x='label', data=df, ax=ax)\n",
    "plt.title('Distribution of label\\n0:pass, 1: fail')\n",
    "plt.show()\n",
    "print('fail rate: {:.1f}%'.format(100*df['label'].value_counts()[1]/len(df['label'])))"
   ]
  },
  {
   "cell_type": "code",
   "execution_count": 13,
   "metadata": {},
   "outputs": [
    {
     "name": "stdout",
     "output_type": "stream",
     "text": [
      "\n",
      "Label counts before SMOTE:\n",
      "0.0    1170\n",
      "1.0      83\n",
      "Name: label, dtype: int64\n",
      "\n",
      "Label counts after SMOTE:\n",
      "1.0    1170\n",
      "0.0    1170\n",
      "dtype: int64\n"
     ]
    }
   ],
   "source": [
    "# SMOTE was used to oversample the minority class\n",
    "# By oversampling only on the training data, none of the information in the test data was being used to create synthetic observations. \n",
    "# Therefore, no information will bleed from training to testing.  \n",
    "sm = SMOTE(random_state=1) # sampling strategy = resample all classes but the majority class\n",
    "X_train_res, y_train_res = sm.fit_sample(X_train, y_train)\n",
    "X_train_res = pd.DataFrame(data=X_train_res, columns=X_train.columns)\n",
    "y_train_res = pd.Series(y_train_res)\n",
    "\n",
    "print('\\nLabel counts before SMOTE:')\n",
    "print(y_train.value_counts())\n",
    "print('\\nLabel counts after SMOTE:')\n",
    "print(y_train_res.value_counts())"
   ]
  },
  {
   "cell_type": "markdown",
   "metadata": {},
   "source": [
    "##### Reduce dimensionality of data by selecting k best features based on ANOVA F-value (k=20)\n",
    "This approach was used in previous Milestones and worked well"
   ]
  },
  {
   "cell_type": "code",
   "execution_count": 14,
   "metadata": {},
   "outputs": [
    {
     "name": "stdout",
     "output_type": "stream",
     "text": [
      "Selected features:\n",
      "[14, 28, 59, 70, 78, 79, 103, 121, 122, 124, 125, 127, 129, 130, 183, 247, 280, 319, 455, 510]\n",
      "\n",
      "# selected features: 20\n"
     ]
    }
   ],
   "source": [
    "# select k best features based on ANOVA F-value\n",
    "selector = SelectKBest(score_func=f_classif, k=20).fit(X_train_res, y_train_res) \n",
    "# selected features\n",
    "f_cols = X_train_res.columns[selector.get_support()].to_list()\n",
    "print('Selected features:\\n{}'.format(f_cols))\n",
    "print('\\n# selected features: {}'.format(len(f_cols)))\n",
    "X_train_f = pd.DataFrame(selector.transform(X_train_res), columns=f_cols)\n",
    "X_test_f = pd.DataFrame(selector.transform(X_test), columns=f_cols)"
   ]
  },
  {
   "cell_type": "code",
   "execution_count": 15,
   "metadata": {},
   "outputs": [
    {
     "data": {
      "text/html": [
       "<div>\n",
       "<style scoped>\n",
       "    .dataframe tbody tr th:only-of-type {\n",
       "        vertical-align: middle;\n",
       "    }\n",
       "\n",
       "    .dataframe tbody tr th {\n",
       "        vertical-align: top;\n",
       "    }\n",
       "\n",
       "    .dataframe thead th {\n",
       "        text-align: right;\n",
       "    }\n",
       "</style>\n",
       "<table border=\"1\" class=\"dataframe\">\n",
       "  <thead>\n",
       "    <tr style=\"text-align: right;\">\n",
       "      <th></th>\n",
       "      <th>14</th>\n",
       "      <th>28</th>\n",
       "      <th>59</th>\n",
       "      <th>70</th>\n",
       "      <th>78</th>\n",
       "      <th>79</th>\n",
       "      <th>103</th>\n",
       "      <th>121</th>\n",
       "      <th>122</th>\n",
       "      <th>124</th>\n",
       "      <th>125</th>\n",
       "      <th>127</th>\n",
       "      <th>129</th>\n",
       "      <th>130</th>\n",
       "      <th>183</th>\n",
       "      <th>247</th>\n",
       "      <th>280</th>\n",
       "      <th>319</th>\n",
       "      <th>455</th>\n",
       "      <th>510</th>\n",
       "    </tr>\n",
       "  </thead>\n",
       "  <tbody>\n",
       "    <tr>\n",
       "      <th>0</th>\n",
       "      <td>0.723331</td>\n",
       "      <td>1.191150</td>\n",
       "      <td>0.013310</td>\n",
       "      <td>-0.342665</td>\n",
       "      <td>0.582002</td>\n",
       "      <td>-1.636702</td>\n",
       "      <td>0.404934</td>\n",
       "      <td>-0.161772</td>\n",
       "      <td>-1.230782</td>\n",
       "      <td>-0.211832</td>\n",
       "      <td>-1.553425</td>\n",
       "      <td>-1.096585</td>\n",
       "      <td>1.270242</td>\n",
       "      <td>1.200234</td>\n",
       "      <td>0.135272</td>\n",
       "      <td>-0.280292</td>\n",
       "      <td>0.101881</td>\n",
       "      <td>0.286488</td>\n",
       "      <td>0.171658</td>\n",
       "      <td>-0.322310</td>\n",
       "    </tr>\n",
       "    <tr>\n",
       "      <th>1</th>\n",
       "      <td>-1.670999</td>\n",
       "      <td>0.603577</td>\n",
       "      <td>-0.976181</td>\n",
       "      <td>-0.144333</td>\n",
       "      <td>0.260633</td>\n",
       "      <td>-1.217875</td>\n",
       "      <td>-1.475459</td>\n",
       "      <td>0.141975</td>\n",
       "      <td>-0.480673</td>\n",
       "      <td>-0.827056</td>\n",
       "      <td>0.019102</td>\n",
       "      <td>-0.797241</td>\n",
       "      <td>-2.014426</td>\n",
       "      <td>0.783333</td>\n",
       "      <td>-0.118446</td>\n",
       "      <td>-0.280292</td>\n",
       "      <td>0.013117</td>\n",
       "      <td>-0.019255</td>\n",
       "      <td>-0.130273</td>\n",
       "      <td>-0.871967</td>\n",
       "    </tr>\n",
       "    <tr>\n",
       "      <th>2</th>\n",
       "      <td>0.406570</td>\n",
       "      <td>0.002960</td>\n",
       "      <td>0.149455</td>\n",
       "      <td>0.659427</td>\n",
       "      <td>-0.473924</td>\n",
       "      <td>0.871899</td>\n",
       "      <td>0.177990</td>\n",
       "      <td>0.648221</td>\n",
       "      <td>-0.405774</td>\n",
       "      <td>0.667060</td>\n",
       "      <td>-0.883080</td>\n",
       "      <td>-0.466545</td>\n",
       "      <td>0.496893</td>\n",
       "      <td>0.368848</td>\n",
       "      <td>0.490881</td>\n",
       "      <td>-0.581559</td>\n",
       "      <td>0.264616</td>\n",
       "      <td>0.296958</td>\n",
       "      <td>0.456769</td>\n",
       "      <td>0.679835</td>\n",
       "    </tr>\n",
       "    <tr>\n",
       "      <th>3</th>\n",
       "      <td>-1.168401</td>\n",
       "      <td>0.854941</td>\n",
       "      <td>-0.198924</td>\n",
       "      <td>0.613042</td>\n",
       "      <td>0.283588</td>\n",
       "      <td>-0.825224</td>\n",
       "      <td>-0.438001</td>\n",
       "      <td>-0.161772</td>\n",
       "      <td>-0.978137</td>\n",
       "      <td>-0.387610</td>\n",
       "      <td>-1.704439</td>\n",
       "      <td>-0.800227</td>\n",
       "      <td>1.618131</td>\n",
       "      <td>0.928342</td>\n",
       "      <td>-1.200428</td>\n",
       "      <td>-0.474658</td>\n",
       "      <td>0.412556</td>\n",
       "      <td>-1.396581</td>\n",
       "      <td>-1.234024</td>\n",
       "      <td>-0.499444</td>\n",
       "    </tr>\n",
       "    <tr>\n",
       "      <th>4</th>\n",
       "      <td>0.016984</td>\n",
       "      <td>0.972455</td>\n",
       "      <td>-0.288622</td>\n",
       "      <td>-0.104913</td>\n",
       "      <td>0.145859</td>\n",
       "      <td>-0.550369</td>\n",
       "      <td>-0.891889</td>\n",
       "      <td>0.648221</td>\n",
       "      <td>-1.212896</td>\n",
       "      <td>-0.123943</td>\n",
       "      <td>-0.349570</td>\n",
       "      <td>-1.356365</td>\n",
       "      <td>-1.667028</td>\n",
       "      <td>0.307219</td>\n",
       "      <td>0.527683</td>\n",
       "      <td>-0.280292</td>\n",
       "      <td>0.486526</td>\n",
       "      <td>0.575800</td>\n",
       "      <td>0.567785</td>\n",
       "      <td>-0.620655</td>\n",
       "    </tr>\n",
       "  </tbody>\n",
       "</table>\n",
       "</div>"
      ],
      "text/plain": [
       "        14        28        59        70        78        79        103  \\\n",
       "0  0.723331  1.191150  0.013310 -0.342665  0.582002 -1.636702  0.404934   \n",
       "1 -1.670999  0.603577 -0.976181 -0.144333  0.260633 -1.217875 -1.475459   \n",
       "2  0.406570  0.002960  0.149455  0.659427 -0.473924  0.871899  0.177990   \n",
       "3 -1.168401  0.854941 -0.198924  0.613042  0.283588 -0.825224 -0.438001   \n",
       "4  0.016984  0.972455 -0.288622 -0.104913  0.145859 -0.550369 -0.891889   \n",
       "\n",
       "        121       122       124       125       127       129       130  \\\n",
       "0 -0.161772 -1.230782 -0.211832 -1.553425 -1.096585  1.270242  1.200234   \n",
       "1  0.141975 -0.480673 -0.827056  0.019102 -0.797241 -2.014426  0.783333   \n",
       "2  0.648221 -0.405774  0.667060 -0.883080 -0.466545  0.496893  0.368848   \n",
       "3 -0.161772 -0.978137 -0.387610 -1.704439 -0.800227  1.618131  0.928342   \n",
       "4  0.648221 -1.212896 -0.123943 -0.349570 -1.356365 -1.667028  0.307219   \n",
       "\n",
       "        183       247       280       319       455       510  \n",
       "0  0.135272 -0.280292  0.101881  0.286488  0.171658 -0.322310  \n",
       "1 -0.118446 -0.280292  0.013117 -0.019255 -0.130273 -0.871967  \n",
       "2  0.490881 -0.581559  0.264616  0.296958  0.456769  0.679835  \n",
       "3 -1.200428 -0.474658  0.412556 -1.396581 -1.234024 -0.499444  \n",
       "4  0.527683 -0.280292  0.486526  0.575800  0.567785 -0.620655  "
      ]
     },
     "execution_count": 15,
     "metadata": {},
     "output_type": "execute_result"
    }
   ],
   "source": [
    "# view X_train with selected features\n",
    "X_train_f.head()"
   ]
  },
  {
   "cell_type": "markdown",
   "metadata": {},
   "source": [
    "##### Common model parameters"
   ]
  },
  {
   "cell_type": "code",
   "execution_count": 16,
   "metadata": {},
   "outputs": [],
   "source": [
    "# set batch size, number of epochs, input dimensions\n",
    "batch_size = 32\n",
    "epochs = 50\n",
    "# input_dim = X_train_res.shape[1] # use all features\n",
    "input_dim = X_train_f.shape[1] # use 20 features selected by ANOVA F-value\n",
    "\n",
    "# add true positives as metric to identify faulty products\n",
    "metrics = [Recall(name='recall'), TruePositives(name='tp')]\n",
    "\n",
    "# callback for early stopping, monitor validation loss\n",
    "cb_loss = [EarlyStopping(monitor='val_loss', patience=3, restore_best_weights=True)]\n",
    "\n",
    "# function to plot training/validation results\n",
    "def plot_results(xx):\n",
    "    fig, axs = plt.subplots(1,2)\n",
    "    axs[0].plot(range(1,len(xx.history['loss'])+1), xx.history['loss'], 'o-', label='training')\n",
    "    axs[0].plot(range(1,len(xx.history['val_loss'])+1), xx.history['val_loss'], 'o-', label='validation')\n",
    "    axs[0].set_title('Loss')\n",
    "    axs[0].set_xlabel('Epoch')\n",
    "    axs[0].set_ylabel('Loss')\n",
    "    axs[0].legend()\n",
    "    axs[1].plot(range(1,len(xx.history['recall'])+1), xx.history['recall'], 'o-', label='training')\n",
    "    axs[1].plot(range(1,len(xx.history['val_recall'])+1), xx.history['val_recall'], 'o-', label='validation')\n",
    "    axs[1].set_title('Class 1 Recall')\n",
    "    axs[1].set_xlabel('Epoch')\n",
    "    axs[1].set_ylabel('Recall')\n",
    "    axs[1].set_ylim(-0.05, 1.05)\n",
    "    axs[1].legend()\n",
    "    fig.tight_layout()\n",
    "    plt.show()"
   ]
  },
  {
   "cell_type": "markdown",
   "metadata": {},
   "source": [
    "##### 1. Build a simple neural networks model\n",
    "Build the simplest model with 1 input layer and 1 output layer"
   ]
  },
  {
   "cell_type": "code",
   "execution_count": 17,
   "metadata": {
    "scrolled": true
   },
   "outputs": [
    {
     "name": "stdout",
     "output_type": "stream",
     "text": [
      "Model: \"sequential\"\n",
      "_________________________________________________________________\n",
      "Layer (type)                 Output Shape              Param #   \n",
      "=================================================================\n",
      "dense (Dense)                (None, 1)                 21        \n",
      "=================================================================\n",
      "Total params: 21\n",
      "Trainable params: 21\n",
      "Non-trainable params: 0\n",
      "_________________________________________________________________\n",
      "None\n",
      "WARNING:tensorflow:Falling back from v2 loop because of error: Failed to find data adapter that can handle input: <class 'pandas.core.frame.DataFrame'>, <class 'NoneType'>\n",
      "Train on 2340 samples, validate on 314 samples\n",
      "Epoch 1/50\n",
      "2340/2340 [==============================] - 0s 86us/sample - loss: 0.8121 - recall: 0.5111 - tp: 598.0000 - val_loss: 0.8084 - val_recall: 0.7143 - val_tp: 15.0000\n",
      "Epoch 2/50\n",
      "2340/2340 [==============================] - 0s 27us/sample - loss: 0.7230 - recall: 0.6573 - tp: 769.0000 - val_loss: 0.7801 - val_recall: 0.8571 - val_tp: 18.0000\n",
      "Epoch 3/50\n",
      "2340/2340 [==============================] - 0s 26us/sample - loss: 0.6728 - recall: 0.7274 - tp: 851.0000 - val_loss: 0.7513 - val_recall: 0.8571 - val_tp: 18.0000\n",
      "Epoch 4/50\n",
      "2340/2340 [==============================] - 0s 26us/sample - loss: 0.6410 - recall: 0.7684 - tp: 899.0000 - val_loss: 0.7281 - val_recall: 0.8571 - val_tp: 18.0000\n",
      "Epoch 5/50\n",
      "2340/2340 [==============================] - 0s 26us/sample - loss: 0.6200 - recall: 0.8068 - tp: 944.0000 - val_loss: 0.7084 - val_recall: 0.7143 - val_tp: 15.0000\n",
      "Epoch 6/50\n",
      "2340/2340 [==============================] - 0s 27us/sample - loss: 0.6042 - recall: 0.8120 - tp: 950.0000 - val_loss: 0.6906 - val_recall: 0.7143 - val_tp: 15.0000\n",
      "Epoch 7/50\n",
      "2340/2340 [==============================] - 0s 27us/sample - loss: 0.5927 - recall: 0.8103 - tp: 948.0000 - val_loss: 0.6711 - val_recall: 0.7143 - val_tp: 15.0000\n",
      "Epoch 8/50\n",
      "2340/2340 [==============================] - 0s 26us/sample - loss: 0.5835 - recall: 0.7949 - tp: 930.0000 - val_loss: 0.6605 - val_recall: 0.7143 - val_tp: 15.0000\n",
      "Epoch 9/50\n",
      "2340/2340 [==============================] - 0s 26us/sample - loss: 0.5758 - recall: 0.7949 - tp: 930.0000 - val_loss: 0.6493 - val_recall: 0.7143 - val_tp: 15.0000\n",
      "Epoch 10/50\n",
      "2340/2340 [==============================] - 0s 26us/sample - loss: 0.5694 - recall: 0.7846 - tp: 918.0000 - val_loss: 0.6388 - val_recall: 0.6667 - val_tp: 14.0000\n",
      "Epoch 11/50\n",
      "2340/2340 [==============================] - 0s 26us/sample - loss: 0.5638 - recall: 0.7829 - tp: 916.0000 - val_loss: 0.6306 - val_recall: 0.6667 - val_tp: 14.0000\n",
      "Epoch 12/50\n",
      "2340/2340 [==============================] - 0s 26us/sample - loss: 0.5589 - recall: 0.7795 - tp: 912.0000 - val_loss: 0.6203 - val_recall: 0.6667 - val_tp: 14.0000\n",
      "Epoch 13/50\n",
      "2340/2340 [==============================] - 0s 27us/sample - loss: 0.5546 - recall: 0.7863 - tp: 920.0000 - val_loss: 0.6136 - val_recall: 0.6667 - val_tp: 14.0000\n",
      "Epoch 14/50\n",
      "2340/2340 [==============================] - 0s 25us/sample - loss: 0.5511 - recall: 0.7846 - tp: 918.0000 - val_loss: 0.6094 - val_recall: 0.6667 - val_tp: 14.0000\n",
      "Epoch 15/50\n",
      "2340/2340 [==============================] - 0s 26us/sample - loss: 0.5480 - recall: 0.7872 - tp: 921.0000 - val_loss: 0.6032 - val_recall: 0.6667 - val_tp: 14.0000\n",
      "Epoch 16/50\n",
      "2340/2340 [==============================] - 0s 24us/sample - loss: 0.5451 - recall: 0.7821 - tp: 915.0000 - val_loss: 0.5988 - val_recall: 0.6667 - val_tp: 14.0000\n",
      "Epoch 17/50\n",
      "2340/2340 [==============================] - 0s 26us/sample - loss: 0.5426 - recall: 0.7786 - tp: 911.0000 - val_loss: 0.5942 - val_recall: 0.6667 - val_tp: 14.0000\n",
      "Epoch 18/50\n",
      "2340/2340 [==============================] - 0s 26us/sample - loss: 0.5405 - recall: 0.7778 - tp: 910.0000 - val_loss: 0.5920 - val_recall: 0.6667 - val_tp: 14.0000\n",
      "Epoch 19/50\n",
      "2340/2340 [==============================] - 0s 25us/sample - loss: 0.5386 - recall: 0.7718 - tp: 903.0000 - val_loss: 0.5872 - val_recall: 0.6667 - val_tp: 14.0000\n",
      "Epoch 20/50\n",
      "2340/2340 [==============================] - 0s 26us/sample - loss: 0.5370 - recall: 0.7650 - tp: 895.0000 - val_loss: 0.5855 - val_recall: 0.6667 - val_tp: 14.0000\n",
      "Epoch 21/50\n",
      "2340/2340 [==============================] - 0s 26us/sample - loss: 0.5358 - recall: 0.7667 - tp: 897.0000 - val_loss: 0.5837 - val_recall: 0.6190 - val_tp: 13.0000\n",
      "Epoch 22/50\n",
      "2340/2340 [==============================] - 0s 27us/sample - loss: 0.5344 - recall: 0.7624 - tp: 892.0000 - val_loss: 0.5783 - val_recall: 0.6190 - val_tp: 13.0000\n",
      "Epoch 23/50\n",
      "2340/2340 [==============================] - 0s 26us/sample - loss: 0.5334 - recall: 0.7564 - tp: 885.0000 - val_loss: 0.5765 - val_recall: 0.6190 - val_tp: 13.0000\n",
      "Epoch 24/50\n",
      "2340/2340 [==============================] - 0s 27us/sample - loss: 0.5326 - recall: 0.7556 - tp: 884.0000 - val_loss: 0.5766 - val_recall: 0.6190 - val_tp: 13.0000\n",
      "Epoch 25/50\n",
      "2340/2340 [==============================] - 0s 26us/sample - loss: 0.5317 - recall: 0.7504 - tp: 878.0000 - val_loss: 0.5747 - val_recall: 0.6190 - val_tp: 13.0000\n",
      "Epoch 26/50\n",
      "2340/2340 [==============================] - 0s 27us/sample - loss: 0.5311 - recall: 0.7496 - tp: 877.0000 - val_loss: 0.5732 - val_recall: 0.6190 - val_tp: 13.0000\n",
      "Epoch 27/50\n",
      "2340/2340 [==============================] - 0s 25us/sample - loss: 0.5304 - recall: 0.7556 - tp: 884.0000 - val_loss: 0.5764 - val_recall: 0.6190 - val_tp: 13.0000\n",
      "Epoch 28/50\n",
      "2340/2340 [==============================] - 0s 25us/sample - loss: 0.5299 - recall: 0.7504 - tp: 878.0000 - val_loss: 0.5730 - val_recall: 0.6190 - val_tp: 13.0000\n",
      "Epoch 29/50\n",
      "2340/2340 [==============================] - 0s 27us/sample - loss: 0.5295 - recall: 0.7462 - tp: 873.0000 - val_loss: 0.5696 - val_recall: 0.6190 - val_tp: 13.0000\n",
      "Epoch 30/50\n",
      "2340/2340 [==============================] - 0s 25us/sample - loss: 0.5290 - recall: 0.7453 - tp: 872.0000 - val_loss: 0.5692 - val_recall: 0.6190 - val_tp: 13.0000\n",
      "Epoch 31/50\n",
      "2340/2340 [==============================] - 0s 26us/sample - loss: 0.5287 - recall: 0.7453 - tp: 872.0000 - val_loss: 0.5672 - val_recall: 0.6190 - val_tp: 13.0000\n",
      "Epoch 32/50\n",
      "2340/2340 [==============================] - 0s 26us/sample - loss: 0.5284 - recall: 0.7453 - tp: 872.0000 - val_loss: 0.5649 - val_recall: 0.6190 - val_tp: 13.0000\n",
      "Epoch 33/50\n",
      "2340/2340 [==============================] - 0s 26us/sample - loss: 0.5282 - recall: 0.7487 - tp: 876.0000 - val_loss: 0.5673 - val_recall: 0.6190 - val_tp: 13.0000\n",
      "Epoch 34/50\n",
      "2340/2340 [==============================] - 0s 26us/sample - loss: 0.5280 - recall: 0.7538 - tp: 882.0000 - val_loss: 0.5692 - val_recall: 0.6190 - val_tp: 13.0000\n",
      "Epoch 35/50\n",
      "2340/2340 [==============================] - 0s 26us/sample - loss: 0.5277 - recall: 0.7521 - tp: 880.0000 - val_loss: 0.5660 - val_recall: 0.5714 - val_tp: 12.0000\n"
     ]
    }
   ],
   "source": [
    "# construct model\n",
    "model1 = Sequential()\n",
    "model1.add(Dense(1, activation='sigmoid', input_shape=(input_dim, )))\n",
    "model1.compile(loss='binary_crossentropy', optimizer='adam', metrics=metrics)\n",
    "print(model1.summary())\n",
    "\n",
    "history1 = model1.fit(X_train_f, y_train_res, batch_size=batch_size, epochs=epochs,\n",
    "                      validation_data=(X_test_f, y_test), callbacks=cb_loss)"
   ]
  },
  {
   "cell_type": "code",
   "execution_count": 18,
   "metadata": {},
   "outputs": [
    {
     "data": {
      "image/png": "[encoded data removed]",
      "text/plain": [
       "<Figure size 432x288 with 2 Axes>"
      ]
     },
     "metadata": {
      "needs_background": "light"
     },
     "output_type": "display_data"
    },
    {
     "name": "stdout",
     "output_type": "stream",
     "text": [
      "WARNING:tensorflow:Falling back from v2 loop because of error: Failed to find data adapter that can handle input: <class 'pandas.core.frame.DataFrame'>, <class 'NoneType'>\n",
      "314/314 [==============================] - 0s 22us/sample - loss: 0.5649 - recall: 0.6190 - tp: 13.0000\n",
      "\n",
      "Test loss: 0.565\n",
      "Class 1 recall: 0.62\n",
      "True positives: 13\n"
     ]
    }
   ],
   "source": [
    "# plot training/validation loss and recall\n",
    "plot_results(history1)\n",
    "\n",
    "# test accuracy after restoring best weights\n",
    "loss1, recall1, tp1 = model1.evaluate(X_test_f, y_test, batch_size=batch_size)\n",
    "print('\\nTest loss: {:.3f}\\nClass 1 recall: {:.2f}\\nTrue positives: {:.0f}'.format(loss1, recall1, tp1))"
   ]
  },
  {
   "cell_type": "code",
   "execution_count": 19,
   "metadata": {},
   "outputs": [
    {
     "name": "stdout",
     "output_type": "stream",
     "text": [
      "WARNING:tensorflow:Falling back from v2 loop because of error: Failed to find data adapter that can handle input: <class 'pandas.core.frame.DataFrame'>, <class 'NoneType'>\n",
      "\n",
      "Confusion Matrix:\n",
      "[[206  87]\n",
      " [  8  13]]\n",
      "\n",
      "TP, TN, FP, FN: 13 , 206 , 87 , 8\n",
      "\n",
      "Classification report:\n",
      "              precision    recall  f1-score   support\n",
      "\n",
      "         0.0       0.96      0.70      0.81       293\n",
      "         1.0       0.13      0.62      0.21        21\n",
      "\n",
      "    accuracy                           0.70       314\n",
      "   macro avg       0.55      0.66      0.51       314\n",
      "weighted avg       0.91      0.70      0.77       314\n",
      "\n"
     ]
    }
   ],
   "source": [
    "# evaluate model using confusion matrix-derived metrics\n",
    "y_pred1 = model1.predict_classes(X_test_f)\n",
    "print ('\\nConfusion Matrix:')\n",
    "print(confusion_matrix(y_test, y_pred1)) \n",
    "tn, fp, fn, tp = confusion_matrix(y_test, y_pred1).ravel()\n",
    "print ('\\nTP, TN, FP, FN:', tp, ',', tn, ',', fp, ',', fn)\n",
    "print ('\\nClassification report:')\n",
    "print(classification_report(y_test, y_pred1))"
   ]
  },
  {
   "cell_type": "markdown",
   "metadata": {},
   "source": [
    "##### 2. Build a DNN model"
   ]
  },
  {
   "cell_type": "code",
   "execution_count": 20,
   "metadata": {
    "scrolled": true
   },
   "outputs": [
    {
     "name": "stdout",
     "output_type": "stream",
     "text": [
      "Model: \"sequential_1\"\n",
      "_________________________________________________________________\n",
      "Layer (type)                 Output Shape              Param #   \n",
      "=================================================================\n",
      "dense_1 (Dense)              (None, 64)                1344      \n",
      "_________________________________________________________________\n",
      "dense_2 (Dense)              (None, 8)                 520       \n",
      "_________________________________________________________________\n",
      "dropout (Dropout)            (None, 8)                 0         \n",
      "_________________________________________________________________\n",
      "dense_3 (Dense)              (None, 1)                 9         \n",
      "=================================================================\n",
      "Total params: 1,873\n",
      "Trainable params: 1,873\n",
      "Non-trainable params: 0\n",
      "_________________________________________________________________\n",
      "None\n",
      "WARNING:tensorflow:Falling back from v2 loop because of error: Failed to find data adapter that can handle input: <class 'pandas.core.frame.DataFrame'>, <class 'NoneType'>\n",
      "Train on 2340 samples, validate on 314 samples\n",
      "Epoch 1/50\n",
      "2340/2340 [==============================] - 0s 114us/sample - loss: 0.6082 - recall: 0.7068 - tp: 827.0000 - val_loss: 0.4963 - val_recall: 0.3333 - val_tp: 7.0000\n",
      "Epoch 2/50\n",
      "2340/2340 [==============================] - 0s 33us/sample - loss: 0.5168 - recall: 0.7427 - tp: 869.0000 - val_loss: 0.4665 - val_recall: 0.2857 - val_tp: 6.0000\n",
      "Epoch 3/50\n",
      "2340/2340 [==============================] - 0s 33us/sample - loss: 0.4693 - recall: 0.7752 - tp: 907.0000 - val_loss: 0.4542 - val_recall: 0.3333 - val_tp: 7.0000\n",
      "Epoch 4/50\n",
      "2340/2340 [==============================] - 0s 34us/sample - loss: 0.4372 - recall: 0.7991 - tp: 935.0000 - val_loss: 0.4516 - val_recall: 0.3810 - val_tp: 8.0000\n",
      "Epoch 5/50\n",
      "2340/2340 [==============================] - 0s 35us/sample - loss: 0.4116 - recall: 0.8222 - tp: 962.0000 - val_loss: 0.4267 - val_recall: 0.3333 - val_tp: 7.0000\n",
      "Epoch 6/50\n",
      "2340/2340 [==============================] - 0s 54us/sample - loss: 0.3857 - recall: 0.8453 - tp: 989.0000 - val_loss: 0.4108 - val_recall: 0.3333 - val_tp: 7.0000\n",
      "Epoch 7/50\n",
      "2340/2340 [==============================] - 0s 30us/sample - loss: 0.3616 - recall: 0.8667 - tp: 1014.0000 - val_loss: 0.4272 - val_recall: 0.4286 - val_tp: 9.0000\n",
      "Epoch 8/50\n",
      "2340/2340 [==============================] - 0s 32us/sample - loss: 0.3446 - recall: 0.8983 - tp: 1051.0000 - val_loss: 0.3859 - val_recall: 0.3333 - val_tp: 7.0000\n",
      "Epoch 9/50\n",
      "2340/2340 [==============================] - 0s 31us/sample - loss: 0.3193 - recall: 0.9111 - tp: 1066.0000 - val_loss: 0.3846 - val_recall: 0.3333 - val_tp: 7.0000\n",
      "Epoch 10/50\n",
      "2340/2340 [==============================] - 0s 33us/sample - loss: 0.3044 - recall: 0.9034 - tp: 1057.0000 - val_loss: 0.4091 - val_recall: 0.3333 - val_tp: 7.0000\n",
      "Epoch 11/50\n",
      "2340/2340 [==============================] - 0s 34us/sample - loss: 0.2786 - recall: 0.9214 - tp: 1078.0000 - val_loss: 0.3902 - val_recall: 0.2857 - val_tp: 6.0000\n",
      "Epoch 12/50\n",
      "2340/2340 [==============================] - 0s 35us/sample - loss: 0.2645 - recall: 0.9316 - tp: 1090.0000 - val_loss: 0.4071 - val_recall: 0.2857 - val_tp: 6.0000\n"
     ]
    }
   ],
   "source": [
    "# construct model\n",
    "model2 = Sequential()\n",
    "model2.add(Dense(64, activation='relu', input_shape=(input_dim, ))) \n",
    "model2.add(Dense(8, activation='relu'))\n",
    "model2.add(Dropout(0.25))\n",
    "model2.add(Dense(1, activation='sigmoid'))\n",
    "model2.compile(loss='binary_crossentropy', optimizer='adam', metrics=metrics)\n",
    "print(model2.summary())\n",
    "\n",
    "history2 = model2.fit(X_train_f, y_train_res, batch_size=batch_size, epochs=epochs,\n",
    "                      validation_data=(X_test_f, y_test), callbacks=cb_loss)"
   ]
  },
  {
   "cell_type": "code",
   "execution_count": 21,
   "metadata": {},
   "outputs": [
    {
     "data": {
      "image/png": "[encoded data removed]",
      "text/plain": [
       "<Figure size 432x288 with 2 Axes>"
      ]
     },
     "metadata": {
      "needs_background": "light"
     },
     "output_type": "display_data"
    },
    {
     "name": "stdout",
     "output_type": "stream",
     "text": [
      "WARNING:tensorflow:Falling back from v2 loop because of error: Failed to find data adapter that can handle input: <class 'pandas.core.frame.DataFrame'>, <class 'NoneType'>\n",
      "314/314 [==============================] - 0s 26us/sample - loss: 0.3846 - recall: 0.3333 - tp: 7.0000\n",
      "\n",
      "Test loss: 0.385\n",
      "Class 1 recall: 0.33\n",
      "True positives: 7\n"
     ]
    }
   ],
   "source": [
    "# plot training/validation loss and recall\n",
    "plot_results(history2)\n",
    "\n",
    "# test results after restoring best weights\n",
    "loss2, recall2, tp2 = model2.evaluate(X_test_f, y_test, batch_size=batch_size)\n",
    "print('\\nTest loss: {:.3f}\\nClass 1 recall: {:.2f}\\nTrue positives: {:.0f}'.format(loss2, recall2, tp2))"
   ]
  },
  {
   "cell_type": "code",
   "execution_count": 22,
   "metadata": {},
   "outputs": [
    {
     "name": "stdout",
     "output_type": "stream",
     "text": [
      "WARNING:tensorflow:Falling back from v2 loop because of error: Failed to find data adapter that can handle input: <class 'pandas.core.frame.DataFrame'>, <class 'NoneType'>\n",
      "\n",
      "Confusion Matrix:\n",
      "[[254  39]\n",
      " [ 14   7]]\n",
      "\n",
      "TP, TN, FP, FN: 7 , 254 , 39 , 14\n",
      "\n",
      "Classification report:\n",
      "              precision    recall  f1-score   support\n",
      "\n",
      "         0.0       0.95      0.87      0.91       293\n",
      "         1.0       0.15      0.33      0.21        21\n",
      "\n",
      "    accuracy                           0.83       314\n",
      "   macro avg       0.55      0.60      0.56       314\n",
      "weighted avg       0.89      0.83      0.86       314\n",
      "\n"
     ]
    }
   ],
   "source": [
    "# evaluate model using confusion matrix-derived metrics\n",
    "y_pred2 = model2.predict_classes(X_test_f)\n",
    "print ('\\nConfusion Matrix:')\n",
    "print(confusion_matrix(y_test, y_pred2)) \n",
    "tn, fp, fn, tp = confusion_matrix(y_test, y_pred2).ravel()\n",
    "print ('\\nTP, TN, FP, FN:', tp, ',', tn, ',', fp, ',', fn)\n",
    "print ('\\nClassification report:')\n",
    "print(classification_report(y_test, y_pred2))"
   ]
  },
  {
   "cell_type": "markdown",
   "metadata": {},
   "source": [
    "##### 3. Build a RNN model\n",
    "\n",
    "<ul><li>The dataset does not have an obvious sequence structure</li>\n",
    "    <li>Although there is a timestamp, the timestep between observations are variable, not constant (e.g. using day as timestep, there are one to many observations per day, as shown below)</li>\n",
    "    <li>The features could be considered a sequence, if the output is dependent on the order of the columns/features. However, feature selection was applied, reducing dimensionality and also potentially altering the relationships between columns/features, if any. A workaround could be to use all features</li>\n",
    "    </ul>\n",
    "    \n",
    "#### The following will be tested:\n",
    "<ul>\n",
    "    <li>Restructure data as (samples, timestep=1, features)</li>\n",
    "    <li>Restructure data as (samples, timestep=#features, features=1), with 435 features after preprocessing, assuming features are an ordered sequence</li>\n",
    "    <li>Restructure data as (samples, timestep=#features, features=1), with 20 selected features, assuming features are an ordered sequence</li>\n",
    "    </ul>"
   ]
  },
  {
   "cell_type": "code",
   "execution_count": 23,
   "metadata": {},
   "outputs": [
    {
     "name": "stdout",
     "output_type": "stream",
     "text": [
      "Timestamp is monotonic? True\n",
      "Number of daily observations range from 1 to 62\n"
     ]
    }
   ],
   "source": [
    "# examime timestamp of the dataset\n",
    "timestamp = pd.read_csv(filename_label, header=None, sep= ' ', usecols=[1]) # get label timestamp\n",
    "timestamp = pd.to_datetime(timestamp[1], format='%d/%m/%Y %H:%M:%S')\n",
    "print('Timestamp is monotonic? {}'.format(timestamp.is_monotonic))\n",
    "\n",
    "# how many observations per timeframe (e.g. day)\n",
    "days = pd.DataFrame(timestamp.dt.date)\n",
    "testdf = pd.DataFrame(df['label'].values, index=days[1])\n",
    "daily_obs = testdf.groupby(testdf.index).count()\n",
    "print('Number of daily observations range from {:.0f} to {:.0f}'.format(daily_obs.describe()[0]['min'], daily_obs.describe()[0]['max']))"
   ]
  },
  {
   "cell_type": "markdown",
   "metadata": {},
   "source": [
    "##### 1: Try restructuring data as (samples, timestep=1, features) for use in RNN model\n",
    "Evaluate results against previous models that use the same feature set of 20 features"
   ]
  },
  {
   "cell_type": "code",
   "execution_count": 24,
   "metadata": {},
   "outputs": [],
   "source": [
    "# restructure data in (samples, timesteps=1, features=features) for RNN/LSTM\n",
    "X_train_lstm = X_train_f.values.reshape(X_train_f.shape[0], 1, X_train_f.shape[1])\n",
    "y_train_lstm = y_train_res.values.reshape(y_train_res.shape[0], 1, 1)\n",
    "X_test_lstm = X_test_f.values.reshape(X_test_f.shape[0], 1, X_test_f.shape[1])\n",
    "y_test_lstm = y_test.values.reshape(y_test.shape[0], 1, 1)"
   ]
  },
  {
   "cell_type": "code",
   "execution_count": 25,
   "metadata": {
    "scrolled": true
   },
   "outputs": [
    {
     "name": "stdout",
     "output_type": "stream",
     "text": [
      "Model: \"sequential_2\"\n",
      "_________________________________________________________________\n",
      "Layer (type)                 Output Shape              Param #   \n",
      "=================================================================\n",
      "lstm (LSTM)                  (None, 64)                21760     \n",
      "_________________________________________________________________\n",
      "dense_4 (Dense)              (None, 8)                 520       \n",
      "_________________________________________________________________\n",
      "dense_5 (Dense)              (None, 1)                 9         \n",
      "=================================================================\n",
      "Total params: 22,289\n",
      "Trainable params: 22,289\n",
      "Non-trainable params: 0\n",
      "_________________________________________________________________\n",
      "None\n",
      "Train on 2340 samples, validate on 314 samples\n",
      "Epoch 1/50\n",
      "2340/2340 [==============================] - 3s 1ms/sample - loss: 0.6078 - accuracy: 0.6675 - val_loss: 0.6243 - val_accuracy: 0.6178\n",
      "Epoch 2/50\n",
      "2340/2340 [==============================] - 0s 66us/sample - loss: 0.5119 - accuracy: 0.7385 - val_loss: 0.5384 - val_accuracy: 0.6943\n",
      "Epoch 3/50\n",
      "2340/2340 [==============================] - 0s 69us/sample - loss: 0.4715 - accuracy: 0.7765 - val_loss: 0.4984 - val_accuracy: 0.7389\n",
      "Epoch 4/50\n",
      "2340/2340 [==============================] - 0s 62us/sample - loss: 0.4377 - accuracy: 0.7962 - val_loss: 0.4324 - val_accuracy: 0.7866\n",
      "Epoch 5/50\n",
      "2340/2340 [==============================] - 0s 59us/sample - loss: 0.4075 - accuracy: 0.8222 - val_loss: 0.4705 - val_accuracy: 0.7707\n",
      "Epoch 6/50\n",
      "2340/2340 [==============================] - 0s 63us/sample - loss: 0.3768 - accuracy: 0.8359 - val_loss: 0.4391 - val_accuracy: 0.7898\n",
      "Epoch 7/50\n",
      "2340/2340 [==============================] - 0s 61us/sample - loss: 0.3449 - accuracy: 0.8556 - val_loss: 0.4239 - val_accuracy: 0.8121\n",
      "Epoch 8/50\n",
      "2340/2340 [==============================] - 0s 59us/sample - loss: 0.3163 - accuracy: 0.8701 - val_loss: 0.4198 - val_accuracy: 0.8153\n",
      "Epoch 9/50\n",
      "2340/2340 [==============================] - 0s 59us/sample - loss: 0.2911 - accuracy: 0.8906 - val_loss: 0.4499 - val_accuracy: 0.7962\n",
      "Epoch 10/50\n",
      "2340/2340 [==============================] - 0s 58us/sample - loss: 0.2644 - accuracy: 0.9000 - val_loss: 0.3965 - val_accuracy: 0.8312\n",
      "Epoch 11/50\n",
      "2340/2340 [==============================] - 0s 60us/sample - loss: 0.2420 - accuracy: 0.9175 - val_loss: 0.3998 - val_accuracy: 0.8312\n",
      "Epoch 12/50\n",
      "2340/2340 [==============================] - 0s 67us/sample - loss: 0.2205 - accuracy: 0.9252 - val_loss: 0.4215 - val_accuracy: 0.8280\n",
      "Epoch 13/50\n",
      "2340/2340 [==============================] - 0s 63us/sample - loss: 0.2026 - accuracy: 0.9363 - val_loss: 0.4338 - val_accuracy: 0.8280\n"
     ]
    }
   ],
   "source": [
    "# construct model\n",
    "model3 = Sequential()\n",
    "model3.add(LSTM(64, input_shape=(X_train_lstm.shape[1], X_train_lstm.shape[2]), return_sequences=False))\n",
    "model3.add(Dense(8))\n",
    "model3.add(Dense(1, activation='sigmoid'))\n",
    "model3.compile(loss='binary_crossentropy', optimizer='adam', metrics=['accuracy']) \n",
    "print(model3.summary())\n",
    "\n",
    "history3 = model3.fit(X_train_lstm, y_train_lstm, batch_size=batch_size, epochs=epochs,\n",
    "                      validation_data=(X_test_lstm, y_test_lstm), callbacks=cb_loss)"
   ]
  },
  {
   "cell_type": "code",
   "execution_count": 26,
   "metadata": {},
   "outputs": [
    {
     "data": {
      "image/png": "[encoded data removed]",
      "text/plain": [
       "<Figure size 432x288 with 2 Axes>"
      ]
     },
     "metadata": {
      "needs_background": "light"
     },
     "output_type": "display_data"
    },
    {
     "name": "stdout",
     "output_type": "stream",
     "text": [
      "\n",
      "Test loss: 0.397\n"
     ]
    }
   ],
   "source": [
    "# function to plot training/validation loss and accuracy\n",
    "def plot_loss_acc(xx):\n",
    "    fig, axs = plt.subplots(1,2)\n",
    "    axs[0].plot(range(1,len(xx.history['loss'])+1), xx.history['loss'], 'o-', label='training')\n",
    "    axs[0].plot(range(1,len(xx.history['val_loss'])+1), xx.history['val_loss'], 'o-', label='validation')\n",
    "    axs[0].set_title('Loss')\n",
    "    axs[0].set_xlabel('Epoch')\n",
    "    axs[0].set_ylabel('Loss')\n",
    "    axs[0].legend()\n",
    "    axs[1].plot(range(1,len(xx.history['accuracy'])+1), xx.history['accuracy'], 'o-', label='training')\n",
    "    axs[1].plot(range(1,len(xx.history['val_accuracy'])+1), xx.history['val_accuracy'], 'o-', label='validation')\n",
    "    axs[1].set_title('Accuracy')\n",
    "    axs[1].set_xlabel('Epoch')\n",
    "    axs[1].set_ylabel('Accuracy')\n",
    "    axs[1].set_ylim(-0.05, 1.05)\n",
    "    axs[1].legend()\n",
    "    fig.tight_layout()\n",
    "    plt.show()\n",
    "    \n",
    "# plot training/validation loss and accuracy\n",
    "plot_loss_acc(history3)\n",
    "\n",
    "# test results after restoring best weights\n",
    "loss3 = model3.evaluate(X_test_lstm, y_test_lstm, batch_size=batch_size, verbose=0)\n",
    "print('\\nTest loss: {:.3f}'.format(loss3[0]))"
   ]
  },
  {
   "cell_type": "code",
   "execution_count": 27,
   "metadata": {},
   "outputs": [
    {
     "name": "stdout",
     "output_type": "stream",
     "text": [
      "\n",
      "Confusion Matrix:\n",
      "[[254  39]\n",
      " [ 14   7]]\n",
      "\n",
      "TP, TN, FP, FN: 7 , 254 , 39 , 14\n",
      "\n",
      "Classification report:\n",
      "              precision    recall  f1-score   support\n",
      "\n",
      "         0.0       0.95      0.87      0.91       293\n",
      "         1.0       0.15      0.33      0.21        21\n",
      "\n",
      "    accuracy                           0.83       314\n",
      "   macro avg       0.55      0.60      0.56       314\n",
      "weighted avg       0.89      0.83      0.86       314\n",
      "\n"
     ]
    }
   ],
   "source": [
    "# evaluate model using confusion matrix-derived metrics\n",
    "y_pred3 = model3.predict_classes(X_test_lstm)\n",
    "print ('\\nConfusion Matrix:')\n",
    "print(confusion_matrix(y_test, y_pred3)) \n",
    "tn, fp, fn, tp = confusion_matrix(y_test, y_pred3).ravel()\n",
    "print ('\\nTP, TN, FP, FN:', tp, ',', tn, ',', fp, ',', fn)\n",
    "print ('\\nClassification report:')\n",
    "print(classification_report(y_test, y_pred3))"
   ]
  },
  {
   "cell_type": "markdown",
   "metadata": {},
   "source": [
    "##### 2: Try restructuring data as (samples, timestep=#features, features=1) for use in RNN model<br>(i.e. using features as a ordered sequence)\n",
    "\n",
    "#### First, try using all 435 features after preprocessing"
   ]
  },
  {
   "cell_type": "code",
   "execution_count": 28,
   "metadata": {},
   "outputs": [],
   "source": [
    "# restructure data in (samples, timesteps=features, features=1) for RNN/LSTM\n",
    "# use 435 features\n",
    "X_train_lstm2 = X_train_res.values.reshape(X_train_res.shape[0], X_train_res.shape[1], 1)\n",
    "y_train_lstm2 = y_train_res.values.reshape(y_train_res.shape[0], 1, 1)\n",
    "X_test_lstm2 = X_test.values.reshape(X_test.shape[0], X_test.shape[1], 1)\n",
    "y_test_lstm2 = y_test.values.reshape(y_test.shape[0], 1, 1)"
   ]
  },
  {
   "cell_type": "code",
   "execution_count": 29,
   "metadata": {
    "scrolled": true
   },
   "outputs": [
    {
     "name": "stdout",
     "output_type": "stream",
     "text": [
      "Model: \"sequential_3\"\n",
      "_________________________________________________________________\n",
      "Layer (type)                 Output Shape              Param #   \n",
      "=================================================================\n",
      "lstm_1 (LSTM)                (None, 64)                16896     \n",
      "_________________________________________________________________\n",
      "dense_6 (Dense)              (None, 8)                 520       \n",
      "_________________________________________________________________\n",
      "dense_7 (Dense)              (None, 1)                 9         \n",
      "=================================================================\n",
      "Total params: 17,425\n",
      "Trainable params: 17,425\n",
      "Non-trainable params: 0\n",
      "_________________________________________________________________\n",
      "None\n",
      "Train on 2340 samples, validate on 314 samples\n",
      "Epoch 1/50\n",
      "2340/2340 [==============================] - 15s 6ms/sample - loss: 0.6815 - accuracy: 0.5594 - val_loss: 0.6551 - val_accuracy: 0.5318\n",
      "Epoch 2/50\n",
      "2340/2340 [==============================] - 12s 5ms/sample - loss: 0.6495 - accuracy: 0.6179 - val_loss: 0.6714 - val_accuracy: 0.4554\n",
      "Epoch 3/50\n",
      "2340/2340 [==============================] - 13s 5ms/sample - loss: 0.6523 - accuracy: 0.6111 - val_loss: 0.6462 - val_accuracy: 0.5541\n",
      "Epoch 4/50\n",
      "2340/2340 [==============================] - 13s 6ms/sample - loss: 0.6135 - accuracy: 0.6684 - val_loss: 0.8069 - val_accuracy: 0.4427\n",
      "Epoch 5/50\n",
      "2340/2340 [==============================] - 12s 5ms/sample - loss: 0.5649 - accuracy: 0.7184 - val_loss: 0.3006 - val_accuracy: 0.9299\n",
      "Epoch 6/50\n",
      "2340/2340 [==============================] - 12s 5ms/sample - loss: 0.7001 - accuracy: 0.5821 - val_loss: 0.5527 - val_accuracy: 0.7580\n",
      "Epoch 7/50\n",
      "2340/2340 [==============================] - 12s 5ms/sample - loss: 0.6270 - accuracy: 0.6286 - val_loss: 0.6575 - val_accuracy: 0.6019\n",
      "Epoch 8/50\n",
      "2340/2340 [==============================] - 14s 6ms/sample - loss: 0.6105 - accuracy: 0.6598 - val_loss: 0.5571 - val_accuracy: 0.7452\n"
     ]
    }
   ],
   "source": [
    "# construct model\n",
    "model4 = Sequential()\n",
    "model4.add(LSTM(64, input_shape=(X_train_lstm2.shape[1], X_train_lstm2.shape[2]), return_sequences=False))\n",
    "model4.add(Dense(8))\n",
    "model4.add(Dense(1, activation='sigmoid'))\n",
    "model4.compile(loss='binary_crossentropy', optimizer='adam', metrics=['accuracy']) \n",
    "print(model4.summary())\n",
    "\n",
    "history4 = model4.fit(X_train_lstm2, y_train_lstm2, batch_size=batch_size, epochs=epochs,\n",
    "                      validation_data=(X_test_lstm2, y_test_lstm2), callbacks=cb_loss)"
   ]
  },
  {
   "cell_type": "code",
   "execution_count": 30,
   "metadata": {},
   "outputs": [
    {
     "data": {
      "image/png": "[encoded data removed]",
      "text/plain": [
       "<Figure size 432x288 with 2 Axes>"
      ]
     },
     "metadata": {
      "needs_background": "light"
     },
     "output_type": "display_data"
    },
    {
     "name": "stdout",
     "output_type": "stream",
     "text": [
      "\n",
      "Test loss: 0.301\n"
     ]
    }
   ],
   "source": [
    "# plot training/validation loss and accuracy\n",
    "plot_loss_acc(history4)\n",
    "    \n",
    "# test results after restoring best weights\n",
    "loss4 = model4.evaluate(X_test_lstm2, y_test_lstm2, batch_size=batch_size, verbose=0)\n",
    "print('\\nTest loss: {:.3f}'.format(loss4[0]))"
   ]
  },
  {
   "cell_type": "code",
   "execution_count": 31,
   "metadata": {},
   "outputs": [
    {
     "name": "stdout",
     "output_type": "stream",
     "text": [
      "\n",
      "Confusion Matrix:\n",
      "[[292   1]\n",
      " [ 21   0]]\n",
      "\n",
      "TP, TN, FP, FN: 0 , 292 , 1 , 21\n",
      "\n",
      "Classification report:\n",
      "              precision    recall  f1-score   support\n",
      "\n",
      "         0.0       0.93      1.00      0.96       293\n",
      "         1.0       0.00      0.00      0.00        21\n",
      "\n",
      "    accuracy                           0.93       314\n",
      "   macro avg       0.47      0.50      0.48       314\n",
      "weighted avg       0.87      0.93      0.90       314\n",
      "\n"
     ]
    }
   ],
   "source": [
    "# evaluate model using confusion matrix-derived metrics\n",
    "y_pred4 = model4.predict_classes(X_test_lstm2)\n",
    "print ('\\nConfusion Matrix:')\n",
    "print(confusion_matrix(y_test, y_pred4)) \n",
    "tn, fp, fn, tp = confusion_matrix(y_test, y_pred4).ravel()\n",
    "print ('\\nTP, TN, FP, FN:', tp, ',', tn, ',', fp, ',', fn)\n",
    "print ('\\nClassification report:')\n",
    "print(classification_report(y_test, y_pred4))"
   ]
  },
  {
   "cell_type": "markdown",
   "metadata": {},
   "source": [
    "##### Second, try using 20 selected features, again assuming that selected features are an ordered sequence"
   ]
  },
  {
   "cell_type": "code",
   "execution_count": 32,
   "metadata": {},
   "outputs": [],
   "source": [
    "# restructure data in (samples, timesteps=features, features=1) for RNN/LSTM\n",
    "# use 20 selected features, same as above\n",
    "X_train_lstm2 = X_train_f.values.reshape(X_train_f.shape[0], X_train_f.shape[1], 1)\n",
    "y_train_lstm2 = y_train_res.values.reshape(y_train_res.shape[0], 1, 1)\n",
    "X_test_lstm2 = X_test_f.values.reshape(X_test_f.shape[0], X_test_f.shape[1], 1)\n",
    "y_test_lstm2 = y_test.values.reshape(y_test.shape[0], 1, 1)"
   ]
  },
  {
   "cell_type": "code",
   "execution_count": 33,
   "metadata": {
    "scrolled": true
   },
   "outputs": [
    {
     "name": "stdout",
     "output_type": "stream",
     "text": [
      "Model: \"sequential_4\"\n",
      "_________________________________________________________________\n",
      "Layer (type)                 Output Shape              Param #   \n",
      "=================================================================\n",
      "lstm_2 (LSTM)                (None, 64)                16896     \n",
      "_________________________________________________________________\n",
      "dense_8 (Dense)              (None, 8)                 520       \n",
      "_________________________________________________________________\n",
      "dense_9 (Dense)              (None, 1)                 9         \n",
      "=================================================================\n",
      "Total params: 17,425\n",
      "Trainable params: 17,425\n",
      "Non-trainable params: 0\n",
      "_________________________________________________________________\n",
      "None\n",
      "Train on 2340 samples, validate on 314 samples\n",
      "Epoch 1/50\n",
      "2340/2340 [==============================] - 3s 1ms/sample - loss: 0.6365 - accuracy: 0.6457 - val_loss: 0.5896 - val_accuracy: 0.6274\n",
      "Epoch 2/50\n",
      "2340/2340 [==============================] - 1s 279us/sample - loss: 0.6030 - accuracy: 0.6662 - val_loss: 0.5859 - val_accuracy: 0.5828\n",
      "Epoch 3/50\n",
      "2340/2340 [==============================] - 1s 323us/sample - loss: 0.5907 - accuracy: 0.6816 - val_loss: 0.5939 - val_accuracy: 0.5828\n",
      "Epoch 4/50\n",
      "2340/2340 [==============================] - 1s 352us/sample - loss: 0.5679 - accuracy: 0.7000 - val_loss: 0.6340 - val_accuracy: 0.5669\n",
      "Epoch 5/50\n",
      "2340/2340 [==============================] - 1s 301us/sample - loss: 0.5586 - accuracy: 0.7094 - val_loss: 0.6774 - val_accuracy: 0.5478\n"
     ]
    }
   ],
   "source": [
    "# construct model\n",
    "model5 = Sequential()\n",
    "model5.add(LSTM(64, input_shape=(X_train_lstm2.shape[1], X_train_lstm2.shape[2]), return_sequences=False))\n",
    "model5.add(Dense(8))\n",
    "model5.add(Dense(1, activation='sigmoid'))\n",
    "model5.compile(loss='binary_crossentropy', optimizer='adam', metrics=['accuracy']) \n",
    "print(model5.summary())\n",
    "\n",
    "history5 = model5.fit(X_train_lstm2, y_train_lstm2, batch_size=batch_size, epochs=epochs,\n",
    "                      validation_data=(X_test_lstm2, y_test_lstm2), callbacks=cb_loss)"
   ]
  },
  {
   "cell_type": "code",
   "execution_count": 34,
   "metadata": {},
   "outputs": [
    {
     "data": {
      "image/png": "[encoded data removed]",
      "text/plain": [
       "<Figure size 432x288 with 2 Axes>"
      ]
     },
     "metadata": {
      "needs_background": "light"
     },
     "output_type": "display_data"
    },
    {
     "name": "stdout",
     "output_type": "stream",
     "text": [
      "\n",
      "Test loss: 0.586\n"
     ]
    }
   ],
   "source": [
    "# plot training/validation loss and accuracy\n",
    "plot_loss_acc(history5)\n",
    "    \n",
    "# test results after restoring best weights\n",
    "loss5 = model5.evaluate(X_test_lstm2, y_test_lstm2, batch_size=batch_size, verbose=0)\n",
    "print('\\nTest loss: {:.3f}'.format(loss5[0]))"
   ]
  },
  {
   "cell_type": "code",
   "execution_count": 35,
   "metadata": {},
   "outputs": [
    {
     "name": "stdout",
     "output_type": "stream",
     "text": [
      "\n",
      "Confusion Matrix:\n",
      "[[169 124]\n",
      " [  7  14]]\n",
      "\n",
      "TP, TN, FP, FN: 14 , 169 , 124 , 7\n",
      "\n",
      "Classification report:\n",
      "              precision    recall  f1-score   support\n",
      "\n",
      "         0.0       0.96      0.58      0.72       293\n",
      "         1.0       0.10      0.67      0.18        21\n",
      "\n",
      "    accuracy                           0.58       314\n",
      "   macro avg       0.53      0.62      0.45       314\n",
      "weighted avg       0.90      0.58      0.68       314\n",
      "\n"
     ]
    }
   ],
   "source": [
    "# evaluate model using confusion matrix-derived metrics\n",
    "y_pred5 = model5.predict_classes(X_test_lstm2)\n",
    "print ('\\nConfusion Matrix:')\n",
    "print(confusion_matrix(y_test, y_pred5)) \n",
    "tn, fp, fn, tp = confusion_matrix(y_test, y_pred5).ravel()\n",
    "print ('\\nTP, TN, FP, FN:', tp, ',', tn, ',', fp, ',', fn)\n",
    "print ('\\nClassification report:')\n",
    "print(classification_report(y_test, y_pred5))"
   ]
  },
  {
   "cell_type": "markdown",
   "metadata": {},
   "source": [
    "##### 4. Summarize your findings with examples. Explain what the manufacturer should focus on to optimize the diaper manufacturing process."
   ]
  },
  {
   "cell_type": "code",
   "execution_count": 36,
   "metadata": {},
   "outputs": [
    {
     "data": {
      "text/html": [
       "<div>\n",
       "<style scoped>\n",
       "    .dataframe tbody tr th:only-of-type {\n",
       "        vertical-align: middle;\n",
       "    }\n",
       "\n",
       "    .dataframe tbody tr th {\n",
       "        vertical-align: top;\n",
       "    }\n",
       "\n",
       "    .dataframe thead th {\n",
       "        text-align: right;\n",
       "    }\n",
       "</style>\n",
       "<table border=\"1\" class=\"dataframe\">\n",
       "  <thead>\n",
       "    <tr style=\"text-align: right;\">\n",
       "      <th></th>\n",
       "      <th>Precision</th>\n",
       "      <th>Recall</th>\n",
       "      <th>f1-score</th>\n",
       "      <th>Overall accuracy</th>\n",
       "    </tr>\n",
       "  </thead>\n",
       "  <tbody>\n",
       "    <tr>\n",
       "      <th>Model 1/Simple ANN</th>\n",
       "      <td>0.130</td>\n",
       "      <td>0.619</td>\n",
       "      <td>0.215</td>\n",
       "      <td>0.697</td>\n",
       "    </tr>\n",
       "    <tr>\n",
       "      <th>Model 2/Deeper ANN</th>\n",
       "      <td>0.152</td>\n",
       "      <td>0.333</td>\n",
       "      <td>0.209</td>\n",
       "      <td>0.831</td>\n",
       "    </tr>\n",
       "    <tr>\n",
       "      <th>Model 3/LSTM (time=1, features=20)</th>\n",
       "      <td>0.152</td>\n",
       "      <td>0.333</td>\n",
       "      <td>0.209</td>\n",
       "      <td>0.831</td>\n",
       "    </tr>\n",
       "    <tr>\n",
       "      <th>Model 4/LSTM (time=435, features=1)</th>\n",
       "      <td>0.000</td>\n",
       "      <td>0.000</td>\n",
       "      <td>0.000</td>\n",
       "      <td>0.930</td>\n",
       "    </tr>\n",
       "    <tr>\n",
       "      <th>Model 5/LSTM (time=20, features=1)</th>\n",
       "      <td>0.101</td>\n",
       "      <td>0.667</td>\n",
       "      <td>0.176</td>\n",
       "      <td>0.583</td>\n",
       "    </tr>\n",
       "  </tbody>\n",
       "</table>\n",
       "</div>"
      ],
      "text/plain": [
       "                                     Precision  Recall  f1-score  \\\n",
       "Model 1/Simple ANN                       0.130   0.619     0.215   \n",
       "Model 2/Deeper ANN                       0.152   0.333     0.209   \n",
       "Model 3/LSTM (time=1, features=20)       0.152   0.333     0.209   \n",
       "Model 4/LSTM (time=435, features=1)      0.000   0.000     0.000   \n",
       "Model 5/LSTM (time=20, features=1)       0.101   0.667     0.176   \n",
       "\n",
       "                                     Overall accuracy  \n",
       "Model 1/Simple ANN                              0.697  \n",
       "Model 2/Deeper ANN                              0.831  \n",
       "Model 3/LSTM (time=1, features=20)              0.831  \n",
       "Model 4/LSTM (time=435, features=1)             0.930  \n",
       "Model 5/LSTM (time=20, features=1)              0.583  "
      ]
     },
     "execution_count": 36,
     "metadata": {},
     "output_type": "execute_result"
    }
   ],
   "source": [
    "# compare model results\n",
    "precision1, recall1, fscore1, support1 = precision_recall_fscore_support(y_test, y_pred1)\n",
    "accuracy1 = accuracy_score(y_test, y_pred1)\n",
    "precision2, recall2, fscore2, support2 = precision_recall_fscore_support(y_test, y_pred2)\n",
    "accuracy2 = accuracy_score(y_test, y_pred2)\n",
    "precision3, recall3, fscore3, support3 = precision_recall_fscore_support(y_test, y_pred3)\n",
    "accuracy3 = accuracy_score(y_test, y_pred3)\n",
    "precision4, recall4, fscore4, support4 = precision_recall_fscore_support(y_test, y_pred4)\n",
    "accuracy4 = accuracy_score(y_test, y_pred4)\n",
    "precision5, recall5, fscore5, support5 = precision_recall_fscore_support(y_test, y_pred5)\n",
    "accuracy5 = accuracy_score(y_test, y_pred5)\n",
    "\n",
    "# organize into display df\n",
    "results = pd.DataFrame({'Model 1/Simple ANN': np.round([precision1[1], recall1[1], fscore1[1], accuracy1],3),\n",
    "                        'Model 2/Deeper ANN': np.around([precision2[1], recall2[1], fscore2[1], accuracy2],3),\n",
    "                        'Model 3/LSTM (time=1, features=20)': np.round([precision3[1], recall3[1], fscore3[1], accuracy3],3),\n",
    "                        'Model 4/LSTM (time=435, features=1)': np.round([precision4[1], recall4[1], fscore4[1], accuracy4],3),\n",
    "                        'Model 5/LSTM (time=20, features=1)': np.round([precision5[1], recall5[1], fscore5[1], accuracy5],3)\n",
    "                        },\n",
    "                       index=['Precision', 'Recall', 'f1-score', 'Overall accuracy'])\n",
    "results.T"
   ]
  },
  {
   "cell_type": "markdown",
   "metadata": {},
   "source": [
    "##### Summary of findings:  \n",
    "<ul>\n",
    "        <li>As ANNs are stochastic, the following findings are based on the present run</li>\n",
    "    <li>20 selected features by ANOVA F-value were used unless otherwise noted. This feature set worked well in the previous Milestone and using the same feature set enables a more direct comparison with previous results</li>\n",
    "    <p>\n",
    "    <li>The simplest ANN with 1 input layer and 1 output layer produced a similar (if not higher) Class 1 recall compared to the deeper ANN and LSTM models tested here (and the decision tree, random forest, and SVM models built in the previous Milestone, which had Class 1 recall of ~25-40%)</li>\n",
    "    <li>However, the simplest ANN produced a relatively low overall accuracy (due to high number of false positives) compared to the deeper ANN and LSTM models here (and the traditional ML models in the previous Milestone, which had accuracy of 80-90%)</li>\n",
    "    <li>Thus, the simplest ANN may be adequate in detecting faulty products at a cost of high false positives</li>\n",
    "    <p>\n",
    "    <li>As constructed here, the DNN (or deeper ANN) model produced higher accuracy compared to the simplest ANN, but at a cost of lower Class 1 recall. The DNN produced very similar performance to the tuned decision tree, random forest, and SVM models from the previous Milestone in terms of Class 1 recall, Class 1 f1-score, and overall accuracy, which could be considered a good result, given the relatively small size of the dataset (~1600 observations total)</li>\n",
    "    <p>\n",
    "    <li>While the dataset had timestamps, the timesteps were not constant. Two approaches were used to build a RNN/LSTM model:\n",
    "    <ul>\n",
    "        <li>First, the data was restructured with a single timestep. The resultant LSTM model produced very similar results compared to the DNN model above in terms of Class 1 recall, f1-score, and accuracy</li>\n",
    "        <li>Second, the data was restructured with multiple timesteps, using features as timesteps and a single feature. This approach assumes that the order of the feature columns is a sequence that may affect the label. Two feature sets were used:\n",
    "            <ul>\n",
    "                <li>Using all features after preprocessing (435): Class 1 recall was very low compared to all other models. In this particular run there were no true positives and the validation loss fluctuated</li>\n",
    "                <li>Using the same 20-feature feature set as other models, results were similar to the simplest ANN (but both Class 1 f1-score and overall accuracy were lower)</li>\n",
    "            </ul></li>\n",
    "        </ul>\n",
    "        </li>\n",
    "        <li>Overall, restructuring the data using features as timestamps did not work well, suggesting that the order of features (i.e. sensor readings) may not inform the label</li>\n",
    "</ul>\n",
    "\n",
    "\n",
    "##### Recommendations:\n",
    "Coming back to the diaper manufacturing problem,\n",
    "<ul>\n",
    "    <li>If false positives are an acceptable cost, and the priority is to identify as many faulty products as possible (for example to remove them early from downstream processes, thereby saving time and resources), the simplest ANN outperforms the other NN models here and the traditional ML models in the previous Milestone and could be deployed for this purpose</li>\n",
    "    <li>Traditional ML models appear to be sufficient in predicting faulty products given the current number of samples (~1600 total observations) and selected features. ANN models do not appear to provide a significant advantage at this time (although their architecture and hyperparameters could be futher tuned)</li>\n",
    "</ul>"
   ]
  }
 ],
 "metadata": {
  "kernelspec": {
   "display_name": "Python 3",
   "language": "python",
   "name": "python3"
  },
  "language_info": {
   "codemirror_mode": {
    "name": "ipython",
    "version": 3
   },
   "file_extension": ".py",
   "mimetype": "text/x-python",
   "name": "python",
   "nbconvert_exporter": "python",
   "pygments_lexer": "ipython3",
   "version": "3.7.3"
  }
 },
 "nbformat": 4,
 "nbformat_minor": 2
}
