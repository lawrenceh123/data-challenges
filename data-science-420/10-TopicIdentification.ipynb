{
 "cells": [
  {
   "cell_type": "markdown",
   "metadata": {},
   "source": [
    "### Lesson 10 Assignment - New Topic Identification\n",
    "### Lawrence Huang\n",
    "##### Instructions\n",
    "\n",
    "Using the Keras dataset, create a new notebook and perform each of the following data preparation tasks and answer the related questions:\n",
    "\n",
    "1. Read Reuters dataset into training and testing \n",
    "2. Prepare dataset\n",
    "3. Build and compile 3 different models using Keras LTSM ideally improving model at each iteration.\n",
    "4. Describe and explain your findings"
   ]
  },
  {
   "cell_type": "code",
   "execution_count": 1,
   "metadata": {},
   "outputs": [
    {
     "name": "stdout",
     "output_type": "stream",
     "text": [
      "Couldn't import dot_parser, loading of dot files will not be possible.\n"
     ]
    }
   ],
   "source": [
    "# imports\n",
    "import numpy as np\n",
    "np.random.seed(11)\n",
    "import pandas as pd\n",
    "from tensorflow.keras.preprocessing.sequence import pad_sequences\n",
    "from tensorflow.keras.models import Sequential\n",
    "from tensorflow.keras.layers import Embedding, Dense, LSTM\n",
    "from tensorflow.keras.callbacks import EarlyStopping\n",
    "import matplotlib.pyplot as plt\n",
    "%matplotlib inline"
   ]
  },
  {
   "cell_type": "code",
   "execution_count": 2,
   "metadata": {},
   "outputs": [],
   "source": [
    "# workaround for kernel dying when running on some OS X machines\n",
    "if False:\n",
    "    import os\n",
    "    os.environ['KMP_DUPLICATE_LIB_OK'] = 'TRUE'"
   ]
  },
  {
   "cell_type": "markdown",
   "metadata": {},
   "source": [
    "##### 1. Read Reuters dataset into training and testing "
   ]
  },
  {
   "cell_type": "code",
   "execution_count": 3,
   "metadata": {},
   "outputs": [
    {
     "name": "stderr",
     "output_type": "stream",
     "text": [
      "Using TensorFlow backend.\n"
     ]
    }
   ],
   "source": [
    "num_words = 10000 # consider top N most frequent words \n",
    "from keras.datasets import reuters\n",
    "# load data. If numpy version is imcompatible, resulting in ValueError, then apply workaround\n",
    "try:\n",
    "    # load Reuters newswire topics dataset (https://keras.io/datasets/#reuters-newswire-topics-classification)\n",
    "    (x_train, y_train), (x_test, y_test) = reuters.load_data(path=\"reuters.npz\",\n",
    "                                                         num_words=num_words,\n",
    "                                                         skip_top=0,\n",
    "                                                         maxlen=None,\n",
    "                                                         test_split=0.2,\n",
    "                                                         seed=113,\n",
    "                                                         start_char=1,\n",
    "                                                         oov_char=2,\n",
    "                                                         index_from=3)\n",
    "except:\n",
    "    # workaround for ValueError: Object arrays cannot be loaded when allow_pickle=False (numpy incompatibility)\n",
    "    # save np.load\n",
    "    np_load_old = np.load\n",
    "    # modify the default parameters of np.load\n",
    "    np.load = lambda *a,**k: np_load_old(*a, allow_pickle=True, **k)\n",
    "\n",
    "    # load Reuters newswire topics dataset (https://keras.io/datasets/#reuters-newswire-topics-classification)\n",
    "    (x_train, y_train), (x_test, y_test) = reuters.load_data(path=\"reuters.npz\",\n",
    "                                                             num_words=num_words,\n",
    "                                                             skip_top=0,\n",
    "                                                             maxlen=None,\n",
    "                                                             test_split=0.2,\n",
    "                                                             seed=113,\n",
    "                                                             start_char=1,\n",
    "                                                             oov_char=2,\n",
    "                                                             index_from=3)\n",
    "\n",
    "    # restore np.load for future normal usage\n",
    "    np.load = np_load_old"
   ]
  },
  {
   "cell_type": "code",
   "execution_count": 4,
   "metadata": {},
   "outputs": [
    {
     "name": "stdout",
     "output_type": "stream",
     "text": [
      "Train shape: (8982,)\n",
      "Test shape: (2246,)\n",
      "Number of topics (train/test): 46/46\n"
     ]
    }
   ],
   "source": [
    "# print dataset info\n",
    "print('Train shape: {}'.format(x_train.shape))\n",
    "print('Test shape: {}'.format(x_test.shape))\n",
    "print('Number of topics (train/test): {}/{}'.format(pd.Series(y_train).nunique(), pd.Series(y_test).nunique()))"
   ]
  },
  {
   "cell_type": "code",
   "execution_count": 5,
   "metadata": {},
   "outputs": [
    {
     "name": "stdout",
     "output_type": "stream",
     "text": [
      "Most common words (Indicies 1-3 are reserved):\n"
     ]
    },
    {
     "data": {
      "text/plain": [
       "[('<PAD>', 0),\n",
       " ('<START>', 1),\n",
       " ('<UNK>', 2),\n",
       " ('<UNUSED>', 3),\n",
       " ('the', 4),\n",
       " ('of', 5),\n",
       " ('to', 6),\n",
       " ('in', 7),\n",
       " ('said', 8),\n",
       " ('and', 9),\n",
       " ('a', 10)]"
      ]
     },
     "execution_count": 5,
     "metadata": {},
     "output_type": "execute_result"
    }
   ],
   "source": [
    "# word index used for encoding the sequences\n",
    "word_index = reuters.get_word_index(path=\"reuters_word_index.json\")\n",
    "word_index = {k:(v+3) for k,v in word_index.items()}\n",
    "word_index[\"<PAD>\"] = 0 # padding char\n",
    "word_index[\"<START>\"] = 1 # start char\n",
    "word_index[\"<UNK>\"] = 2  # unknown/oov char\n",
    "word_index[\"<UNUSED>\"] = 3 # unused\n",
    "\n",
    "# take a look at the most common words\n",
    "sorted_word_index = sorted(word_index.items(), key=lambda kv: kv[1])\n",
    "print('Most common words (Indicies 1-3 are reserved):')\n",
    "sorted_word_index[:11]"
   ]
  },
  {
   "cell_type": "code",
   "execution_count": 6,
   "metadata": {},
   "outputs": [
    {
     "name": "stdout",
     "output_type": "stream",
     "text": [
      "Before decoding:\n",
      "[1, 2, 2, 8, 43, 10, 447, 5, 25, 207, 270, 5, 3095, 111, 16, 369, 186, 90, 67, 7, 89, 5, 19, 102, 6, 19, 124, 15, 90, 67, 84, 22, 482, 26, 7, 48, 4, 49, 8, 864, 39, 209, 154, 6, 151, 6, 83, 11, 15, 22, 155, 11, 15, 7, 48, 9, 4579, 1005, 504, 6, 258, 6, 272, 11, 15, 22, 134, 44, 11, 15, 16, 8, 197, 1245, 90, 67, 52, 29, 209, 30, 32, 132, 6, 109, 15, 17, 12]\n",
      "\n",
      "After decoding:\n",
      "<START> <UNK> <UNK> said as a result of its december acquisition of space co it expects earnings per share in 1987 of 1 15 to 1 30 dlrs per share up from 70 cts in 1986 the company said pretax net should rise to nine to 10 mln dlrs from six mln dlrs in 1986 and rental operation revenues to 19 to 22 mln dlrs from 12 5 mln dlrs it said cash flow per share this year should be 2 50 to three dlrs reuter 3\n"
     ]
    }
   ],
   "source": [
    "# decode text\n",
    "reverse_word_index = dict([(v, k) for (k, v) in word_index.items()])\n",
    "def decode_text(text):\n",
    "    return ' '.join([reverse_word_index.get(i, '?') for i in text])\n",
    "\n",
    "# check data\n",
    "print('Before decoding:')\n",
    "print(x_train[0])\n",
    "print('\\nAfter decoding:')\n",
    "print(decode_text(x_train[0]))"
   ]
  },
  {
   "cell_type": "markdown",
   "metadata": {},
   "source": [
    "##### 2. Prepare dataset"
   ]
  },
  {
   "cell_type": "code",
   "execution_count": 7,
   "metadata": {
    "scrolled": true
   },
   "outputs": [
    {
     "data": {
      "image/png": "[encoded data removed]",
      "text/plain": [
       "<Figure size 432x288 with 1 Axes>"
      ]
     },
     "metadata": {
      "needs_background": "light"
     },
     "output_type": "display_data"
    },
    {
     "name": "stdout",
     "output_type": "stream",
     "text": [
      "Median length: 95.0 words\n"
     ]
    }
   ],
   "source": [
    "# plot histogram of sequence lengths\n",
    "fig, ax = plt.subplots()\n",
    "ax.hist([len(x_train[xx]) for xx in range(len(x_train))], bins=10)\n",
    "ax.set_xlim(0,1000)\n",
    "ax.set_xlabel('Sequence length (words)')\n",
    "ax.set_ylabel('Count')\n",
    "ax.set_title('Histogram of sequence lengths')\n",
    "plt.show()\n",
    "print('Median length: {} words'.format(np.median([len(x_train[xx]) for xx in range(len(x_train))])))"
   ]
  },
  {
   "cell_type": "code",
   "execution_count": 8,
   "metadata": {},
   "outputs": [],
   "source": [
    "# alter the input sequences so that they all have the same length for modeling\n",
    "max_length = 100 # only consider the first N words \n",
    "x_train = pad_sequences(x_train, maxlen=max_length)\n",
    "x_test = pad_sequences(x_test, maxlen=max_length)"
   ]
  },
  {
   "cell_type": "markdown",
   "metadata": {},
   "source": [
    "##### 3. Build and compile 3 different models using Keras LTSM ideally improving model at each iteration."
   ]
  },
  {
   "cell_type": "code",
   "execution_count": 9,
   "metadata": {},
   "outputs": [],
   "source": [
    "# set batch size and number of epochs\n",
    "batch_size=64\n",
    "epochs=25\n",
    "\n",
    "# callback for early stopping\n",
    "callbacks = [EarlyStopping(monitor='val_loss', patience=3, restore_best_weights=True)]\n",
    "\n",
    "# specify number of classes\n",
    "num_classes = np.max(y_train)+1\n",
    "\n",
    "# function to plot training/validation loss and accuracy\n",
    "def plot_loss_acc(xx):\n",
    "    fig, axs = plt.subplots(1,2)\n",
    "    axs[0].plot(xx.history['loss'], 'o-', label='training')\n",
    "    axs[0].plot(xx.history['val_loss'], 'o-', label='validation')\n",
    "    axs[0].set_title('Loss')\n",
    "    axs[0].set_xlabel('Epoch')\n",
    "    axs[0].set_ylabel('Loss')\n",
    "    axs[0].legend()\n",
    "    axs[1].plot(xx.history['acc'], 'o-', label='training')\n",
    "    axs[1].plot(xx.history['val_acc'], 'o-', label='validation')\n",
    "    axs[1].set_title('Accuracy')\n",
    "    axs[1].set_xlabel('Epoch')\n",
    "    axs[1].set_ylabel('Accuracy')\n",
    "    axs[1].legend()\n",
    "    fig.tight_layout()\n",
    "    plt.show()"
   ]
  },
  {
   "cell_type": "markdown",
   "metadata": {},
   "source": [
    "##### Model 1\n",
    "LSTM model"
   ]
  },
  {
   "cell_type": "code",
   "execution_count": 10,
   "metadata": {
    "scrolled": true
   },
   "outputs": [
    {
     "name": "stdout",
     "output_type": "stream",
     "text": [
      "WARNING:tensorflow:From C:\\Users\\lawrenceh\\AppData\\Local\\Continuum\\anaconda3\\lib\\site-packages\\tensorflow\\python\\ops\\resource_variable_ops.py:435: colocate_with (from tensorflow.python.framework.ops) is deprecated and will be removed in a future version.\n",
      "Instructions for updating:\n",
      "Colocations handled automatically by placer.\n",
      "_________________________________________________________________\n",
      "Layer (type)                 Output Shape              Param #   \n",
      "=================================================================\n",
      "embedding (Embedding)        (None, 100, 32)           320000    \n",
      "_________________________________________________________________\n",
      "lstm (LSTM)                  (None, 16)                3136      \n",
      "_________________________________________________________________\n",
      "dense (Dense)                (None, 46)                782       \n",
      "=================================================================\n",
      "Total params: 323,918\n",
      "Trainable params: 323,918\n",
      "Non-trainable params: 0\n",
      "_________________________________________________________________\n",
      "None\n",
      "Train on 8982 samples, validate on 2246 samples\n",
      "Epoch 1/25\n",
      "8982/8982 [==============================] - 7s 748us/sample - loss: 2.8853 - acc: 0.3447 - val_loss: 2.4279 - val_acc: 0.3620\n",
      "Epoch 2/25\n",
      "8982/8982 [==============================] - 6s 688us/sample - loss: 2.4055 - acc: 0.3517 - val_loss: 2.3982 - val_acc: 0.3620\n",
      "Epoch 3/25\n",
      "8982/8982 [==============================] - 6s 691us/sample - loss: 2.1823 - acc: 0.4039 - val_loss: 2.0040 - val_acc: 0.5013\n",
      "Epoch 4/25\n",
      "8982/8982 [==============================] - 6s 681us/sample - loss: 1.8860 - acc: 0.5225 - val_loss: 1.7991 - val_acc: 0.5410\n",
      "Epoch 5/25\n",
      "8982/8982 [==============================] - 6s 691us/sample - loss: 1.6768 - acc: 0.5578 - val_loss: 1.7600 - val_acc: 0.5646\n",
      "Epoch 6/25\n",
      "8982/8982 [==============================] - 7s 736us/sample - loss: 1.5432 - acc: 0.6054 - val_loss: 1.6319 - val_acc: 0.6126\n",
      "Epoch 7/25\n",
      "8982/8982 [==============================] - 6s 693us/sample - loss: 1.4452 - acc: 0.6325 - val_loss: 1.5888 - val_acc: 0.6086\n",
      "Epoch 8/25\n",
      "8982/8982 [==============================] - 6s 701us/sample - loss: 1.3494 - acc: 0.6534 - val_loss: 1.6089 - val_acc: 0.6020\n",
      "Epoch 9/25\n",
      "8982/8982 [==============================] - 6s 693us/sample - loss: 1.3024 - acc: 0.6614 - val_loss: 1.6010 - val_acc: 0.6020\n",
      "Epoch 10/25\n",
      "8982/8982 [==============================] - 6s 692us/sample - loss: 1.2180 - acc: 0.6779 - val_loss: 1.6098 - val_acc: 0.6024\n"
     ]
    }
   ],
   "source": [
    "# construct model\n",
    "model1 = Sequential()\n",
    "model1.add(Embedding(input_dim=num_words, output_dim=32, input_length=max_length))\n",
    "model1.add(LSTM(16))\n",
    "model1.add(Dense(num_classes, activation='softmax'))\n",
    "model1.compile(loss='sparse_categorical_crossentropy', optimizer='adam', metrics=['accuracy'])\n",
    "print(model1.summary())\n",
    "\n",
    "history1 = model1.fit(x_train, y_train, batch_size=batch_size, epochs=epochs,\n",
    "                      validation_data=(x_test, y_test), callbacks=callbacks)"
   ]
  },
  {
   "cell_type": "code",
   "execution_count": 11,
   "metadata": {},
   "outputs": [
    {
     "data": {
      "image/png": "[encoded data removed]",
      "text/plain": [
       "<Figure size 432x288 with 2 Axes>"
      ]
     },
     "metadata": {
      "needs_background": "light"
     },
     "output_type": "display_data"
    }
   ],
   "source": [
    "# plot training/validation loss and accuracy\n",
    "plot_loss_acc(history1)"
   ]
  },
  {
   "cell_type": "code",
   "execution_count": 12,
   "metadata": {},
   "outputs": [
    {
     "name": "stdout",
     "output_type": "stream",
     "text": [
      "2246/2246 [==============================] - 0s 138us/sample - loss: 1.5888 - acc: 0.6086\n",
      "Test accuracy: 0.61\n"
     ]
    }
   ],
   "source": [
    "# test accuracy after restoring best weights\n",
    "test_loss1, test_acc1 = model1.evaluate(x_test, y_test, batch_size=batch_size)\n",
    "print('Test accuracy: {:.2f}'.format(test_acc1))"
   ]
  },
  {
   "cell_type": "markdown",
   "metadata": {},
   "source": [
    "##### Model 2\n",
    "Add another LSTM layer"
   ]
  },
  {
   "cell_type": "code",
   "execution_count": 13,
   "metadata": {
    "scrolled": true
   },
   "outputs": [
    {
     "name": "stdout",
     "output_type": "stream",
     "text": [
      "_________________________________________________________________\n",
      "Layer (type)                 Output Shape              Param #   \n",
      "=================================================================\n",
      "embedding_1 (Embedding)      (None, 100, 32)           320000    \n",
      "_________________________________________________________________\n",
      "lstm_1 (LSTM)                (None, 100, 16)           3136      \n",
      "_________________________________________________________________\n",
      "lstm_2 (LSTM)                (None, 16)                2112      \n",
      "_________________________________________________________________\n",
      "dense_1 (Dense)              (None, 46)                782       \n",
      "=================================================================\n",
      "Total params: 326,030\n",
      "Trainable params: 326,030\n",
      "Non-trainable params: 0\n",
      "_________________________________________________________________\n",
      "None\n",
      "Train on 8982 samples, validate on 2246 samples\n",
      "Epoch 1/25\n",
      "8982/8982 [==============================] - 12s 1ms/sample - loss: 2.8572 - acc: 0.3323 - val_loss: 2.4252 - val_acc: 0.3620\n",
      "Epoch 2/25\n",
      "8982/8982 [==============================] - 11s 1ms/sample - loss: 2.4082 - acc: 0.3517 - val_loss: 2.4128 - val_acc: 0.3620\n",
      "Epoch 3/25\n",
      "8982/8982 [==============================] - 11s 1ms/sample - loss: 2.2482 - acc: 0.3530 - val_loss: 2.0950 - val_acc: 0.3771\n",
      "Epoch 4/25\n",
      "8982/8982 [==============================] - 11s 1ms/sample - loss: 1.9764 - acc: 0.3778 - val_loss: 1.9412 - val_acc: 0.4163\n",
      "Epoch 5/25\n",
      "8982/8982 [==============================] - 11s 1ms/sample - loss: 1.7954 - acc: 0.4875 - val_loss: 1.8311 - val_acc: 0.5258\n",
      "Epoch 6/25\n",
      "8982/8982 [==============================] - 11s 1ms/sample - loss: 1.6275 - acc: 0.5690 - val_loss: 1.7360 - val_acc: 0.5552\n",
      "Epoch 7/25\n",
      "8982/8982 [==============================] - 11s 1ms/sample - loss: 1.5285 - acc: 0.5813 - val_loss: 1.7123 - val_acc: 0.5499\n",
      "Epoch 8/25\n",
      "8982/8982 [==============================] - 11s 1ms/sample - loss: 1.4341 - acc: 0.6133 - val_loss: 1.7180 - val_acc: 0.5490\n",
      "Epoch 9/25\n",
      "8982/8982 [==============================] - 11s 1ms/sample - loss: 1.3737 - acc: 0.6271 - val_loss: 1.7095 - val_acc: 0.5650\n",
      "Epoch 10/25\n",
      "8982/8982 [==============================] - 11s 1ms/sample - loss: 1.3343 - acc: 0.6403 - val_loss: 1.7326 - val_acc: 0.5668\n",
      "Epoch 11/25\n",
      "8982/8982 [==============================] - 11s 1ms/sample - loss: 1.2775 - acc: 0.6563 - val_loss: 1.7117 - val_acc: 0.5663\n",
      "Epoch 12/25\n",
      "8982/8982 [==============================] - 11s 1ms/sample - loss: 1.2544 - acc: 0.6424 - val_loss: 1.6833 - val_acc: 0.5788\n",
      "Epoch 13/25\n",
      "8982/8982 [==============================] - 11s 1ms/sample - loss: 1.1714 - acc: 0.6811 - val_loss: 1.7167 - val_acc: 0.5855\n",
      "Epoch 14/25\n",
      "8982/8982 [==============================] - 11s 1ms/sample - loss: 1.1113 - acc: 0.6924 - val_loss: 1.6964 - val_acc: 0.5939\n",
      "Epoch 15/25\n",
      "8982/8982 [==============================] - 11s 1ms/sample - loss: 1.0894 - acc: 0.6987 - val_loss: 1.7317 - val_acc: 0.5846\n"
     ]
    }
   ],
   "source": [
    "# construct model\n",
    "model2 = Sequential()\n",
    "model2.add(Embedding(input_dim=num_words, output_dim=32, input_length=max_length))\n",
    "model2.add(LSTM(16, return_sequences=True))\n",
    "model2.add(LSTM(16))\n",
    "model2.add(Dense(num_classes, activation='softmax'))\n",
    "model2.compile(loss='sparse_categorical_crossentropy', optimizer='adam', metrics=['accuracy'])\n",
    "print(model2.summary())\n",
    "\n",
    "history2 = model2.fit(x_train, y_train, batch_size=batch_size, epochs=epochs,\n",
    "                      validation_data=(x_test, y_test), callbacks=callbacks)"
   ]
  },
  {
   "cell_type": "code",
   "execution_count": 14,
   "metadata": {},
   "outputs": [
    {
     "data": {
      "image/png": "[encoded data removed]",
      "text/plain": [
       "<Figure size 432x288 with 2 Axes>"
      ]
     },
     "metadata": {
      "needs_background": "light"
     },
     "output_type": "display_data"
    }
   ],
   "source": [
    "# plot training/validation loss and accuracy\n",
    "plot_loss_acc(history2)"
   ]
  },
  {
   "cell_type": "code",
   "execution_count": 15,
   "metadata": {},
   "outputs": [
    {
     "name": "stdout",
     "output_type": "stream",
     "text": [
      "2246/2246 [==============================] - 1s 233us/sample - loss: 1.6833 - acc: 0.5788\n",
      "Test accuracy: 0.58\n"
     ]
    }
   ],
   "source": [
    "# test accuracy after restoring best weights\n",
    "test_loss2, test_acc2 = model2.evaluate(x_test, y_test, batch_size=batch_size)\n",
    "print('Test accuracy: {:.2f}'.format(test_acc2))"
   ]
  },
  {
   "cell_type": "markdown",
   "metadata": {},
   "source": [
    "<b>Results:</b> Accuracy did not improve compared to Model 1"
   ]
  },
  {
   "cell_type": "markdown",
   "metadata": {},
   "source": [
    "##### Model 3\n",
    "Revert back to a single LSTM layer, increase number of units"
   ]
  },
  {
   "cell_type": "code",
   "execution_count": 16,
   "metadata": {
    "scrolled": true
   },
   "outputs": [
    {
     "name": "stdout",
     "output_type": "stream",
     "text": [
      "_________________________________________________________________\n",
      "Layer (type)                 Output Shape              Param #   \n",
      "=================================================================\n",
      "embedding_2 (Embedding)      (None, 100, 32)           320000    \n",
      "_________________________________________________________________\n",
      "lstm_3 (LSTM)                (None, 64)                24832     \n",
      "_________________________________________________________________\n",
      "dense_2 (Dense)              (None, 46)                2990      \n",
      "=================================================================\n",
      "Total params: 347,822\n",
      "Trainable params: 347,822\n",
      "Non-trainable params: 0\n",
      "_________________________________________________________________\n",
      "None\n",
      "Train on 8982 samples, validate on 2246 samples\n",
      "Epoch 1/25\n",
      "8982/8982 [==============================] - 11s 1ms/sample - loss: 2.6121 - acc: 0.3495 - val_loss: 2.4134 - val_acc: 0.3620\n",
      "Epoch 2/25\n",
      "8982/8982 [==============================] - 11s 1ms/sample - loss: 2.1490 - acc: 0.4498 - val_loss: 1.8727 - val_acc: 0.5165\n",
      "Epoch 3/25\n",
      "8982/8982 [==============================] - 10s 1ms/sample - loss: 1.8011 - acc: 0.5298 - val_loss: 1.7643 - val_acc: 0.5392\n",
      "Epoch 4/25\n",
      "8982/8982 [==============================] - 10s 1ms/sample - loss: 1.6438 - acc: 0.5748 - val_loss: 1.7082 - val_acc: 0.5761\n",
      "Epoch 5/25\n",
      "8982/8982 [==============================] - 10s 1ms/sample - loss: 1.5532 - acc: 0.6040 - val_loss: 1.6893 - val_acc: 0.5726\n",
      "Epoch 6/25\n",
      "8982/8982 [==============================] - 10s 1ms/sample - loss: 1.4337 - acc: 0.6414 - val_loss: 1.6149 - val_acc: 0.5953\n",
      "Epoch 7/25\n",
      "8982/8982 [==============================] - 11s 1ms/sample - loss: 1.3162 - acc: 0.6663 - val_loss: 1.6667 - val_acc: 0.5788\n",
      "Epoch 8/25\n",
      "8982/8982 [==============================] - 11s 1ms/sample - loss: 1.2220 - acc: 0.6872 - val_loss: 1.5864 - val_acc: 0.6149\n",
      "Epoch 9/25\n",
      "8982/8982 [==============================] - 11s 1ms/sample - loss: 1.1354 - acc: 0.7057 - val_loss: 1.5673 - val_acc: 0.6260\n",
      "Epoch 10/25\n",
      "8982/8982 [==============================] - 10s 1ms/sample - loss: 1.0389 - acc: 0.7334 - val_loss: 1.5588 - val_acc: 0.6215\n",
      "Epoch 11/25\n",
      "8982/8982 [==============================] - 10s 1ms/sample - loss: 0.9398 - acc: 0.7585 - val_loss: 1.5750 - val_acc: 0.6376\n",
      "Epoch 12/25\n",
      "8982/8982 [==============================] - 10s 1ms/sample - loss: 0.8572 - acc: 0.7797 - val_loss: 1.5769 - val_acc: 0.6411\n",
      "Epoch 13/25\n",
      "8982/8982 [==============================] - 10s 1ms/sample - loss: 0.7546 - acc: 0.8072 - val_loss: 1.5498 - val_acc: 0.6460\n",
      "Epoch 14/25\n",
      "8982/8982 [==============================] - 10s 1ms/sample - loss: 0.6843 - acc: 0.8263 - val_loss: 1.5895 - val_acc: 0.6509\n",
      "Epoch 15/25\n",
      "8982/8982 [==============================] - 10s 1ms/sample - loss: 0.6179 - acc: 0.8415 - val_loss: 1.5974 - val_acc: 0.6443\n",
      "Epoch 16/25\n",
      "8982/8982 [==============================] - 10s 1ms/sample - loss: 0.5548 - acc: 0.8584 - val_loss: 1.5790 - val_acc: 0.6670\n"
     ]
    }
   ],
   "source": [
    "# construct model\n",
    "model3 = Sequential()\n",
    "model3.add(Embedding(input_dim=num_words, output_dim=32, input_length=max_length))\n",
    "model3.add(LSTM(64))\n",
    "model3.add(Dense(num_classes, activation='softmax'))\n",
    "model3.compile(loss='sparse_categorical_crossentropy', optimizer='adam', metrics=['accuracy'])\n",
    "print(model3.summary())\n",
    "\n",
    "history3 = model3.fit(x_train, y_train, batch_size=batch_size, epochs=epochs,\n",
    "                      validation_data=(x_test, y_test), callbacks=callbacks)"
   ]
  },
  {
   "cell_type": "code",
   "execution_count": 17,
   "metadata": {},
   "outputs": [
    {
     "data": {
      "image/png": "[encoded data removed]",
      "text/plain": [
       "<Figure size 432x288 with 2 Axes>"
      ]
     },
     "metadata": {
      "needs_background": "light"
     },
     "output_type": "display_data"
    }
   ],
   "source": [
    "# plot training/validation loss and accuracy\n",
    "plot_loss_acc(history3)"
   ]
  },
  {
   "cell_type": "code",
   "execution_count": 18,
   "metadata": {},
   "outputs": [
    {
     "name": "stdout",
     "output_type": "stream",
     "text": [
      "2246/2246 [==============================] - 0s 200us/sample - loss: 1.5498 - acc: 0.6460\n",
      "Test accuracy: 0.65\n"
     ]
    }
   ],
   "source": [
    "# test accuracy after restoring best weights\n",
    "test_loss3, test_acc3 = model3.evaluate(x_test, y_test, batch_size=batch_size)\n",
    "print('Test accuracy: {:.2f}'.format(test_acc3))"
   ]
  },
  {
   "cell_type": "markdown",
   "metadata": {},
   "source": [
    "<b>Results:</b> Accuracy improved compared to Model 1 and Model 2"
   ]
  },
  {
   "cell_type": "markdown",
   "metadata": {},
   "source": [
    "##### Model 4\n",
    "Test another model since Model 2 did not improve accuracy compared to Model 1<br>\n",
    "Change the embedding layer to use a larger vector space dimension (in which words will be embedded)"
   ]
  },
  {
   "cell_type": "code",
   "execution_count": 19,
   "metadata": {
    "scrolled": true
   },
   "outputs": [
    {
     "name": "stdout",
     "output_type": "stream",
     "text": [
      "_________________________________________________________________\n",
      "Layer (type)                 Output Shape              Param #   \n",
      "=================================================================\n",
      "embedding_3 (Embedding)      (None, 100, 128)          1280000   \n",
      "_________________________________________________________________\n",
      "lstm_4 (LSTM)                (None, 64)                49408     \n",
      "_________________________________________________________________\n",
      "dense_3 (Dense)              (None, 46)                2990      \n",
      "=================================================================\n",
      "Total params: 1,332,398\n",
      "Trainable params: 1,332,398\n",
      "Non-trainable params: 0\n",
      "_________________________________________________________________\n",
      "None\n",
      "Train on 8982 samples, validate on 2246 samples\n",
      "Epoch 1/25\n",
      "8982/8982 [==============================] - 20s 2ms/sample - loss: 2.4436 - acc: 0.4046 - val_loss: 2.0061 - val_acc: 0.4960\n",
      "Epoch 2/25\n",
      "8982/8982 [==============================] - 21s 2ms/sample - loss: 1.9023 - acc: 0.5249 - val_loss: 1.8105 - val_acc: 0.5365\n",
      "Epoch 3/25\n",
      "8982/8982 [==============================] - 19s 2ms/sample - loss: 1.6754 - acc: 0.5782 - val_loss: 1.6561 - val_acc: 0.5882\n",
      "Epoch 4/25\n",
      "8982/8982 [==============================] - 19s 2ms/sample - loss: 1.4163 - acc: 0.6446 - val_loss: 1.5218 - val_acc: 0.6296\n",
      "Epoch 5/25\n",
      "8982/8982 [==============================] - 19s 2ms/sample - loss: 1.2164 - acc: 0.6932 - val_loss: 1.4725 - val_acc: 0.6398\n",
      "Epoch 6/25\n",
      "8982/8982 [==============================] - 18s 2ms/sample - loss: 1.0273 - acc: 0.7423 - val_loss: 1.4350 - val_acc: 0.6581\n",
      "Epoch 7/25\n",
      "8982/8982 [==============================] - 19s 2ms/sample - loss: 0.8779 - acc: 0.7803 - val_loss: 1.4309 - val_acc: 0.6714\n",
      "Epoch 8/25\n",
      "8982/8982 [==============================] - 19s 2ms/sample - loss: 0.7460 - acc: 0.8147 - val_loss: 1.4305 - val_acc: 0.6670\n",
      "Epoch 9/25\n",
      "8982/8982 [==============================] - 20s 2ms/sample - loss: 0.6387 - acc: 0.8425 - val_loss: 1.4468 - val_acc: 0.6696\n",
      "Epoch 10/25\n",
      "8982/8982 [==============================] - 20s 2ms/sample - loss: 0.5510 - acc: 0.8651 - val_loss: 1.4809 - val_acc: 0.6714\n",
      "Epoch 11/25\n",
      "8982/8982 [==============================] - 20s 2ms/sample - loss: 0.4922 - acc: 0.8784 - val_loss: 1.5247 - val_acc: 0.6745\n"
     ]
    }
   ],
   "source": [
    "# construct model\n",
    "model4 = Sequential()\n",
    "model4.add(Embedding(input_dim=num_words, output_dim=128, input_length=max_length))\n",
    "model4.add(LSTM(64))\n",
    "model4.add(Dense(num_classes, activation='softmax'))\n",
    "model4.compile(loss='sparse_categorical_crossentropy', optimizer='adam', metrics=['accuracy'])\n",
    "print(model4.summary())\n",
    "\n",
    "history4 = model4.fit(x_train, y_train, batch_size=batch_size, epochs=epochs,\n",
    "                      validation_data=(x_test, y_test), callbacks=callbacks)"
   ]
  },
  {
   "cell_type": "code",
   "execution_count": 20,
   "metadata": {},
   "outputs": [
    {
     "data": {
      "image/png": "[encoded data removed]",
      "text/plain": [
       "<Figure size 432x288 with 2 Axes>"
      ]
     },
     "metadata": {
      "needs_background": "light"
     },
     "output_type": "display_data"
    }
   ],
   "source": [
    "# plot training/validation loss and accuracy\n",
    "plot_loss_acc(history4)"
   ]
  },
  {
   "cell_type": "code",
   "execution_count": 21,
   "metadata": {},
   "outputs": [
    {
     "name": "stdout",
     "output_type": "stream",
     "text": [
      "2246/2246 [==============================] - 1s 336us/sample - loss: 1.4305 - acc: 0.6670\n",
      "Test accuracy: 0.67\n"
     ]
    }
   ],
   "source": [
    "# test accuracy after restoring best weights\n",
    "test_loss4, test_acc4 = model4.evaluate(x_test, y_test, batch_size=batch_size)\n",
    "print('Test accuracy: {:.2f}'.format(test_acc4))"
   ]
  },
  {
   "cell_type": "markdown",
   "metadata": {},
   "source": [
    "<b>Results:</b> Better accuracy than the first 3 models"
   ]
  },
  {
   "cell_type": "markdown",
   "metadata": {},
   "source": [
    "##### Compare model results"
   ]
  },
  {
   "cell_type": "code",
   "execution_count": 22,
   "metadata": {},
   "outputs": [
    {
     "data": {
      "text/html": [
       "<div>\n",
       "<style scoped>\n",
       "    .dataframe tbody tr th:only-of-type {\n",
       "        vertical-align: middle;\n",
       "    }\n",
       "\n",
       "    .dataframe tbody tr th {\n",
       "        vertical-align: top;\n",
       "    }\n",
       "\n",
       "    .dataframe thead th {\n",
       "        text-align: right;\n",
       "    }\n",
       "</style>\n",
       "<table border=\"1\" class=\"dataframe\">\n",
       "  <thead>\n",
       "    <tr style=\"text-align: right;\">\n",
       "      <th></th>\n",
       "      <th>test loss</th>\n",
       "      <th>test accuracy</th>\n",
       "    </tr>\n",
       "  </thead>\n",
       "  <tbody>\n",
       "    <tr>\n",
       "      <th>Model 1</th>\n",
       "      <td>1.59</td>\n",
       "      <td>0.61</td>\n",
       "    </tr>\n",
       "    <tr>\n",
       "      <th>Model 2</th>\n",
       "      <td>1.68</td>\n",
       "      <td>0.58</td>\n",
       "    </tr>\n",
       "    <tr>\n",
       "      <th>Model 3</th>\n",
       "      <td>1.55</td>\n",
       "      <td>0.65</td>\n",
       "    </tr>\n",
       "    <tr>\n",
       "      <th>Model 4</th>\n",
       "      <td>1.43</td>\n",
       "      <td>0.67</td>\n",
       "    </tr>\n",
       "  </tbody>\n",
       "</table>\n",
       "</div>"
      ],
      "text/plain": [
       "         test loss  test accuracy\n",
       "Model 1       1.59           0.61\n",
       "Model 2       1.68           0.58\n",
       "Model 3       1.55           0.65\n",
       "Model 4       1.43           0.67"
      ]
     },
     "execution_count": 22,
     "metadata": {},
     "output_type": "execute_result"
    }
   ],
   "source": [
    "# compare model results\n",
    "results = pd.DataFrame({'test loss':[test_loss1, test_loss2, test_loss3, test_loss4], 'test accuracy':[test_acc1, test_acc2, test_acc3, test_acc4]},\n",
    "            index=['Model 1', 'Model 2', 'Model 3', 'Model 4'])\n",
    "results.round(2)"
   ]
  },
  {
   "cell_type": "markdown",
   "metadata": {},
   "source": [
    "##### 4. Describe and explain your findings\n",
    "Here, 4 models were built to classify topics using the Keras Reuters newswire topics dataset. The top 10000 most frequent words were considered. And within each newswire, the first 100 words were considered as model input.\n",
    "\n",
    "<b>Findings:</b>\n",
    "\n",
    "A single LSTM layer (16 units) provided a baseline accuracy of 61% (Model 1). For this application, stacking another LSTM layer (16 units) did not increase accuracy (58%; Model 2). Reverting back to a single LSTM layer and increasing the number of LSTM units (to 64 units) improved accuracy to 65% (Model 3). Increasing the embedding vector length (output dimension of the embedding layer) was another way to increase the number of parameters/model complexity. Modifying Model 3 and changing the embedding vector length from 32 to 128 further increased accuracy (67%; Model 4)."
   ]
  }
 ],
 "metadata": {
  "kernelspec": {
   "display_name": "Python 3",
   "language": "python",
   "name": "python3"
  },
  "language_info": {
   "codemirror_mode": {
    "name": "ipython",
    "version": 3
   },
   "file_extension": ".py",
   "mimetype": "text/x-python",
   "name": "python",
   "nbconvert_exporter": "python",
   "pygments_lexer": "ipython3",
   "version": "3.7.3"
  }
 },
 "nbformat": 4,
 "nbformat_minor": 2
}
