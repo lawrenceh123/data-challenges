{
 "cells": [
  {
   "cell_type": "markdown",
   "metadata": {},
   "source": [
    "### Lesson 8 Assignment - Wine Classifier\n",
    "### Lawrence Huang\n",
    "\n",
    "##### Instructions\n",
    "1. Use the provided RedWhiteWine.csv file. Include ALL the features with “Class” being your output vector\n",
    "2. Use the provided Simple Perceptron Neural Network notebook to develop a multi-layer feed-forward/backpropagation neural network\n",
    "3. Be able to adjust the following between experiments:\n",
    "<ul>\n",
    "    <li>Learning Rate</li>\n",
    "    <li>Number of epochs</li>\n",
    "    <li>Depth of architecture—number of hidden layers between the input and output layers</li>\n",
    "    <li>Number of nodes in a hidden layer—width of the hidden layers</li>\n",
    "    <li>(optional) Momentum</li>\n",
    "    </ul>\n",
    "4. Determine what the best neural network structure and hyperparameter settings results in the best predictive capability"
   ]
  },
  {
   "cell_type": "code",
   "execution_count": 1,
   "metadata": {},
   "outputs": [],
   "source": [
    "# imports\n",
    "import pandas as pd\n",
    "import numpy as np\n",
    "from sklearn.model_selection import train_test_split\n",
    "from sklearn.preprocessing import StandardScaler\n",
    "import matplotlib.pyplot as plt\n",
    "%matplotlib inline\n",
    "from sklearn.metrics import confusion_matrix, classification_report"
   ]
  },
  {
   "cell_type": "markdown",
   "metadata": {},
   "source": [
    "##### 1. Use the provided RedWhiteWine.csv file. Include ALL the features with “Class” being your output vector"
   ]
  },
  {
   "cell_type": "code",
   "execution_count": 2,
   "metadata": {},
   "outputs": [
    {
     "name": "stdout",
     "output_type": "stream",
     "text": [
      "(6497, 13)\n"
     ]
    },
    {
     "data": {
      "text/html": [
       "<div>\n",
       "<style scoped>\n",
       "    .dataframe tbody tr th:only-of-type {\n",
       "        vertical-align: middle;\n",
       "    }\n",
       "\n",
       "    .dataframe tbody tr th {\n",
       "        vertical-align: top;\n",
       "    }\n",
       "\n",
       "    .dataframe thead th {\n",
       "        text-align: right;\n",
       "    }\n",
       "</style>\n",
       "<table border=\"1\" class=\"dataframe\">\n",
       "  <thead>\n",
       "    <tr style=\"text-align: right;\">\n",
       "      <th></th>\n",
       "      <th>fixed acidity</th>\n",
       "      <th>volatile acidity</th>\n",
       "      <th>citric acid</th>\n",
       "      <th>residual sugar</th>\n",
       "      <th>chlorides</th>\n",
       "      <th>free sulfur dioxide</th>\n",
       "      <th>total sulfur dioxide</th>\n",
       "      <th>density</th>\n",
       "      <th>pH</th>\n",
       "      <th>sulphates</th>\n",
       "      <th>alcohol</th>\n",
       "      <th>quality</th>\n",
       "      <th>Class</th>\n",
       "    </tr>\n",
       "  </thead>\n",
       "  <tbody>\n",
       "    <tr>\n",
       "      <th>0</th>\n",
       "      <td>7.4</td>\n",
       "      <td>0.70</td>\n",
       "      <td>0.00</td>\n",
       "      <td>1.9</td>\n",
       "      <td>0.076</td>\n",
       "      <td>11.0</td>\n",
       "      <td>34.0</td>\n",
       "      <td>0.9978</td>\n",
       "      <td>3.51</td>\n",
       "      <td>0.56</td>\n",
       "      <td>9.4</td>\n",
       "      <td>5</td>\n",
       "      <td>1</td>\n",
       "    </tr>\n",
       "    <tr>\n",
       "      <th>1</th>\n",
       "      <td>7.8</td>\n",
       "      <td>0.88</td>\n",
       "      <td>0.00</td>\n",
       "      <td>2.6</td>\n",
       "      <td>0.098</td>\n",
       "      <td>25.0</td>\n",
       "      <td>67.0</td>\n",
       "      <td>0.9968</td>\n",
       "      <td>3.20</td>\n",
       "      <td>0.68</td>\n",
       "      <td>9.8</td>\n",
       "      <td>5</td>\n",
       "      <td>1</td>\n",
       "    </tr>\n",
       "    <tr>\n",
       "      <th>2</th>\n",
       "      <td>7.8</td>\n",
       "      <td>0.76</td>\n",
       "      <td>0.04</td>\n",
       "      <td>2.3</td>\n",
       "      <td>0.092</td>\n",
       "      <td>15.0</td>\n",
       "      <td>54.0</td>\n",
       "      <td>0.9970</td>\n",
       "      <td>3.26</td>\n",
       "      <td>0.65</td>\n",
       "      <td>9.8</td>\n",
       "      <td>5</td>\n",
       "      <td>1</td>\n",
       "    </tr>\n",
       "    <tr>\n",
       "      <th>3</th>\n",
       "      <td>11.2</td>\n",
       "      <td>0.28</td>\n",
       "      <td>0.56</td>\n",
       "      <td>1.9</td>\n",
       "      <td>0.075</td>\n",
       "      <td>17.0</td>\n",
       "      <td>60.0</td>\n",
       "      <td>0.9980</td>\n",
       "      <td>3.16</td>\n",
       "      <td>0.58</td>\n",
       "      <td>9.8</td>\n",
       "      <td>6</td>\n",
       "      <td>1</td>\n",
       "    </tr>\n",
       "    <tr>\n",
       "      <th>4</th>\n",
       "      <td>7.4</td>\n",
       "      <td>0.70</td>\n",
       "      <td>0.00</td>\n",
       "      <td>1.9</td>\n",
       "      <td>0.076</td>\n",
       "      <td>11.0</td>\n",
       "      <td>34.0</td>\n",
       "      <td>0.9978</td>\n",
       "      <td>3.51</td>\n",
       "      <td>0.56</td>\n",
       "      <td>9.4</td>\n",
       "      <td>5</td>\n",
       "      <td>1</td>\n",
       "    </tr>\n",
       "  </tbody>\n",
       "</table>\n",
       "</div>"
      ],
      "text/plain": [
       "   fixed acidity  volatile acidity  citric acid  residual sugar  chlorides  \\\n",
       "0            7.4              0.70         0.00             1.9      0.076   \n",
       "1            7.8              0.88         0.00             2.6      0.098   \n",
       "2            7.8              0.76         0.04             2.3      0.092   \n",
       "3           11.2              0.28         0.56             1.9      0.075   \n",
       "4            7.4              0.70         0.00             1.9      0.076   \n",
       "\n",
       "   free sulfur dioxide  total sulfur dioxide  density    pH  sulphates  \\\n",
       "0                 11.0                  34.0   0.9978  3.51       0.56   \n",
       "1                 25.0                  67.0   0.9968  3.20       0.68   \n",
       "2                 15.0                  54.0   0.9970  3.26       0.65   \n",
       "3                 17.0                  60.0   0.9980  3.16       0.58   \n",
       "4                 11.0                  34.0   0.9978  3.51       0.56   \n",
       "\n",
       "   alcohol  quality  Class  \n",
       "0      9.4        5      1  \n",
       "1      9.8        5      1  \n",
       "2      9.8        5      1  \n",
       "3      9.8        6      1  \n",
       "4      9.4        5      1  "
      ]
     },
     "execution_count": 2,
     "metadata": {},
     "output_type": "execute_result"
    }
   ],
   "source": [
    "# load data\n",
    "fn = 'https://library.startlearninglabs.uw.edu/DATASCI420/2019/Datasets/RedWhiteWine.csv'\n",
    "df = pd.read_csv(fn)\n",
    "# view data\n",
    "print(df.shape)\n",
    "df.head()"
   ]
  },
  {
   "cell_type": "code",
   "execution_count": 3,
   "metadata": {},
   "outputs": [
    {
     "data": {
      "text/plain": [
       "fixed acidity           float64\n",
       "volatile acidity        float64\n",
       "citric acid             float64\n",
       "residual sugar          float64\n",
       "chlorides               float64\n",
       "free sulfur dioxide     float64\n",
       "total sulfur dioxide    float64\n",
       "density                 float64\n",
       "pH                      float64\n",
       "sulphates               float64\n",
       "alcohol                 float64\n",
       "quality                   int64\n",
       "Class                     int64\n",
       "dtype: object"
      ]
     },
     "execution_count": 3,
     "metadata": {},
     "output_type": "execute_result"
    }
   ],
   "source": [
    "# no missing data per data source\n",
    "# all features are numeric\n",
    "df.dtypes"
   ]
  },
  {
   "cell_type": "code",
   "execution_count": 4,
   "metadata": {},
   "outputs": [
    {
     "name": "stdout",
     "output_type": "stream",
     "text": [
      "Distribution of Class:\n",
      "0    4898\n",
      "1    1599\n",
      "Name: Class, dtype: int64\n"
     ]
    }
   ],
   "source": [
    "# distribution of Class\n",
    "print('Distribution of Class:\\n{}'.format(df['Class'].value_counts()))"
   ]
  },
  {
   "cell_type": "code",
   "execution_count": 5,
   "metadata": {},
   "outputs": [
    {
     "name": "stdout",
     "output_type": "stream",
     "text": [
      "features:\n",
      "['fixed acidity' 'volatile acidity' 'citric acid' 'residual sugar'\n",
      " 'chlorides' 'free sulfur dioxide' 'total sulfur dioxide' 'density' 'pH'\n",
      " 'sulphates' 'alcohol' 'quality']\n"
     ]
    }
   ],
   "source": [
    "# train/test split\n",
    "# stratify to ensure minority class representation in both sets\n",
    "y = df['Class'] # label\n",
    "X = df.loc[:, ~df.columns.isin(['Class'])] # features, start with all but the target\n",
    "X_train, X_test, y_train, y_test = train_test_split(X, y, stratify=y, test_size=0.2, random_state=1)\n",
    "print('features:\\n{}'.format(X.columns.values))\n",
    "\n",
    "# standardize numeric columns (z-score)\n",
    "scaler = StandardScaler().fit(X_train)\n",
    "X_train = pd.DataFrame(scaler.transform(X_train), columns=X_train.columns)\n",
    "X_test = pd.DataFrame(scaler.transform(X_test), columns=X_test.columns)"
   ]
  },
  {
   "cell_type": "markdown",
   "metadata": {},
   "source": [
    "##### 2. Use the provided Simple Perceptron Neural Network notebook to develop a multi-layer feed-forward/backpropagation neural network\n",
    "##### 3. Be able to adjust the following between experiments:\n",
    "<ul>\n",
    "    <li>Learning Rate</li>\n",
    "    <li>Number of epochs</li>\n",
    "    <li>Depth of architecture—number of hidden layers between the input and output layers</li>\n",
    "    <li>Number of nodes in a hidden layer—width of the hidden layers</li>\n",
    "    <li>(optional) Momentum</li>\n",
    "    </ul>"
   ]
  },
  {
   "cell_type": "markdown",
   "metadata": {},
   "source": [
    "Referenced the code by iamtrask: http://iamtrask.github.io/2015/07/27/python-network-part2/. I found the model architecture  more intuitive to adjust and experiment with than the simple perceptron notebook."
   ]
  },
  {
   "cell_type": "code",
   "execution_count": 6,
   "metadata": {},
   "outputs": [],
   "source": [
    "# sigmoid activation function\n",
    "def sigmoid(x):\n",
    "    output = 1/(1+np.exp(-x))\n",
    "    return output\n",
    "\n",
    "# convert output of sigmoid function to its derivative for backprop\n",
    "def sigmoid_output_to_derivative(output):\n",
    "    return output*(1-output)"
   ]
  },
  {
   "cell_type": "markdown",
   "metadata": {},
   "source": [
    "##### Model with 1 hidden layer\n",
    "Learning rate, number of epochs, number of nodes in a hidden layer could be adjusted<br>\n",
    "Number of hidden layers was adjusted manually (see model with 2 hidden layers below) and could be further adjusted as needed"
   ]
  },
  {
   "cell_type": "code",
   "execution_count": 7,
   "metadata": {},
   "outputs": [],
   "source": [
    "def one_hidden(XX, yy, alpha, num_epochs, hiddenWidth):\n",
    "    print('Learning rate: {}'.format(alpha))\n",
    "    print('Number of epochs: {}'.format(num_epochs))\n",
    "    print('Number of hidden layers: 1')\n",
    "    print('Hidden layer width: {}\\n'.format(hiddenWidth))\n",
    "    np.random.seed(1)\n",
    "\n",
    "    # randomly initialize weights with mean 0\n",
    "    synapse_0 = 2*np.random.random((12,hiddenWidth)) - 1 # where 12 = number of input features\n",
    "    synapse_1 = 2*np.random.random((hiddenWidth,1)) - 1\n",
    "\n",
    "    for j in range(num_epochs+1):\n",
    "        # Feed forward through layers \n",
    "        layer_0 = XX\n",
    "        layer_1 = sigmoid(np.dot(layer_0,synapse_0))\n",
    "        layer_2 = sigmoid(np.dot(layer_1,synapse_1))\n",
    "\n",
    "        # how much did we miss the target value?\n",
    "        layer_2_error = layer_2 - yy\n",
    "\n",
    "        if j%1000==0:\n",
    "            print('Error after {} epochs: {}'.format(j, np.mean(np.abs(layer_2_error))))\n",
    "        if j==num_epochs:\n",
    "            print('Done')\n",
    "            \n",
    "        # in what direction is the target value?\n",
    "        layer_2_delta = layer_2_error*sigmoid_output_to_derivative(layer_2)\n",
    "\n",
    "        # how much did each l1 value contribute to the l2 error (according to the weights)?\n",
    "        layer_1_error = layer_2_delta.dot(synapse_1.T)\n",
    "\n",
    "        # in what direction is the target l1?\n",
    "        layer_1_delta = layer_1_error * sigmoid_output_to_derivative(layer_1)\n",
    "\n",
    "        # update weights\n",
    "        synapse_1 -= alpha * (layer_1.T.dot(layer_2_delta))\n",
    "        synapse_0 -= alpha * (layer_0.T.dot(layer_1_delta))\n",
    "        \n",
    "    # model prediction\n",
    "    layer_0 = X_test\n",
    "    layer_1 = sigmoid(np.dot(layer_0,synapse_0))\n",
    "    layer_2 = sigmoid(np.dot(layer_1,synapse_1))\n",
    "\n",
    "    # visualize output values\n",
    "    fig, ax = plt.subplots(figsize=(2,2))\n",
    "    ax.hist(layer_2, bins=np.arange(0,1.1,0.1))\n",
    "    ax.set_title('Histogram of output values')\n",
    "    ax.set_xlabel('value')\n",
    "    ax.set_ylabel('count')\n",
    "    ax.set_xlim(0, 1)\n",
    "    plt.show()\n",
    "\n",
    "    # set output >=0.5 to Class 1\n",
    "    y_pred = (layer_2>=0.5).ravel().astype(int)\n",
    "\n",
    "    # evaluate model using confusion matrix-derived metrics\n",
    "    print ('Confusion Matrix:')\n",
    "    print(confusion_matrix(y_test, y_pred))\n",
    "    tn, fp, fn, tp = confusion_matrix(y_test, y_pred).ravel()\n",
    "    print ('\\nTP, TN, FP, FN:', tp, ',', tn, ',', fp, ',', fn)\n",
    "    print ('\\nClassification report:')\n",
    "    print(classification_report(y_test, y_pred))\n",
    "    \n",
    "    return layer_2, (tn+tp)/(tn+fp+fn+tp)"
   ]
  },
  {
   "cell_type": "markdown",
   "metadata": {},
   "source": [
    "##### Model with 2 hidden layers \n",
    "Learning rate, number of epochs, number of nodes in a hidden layer could be adjusted<br>\n",
    "Number of hidden layers was adjusted manually (see model with 1 hidden layer above) and could be further adjusted as needed"
   ]
  },
  {
   "cell_type": "code",
   "execution_count": 8,
   "metadata": {},
   "outputs": [],
   "source": [
    "def two_hidden(XX, yy, alpha, num_epochs, hiddenWidth):\n",
    "    print('Learning rate: {}'.format(alpha))\n",
    "    print('Number of epochs: {}'.format(num_epochs))\n",
    "    print('Number of hidden layers: 2')\n",
    "    print('Hidden layer width: {}\\n'.format(hiddenWidth))\n",
    "    np.random.seed(1)\n",
    "\n",
    "    # randomly initialize weights with mean 0\n",
    "    synapse_0 = 2*np.random.random((12,hiddenWidth)) - 1 # where 12 = number of features\n",
    "    synapse_1 = 2*np.random.random((hiddenWidth,hiddenWidth)) - 1\n",
    "    synapse_2 = 2*np.random.random((hiddenWidth,1)) - 1\n",
    "\n",
    "    for j in range(num_epochs+1):\n",
    "        # Feed forward through layers \n",
    "        layer_0 = XX\n",
    "        layer_1 = sigmoid(np.dot(layer_0,synapse_0))\n",
    "        layer_2 = sigmoid(np.dot(layer_1,synapse_1))\n",
    "        layer_3 = sigmoid(np.dot(layer_2,synapse_2))\n",
    "\n",
    "        # how much did we miss the target value?\n",
    "        layer_3_error = layer_3 - yy\n",
    "\n",
    "        if j%1000==0:\n",
    "            print('Error after {} epochs: {}'.format(j, np.mean(np.abs(layer_3_error))))\n",
    "        if j==num_epochs:\n",
    "            print('Done')\n",
    "\n",
    "        # in what direction is the target value?\n",
    "        layer_3_delta = layer_3_error*sigmoid_output_to_derivative(layer_3)\n",
    "\n",
    "        # how much did each l2 value contribute to the l3 error (according to the weights)?\n",
    "        layer_2_error = layer_3_delta.dot(synapse_2.T)\n",
    "\n",
    "        # in what direction is the target l2?\n",
    "        layer_2_delta = layer_2_error * sigmoid_output_to_derivative(layer_2)\n",
    "        \n",
    "        # how much did each l1 value contribute to the l2 error (according to the weights)?\n",
    "        layer_1_error = layer_2_delta.dot(synapse_1.T)\n",
    "\n",
    "        # in what direction is the target l1?\n",
    "        layer_1_delta = layer_1_error * sigmoid_output_to_derivative(layer_1)\n",
    "        \n",
    "        # update weights\n",
    "        synapse_2 -= alpha * (layer_2.T.dot(layer_3_delta))\n",
    "        synapse_1 -= alpha * (layer_1.T.dot(layer_2_delta))\n",
    "        synapse_0 -= alpha * (layer_0.T.dot(layer_1_delta))\n",
    "                \n",
    "    # model prediction\n",
    "    layer_0 = X_test\n",
    "    layer_1 = sigmoid(np.dot(layer_0,synapse_0))\n",
    "    layer_2 = sigmoid(np.dot(layer_1,synapse_1))\n",
    "    layer_3 = sigmoid(np.dot(layer_2,synapse_2))\n",
    "    \n",
    "    # visualize output values\n",
    "    fig, ax = plt.subplots(figsize=(2,2))\n",
    "    ax.hist(layer_3, bins=np.arange(0,1.1,0.1))\n",
    "    ax.set_title('Histogram of output values')\n",
    "    ax.set_xlabel('value')\n",
    "    ax.set_ylabel('count')\n",
    "    # ax.set_xlim(0, 1)\n",
    "    plt.show()\n",
    "\n",
    "    # set output >=0.5 to Class 1\n",
    "    y_pred = (layer_3>=0.5).ravel().astype(int)\n",
    "\n",
    "    # evaluate model using confusion matrix-derived metrics\n",
    "    print ('Confusion Matrix:')\n",
    "    print(confusion_matrix(y_test, y_pred))\n",
    "    tn, fp, fn, tp = confusion_matrix(y_test, y_pred).ravel()\n",
    "    print ('\\nTP, TN, FP, FN:', tp, ',', tn, ',', fp, ',', fn)\n",
    "    print ('\\nClassification report:')\n",
    "    print(classification_report(y_test, y_pred))\n",
    "    \n",
    "    return layer_3, (tn+tp)/(tn+fp+fn+tp)"
   ]
  },
  {
   "cell_type": "code",
   "execution_count": 9,
   "metadata": {},
   "outputs": [
    {
     "name": "stdout",
     "output_type": "stream",
     "text": [
      "Features shape: (5197, 12)\n",
      "Label shape: (5197, 1)\n"
     ]
    }
   ],
   "source": [
    "# document parameters to keep track of experiments\n",
    "alphas = []\n",
    "num_epochs = []\n",
    "hidden_layers = []\n",
    "hidden_widths = []\n",
    "accuracys = []\n",
    "\n",
    "# model inputs (features and labels)\n",
    "XX = X_train\n",
    "yy = np.array([y_train]).T\n",
    "print('Features shape: {}'.format(XX.shape))\n",
    "print('Label shape: {}'.format(yy.shape))"
   ]
  },
  {
   "cell_type": "markdown",
   "metadata": {},
   "source": [
    "##### Run experiments\n",
    "First, try a range of alphas with 2000 epochs, 1 hidden layer, and 3 hidden nodes/layer"
   ]
  },
  {
   "cell_type": "code",
   "execution_count": 10,
   "metadata": {},
   "outputs": [
    {
     "name": "stdout",
     "output_type": "stream",
     "text": [
      "Learning rate: 0.1\n",
      "Number of epochs: 2000\n",
      "Number of hidden layers: 1\n",
      "Hidden layer width: 3\n",
      "\n",
      "Error after 0 epochs: 0.43567386063673524\n",
      "Error after 1000 epochs: 0.24610431592442694\n",
      "Error after 2000 epochs: 0.2461041367277029\n",
      "Done\n"
     ]
    },
    {
     "data": {
      "image/png": "[encoded data removed]",
      "text/plain": [
       "<Figure size 144x144 with 1 Axes>"
      ]
     },
     "metadata": {
      "needs_background": "light"
     },
     "output_type": "display_data"
    },
    {
     "name": "stdout",
     "output_type": "stream",
     "text": [
      "Confusion Matrix:\n",
      "[[980   0]\n",
      " [320   0]]\n",
      "\n",
      "TP, TN, FP, FN: 0 , 980 , 0 , 320\n",
      "\n",
      "Classification report:\n",
      "              precision    recall  f1-score   support\n",
      "\n",
      "           0       0.75      1.00      0.86       980\n",
      "           1       0.00      0.00      0.00       320\n",
      "\n",
      "    accuracy                           0.75      1300\n",
      "   macro avg       0.38      0.50      0.43      1300\n",
      "weighted avg       0.57      0.75      0.65      1300\n",
      "\n"
     ]
    },
    {
     "name": "stderr",
     "output_type": "stream",
     "text": [
      "C:\\Users\\lawrenceh\\AppData\\Local\\Continuum\\anaconda3\\lib\\site-packages\\sklearn\\metrics\\classification.py:1437: UndefinedMetricWarning: Precision and F-score are ill-defined and being set to 0.0 in labels with no predicted samples.\n",
      "  'precision', 'predicted', average, warn_for)\n"
     ]
    }
   ],
   "source": [
    "# experiment 1\n",
    "(model_output, accuracy) = one_hidden(XX=XX, yy=yy, alpha=1e-1, num_epochs=2000, hiddenWidth=3)\n",
    "\n",
    "# append experiment parameters/results\n",
    "alphas.append(1e-1)\n",
    "num_epochs.append(2000)\n",
    "hidden_layers.append(1)\n",
    "hidden_widths.append(3)\n",
    "accuracys.append(accuracy)"
   ]
  },
  {
   "cell_type": "code",
   "execution_count": 11,
   "metadata": {},
   "outputs": [
    {
     "name": "stdout",
     "output_type": "stream",
     "text": [
      "Learning rate: 0.001\n",
      "Number of epochs: 2000\n",
      "Number of hidden layers: 1\n",
      "Hidden layer width: 3\n",
      "\n",
      "Error after 0 epochs: 0.43567386063673524\n",
      "Error after 1000 epochs: 0.02532950358279602\n",
      "Error after 2000 epochs: 0.016605200978746164\n",
      "Done\n"
     ]
    },
    {
     "data": {
      "image/png": "[encoded data removed]",
      "text/plain": [
       "<Figure size 144x144 with 1 Axes>"
      ]
     },
     "metadata": {
      "needs_background": "light"
     },
     "output_type": "display_data"
    },
    {
     "name": "stdout",
     "output_type": "stream",
     "text": [
      "Confusion Matrix:\n",
      "[[978   2]\n",
      " [  2 318]]\n",
      "\n",
      "TP, TN, FP, FN: 318 , 978 , 2 , 2\n",
      "\n",
      "Classification report:\n",
      "              precision    recall  f1-score   support\n",
      "\n",
      "           0       1.00      1.00      1.00       980\n",
      "           1       0.99      0.99      0.99       320\n",
      "\n",
      "    accuracy                           1.00      1300\n",
      "   macro avg       1.00      1.00      1.00      1300\n",
      "weighted avg       1.00      1.00      1.00      1300\n",
      "\n"
     ]
    }
   ],
   "source": [
    "# experiment 2\n",
    "(model_output, accuracy) = one_hidden(XX=XX, yy=yy, alpha=1e-3, num_epochs=2000, hiddenWidth=3)\n",
    "\n",
    "# append experiment parameters/results\n",
    "alphas.append(1e-3)\n",
    "num_epochs.append(2000)\n",
    "hidden_layers.append(1)\n",
    "hidden_widths.append(3)\n",
    "accuracys.append(accuracy)"
   ]
  },
  {
   "cell_type": "code",
   "execution_count": 12,
   "metadata": {},
   "outputs": [
    {
     "name": "stdout",
     "output_type": "stream",
     "text": [
      "Learning rate: 1e-05\n",
      "Number of epochs: 2000\n",
      "Number of hidden layers: 1\n",
      "Hidden layer width: 3\n",
      "\n",
      "Error after 0 epochs: 0.43567386063673524\n",
      "Error after 1000 epochs: 0.25673486023588626\n",
      "Error after 2000 epochs: 0.20315940133535207\n",
      "Done\n"
     ]
    },
    {
     "data": {
      "image/png": "[encoded data removed]",
      "text/plain": [
       "<Figure size 144x144 with 1 Axes>"
      ]
     },
     "metadata": {
      "needs_background": "light"
     },
     "output_type": "display_data"
    },
    {
     "name": "stdout",
     "output_type": "stream",
     "text": [
      "Confusion Matrix:\n",
      "[[955  25]\n",
      " [ 11 309]]\n",
      "\n",
      "TP, TN, FP, FN: 309 , 955 , 25 , 11\n",
      "\n",
      "Classification report:\n",
      "              precision    recall  f1-score   support\n",
      "\n",
      "           0       0.99      0.97      0.98       980\n",
      "           1       0.93      0.97      0.94       320\n",
      "\n",
      "    accuracy                           0.97      1300\n",
      "   macro avg       0.96      0.97      0.96      1300\n",
      "weighted avg       0.97      0.97      0.97      1300\n",
      "\n"
     ]
    }
   ],
   "source": [
    "# experiment 3\n",
    "(model_output, accuracy) = one_hidden(XX=XX, yy=yy, alpha=1e-5, num_epochs=2000, hiddenWidth=3)\n",
    "\n",
    "# append experiment parameters/results\n",
    "alphas.append(1e-5)\n",
    "num_epochs.append(2000)\n",
    "hidden_layers.append(1)\n",
    "hidden_widths.append(3)\n",
    "accuracys.append(accuracy)"
   ]
  },
  {
   "cell_type": "markdown",
   "metadata": {},
   "source": [
    "##### Results:\n",
    "Of the alphas tested (1e-5, 1e-3, 1e-1), alpha=1e-3 with 2000 epochs, 1 hidden layer, and 3 hidden nodes/layer already gives very high accuracy. Higher and lower alphas were less accurate.\n",
    "\n",
    "Next, will try increasing number of epochs or hidden layer width"
   ]
  },
  {
   "cell_type": "code",
   "execution_count": 13,
   "metadata": {},
   "outputs": [
    {
     "name": "stdout",
     "output_type": "stream",
     "text": [
      "Learning rate: 0.001\n",
      "Number of epochs: 5000\n",
      "Number of hidden layers: 1\n",
      "Hidden layer width: 3\n",
      "\n",
      "Error after 0 epochs: 0.43567386063673524\n",
      "Error after 1000 epochs: 0.02532950358279602\n",
      "Error after 2000 epochs: 0.016605200978746164\n",
      "Error after 3000 epochs: 0.013476242908850636\n",
      "Error after 4000 epochs: 0.01183408853558434\n",
      "Error after 5000 epochs: 0.010777319908681126\n",
      "Done\n"
     ]
    },
    {
     "data": {
      "image/png": "[encoded data removed]",
      "text/plain": [
       "<Figure size 144x144 with 1 Axes>"
      ]
     },
     "metadata": {
      "needs_background": "light"
     },
     "output_type": "display_data"
    },
    {
     "name": "stdout",
     "output_type": "stream",
     "text": [
      "Confusion Matrix:\n",
      "[[978   2]\n",
      " [  2 318]]\n",
      "\n",
      "TP, TN, FP, FN: 318 , 978 , 2 , 2\n",
      "\n",
      "Classification report:\n",
      "              precision    recall  f1-score   support\n",
      "\n",
      "           0       1.00      1.00      1.00       980\n",
      "           1       0.99      0.99      0.99       320\n",
      "\n",
      "    accuracy                           1.00      1300\n",
      "   macro avg       1.00      1.00      1.00      1300\n",
      "weighted avg       1.00      1.00      1.00      1300\n",
      "\n"
     ]
    }
   ],
   "source": [
    "# experiment 4\n",
    "(model_output, accuracy) = one_hidden(XX=XX, yy=yy, alpha=1e-3, num_epochs=5000, hiddenWidth=3)\n",
    "\n",
    "# append experiment parameters/results\n",
    "alphas.append(1e-3)\n",
    "num_epochs.append(5000)\n",
    "hidden_layers.append(1)\n",
    "hidden_widths.append(3)\n",
    "accuracys.append(accuracy)"
   ]
  },
  {
   "cell_type": "code",
   "execution_count": 14,
   "metadata": {},
   "outputs": [
    {
     "name": "stdout",
     "output_type": "stream",
     "text": [
      "Learning rate: 0.001\n",
      "Number of epochs: 2000\n",
      "Number of hidden layers: 1\n",
      "Hidden layer width: 6\n",
      "\n",
      "Error after 0 epochs: 0.47044132974082936\n",
      "Error after 1000 epochs: 0.017140417296933146\n",
      "Error after 2000 epochs: 0.012280021607237944\n",
      "Done\n"
     ]
    },
    {
     "data": {
      "image/png": "[encoded data removed]",
      "text/plain": [
       "<Figure size 144x144 with 1 Axes>"
      ]
     },
     "metadata": {
      "needs_background": "light"
     },
     "output_type": "display_data"
    },
    {
     "name": "stdout",
     "output_type": "stream",
     "text": [
      "Confusion Matrix:\n",
      "[[979   1]\n",
      " [  2 318]]\n",
      "\n",
      "TP, TN, FP, FN: 318 , 979 , 1 , 2\n",
      "\n",
      "Classification report:\n",
      "              precision    recall  f1-score   support\n",
      "\n",
      "           0       1.00      1.00      1.00       980\n",
      "           1       1.00      0.99      1.00       320\n",
      "\n",
      "    accuracy                           1.00      1300\n",
      "   macro avg       1.00      1.00      1.00      1300\n",
      "weighted avg       1.00      1.00      1.00      1300\n",
      "\n"
     ]
    }
   ],
   "source": [
    "# experiment 5\n",
    "(model_output, accuracy) = one_hidden(XX=XX, yy=yy, alpha=1e-3, num_epochs=2000, hiddenWidth=6)\n",
    "\n",
    "# append experiment parameters/results\n",
    "alphas.append(1e-3)\n",
    "num_epochs.append(2000)\n",
    "hidden_layers.append(1)\n",
    "hidden_widths.append(6)\n",
    "accuracys.append(accuracy)"
   ]
  },
  {
   "cell_type": "markdown",
   "metadata": {},
   "source": [
    "##### Results:\n",
    "From experiment 2, alpha=1e-3 with 2000 epochs, 1 hidden layer, and 3 hidden nodes/layer already gives very high accuracy.\n",
    "While increasing to 5000 epochs (experiment 5) decreased training error, there was no further increase in accuracy (and too many iterations could lead to overfitting). However, changing the hidden layer width to 6 (while keeping number of epochs at 2000; experiment 6) further increased accuracy.\n",
    "\n",
    "Next, will try using chaging the hidden layer depth, using 2 hidden layers"
   ]
  },
  {
   "cell_type": "code",
   "execution_count": 15,
   "metadata": {},
   "outputs": [
    {
     "name": "stdout",
     "output_type": "stream",
     "text": [
      "Learning rate: 0.001\n",
      "Number of epochs: 2000\n",
      "Number of hidden layers: 2\n",
      "Hidden layer width: 6\n",
      "\n",
      "Error after 0 epochs: 0.604378049818006\n",
      "Error after 1000 epochs: 0.016476854155629907\n",
      "Error after 2000 epochs: 0.011903655955726048\n",
      "Done\n"
     ]
    },
    {
     "data": {
      "image/png": "[encoded data removed]",
      "text/plain": [
       "<Figure size 144x144 with 1 Axes>"
      ]
     },
     "metadata": {
      "needs_background": "light"
     },
     "output_type": "display_data"
    },
    {
     "name": "stdout",
     "output_type": "stream",
     "text": [
      "Confusion Matrix:\n",
      "[[979   1]\n",
      " [  2 318]]\n",
      "\n",
      "TP, TN, FP, FN: 318 , 979 , 1 , 2\n",
      "\n",
      "Classification report:\n",
      "              precision    recall  f1-score   support\n",
      "\n",
      "           0       1.00      1.00      1.00       980\n",
      "           1       1.00      0.99      1.00       320\n",
      "\n",
      "    accuracy                           1.00      1300\n",
      "   macro avg       1.00      1.00      1.00      1300\n",
      "weighted avg       1.00      1.00      1.00      1300\n",
      "\n"
     ]
    }
   ],
   "source": [
    "# experiment 6\n",
    "(model_output, accuracy) = two_hidden(XX=XX, yy=yy, alpha=1e-3, num_epochs=2000, hiddenWidth=6)\n",
    "\n",
    "# append experiment parameters/results\n",
    "alphas.append(1e-3)\n",
    "num_epochs.append(2000)\n",
    "hidden_layers.append(2)\n",
    "hidden_widths.append(6)\n",
    "accuracys.append(accuracy)"
   ]
  },
  {
   "cell_type": "code",
   "execution_count": 16,
   "metadata": {},
   "outputs": [
    {
     "name": "stdout",
     "output_type": "stream",
     "text": [
      "Learning rate: 0.001\n",
      "Number of epochs: 2000\n",
      "Number of hidden layers: 2\n",
      "Hidden layer width: 12\n",
      "\n",
      "Error after 0 epochs: 0.40420878787215964\n",
      "Error after 1000 epochs: 0.012552610870623114\n",
      "Error after 2000 epochs: 0.008645183423881573\n",
      "Done\n"
     ]
    },
    {
     "data": {
      "image/png": "[encoded data removed]",
      "text/plain": [
       "<Figure size 144x144 with 1 Axes>"
      ]
     },
     "metadata": {
      "needs_background": "light"
     },
     "output_type": "display_data"
    },
    {
     "name": "stdout",
     "output_type": "stream",
     "text": [
      "Confusion Matrix:\n",
      "[[979   1]\n",
      " [  2 318]]\n",
      "\n",
      "TP, TN, FP, FN: 318 , 979 , 1 , 2\n",
      "\n",
      "Classification report:\n",
      "              precision    recall  f1-score   support\n",
      "\n",
      "           0       1.00      1.00      1.00       980\n",
      "           1       1.00      0.99      1.00       320\n",
      "\n",
      "    accuracy                           1.00      1300\n",
      "   macro avg       1.00      1.00      1.00      1300\n",
      "weighted avg       1.00      1.00      1.00      1300\n",
      "\n"
     ]
    }
   ],
   "source": [
    "# experiment 7\n",
    "(model_output, accuracy) = two_hidden(XX=XX, yy=yy, alpha=1e-3, num_epochs=2000, hiddenWidth=12)\n",
    "\n",
    "# append experiment parameters/results\n",
    "alphas.append(1e-3)\n",
    "num_epochs.append(2000)\n",
    "hidden_layers.append(2)\n",
    "hidden_widths.append(12)\n",
    "accuracys.append(accuracy)"
   ]
  },
  {
   "cell_type": "markdown",
   "metadata": {},
   "source": [
    "##### Results:\n",
    "From experiment 5, alpha=1e-3 with 2000 epochs, 1 hidden layer, and 6 hidden nodes gave the best accuracy thus far.\n",
    "Increasing the depth to 2 hidden layers (experiment 6) decreased training error, and subsequently increasing the hidden layer width to 12 (experiment 7) further decreased training error. However, neither further increased accuracy, and the additional hidden layer may lead to overfitting (even more than already is)."
   ]
  },
  {
   "cell_type": "markdown",
   "metadata": {},
   "source": [
    "##### Experiment summary"
   ]
  },
  {
   "cell_type": "code",
   "execution_count": 17,
   "metadata": {},
   "outputs": [
    {
     "data": {
      "text/html": [
       "<div>\n",
       "<style scoped>\n",
       "    .dataframe tbody tr th:only-of-type {\n",
       "        vertical-align: middle;\n",
       "    }\n",
       "\n",
       "    .dataframe tbody tr th {\n",
       "        vertical-align: top;\n",
       "    }\n",
       "\n",
       "    .dataframe thead th {\n",
       "        text-align: right;\n",
       "    }\n",
       "</style>\n",
       "<table border=\"1\" class=\"dataframe\">\n",
       "  <thead>\n",
       "    <tr style=\"text-align: right;\">\n",
       "      <th></th>\n",
       "      <th>alphas</th>\n",
       "      <th>num_epochs</th>\n",
       "      <th>hidden_layer</th>\n",
       "      <th>hidden_width</th>\n",
       "      <th>accuracy</th>\n",
       "    </tr>\n",
       "  </thead>\n",
       "  <tbody>\n",
       "    <tr>\n",
       "      <th>1</th>\n",
       "      <td>0.10000</td>\n",
       "      <td>2000</td>\n",
       "      <td>1</td>\n",
       "      <td>3</td>\n",
       "      <td>0.753846</td>\n",
       "    </tr>\n",
       "    <tr>\n",
       "      <th>2</th>\n",
       "      <td>0.00100</td>\n",
       "      <td>2000</td>\n",
       "      <td>1</td>\n",
       "      <td>3</td>\n",
       "      <td>0.996923</td>\n",
       "    </tr>\n",
       "    <tr>\n",
       "      <th>3</th>\n",
       "      <td>0.00001</td>\n",
       "      <td>2000</td>\n",
       "      <td>1</td>\n",
       "      <td>3</td>\n",
       "      <td>0.972308</td>\n",
       "    </tr>\n",
       "    <tr>\n",
       "      <th>4</th>\n",
       "      <td>0.00100</td>\n",
       "      <td>5000</td>\n",
       "      <td>1</td>\n",
       "      <td>3</td>\n",
       "      <td>0.996923</td>\n",
       "    </tr>\n",
       "    <tr>\n",
       "      <th>5</th>\n",
       "      <td>0.00100</td>\n",
       "      <td>2000</td>\n",
       "      <td>1</td>\n",
       "      <td>6</td>\n",
       "      <td>0.997692</td>\n",
       "    </tr>\n",
       "    <tr>\n",
       "      <th>6</th>\n",
       "      <td>0.00100</td>\n",
       "      <td>2000</td>\n",
       "      <td>2</td>\n",
       "      <td>6</td>\n",
       "      <td>0.997692</td>\n",
       "    </tr>\n",
       "    <tr>\n",
       "      <th>7</th>\n",
       "      <td>0.00100</td>\n",
       "      <td>2000</td>\n",
       "      <td>2</td>\n",
       "      <td>12</td>\n",
       "      <td>0.997692</td>\n",
       "    </tr>\n",
       "  </tbody>\n",
       "</table>\n",
       "</div>"
      ],
      "text/plain": [
       "    alphas  num_epochs  hidden_layer  hidden_width  accuracy\n",
       "1  0.10000        2000             1             3  0.753846\n",
       "2  0.00100        2000             1             3  0.996923\n",
       "3  0.00001        2000             1             3  0.972308\n",
       "4  0.00100        5000             1             3  0.996923\n",
       "5  0.00100        2000             1             6  0.997692\n",
       "6  0.00100        2000             2             6  0.997692\n",
       "7  0.00100        2000             2            12  0.997692"
      ]
     },
     "execution_count": 17,
     "metadata": {},
     "output_type": "execute_result"
    }
   ],
   "source": [
    "# get experiment summary\n",
    "expts = {'alphas':alphas, 'num_epochs':num_epochs, 'hidden_layer':hidden_layers, 'hidden_width':hidden_widths, 'accuracy':accuracys}\n",
    "pd.DataFrame(expts, index=range(1,len(alphas)+1))"
   ]
  },
  {
   "cell_type": "markdown",
   "metadata": {},
   "source": [
    "##### 4. Determine what the best neural network structure and hyperparameter settings results in the best predictive capability\n",
    "Of the model parameters tested, (alpha=1e-3, num_epochs=2000, hidden layer=1, hidden width=6) provided the best accuracy/predictive capability on the test set and was the most parsimonious.\n",
    "\n",
    "For results from individual experiments please see above section."
   ]
  }
 ],
 "metadata": {
  "kernelspec": {
   "display_name": "Python 3",
   "language": "python",
   "name": "python3"
  },
  "language_info": {
   "codemirror_mode": {
    "name": "ipython",
    "version": 3
   },
   "file_extension": ".py",
   "mimetype": "text/x-python",
   "name": "python",
   "nbconvert_exporter": "python",
   "pygments_lexer": "ipython3",
   "version": "3.7.3"
  }
 },
 "nbformat": 4,
 "nbformat_minor": 2
}
