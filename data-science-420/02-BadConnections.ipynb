{
 "cells": [
  {
   "cell_type": "markdown",
   "metadata": {},
   "source": [
    "### Lesson 2 Assignment: Bad vs. Good Connections\n",
    "### Lawrence Huang\n",
    "#### Instructions:\n",
    "\n",
    "Using the Intrusion Detection csv file create a new notebook and perform each of the following tasks and answer the related questions:\n",
    "\n",
    "1. Read data\n",
    "2. Build a classifier\n",
    "3. Determine your model accuracy\n",
    "4. Modify data by handling class imbalance\n",
    "5. Use the same model on updated data\n",
    "6. What is the accuracy?\n",
    "7. Describe your findings"
   ]
  },
  {
   "cell_type": "code",
   "execution_count": 1,
   "metadata": {},
   "outputs": [
    {
     "name": "stderr",
     "output_type": "stream",
     "text": [
      "Using TensorFlow backend.\n"
     ]
    }
   ],
   "source": [
    "# Import libraries\n",
    "import numpy as np\n",
    "import pandas as pd\n",
    "import matplotlib.pyplot as plt\n",
    "%matplotlib inline\n",
    "import seaborn as sns\n",
    "from sklearn.model_selection import train_test_split, StratifiedKFold, cross_val_score\n",
    "from sklearn.preprocessing import StandardScaler\n",
    "from sklearn.linear_model import LogisticRegression\n",
    "from sklearn.metrics import confusion_matrix, classification_report, roc_curve, auc\n",
    "from imblearn.over_sampling import SMOTE "
   ]
  },
  {
   "cell_type": "markdown",
   "metadata": {},
   "source": [
    "##### 1. Read data and preprocessing"
   ]
  },
  {
   "cell_type": "code",
   "execution_count": 2,
   "metadata": {},
   "outputs": [
    {
     "name": "stdout",
     "output_type": "stream",
     "text": [
      "dataset shape:(97308, 42)\n"
     ]
    },
    {
     "data": {
      "text/html": [
       "<div>\n",
       "<style scoped>\n",
       "    .dataframe tbody tr th:only-of-type {\n",
       "        vertical-align: middle;\n",
       "    }\n",
       "\n",
       "    .dataframe tbody tr th {\n",
       "        vertical-align: top;\n",
       "    }\n",
       "\n",
       "    .dataframe thead th {\n",
       "        text-align: right;\n",
       "    }\n",
       "</style>\n",
       "<table border=\"1\" class=\"dataframe\">\n",
       "  <thead>\n",
       "    <tr style=\"text-align: right;\">\n",
       "      <th></th>\n",
       "      <th>duration</th>\n",
       "      <th>protocol_type</th>\n",
       "      <th>service</th>\n",
       "      <th>flag</th>\n",
       "      <th>src_bytes</th>\n",
       "      <th>dst_bytes</th>\n",
       "      <th>land</th>\n",
       "      <th>wrong_fragment</th>\n",
       "      <th>urgent</th>\n",
       "      <th>hot</th>\n",
       "      <th>...</th>\n",
       "      <th>dst_host_srv_count</th>\n",
       "      <th>dst_host_same_srv_rate</th>\n",
       "      <th>dst_host_diff_srv_rate</th>\n",
       "      <th>dst_host_same_src_port_rate</th>\n",
       "      <th>dst_host_srv_diff_host_rate</th>\n",
       "      <th>dst_host_serror_rate</th>\n",
       "      <th>dst_host_srv_serror_rate</th>\n",
       "      <th>dst_host_rerror_rate</th>\n",
       "      <th>dst_host_srv_rerror_rate</th>\n",
       "      <th>Class</th>\n",
       "    </tr>\n",
       "  </thead>\n",
       "  <tbody>\n",
       "    <tr>\n",
       "      <td>0</td>\n",
       "      <td>0</td>\n",
       "      <td>tcp</td>\n",
       "      <td>http</td>\n",
       "      <td>SF</td>\n",
       "      <td>181</td>\n",
       "      <td>5450</td>\n",
       "      <td>0</td>\n",
       "      <td>0</td>\n",
       "      <td>0</td>\n",
       "      <td>0</td>\n",
       "      <td>...</td>\n",
       "      <td>9</td>\n",
       "      <td>1.0</td>\n",
       "      <td>0.0</td>\n",
       "      <td>0.11</td>\n",
       "      <td>0.0</td>\n",
       "      <td>0.0</td>\n",
       "      <td>0.0</td>\n",
       "      <td>0.0</td>\n",
       "      <td>0.0</td>\n",
       "      <td>0</td>\n",
       "    </tr>\n",
       "    <tr>\n",
       "      <td>1</td>\n",
       "      <td>0</td>\n",
       "      <td>tcp</td>\n",
       "      <td>http</td>\n",
       "      <td>SF</td>\n",
       "      <td>239</td>\n",
       "      <td>486</td>\n",
       "      <td>0</td>\n",
       "      <td>0</td>\n",
       "      <td>0</td>\n",
       "      <td>0</td>\n",
       "      <td>...</td>\n",
       "      <td>19</td>\n",
       "      <td>1.0</td>\n",
       "      <td>0.0</td>\n",
       "      <td>0.05</td>\n",
       "      <td>0.0</td>\n",
       "      <td>0.0</td>\n",
       "      <td>0.0</td>\n",
       "      <td>0.0</td>\n",
       "      <td>0.0</td>\n",
       "      <td>0</td>\n",
       "    </tr>\n",
       "    <tr>\n",
       "      <td>2</td>\n",
       "      <td>0</td>\n",
       "      <td>tcp</td>\n",
       "      <td>http</td>\n",
       "      <td>SF</td>\n",
       "      <td>235</td>\n",
       "      <td>1337</td>\n",
       "      <td>0</td>\n",
       "      <td>0</td>\n",
       "      <td>0</td>\n",
       "      <td>0</td>\n",
       "      <td>...</td>\n",
       "      <td>29</td>\n",
       "      <td>1.0</td>\n",
       "      <td>0.0</td>\n",
       "      <td>0.03</td>\n",
       "      <td>0.0</td>\n",
       "      <td>0.0</td>\n",
       "      <td>0.0</td>\n",
       "      <td>0.0</td>\n",
       "      <td>0.0</td>\n",
       "      <td>0</td>\n",
       "    </tr>\n",
       "    <tr>\n",
       "      <td>3</td>\n",
       "      <td>0</td>\n",
       "      <td>tcp</td>\n",
       "      <td>http</td>\n",
       "      <td>SF</td>\n",
       "      <td>219</td>\n",
       "      <td>1337</td>\n",
       "      <td>0</td>\n",
       "      <td>0</td>\n",
       "      <td>0</td>\n",
       "      <td>0</td>\n",
       "      <td>...</td>\n",
       "      <td>39</td>\n",
       "      <td>1.0</td>\n",
       "      <td>0.0</td>\n",
       "      <td>0.03</td>\n",
       "      <td>0.0</td>\n",
       "      <td>0.0</td>\n",
       "      <td>0.0</td>\n",
       "      <td>0.0</td>\n",
       "      <td>0.0</td>\n",
       "      <td>0</td>\n",
       "    </tr>\n",
       "    <tr>\n",
       "      <td>4</td>\n",
       "      <td>0</td>\n",
       "      <td>tcp</td>\n",
       "      <td>http</td>\n",
       "      <td>SF</td>\n",
       "      <td>217</td>\n",
       "      <td>2032</td>\n",
       "      <td>0</td>\n",
       "      <td>0</td>\n",
       "      <td>0</td>\n",
       "      <td>0</td>\n",
       "      <td>...</td>\n",
       "      <td>49</td>\n",
       "      <td>1.0</td>\n",
       "      <td>0.0</td>\n",
       "      <td>0.02</td>\n",
       "      <td>0.0</td>\n",
       "      <td>0.0</td>\n",
       "      <td>0.0</td>\n",
       "      <td>0.0</td>\n",
       "      <td>0.0</td>\n",
       "      <td>0</td>\n",
       "    </tr>\n",
       "  </tbody>\n",
       "</table>\n",
       "<p>5 rows × 42 columns</p>\n",
       "</div>"
      ],
      "text/plain": [
       "   duration protocol_type service flag  src_bytes  dst_bytes  land  \\\n",
       "0         0           tcp    http   SF        181       5450     0   \n",
       "1         0           tcp    http   SF        239        486     0   \n",
       "2         0           tcp    http   SF        235       1337     0   \n",
       "3         0           tcp    http   SF        219       1337     0   \n",
       "4         0           tcp    http   SF        217       2032     0   \n",
       "\n",
       "   wrong_fragment  urgent  hot  ...  dst_host_srv_count  \\\n",
       "0               0       0    0  ...                   9   \n",
       "1               0       0    0  ...                  19   \n",
       "2               0       0    0  ...                  29   \n",
       "3               0       0    0  ...                  39   \n",
       "4               0       0    0  ...                  49   \n",
       "\n",
       "   dst_host_same_srv_rate  dst_host_diff_srv_rate  \\\n",
       "0                     1.0                     0.0   \n",
       "1                     1.0                     0.0   \n",
       "2                     1.0                     0.0   \n",
       "3                     1.0                     0.0   \n",
       "4                     1.0                     0.0   \n",
       "\n",
       "   dst_host_same_src_port_rate  dst_host_srv_diff_host_rate  \\\n",
       "0                         0.11                          0.0   \n",
       "1                         0.05                          0.0   \n",
       "2                         0.03                          0.0   \n",
       "3                         0.03                          0.0   \n",
       "4                         0.02                          0.0   \n",
       "\n",
       "   dst_host_serror_rate  dst_host_srv_serror_rate  dst_host_rerror_rate  \\\n",
       "0                   0.0                       0.0                   0.0   \n",
       "1                   0.0                       0.0                   0.0   \n",
       "2                   0.0                       0.0                   0.0   \n",
       "3                   0.0                       0.0                   0.0   \n",
       "4                   0.0                       0.0                   0.0   \n",
       "\n",
       "   dst_host_srv_rerror_rate  Class  \n",
       "0                       0.0      0  \n",
       "1                       0.0      0  \n",
       "2                       0.0      0  \n",
       "3                       0.0      0  \n",
       "4                       0.0      0  \n",
       "\n",
       "[5 rows x 42 columns]"
      ]
     },
     "execution_count": 2,
     "metadata": {},
     "output_type": "execute_result"
    }
   ],
   "source": [
    "# Load data: Intrusion Detection\n",
    "filename = 'https://library.startlearninglabs.uw.edu/DATASCI420/2019/Datasets/Intrusion%20Detection.csv'\n",
    "df = pd.read_csv(filename)\n",
    "# preview data\n",
    "print('dataset shape:{}'.format(df.shape))\n",
    "df.head()"
   ]
  },
  {
   "cell_type": "code",
   "execution_count": 3,
   "metadata": {},
   "outputs": [
    {
     "name": "stdout",
     "output_type": "stream",
     "text": [
      "data types:\n",
      "duration                         int64\n",
      "protocol_type                   object\n",
      "service                         object\n",
      "flag                            object\n",
      "src_bytes                        int64\n",
      "dst_bytes                        int64\n",
      "land                             int64\n",
      "wrong_fragment                   int64\n",
      "urgent                           int64\n",
      "hot                              int64\n",
      "num_failed_logins                int64\n",
      "logged_in                        int64\n",
      "num_compromised                  int64\n",
      "root_shell                       int64\n",
      "su_attempted                     int64\n",
      "num_root                         int64\n",
      "num_file_creations               int64\n",
      "num_shells                       int64\n",
      "num_access_files                 int64\n",
      "num_outbound_cmds                int64\n",
      "is_host_login                    int64\n",
      "is_guest_login                   int64\n",
      "count                            int64\n",
      "srv_count                        int64\n",
      "serror_rate                    float64\n",
      "srv_serror_rate                float64\n",
      "rerror_rate                    float64\n",
      "srv_rerror_rate                float64\n",
      "same_srv_rate                  float64\n",
      "diff_srv_rate                  float64\n",
      "srv_diff_host_rate             float64\n",
      "dst_host_count                   int64\n",
      "dst_host_srv_count               int64\n",
      "dst_host_same_srv_rate         float64\n",
      "dst_host_diff_srv_rate         float64\n",
      "dst_host_same_src_port_rate    float64\n",
      "dst_host_srv_diff_host_rate    float64\n",
      "dst_host_serror_rate           float64\n",
      "dst_host_srv_serror_rate       float64\n",
      "dst_host_rerror_rate           float64\n",
      "dst_host_srv_rerror_rate       float64\n",
      "Class                            int64\n",
      "dtype: object\n",
      "\n",
      "number of nan values: 0\n"
     ]
    }
   ],
   "source": [
    "# all columns except the following are of int/float type: protocol_type, service, flag\n",
    "print('data types:')\n",
    "print(df.dtypes)\n",
    "# find number of NANs/missing values\n",
    "print('\\nnumber of nan values: {}'.format(df.isna().sum().sum()))"
   ]
  },
  {
   "cell_type": "code",
   "execution_count": 4,
   "metadata": {},
   "outputs": [
    {
     "name": "stdout",
     "output_type": "stream",
     "text": [
      "tcp     76843\n",
      "udp     19177\n",
      "icmp     1288\n",
      "Name: protocol_type, dtype: int64\n",
      "\n",
      "\n",
      "http        61886\n",
      "smtp         9598\n",
      "private      7366\n",
      "domain_u     5862\n",
      "other        5632\n",
      "ftp_data     3806\n",
      "urp_i         537\n",
      "finger        468\n",
      "eco_i         389\n",
      "ntp_u         380\n",
      "ftp           374\n",
      "ecr_i         345\n",
      "telnet        240\n",
      "auth          220\n",
      "pop_3          79\n",
      "time           52\n",
      "IRC            42\n",
      "urh_i          14\n",
      "X11             9\n",
      "domain          3\n",
      "tim_i           2\n",
      "red_i           1\n",
      "ssh             1\n",
      "shell           1\n",
      "tftp_u          1\n",
      "Name: service, dtype: int64\n",
      "\n",
      "\n",
      "SF      91738\n",
      "REJ      5341\n",
      "RSTO       68\n",
      "S1         54\n",
      "S0         51\n",
      "RSTR       31\n",
      "S2         17\n",
      "S3          7\n",
      "OTH         1\n",
      "Name: flag, dtype: int64\n"
     ]
    }
   ],
   "source": [
    "# no obvious missing values in categorical variables \n",
    "print(df['protocol_type'].value_counts())\n",
    "print('\\n')\n",
    "print(df['service'].value_counts())\n",
    "print('\\n')\n",
    "print(df['flag'].value_counts())"
   ]
  },
  {
   "cell_type": "code",
   "execution_count": 5,
   "metadata": {},
   "outputs": [
    {
     "data": {
      "image/png": "[encoded data removed]",
      "text/plain": [
       "<Figure size 216x216 with 1 Axes>"
      ]
     },
     "metadata": {
      "needs_background": "light"
     },
     "output_type": "display_data"
    }
   ],
   "source": [
    "# plot distribution of the target variable Class\n",
    "# confirmed that classes are highly imbalanced\n",
    "fig, ax = plt.subplots(figsize=(3,3))\n",
    "sns.countplot(x='Class', data=df, ax=ax)\n",
    "plt.title('Distribution of Class\\n0:normal, 1: bad')\n",
    "plt.show()"
   ]
  },
  {
   "cell_type": "code",
   "execution_count": 6,
   "metadata": {},
   "outputs": [
    {
     "name": "stdout",
     "output_type": "stream",
     "text": [
      "variables to one-hot encode: ['protocol_type', 'service', 'flag', 'num_failed_logins', 'su_attempted']\n"
     ]
    }
   ],
   "source": [
    "# prepare for one-hot encoding\n",
    "# find categorical variables of object dtype\n",
    "cat_cols = df.select_dtypes(include=[\"object\"]).columns.to_list()\n",
    "\n",
    "# Find additional potential categorical variables with 5 or less unique values\n",
    "cat_cols.extend(df.columns[(df.nunique()>2) & (df.nunique()<=5) & (df.dtypes!='object')].to_list())\n",
    "\n",
    "print('variables to one-hot encode: {}'.format(cat_cols))"
   ]
  },
  {
   "cell_type": "code",
   "execution_count": 7,
   "metadata": {},
   "outputs": [],
   "source": [
    "# One-hot encode categorical data, represent all categories except for one to avoid a linearly dependent data set\n",
    "df = pd.get_dummies(df, columns=cat_cols, drop_first=True)"
   ]
  },
  {
   "cell_type": "code",
   "execution_count": 8,
   "metadata": {},
   "outputs": [
    {
     "name": "stdout",
     "output_type": "stream",
     "text": [
      "variables to drop: ['wrong_fragment', 'num_outbound_cmds', 'is_host_login']\n"
     ]
    }
   ],
   "source": [
    "# find variables with a single value; non-unique variables are not useful for modeling\n",
    "cols_to_drop = df.columns[df.nunique()<2].to_list()\n",
    "print('variables to drop: {}'.format(cols_to_drop))\n",
    "df.drop(cols_to_drop, axis=1, inplace=True)"
   ]
  },
  {
   "cell_type": "code",
   "execution_count": 9,
   "metadata": {},
   "outputs": [
    {
     "name": "stdout",
     "output_type": "stream",
     "text": [
      "dataset shape:(97308, 74)\n"
     ]
    },
    {
     "data": {
      "text/html": [
       "<div>\n",
       "<style scoped>\n",
       "    .dataframe tbody tr th:only-of-type {\n",
       "        vertical-align: middle;\n",
       "    }\n",
       "\n",
       "    .dataframe tbody tr th {\n",
       "        vertical-align: top;\n",
       "    }\n",
       "\n",
       "    .dataframe thead th {\n",
       "        text-align: right;\n",
       "    }\n",
       "</style>\n",
       "<table border=\"1\" class=\"dataframe\">\n",
       "  <thead>\n",
       "    <tr style=\"text-align: right;\">\n",
       "      <th></th>\n",
       "      <th>duration</th>\n",
       "      <th>src_bytes</th>\n",
       "      <th>dst_bytes</th>\n",
       "      <th>land</th>\n",
       "      <th>urgent</th>\n",
       "      <th>hot</th>\n",
       "      <th>logged_in</th>\n",
       "      <th>num_compromised</th>\n",
       "      <th>root_shell</th>\n",
       "      <th>num_root</th>\n",
       "      <th>...</th>\n",
       "      <th>flag_S1</th>\n",
       "      <th>flag_S2</th>\n",
       "      <th>flag_S3</th>\n",
       "      <th>flag_SF</th>\n",
       "      <th>num_failed_logins_1</th>\n",
       "      <th>num_failed_logins_2</th>\n",
       "      <th>num_failed_logins_3</th>\n",
       "      <th>num_failed_logins_4</th>\n",
       "      <th>su_attempted_1</th>\n",
       "      <th>su_attempted_2</th>\n",
       "    </tr>\n",
       "  </thead>\n",
       "  <tbody>\n",
       "    <tr>\n",
       "      <td>0</td>\n",
       "      <td>0</td>\n",
       "      <td>181</td>\n",
       "      <td>5450</td>\n",
       "      <td>0</td>\n",
       "      <td>0</td>\n",
       "      <td>0</td>\n",
       "      <td>1</td>\n",
       "      <td>0</td>\n",
       "      <td>0</td>\n",
       "      <td>0</td>\n",
       "      <td>...</td>\n",
       "      <td>0</td>\n",
       "      <td>0</td>\n",
       "      <td>0</td>\n",
       "      <td>1</td>\n",
       "      <td>0</td>\n",
       "      <td>0</td>\n",
       "      <td>0</td>\n",
       "      <td>0</td>\n",
       "      <td>0</td>\n",
       "      <td>0</td>\n",
       "    </tr>\n",
       "    <tr>\n",
       "      <td>1</td>\n",
       "      <td>0</td>\n",
       "      <td>239</td>\n",
       "      <td>486</td>\n",
       "      <td>0</td>\n",
       "      <td>0</td>\n",
       "      <td>0</td>\n",
       "      <td>1</td>\n",
       "      <td>0</td>\n",
       "      <td>0</td>\n",
       "      <td>0</td>\n",
       "      <td>...</td>\n",
       "      <td>0</td>\n",
       "      <td>0</td>\n",
       "      <td>0</td>\n",
       "      <td>1</td>\n",
       "      <td>0</td>\n",
       "      <td>0</td>\n",
       "      <td>0</td>\n",
       "      <td>0</td>\n",
       "      <td>0</td>\n",
       "      <td>0</td>\n",
       "    </tr>\n",
       "    <tr>\n",
       "      <td>2</td>\n",
       "      <td>0</td>\n",
       "      <td>235</td>\n",
       "      <td>1337</td>\n",
       "      <td>0</td>\n",
       "      <td>0</td>\n",
       "      <td>0</td>\n",
       "      <td>1</td>\n",
       "      <td>0</td>\n",
       "      <td>0</td>\n",
       "      <td>0</td>\n",
       "      <td>...</td>\n",
       "      <td>0</td>\n",
       "      <td>0</td>\n",
       "      <td>0</td>\n",
       "      <td>1</td>\n",
       "      <td>0</td>\n",
       "      <td>0</td>\n",
       "      <td>0</td>\n",
       "      <td>0</td>\n",
       "      <td>0</td>\n",
       "      <td>0</td>\n",
       "    </tr>\n",
       "    <tr>\n",
       "      <td>3</td>\n",
       "      <td>0</td>\n",
       "      <td>219</td>\n",
       "      <td>1337</td>\n",
       "      <td>0</td>\n",
       "      <td>0</td>\n",
       "      <td>0</td>\n",
       "      <td>1</td>\n",
       "      <td>0</td>\n",
       "      <td>0</td>\n",
       "      <td>0</td>\n",
       "      <td>...</td>\n",
       "      <td>0</td>\n",
       "      <td>0</td>\n",
       "      <td>0</td>\n",
       "      <td>1</td>\n",
       "      <td>0</td>\n",
       "      <td>0</td>\n",
       "      <td>0</td>\n",
       "      <td>0</td>\n",
       "      <td>0</td>\n",
       "      <td>0</td>\n",
       "    </tr>\n",
       "    <tr>\n",
       "      <td>4</td>\n",
       "      <td>0</td>\n",
       "      <td>217</td>\n",
       "      <td>2032</td>\n",
       "      <td>0</td>\n",
       "      <td>0</td>\n",
       "      <td>0</td>\n",
       "      <td>1</td>\n",
       "      <td>0</td>\n",
       "      <td>0</td>\n",
       "      <td>0</td>\n",
       "      <td>...</td>\n",
       "      <td>0</td>\n",
       "      <td>0</td>\n",
       "      <td>0</td>\n",
       "      <td>1</td>\n",
       "      <td>0</td>\n",
       "      <td>0</td>\n",
       "      <td>0</td>\n",
       "      <td>0</td>\n",
       "      <td>0</td>\n",
       "      <td>0</td>\n",
       "    </tr>\n",
       "  </tbody>\n",
       "</table>\n",
       "<p>5 rows × 74 columns</p>\n",
       "</div>"
      ],
      "text/plain": [
       "   duration  src_bytes  dst_bytes  land  urgent  hot  logged_in  \\\n",
       "0         0        181       5450     0       0    0          1   \n",
       "1         0        239        486     0       0    0          1   \n",
       "2         0        235       1337     0       0    0          1   \n",
       "3         0        219       1337     0       0    0          1   \n",
       "4         0        217       2032     0       0    0          1   \n",
       "\n",
       "   num_compromised  root_shell  num_root  ...  flag_S1  flag_S2  flag_S3  \\\n",
       "0                0           0         0  ...        0        0        0   \n",
       "1                0           0         0  ...        0        0        0   \n",
       "2                0           0         0  ...        0        0        0   \n",
       "3                0           0         0  ...        0        0        0   \n",
       "4                0           0         0  ...        0        0        0   \n",
       "\n",
       "   flag_SF  num_failed_logins_1  num_failed_logins_2  num_failed_logins_3  \\\n",
       "0        1                    0                    0                    0   \n",
       "1        1                    0                    0                    0   \n",
       "2        1                    0                    0                    0   \n",
       "3        1                    0                    0                    0   \n",
       "4        1                    0                    0                    0   \n",
       "\n",
       "   num_failed_logins_4  su_attempted_1  su_attempted_2  \n",
       "0                    0               0               0  \n",
       "1                    0               0               0  \n",
       "2                    0               0               0  \n",
       "3                    0               0               0  \n",
       "4                    0               0               0  \n",
       "\n",
       "[5 rows x 74 columns]"
      ]
     },
     "execution_count": 9,
     "metadata": {},
     "output_type": "execute_result"
    }
   ],
   "source": [
    "# view dataframe shape after preprocessing\n",
    "print('dataset shape:{}'.format(df.shape))\n",
    "df.head()"
   ]
  },
  {
   "cell_type": "code",
   "execution_count": 10,
   "metadata": {},
   "outputs": [
    {
     "name": "stdout",
     "output_type": "stream",
     "text": [
      "features: ['duration' 'src_bytes' 'dst_bytes' 'land' 'urgent' 'hot' 'logged_in'\n",
      " 'num_compromised' 'root_shell' 'num_root' 'num_file_creations'\n",
      " 'num_shells' 'num_access_files' 'is_guest_login' 'count' 'srv_count'\n",
      " 'serror_rate' 'srv_serror_rate' 'rerror_rate' 'srv_rerror_rate'\n",
      " 'same_srv_rate' 'diff_srv_rate' 'srv_diff_host_rate' 'dst_host_count'\n",
      " 'dst_host_srv_count' 'dst_host_same_srv_rate' 'dst_host_diff_srv_rate'\n",
      " 'dst_host_same_src_port_rate' 'dst_host_srv_diff_host_rate'\n",
      " 'dst_host_serror_rate' 'dst_host_srv_serror_rate' 'dst_host_rerror_rate'\n",
      " 'dst_host_srv_rerror_rate' 'protocol_type_tcp' 'protocol_type_udp'\n",
      " 'service_X11' 'service_auth' 'service_domain' 'service_domain_u'\n",
      " 'service_eco_i' 'service_ecr_i' 'service_finger' 'service_ftp'\n",
      " 'service_ftp_data' 'service_http' 'service_ntp_u' 'service_other'\n",
      " 'service_pop_3' 'service_private' 'service_red_i' 'service_shell'\n",
      " 'service_smtp' 'service_ssh' 'service_telnet' 'service_tftp_u'\n",
      " 'service_tim_i' 'service_time' 'service_urh_i' 'service_urp_i' 'flag_REJ'\n",
      " 'flag_RSTO' 'flag_RSTR' 'flag_S0' 'flag_S1' 'flag_S2' 'flag_S3' 'flag_SF'\n",
      " 'num_failed_logins_1' 'num_failed_logins_2' 'num_failed_logins_3'\n",
      " 'num_failed_logins_4' 'su_attempted_1' 'su_attempted_2']\n",
      "\n",
      "# features: 73\n"
     ]
    }
   ],
   "source": [
    "# train/test split\n",
    "# stratify to ensure minority class representation in both sets\n",
    "y = df['Class'] # label\n",
    "X = df.loc[:, ~df.columns.isin(['Class'])] # features, use all but the target\n",
    "X_train, X_test, y_train, y_test = train_test_split(X, y, stratify=y, test_size=0.2, random_state=42)\n",
    "print('features: {}'.format(X.columns.values))\n",
    "print('\\n# features: {}'.format(len(X.columns.values)))"
   ]
  },
  {
   "cell_type": "code",
   "execution_count": 11,
   "metadata": {},
   "outputs": [],
   "source": [
    "# standardize numeric columns (z-score)\n",
    "# find continuous variables with greater than 2 unique values (non-binary)\n",
    "num_cols = X_train.columns[(X_train.nunique()>2)].to_list()\n",
    "scaler = StandardScaler().fit(X_train[num_cols])\n",
    "X_train = X_train.copy()\n",
    "X_test = X_test.copy()\n",
    "X_train[num_cols] = scaler.transform(X_train[num_cols])\n",
    "X_test[num_cols] = scaler.transform(X_test[num_cols])"
   ]
  },
  {
   "cell_type": "markdown",
   "metadata": {},
   "source": [
    "##### 2. Build a classifier"
   ]
  },
  {
   "cell_type": "code",
   "execution_count": 12,
   "metadata": {},
   "outputs": [
    {
     "name": "stdout",
     "output_type": "stream",
     "text": [
      "LogisticRegression(C=1.0, class_weight=None, dual=False, fit_intercept=True,\n",
      "                   intercept_scaling=1, l1_ratio=None, max_iter=100,\n",
      "                   multi_class='warn', n_jobs=None, penalty='l1',\n",
      "                   random_state=8, solver='liblinear', tol=0.0001, verbose=0,\n",
      "                   warm_start=False)\n",
      "\n",
      "sparsity with L1 penalty: 71.23%\n",
      "\n",
      "mean cross-validated recall (class 1): 0.6666666666666666\n"
     ]
    }
   ],
   "source": [
    "# logistic regression\n",
    "classifier = LogisticRegression(penalty='l1', solver='liblinear', random_state=8) \n",
    "print(classifier)\n",
    "classifier.fit(X_train, y_train) \n",
    "print('\\nsparsity with L1 penalty: {:.2f}%'.format(np.mean(classifier.coef_==0)*100))\n",
    "\n",
    "# 10-fold cross validation with StratifiedKFold\n",
    "# metric = recall on class 1 (minority class)\n",
    "skf = StratifiedKFold(n_splits=10, random_state=6)\n",
    "cv_scores = cross_val_score(classifier, X_train, y_train, cv=skf, scoring='recall') \n",
    "print('\\nmean cross-validated recall (class 1): {}'.format(np.mean(cv_scores)))\n",
    "\n",
    "# prediction\n",
    "y_prob = classifier.predict_proba(X_test) # probability estimates\n",
    "y_pred = classifier.predict(X_test) # predict class labels"
   ]
  },
  {
   "cell_type": "markdown",
   "metadata": {},
   "source": [
    "##### 3. Determine your model accuracy"
   ]
  },
  {
   "cell_type": "code",
   "execution_count": 13,
   "metadata": {},
   "outputs": [
    {
     "name": "stdout",
     "output_type": "stream",
     "text": [
      "\n",
      "Confusion Matrix (0.5 probability threshold):\n",
      "[[19455     1]\n",
      " [    2     4]]\n",
      "\n",
      "TP, TN, FP, FN: 4 , 19455 , 1 , 2\n",
      "\n",
      "Classification report:\n",
      "              precision    recall  f1-score   support\n",
      "\n",
      "           0       1.00      1.00      1.00     19456\n",
      "           1       0.80      0.67      0.73         6\n",
      "\n",
      "    accuracy                           1.00     19462\n",
      "   macro avg       0.90      0.83      0.86     19462\n",
      "weighted avg       1.00      1.00      1.00     19462\n",
      "\n"
     ]
    }
   ],
   "source": [
    "# evaluate model using confusion matrix-derived metrics\n",
    "print ('\\nConfusion Matrix (0.5 probability threshold):')\n",
    "print(confusion_matrix(y_test, y_pred)) \n",
    "tn, fp, fn, tp = confusion_matrix(y_test, y_pred).ravel()\n",
    "print ('\\nTP, TN, FP, FN:', tp, ',', tn, ',', fp, ',', fn)\n",
    "print ('\\nClassification report:')\n",
    "print(classification_report(y_test, y_pred))"
   ]
  },
  {
   "cell_type": "code",
   "execution_count": 14,
   "metadata": {},
   "outputs": [
    {
     "data": {
      "image/png": "[encoded data removed]",
      "text/plain": [
       "<Figure size 432x432 with 1 Axes>"
      ]
     },
     "metadata": {
      "needs_background": "light"
     },
     "output_type": "display_data"
    }
   ],
   "source": [
    "# Calculate the ROC curve and AUC\n",
    "# get false positive rate, true posisive rate, probability thresholds\n",
    "fpr, tpr, thrs = roc_curve(y_test, y_prob[:,1])\n",
    "# get area under the curve\n",
    "area_under_curve = auc(fpr, tpr)\n",
    "\n",
    "# plot ROC curve with AUC score\n",
    "plt.figure(figsize=[6,6])\n",
    "plt.title('ROC curve\\n'+type(classifier).__name__)\n",
    "plt.xlabel('False Positive Rate')\n",
    "plt.ylabel('True Positive Rate')\n",
    "plt.plot(fpr, tpr, label='ROC curve (AUC = %0.2f)' % area_under_curve)\n",
    "plt.plot([0, 1], [0, 1], c='gray', linestyle='--', label='random classifier')\n",
    "plt.legend(loc=\"lower right\")\n",
    "plt.show()"
   ]
  },
  {
   "cell_type": "markdown",
   "metadata": {},
   "source": [
    "#### Results/Model accuracy: <a name=\"1\"></a>\n",
    "\n",
    "In this dataset the classes are imbalanced. The model would attempt to reduce global quantities such as error rate (maximizing overall accuracy) and not take into consideration the data distribution. As a result, the model may be biased toward the majority class, where the samples from the majority class are well-classified and samples from the minority class tend to be misclassified. Therefore, accuracy is not a good metric. \n",
    "\n",
    "For detecting bad connections (minority class) an appropriate metric would be recall. That is, we would want to detect all the bad connections (trade off: false positives). Alternatively, the f1 score of the bad connections, also taking into account precision, could be used.\n",
    "\n",
    "Here, for detecting bad connections the model precision was 0.8, recall was 0.67, and f1-score was 0.73. To focus on the effect of data resampling, the probability threshold for classification was not modified from 0.5.\n",
    "\n",
    "As shown here, ROC curves could sometimes be misleading for imbalanced data. The ROC curve and AUC ROC here indicates an essentially perfect classifier, even though the model misclassified a considerable fraction (here, 2 out of 6) of the minority class.\n",
    "\n",
    "[Bottom of notebook](#bot)"
   ]
  },
  {
   "cell_type": "markdown",
   "metadata": {},
   "source": [
    "##### 4. Modify data by handling class imbalance\n",
    "SMOTE was used to oversample the minority class. By oversampling only on the training data, none of the information in the test data was being used to create synthetic observations. Therefore, no information will bleed from training to testing.\n",
    "\n",
    "Oversampling on both the training and test set may result in overfitting. Also, evaluation metrics on the oversampled test set will be less informative, as the oversampled test data will not be representative of unseen, real-world data.\n",
    "\n",
    "Importantly, the number of minority class in the test set was greater than zero."
   ]
  },
  {
   "cell_type": "code",
   "execution_count": 15,
   "metadata": {},
   "outputs": [
    {
     "name": "stdout",
     "output_type": "stream",
     "text": [
      "target value counts before SMOTE:\n",
      "0    77822\n",
      "1       24\n",
      "Name: Class, dtype: int64\n",
      "target value counts after SMOTE:\n",
      "1    77822\n",
      "0    77822\n",
      "dtype: int64\n"
     ]
    }
   ],
   "source": [
    "# use SMOTE to create synthetic observations of the minority class for the training set\n",
    "sm = SMOTE(random_state=1) # sampling strategy = resample all classes but the majority class\n",
    "X_train_res, y_train_res = sm.fit_sample(X_train, y_train)\n",
    "X_train_res = pd.DataFrame(data=X_train_res, columns=X_train.columns)\n",
    "y_train_res = pd.Series(y_train_res)\n",
    "\n",
    "print('target value counts before SMOTE:')\n",
    "print(y_train.value_counts())\n",
    "print('target value counts after SMOTE:')\n",
    "print(y_train_res.value_counts())"
   ]
  },
  {
   "cell_type": "markdown",
   "metadata": {},
   "source": [
    "##### 5. Use the same model on updated data"
   ]
  },
  {
   "cell_type": "code",
   "execution_count": 16,
   "metadata": {},
   "outputs": [
    {
     "name": "stdout",
     "output_type": "stream",
     "text": [
      "LogisticRegression(C=1.0, class_weight=None, dual=False, fit_intercept=True,\n",
      "                   intercept_scaling=1, l1_ratio=None, max_iter=100,\n",
      "                   multi_class='warn', n_jobs=None, penalty='l1',\n",
      "                   random_state=8, solver='liblinear', tol=0.0001, verbose=0,\n",
      "                   warm_start=False)\n",
      "\n",
      "sparsity with L1 penalty: 52.05%\n",
      "\n",
      "mean cross-validated recall (class 1): 1.0\n"
     ]
    }
   ],
   "source": [
    "# logistic regression, trained using balanced training set\n",
    "classifier = LogisticRegression(penalty='l1', solver='liblinear', random_state=8) \n",
    "print(classifier)\n",
    "classifier.fit(X_train_res, y_train_res)\n",
    "print('\\nsparsity with L1 penalty: {:.2f}%'.format(np.mean(classifier.coef_==0)*100))\n",
    "\n",
    "# 10-fold cross validation with StratifiedKFold\n",
    "# metric = recall on class 1 (minority class)\n",
    "skf = StratifiedKFold(n_splits=10, random_state=6)\n",
    "cv_scores_res = cross_val_score(classifier, X_train_res, y_train_res, cv=skf, scoring='recall') \n",
    "print('\\nmean cross-validated recall (class 1): {}'.format(np.mean(cv_scores_res)))\n",
    "\n",
    "# prediction\n",
    "y_prob_res = classifier.predict_proba(X_test) # probability estimates\n",
    "y_pred_res = classifier.predict(X_test) # predict class labels"
   ]
  },
  {
   "cell_type": "markdown",
   "metadata": {},
   "source": [
    "##### 6. What is the accuracy?"
   ]
  },
  {
   "cell_type": "code",
   "execution_count": 17,
   "metadata": {},
   "outputs": [
    {
     "name": "stdout",
     "output_type": "stream",
     "text": [
      "\n",
      "Confusion Matrix (0.5 probability threshold):\n",
      "[[19448     8]\n",
      " [    0     6]]\n",
      "\n",
      "TP, TN, FP, FN: 6 , 19448 , 8 , 0\n",
      "\n",
      "Classification report:\n",
      "              precision    recall  f1-score   support\n",
      "\n",
      "           0       1.00      1.00      1.00     19456\n",
      "           1       0.43      1.00      0.60         6\n",
      "\n",
      "    accuracy                           1.00     19462\n",
      "   macro avg       0.71      1.00      0.80     19462\n",
      "weighted avg       1.00      1.00      1.00     19462\n",
      "\n"
     ]
    }
   ],
   "source": [
    "# evaluate model using confusion matrix-derived metrics\n",
    "print ('\\nConfusion Matrix (0.5 probability threshold):')\n",
    "print(confusion_matrix(y_test, y_pred_res))\n",
    "tn, fp, fn, tp = confusion_matrix(y_test, y_pred_res).ravel()\n",
    "print ('\\nTP, TN, FP, FN:', tp, ',', tn, ',', fp, ',', fn)\n",
    "print ('\\nClassification report:')\n",
    "print(classification_report(y_test, y_pred_res))"
   ]
  },
  {
   "cell_type": "markdown",
   "metadata": {},
   "source": [
    "#### Results/Model accuracy: <a name=\"2\"></a>\n",
    "\n",
    "SMOTE was used to oversample the minority class on the training set. The retrained model was no longer biased toward any classes (but there may be some class mixture, due to the very sparse nature of the minority class with respect to the majority class). Using this retrained model on the original test set, recall = 1 and all bad connections were correctly classified, with no false negatives. However, this was at the expense of false positives, resulting in a lower precision (0.43) and f1-score (0.6).\n",
    "\n",
    "[Bottom of notebook](#bot)"
   ]
  },
  {
   "cell_type": "markdown",
   "metadata": {},
   "source": [
    "##### 7. Describe your findings<a name=\"bot\"></a>\n",
    "#### Please see discussion of results/model accuracy after each model/data prepration strategy:\n",
    "[Imbalanced classes, no oversampling](#1)<br>\n",
    "[Balanced by oversampling (creating synthetic samples) of the minority class in the training set](#2)<br>"
   ]
  }
 ],
 "metadata": {
  "kernelspec": {
   "display_name": "Python 3",
   "language": "python",
   "name": "python3"
  },
  "language_info": {
   "codemirror_mode": {
    "name": "ipython",
    "version": 3
   },
   "file_extension": ".py",
   "mimetype": "text/x-python",
   "name": "python",
   "nbconvert_exporter": "python",
   "pygments_lexer": "ipython3",
   "version": "3.7.4"
  }
 },
 "nbformat": 4,
 "nbformat_minor": 2
}
