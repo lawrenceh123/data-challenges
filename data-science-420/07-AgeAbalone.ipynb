{
 "cells": [
  {
   "cell_type": "markdown",
   "metadata": {},
   "source": [
    "### Lesson 7 Assignment - Age of Abalone\n",
    "### Lawrence Huang\n",
    "##### Instructions\n",
    "\n",
    "Using the Abalone csv file, create a new notebook to build an experiment using support vector machine classifier and regression. Perform each of the following tasks and answer the questions:\n",
    "\n",
    "1. Convert the continuous output value from continuous to binary (0,1) and build an SVC\n",
    "2. Using your best guess for hyperparameters and kernel, what is the percentage of correctly classified results?\n",
    "3. Test different kernels and hyperparameters or consider using sklearn.model_selection.SearchGridCV. Which kernel performed best with what settings?\n",
    "4. Show recall, precision and f-measure for the best model\n",
    "5. Using the original data, with rings as a continuous variable, create an SVR model\n",
    "6. Report on the predicted variance and the mean squared error"
   ]
  },
  {
   "cell_type": "code",
   "execution_count": 1,
   "metadata": {},
   "outputs": [],
   "source": [
    "# imports\n",
    "import pandas as pd\n",
    "import numpy as np\n",
    "import matplotlib.pyplot as plt\n",
    "%matplotlib inline\n",
    "from sklearn.model_selection import train_test_split\n",
    "from sklearn.preprocessing import StandardScaler\n",
    "from sklearn.svm import SVC, SVR\n",
    "from sklearn.metrics import confusion_matrix, classification_report, mean_squared_error, r2_score\n",
    "from sklearn.model_selection import GridSearchCV"
   ]
  },
  {
   "cell_type": "code",
   "execution_count": 2,
   "metadata": {},
   "outputs": [
    {
     "name": "stdout",
     "output_type": "stream",
     "text": [
      "dataset shape:(4177, 9)\n"
     ]
    },
    {
     "data": {
      "text/html": [
       "<div>\n",
       "<style scoped>\n",
       "    .dataframe tbody tr th:only-of-type {\n",
       "        vertical-align: middle;\n",
       "    }\n",
       "\n",
       "    .dataframe tbody tr th {\n",
       "        vertical-align: top;\n",
       "    }\n",
       "\n",
       "    .dataframe thead th {\n",
       "        text-align: right;\n",
       "    }\n",
       "</style>\n",
       "<table border=\"1\" class=\"dataframe\">\n",
       "  <thead>\n",
       "    <tr style=\"text-align: right;\">\n",
       "      <th></th>\n",
       "      <th>Sex</th>\n",
       "      <th>Length</th>\n",
       "      <th>Diameter</th>\n",
       "      <th>Height</th>\n",
       "      <th>Whole Weight</th>\n",
       "      <th>Shucked Weight</th>\n",
       "      <th>Viscera Weight</th>\n",
       "      <th>Shell Weight</th>\n",
       "      <th>Rings</th>\n",
       "    </tr>\n",
       "  </thead>\n",
       "  <tbody>\n",
       "    <tr>\n",
       "      <th>0</th>\n",
       "      <td>M</td>\n",
       "      <td>0.455</td>\n",
       "      <td>0.365</td>\n",
       "      <td>0.095</td>\n",
       "      <td>0.5140</td>\n",
       "      <td>0.2245</td>\n",
       "      <td>0.1010</td>\n",
       "      <td>0.150</td>\n",
       "      <td>15</td>\n",
       "    </tr>\n",
       "    <tr>\n",
       "      <th>1</th>\n",
       "      <td>M</td>\n",
       "      <td>0.350</td>\n",
       "      <td>0.265</td>\n",
       "      <td>0.090</td>\n",
       "      <td>0.2255</td>\n",
       "      <td>0.0995</td>\n",
       "      <td>0.0485</td>\n",
       "      <td>0.070</td>\n",
       "      <td>7</td>\n",
       "    </tr>\n",
       "    <tr>\n",
       "      <th>2</th>\n",
       "      <td>F</td>\n",
       "      <td>0.530</td>\n",
       "      <td>0.420</td>\n",
       "      <td>0.135</td>\n",
       "      <td>0.6770</td>\n",
       "      <td>0.2565</td>\n",
       "      <td>0.1415</td>\n",
       "      <td>0.210</td>\n",
       "      <td>9</td>\n",
       "    </tr>\n",
       "    <tr>\n",
       "      <th>3</th>\n",
       "      <td>M</td>\n",
       "      <td>0.440</td>\n",
       "      <td>0.365</td>\n",
       "      <td>0.125</td>\n",
       "      <td>0.5160</td>\n",
       "      <td>0.2155</td>\n",
       "      <td>0.1140</td>\n",
       "      <td>0.155</td>\n",
       "      <td>10</td>\n",
       "    </tr>\n",
       "    <tr>\n",
       "      <th>4</th>\n",
       "      <td>I</td>\n",
       "      <td>0.330</td>\n",
       "      <td>0.255</td>\n",
       "      <td>0.080</td>\n",
       "      <td>0.2050</td>\n",
       "      <td>0.0895</td>\n",
       "      <td>0.0395</td>\n",
       "      <td>0.055</td>\n",
       "      <td>7</td>\n",
       "    </tr>\n",
       "  </tbody>\n",
       "</table>\n",
       "</div>"
      ],
      "text/plain": [
       "  Sex  Length  Diameter  Height  Whole Weight  Shucked Weight  Viscera Weight  \\\n",
       "0   M   0.455     0.365   0.095        0.5140          0.2245          0.1010   \n",
       "1   M   0.350     0.265   0.090        0.2255          0.0995          0.0485   \n",
       "2   F   0.530     0.420   0.135        0.6770          0.2565          0.1415   \n",
       "3   M   0.440     0.365   0.125        0.5160          0.2155          0.1140   \n",
       "4   I   0.330     0.255   0.080        0.2050          0.0895          0.0395   \n",
       "\n",
       "   Shell Weight  Rings  \n",
       "0         0.150     15  \n",
       "1         0.070      7  \n",
       "2         0.210      9  \n",
       "3         0.155     10  \n",
       "4         0.055      7  "
      ]
     },
     "execution_count": 2,
     "metadata": {},
     "output_type": "execute_result"
    }
   ],
   "source": [
    "# load dataset\n",
    "fn = 'https://library.startlearninglabs.uw.edu/DATASCI420/2019/Datasets/Abalone.csv'\n",
    "df = pd.read_csv(fn)\n",
    "# preview data\n",
    "print('dataset shape:{}'.format(df.shape))\n",
    "df.head()"
   ]
  },
  {
   "cell_type": "code",
   "execution_count": 3,
   "metadata": {},
   "outputs": [
    {
     "name": "stdout",
     "output_type": "stream",
     "text": [
      "<class 'pandas.core.frame.DataFrame'>\n",
      "RangeIndex: 4177 entries, 0 to 4176\n",
      "Data columns (total 9 columns):\n",
      "Sex               4177 non-null object\n",
      "Length            4177 non-null float64\n",
      "Diameter          4177 non-null float64\n",
      "Height            4177 non-null float64\n",
      "Whole Weight      4177 non-null float64\n",
      "Shucked Weight    4177 non-null float64\n",
      "Viscera Weight    4177 non-null float64\n",
      "Shell Weight      4177 non-null float64\n",
      "Rings             4177 non-null int64\n",
      "dtypes: float64(7), int64(1), object(1)\n",
      "memory usage: 293.8+ KB\n",
      "None\n",
      "\n",
      "Missing values by column:\n",
      "Sex               0\n",
      "Length            0\n",
      "Diameter          0\n",
      "Height            0\n",
      "Whole Weight      0\n",
      "Shucked Weight    0\n",
      "Viscera Weight    0\n",
      "Shell Weight      0\n",
      "Rings             0\n",
      "dtype: int64\n",
      "\n",
      "Distribution of Sex:\n",
      "M    1528\n",
      "I    1342\n",
      "F    1307\n",
      "Name: Sex, dtype: int64\n",
      "Total: 4177\n"
     ]
    }
   ],
   "source": [
    "# view data info: all columns numeric except Sex\n",
    "print(df.info())\n",
    "\n",
    "# per data source, original data examples with missing values were removed\n",
    "# confirmed no missing numeric values\n",
    "print('\\nMissing values by column:\\n{}'.format(df.isna().sum()))\n",
    "\n",
    "# confirmed no missing values in Sex\n",
    "print('\\nDistribution of Sex:\\n{}'.format(df['Sex'].value_counts()))\n",
    "print('Total: {}'.format(df['Sex'].value_counts().sum()))"
   ]
  },
  {
   "cell_type": "code",
   "execution_count": 4,
   "metadata": {},
   "outputs": [
    {
     "name": "stdout",
     "output_type": "stream",
     "text": [
      "# unique values/levels:\n",
      "Sex                  3\n",
      "Length             134\n",
      "Diameter           111\n",
      "Height              51\n",
      "Whole Weight      2429\n",
      "Shucked Weight    1515\n",
      "Viscera Weight     880\n",
      "Shell Weight       926\n",
      "Rings               28\n",
      "dtype: int64\n"
     ]
    }
   ],
   "source": [
    "# view number of unique values/levels\n",
    "print('# unique values/levels:\\n{}'.format(df.nunique()))"
   ]
  },
  {
   "cell_type": "code",
   "execution_count": 5,
   "metadata": {},
   "outputs": [
    {
     "data": {
      "text/html": [
       "<div>\n",
       "<style scoped>\n",
       "    .dataframe tbody tr th:only-of-type {\n",
       "        vertical-align: middle;\n",
       "    }\n",
       "\n",
       "    .dataframe tbody tr th {\n",
       "        vertical-align: top;\n",
       "    }\n",
       "\n",
       "    .dataframe thead th {\n",
       "        text-align: right;\n",
       "    }\n",
       "</style>\n",
       "<table border=\"1\" class=\"dataframe\">\n",
       "  <thead>\n",
       "    <tr style=\"text-align: right;\">\n",
       "      <th></th>\n",
       "      <th>Length</th>\n",
       "      <th>Diameter</th>\n",
       "      <th>Height</th>\n",
       "      <th>Whole Weight</th>\n",
       "      <th>Shucked Weight</th>\n",
       "      <th>Viscera Weight</th>\n",
       "      <th>Shell Weight</th>\n",
       "    </tr>\n",
       "  </thead>\n",
       "  <tbody>\n",
       "    <tr>\n",
       "      <th>mean</th>\n",
       "      <td>0.523992</td>\n",
       "      <td>0.407881</td>\n",
       "      <td>0.139516</td>\n",
       "      <td>0.828742</td>\n",
       "      <td>0.359367</td>\n",
       "      <td>0.180594</td>\n",
       "      <td>0.238831</td>\n",
       "    </tr>\n",
       "    <tr>\n",
       "      <th>std</th>\n",
       "      <td>0.120093</td>\n",
       "      <td>0.099240</td>\n",
       "      <td>0.041827</td>\n",
       "      <td>0.490389</td>\n",
       "      <td>0.221963</td>\n",
       "      <td>0.109614</td>\n",
       "      <td>0.139203</td>\n",
       "    </tr>\n",
       "    <tr>\n",
       "      <th>min</th>\n",
       "      <td>0.075000</td>\n",
       "      <td>0.055000</td>\n",
       "      <td>0.000000</td>\n",
       "      <td>0.002000</td>\n",
       "      <td>0.001000</td>\n",
       "      <td>0.000500</td>\n",
       "      <td>0.001500</td>\n",
       "    </tr>\n",
       "    <tr>\n",
       "      <th>max</th>\n",
       "      <td>0.815000</td>\n",
       "      <td>0.650000</td>\n",
       "      <td>1.130000</td>\n",
       "      <td>2.825500</td>\n",
       "      <td>1.488000</td>\n",
       "      <td>0.760000</td>\n",
       "      <td>1.005000</td>\n",
       "    </tr>\n",
       "  </tbody>\n",
       "</table>\n",
       "</div>"
      ],
      "text/plain": [
       "        Length  Diameter    Height  Whole Weight  Shucked Weight  \\\n",
       "mean  0.523992  0.407881  0.139516      0.828742        0.359367   \n",
       "std   0.120093  0.099240  0.041827      0.490389        0.221963   \n",
       "min   0.075000  0.055000  0.000000      0.002000        0.001000   \n",
       "max   0.815000  0.650000  1.130000      2.825500        1.488000   \n",
       "\n",
       "      Viscera Weight  Shell Weight  \n",
       "mean        0.180594      0.238831  \n",
       "std         0.109614      0.139203  \n",
       "min         0.000500      0.001500  \n",
       "max         0.760000      1.005000  "
      ]
     },
     "execution_count": 5,
     "metadata": {},
     "output_type": "execute_result"
    }
   ],
   "source": [
    "# Per data source, the ranges of the continuous values have been scaled (by dividing by 200) for use with machine learning algorithms such as SVMs\n",
    "# confirm features are on the same scale\n",
    "num_cols = df.select_dtypes(include=['int64', 'float64']).columns.to_list()\n",
    "num_cols = [xx for xx in num_cols if xx != 'Rings']\n",
    "df[num_cols].describe().loc[['mean', 'std', 'min', 'max'],:]"
   ]
  },
  {
   "cell_type": "markdown",
   "metadata": {},
   "source": [
    "##### 1. Convert the continuous output value from continuous to binary (0,1) and build an SVC\n",
    "Per instructions: Target = Rings. Assign samples that are younger than 11 years old to class: 0 and those that are older to class: 1"
   ]
  },
  {
   "cell_type": "code",
   "execution_count": 6,
   "metadata": {},
   "outputs": [
    {
     "name": "stdout",
     "output_type": "stream",
     "text": [
      "Bin distribution:\n",
      "0    3217\n",
      "1     960\n",
      "Name: Class, dtype: int64\n",
      "\n",
      "Bin distribution (%):\n",
      "0    0.77017\n",
      "1    0.22983\n",
      "Name: Class, dtype: float64\n",
      "\n",
      "Total observations after binning: 4177\n"
     ]
    }
   ],
   "source": [
    "# convert Rings to binary\n",
    "# 77/23 class distribution. Will keep an eye on the classification results as there is class imbalance\n",
    "df['Class'] = pd.cut(df['Rings'], bins=[0, 11, np.max(df['Rings'])], labels=[0, 1], include_lowest=True)\n",
    "print('Bin distribution:\\n{}'.format(df['Class'].value_counts()))\n",
    "print('\\nBin distribution (%):\\n{}'.format(df['Class'].value_counts()/len(df['Class'])))\n",
    "print('\\nTotal observations after binning: {}'.format(df['Class'].value_counts().sum()))"
   ]
  },
  {
   "cell_type": "markdown",
   "metadata": {},
   "source": [
    "##### Results (1):\n",
    "Continuous output variable Rings was coverted to binary variable Class for use with SVC."
   ]
  },
  {
   "cell_type": "code",
   "execution_count": 7,
   "metadata": {},
   "outputs": [
    {
     "name": "stdout",
     "output_type": "stream",
     "text": [
      "\n",
      "dataset shape after one hot encoding:(4177, 11)\n"
     ]
    },
    {
     "data": {
      "text/html": [
       "<div>\n",
       "<style scoped>\n",
       "    .dataframe tbody tr th:only-of-type {\n",
       "        vertical-align: middle;\n",
       "    }\n",
       "\n",
       "    .dataframe tbody tr th {\n",
       "        vertical-align: top;\n",
       "    }\n",
       "\n",
       "    .dataframe thead th {\n",
       "        text-align: right;\n",
       "    }\n",
       "</style>\n",
       "<table border=\"1\" class=\"dataframe\">\n",
       "  <thead>\n",
       "    <tr style=\"text-align: right;\">\n",
       "      <th></th>\n",
       "      <th>Length</th>\n",
       "      <th>Diameter</th>\n",
       "      <th>Height</th>\n",
       "      <th>Whole Weight</th>\n",
       "      <th>Shucked Weight</th>\n",
       "      <th>Viscera Weight</th>\n",
       "      <th>Shell Weight</th>\n",
       "      <th>Rings</th>\n",
       "      <th>Class</th>\n",
       "      <th>Sex_I</th>\n",
       "      <th>Sex_M</th>\n",
       "    </tr>\n",
       "  </thead>\n",
       "  <tbody>\n",
       "    <tr>\n",
       "      <th>0</th>\n",
       "      <td>0.455</td>\n",
       "      <td>0.365</td>\n",
       "      <td>0.095</td>\n",
       "      <td>0.5140</td>\n",
       "      <td>0.2245</td>\n",
       "      <td>0.1010</td>\n",
       "      <td>0.150</td>\n",
       "      <td>15</td>\n",
       "      <td>1</td>\n",
       "      <td>0</td>\n",
       "      <td>1</td>\n",
       "    </tr>\n",
       "    <tr>\n",
       "      <th>1</th>\n",
       "      <td>0.350</td>\n",
       "      <td>0.265</td>\n",
       "      <td>0.090</td>\n",
       "      <td>0.2255</td>\n",
       "      <td>0.0995</td>\n",
       "      <td>0.0485</td>\n",
       "      <td>0.070</td>\n",
       "      <td>7</td>\n",
       "      <td>0</td>\n",
       "      <td>0</td>\n",
       "      <td>1</td>\n",
       "    </tr>\n",
       "    <tr>\n",
       "      <th>2</th>\n",
       "      <td>0.530</td>\n",
       "      <td>0.420</td>\n",
       "      <td>0.135</td>\n",
       "      <td>0.6770</td>\n",
       "      <td>0.2565</td>\n",
       "      <td>0.1415</td>\n",
       "      <td>0.210</td>\n",
       "      <td>9</td>\n",
       "      <td>0</td>\n",
       "      <td>0</td>\n",
       "      <td>0</td>\n",
       "    </tr>\n",
       "    <tr>\n",
       "      <th>3</th>\n",
       "      <td>0.440</td>\n",
       "      <td>0.365</td>\n",
       "      <td>0.125</td>\n",
       "      <td>0.5160</td>\n",
       "      <td>0.2155</td>\n",
       "      <td>0.1140</td>\n",
       "      <td>0.155</td>\n",
       "      <td>10</td>\n",
       "      <td>0</td>\n",
       "      <td>0</td>\n",
       "      <td>1</td>\n",
       "    </tr>\n",
       "    <tr>\n",
       "      <th>4</th>\n",
       "      <td>0.330</td>\n",
       "      <td>0.255</td>\n",
       "      <td>0.080</td>\n",
       "      <td>0.2050</td>\n",
       "      <td>0.0895</td>\n",
       "      <td>0.0395</td>\n",
       "      <td>0.055</td>\n",
       "      <td>7</td>\n",
       "      <td>0</td>\n",
       "      <td>1</td>\n",
       "      <td>0</td>\n",
       "    </tr>\n",
       "  </tbody>\n",
       "</table>\n",
       "</div>"
      ],
      "text/plain": [
       "   Length  Diameter  Height  Whole Weight  Shucked Weight  Viscera Weight  \\\n",
       "0   0.455     0.365   0.095        0.5140          0.2245          0.1010   \n",
       "1   0.350     0.265   0.090        0.2255          0.0995          0.0485   \n",
       "2   0.530     0.420   0.135        0.6770          0.2565          0.1415   \n",
       "3   0.440     0.365   0.125        0.5160          0.2155          0.1140   \n",
       "4   0.330     0.255   0.080        0.2050          0.0895          0.0395   \n",
       "\n",
       "   Shell Weight  Rings Class  Sex_I  Sex_M  \n",
       "0         0.150     15     1      0      1  \n",
       "1         0.070      7     0      0      1  \n",
       "2         0.210      9     0      0      0  \n",
       "3         0.155     10     0      0      1  \n",
       "4         0.055      7     0      1      0  "
      ]
     },
     "execution_count": 7,
     "metadata": {},
     "output_type": "execute_result"
    }
   ],
   "source": [
    "# one hot encode categorical columns\n",
    "df = pd.get_dummies(df, columns=['Sex'], drop_first=True)\n",
    "\n",
    "# preview data\n",
    "print('\\ndataset shape after one hot encoding:{}'.format(df.shape))\n",
    "df.head()"
   ]
  },
  {
   "cell_type": "code",
   "execution_count": 8,
   "metadata": {},
   "outputs": [
    {
     "name": "stdout",
     "output_type": "stream",
     "text": [
      "features:\n",
      "['Length' 'Diameter' 'Height' 'Whole Weight' 'Shucked Weight'\n",
      " 'Viscera Weight' 'Shell Weight' 'Sex_I' 'Sex_M']\n",
      "\n",
      "# features: 9\n"
     ]
    }
   ],
   "source": [
    "# train/test split\n",
    "y = df['Class'] # label\n",
    "X = df.loc[:, ~df.columns.isin(['Class', 'Rings'])] # features, use all but the target\n",
    "X_train, X_test, y_train, y_test = train_test_split(X, y, stratify=y, test_size=0.2, random_state=5)\n",
    "print('features:\\n{}'.format(X.columns.values))\n",
    "print('\\n# features: {}'.format(len(X.columns.values)))"
   ]
  },
  {
   "cell_type": "markdown",
   "metadata": {},
   "source": [
    "##### 2. Using your best guess for hyperparameters and kernel, what is the percentage of correctly classified results?"
   ]
  },
  {
   "cell_type": "code",
   "execution_count": 9,
   "metadata": {},
   "outputs": [
    {
     "name": "stdout",
     "output_type": "stream",
     "text": [
      "\n",
      "Confusion Matrix:\n",
      "[[618  26]\n",
      " [115  77]]\n",
      "\n",
      "TP, TN, FP, FN: 77 , 618 , 26 , 115\n",
      "\n",
      "Classification report:\n",
      "              precision    recall  f1-score   support\n",
      "\n",
      "           0       0.84      0.96      0.90       644\n",
      "           1       0.75      0.40      0.52       192\n",
      "\n",
      "    accuracy                           0.83       836\n",
      "   macro avg       0.80      0.68      0.71       836\n",
      "weighted avg       0.82      0.83      0.81       836\n",
      "\n"
     ]
    }
   ],
   "source": [
    "# initial guess for hyperparameters and kernel\n",
    "cost = 10 # penalty parameter of the error term\n",
    "gamma = 0.2 # defines the influence of input vectors on the margins\n",
    "\n",
    "clf = SVC(C=cost, kernel='rbf', gamma=gamma, random_state=5).fit(X_train, y_train)\n",
    "y_pred_clf = clf.predict(X_test)\n",
    "\n",
    "# evaluate model using confusion matrix-derived metrics\n",
    "print ('\\nConfusion Matrix:')\n",
    "print(confusion_matrix(y_test, y_pred_clf)) \n",
    "tn, fp, fn, tp = confusion_matrix(y_test, y_pred_clf).ravel()\n",
    "print ('\\nTP, TN, FP, FN:', tp, ',', tn, ',', fp, ',', fn)\n",
    "print ('\\nClassification report:')\n",
    "print(classification_report(y_test, y_pred_clf))"
   ]
  },
  {
   "cell_type": "markdown",
   "metadata": {},
   "source": [
    "##### Results (2): \n",
    "Using initial kernel and hyperparameter guesses (kernel=rbf, C=10 and gamma=0.2), accuracy was 0.83. However, f1-score (and in particular recall) for Class 1 was low."
   ]
  },
  {
   "cell_type": "markdown",
   "metadata": {},
   "source": [
    "##### 3. Test different kernels and hyperparameters or consider using sklearn.model_selection.SearchGridCV. Which kernel performed best with what settings?"
   ]
  },
  {
   "cell_type": "code",
   "execution_count": 10,
   "metadata": {},
   "outputs": [
    {
     "name": "stdout",
     "output_type": "stream",
     "text": [
      "The following hyperparameters were tuned: ['C', 'kernel', 'gamma', 'class_weight']\n",
      "\n",
      "Fitting 3 folds for each of 72 candidates, totalling 216 fits\n"
     ]
    },
    {
     "name": "stderr",
     "output_type": "stream",
     "text": [
      "[Parallel(n_jobs=-1)]: Using backend LokyBackend with 4 concurrent workers.\n",
      "[Parallel(n_jobs=-1)]: Done  10 tasks      | elapsed:    1.5s\n",
      "[Parallel(n_jobs=-1)]: Done  64 tasks      | elapsed:    4.9s\n",
      "[Parallel(n_jobs=-1)]: Done 154 tasks      | elapsed:  1.1min\n",
      "[Parallel(n_jobs=-1)]: Done 216 out of 216 | elapsed: 12.3min finished\n"
     ]
    },
    {
     "data": {
      "text/plain": [
       "GridSearchCV(cv=3, error_score='raise-deprecating',\n",
       "             estimator=SVC(C=1.0, cache_size=200, class_weight=None, coef0=0.0,\n",
       "                           decision_function_shape='ovr', degree=3,\n",
       "                           gamma='auto_deprecated', kernel='rbf', max_iter=-1,\n",
       "                           probability=False, random_state=None, shrinking=True,\n",
       "                           tol=0.001, verbose=False),\n",
       "             iid=False, n_jobs=-1,\n",
       "             param_grid=[{'C': [10.0, 100.0, 1000.0, 10000.0],\n",
       "                          'class_weight': [None, 'balanced'],\n",
       "                          'gamma': [0.01, 'auto', 1, 'scale'],\n",
       "                          'kernel': ['poly', 'rbf']},\n",
       "                         {'C': [10.0, 100.0, 1000.0, 10000.0],\n",
       "                          'class_weight': [None, 'balanced'],\n",
       "                          'kernel': ['linear']}],\n",
       "             pre_dispatch='2*n_jobs', refit=True, return_train_score=False,\n",
       "             scoring='accuracy', verbose=5)"
      ]
     },
     "execution_count": 10,
     "metadata": {},
     "output_type": "execute_result"
    }
   ],
   "source": [
    "# grid search parameters\n",
    "parameters = [\n",
    "    {'C': [1e1, 1e2, 1e3, 1e4], 'kernel': ['poly', 'rbf'], 'gamma': [0.01, 'auto', 1, 'scale'], 'class_weight': [None, 'balanced']},\n",
    "    {'C': [1e1, 1e2, 1e3, 1e4], 'kernel': ['linear'], 'class_weight': [None, 'balanced']}\n",
    "]\n",
    "print('The following hyperparameters were tuned: {}\\n'.format(list(parameters[0].keys())))\n",
    "\n",
    "# grid search, fit with best estimator\n",
    "gsc = GridSearchCV(estimator=SVC(),\n",
    "                      param_grid=parameters, iid=False, cv=3, scoring='accuracy', n_jobs=-1, verbose=5)\n",
    "gsc.fit(X_train, y_train)"
   ]
  },
  {
   "cell_type": "code",
   "execution_count": 11,
   "metadata": {},
   "outputs": [
    {
     "name": "stdout",
     "output_type": "stream",
     "text": [
      "Best tuned estimator:\n",
      "SVC(C=100.0, cache_size=200, class_weight=None, coef0=0.0,\n",
      "    decision_function_shape='ovr', degree=3, gamma='auto', kernel='rbf',\n",
      "    max_iter=-1, probability=False, random_state=None, shrinking=True,\n",
      "    tol=0.001, verbose=False)\n",
      "\n",
      "Of the hyperparameters tested, best performing kernel: rbf\n",
      "Best hyperparameters: {'C': 100.0, 'class_weight': None, 'gamma': 'auto', 'kernel': 'rbf'}\n"
     ]
    }
   ],
   "source": [
    "# best tuned estimator and hyperparameters\n",
    "print('Best tuned estimator:\\n{}'.format(gsc.best_estimator_))\n",
    "print('\\nOf the hyperparameters tested, best performing kernel: {}'.format(gsc.best_params_['kernel']))\n",
    "print('Best hyperparameters: {}'.format(gsc.best_params_))"
   ]
  },
  {
   "cell_type": "markdown",
   "metadata": {},
   "source": [
    "##### Results (3):\n",
    "The best-performing kernel and hyperparameter settings are shown in the above cell."
   ]
  },
  {
   "cell_type": "markdown",
   "metadata": {},
   "source": [
    "##### 4. Show recall, precision and f-measure for the best model"
   ]
  },
  {
   "cell_type": "code",
   "execution_count": 12,
   "metadata": {},
   "outputs": [
    {
     "name": "stdout",
     "output_type": "stream",
     "text": [
      "Tuned SVC\n",
      "\n",
      "Confusion Matrix:\n",
      "[[616  28]\n",
      " [110  82]]\n",
      "\n",
      "TP, TN, FP, FN: 82 , 616 , 28 , 110\n",
      "\n",
      "Classification report:\n",
      "              precision    recall  f1-score   support\n",
      "\n",
      "           0       0.85      0.96      0.90       644\n",
      "           1       0.75      0.43      0.54       192\n",
      "\n",
      "    accuracy                           0.83       836\n",
      "   macro avg       0.80      0.69      0.72       836\n",
      "weighted avg       0.82      0.83      0.82       836\n",
      "\n"
     ]
    }
   ],
   "source": [
    "# prediction\n",
    "y_pred_gsc = gsc.predict(X_test)\n",
    "\n",
    "# evaluate model using confusion matrix-derived metrics\n",
    "print('Tuned SVC')\n",
    "print ('\\nConfusion Matrix:')\n",
    "print(confusion_matrix(y_test, y_pred_gsc)) \n",
    "tn, fp, fn, tp = confusion_matrix(y_test, y_pred_gsc).ravel()\n",
    "print ('\\nTP, TN, FP, FN:', tp, ',', tn, ',', fp, ',', fn)\n",
    "print ('\\nClassification report:')\n",
    "print(classification_report(y_test, y_pred_gsc))"
   ]
  },
  {
   "cell_type": "markdown",
   "metadata": {},
   "source": [
    "##### Results (4):\n",
    "Recall, precision, and f1-score for the best model are shown in the above cell.\n",
    "\n",
    "While overall accuracy was not changed compared to the initial model, the best model produced a slight improvement in recall and f1-score for Class 1."
   ]
  },
  {
   "cell_type": "markdown",
   "metadata": {},
   "source": [
    "##### 5. Using the original data, with rings as a continuous variable, create an SVR model"
   ]
  },
  {
   "cell_type": "code",
   "execution_count": 13,
   "metadata": {},
   "outputs": [
    {
     "name": "stdout",
     "output_type": "stream",
     "text": [
      "features:\n",
      "['Length' 'Diameter' 'Height' 'Whole Weight' 'Shucked Weight'\n",
      " 'Viscera Weight' 'Shell Weight' 'Sex_I' 'Sex_M']\n",
      "\n",
      "# features: 9\n"
     ]
    }
   ],
   "source": [
    "# train/test split\n",
    "y = df['Rings'] # target\n",
    "X = df.loc[:, ~df.columns.isin(['Class', 'Rings'])] # features, use all but the target\n",
    "X_train, X_test, y_train, y_test = train_test_split(X, y, test_size=0.2, random_state=5)\n",
    "print('features:\\n{}'.format(X.columns.values))\n",
    "print('\\n# features: {}'.format(len(X.columns.values)))"
   ]
  },
  {
   "cell_type": "code",
   "execution_count": 14,
   "metadata": {},
   "outputs": [
    {
     "name": "stdout",
     "output_type": "stream",
     "text": [
      "SVR model:\n",
      "SVR(C=100, cache_size=200, coef0=0.0, degree=3, epsilon=0.1, gamma=0.2,\n",
      "    kernel='rbf', max_iter=-1, shrinking=True, tol=0.001, verbose=False)\n"
     ]
    }
   ],
   "source": [
    "# initial guess for hyperparameters and kernel\n",
    "cost = 100 # penalty parameter of the error term\n",
    "gamma = 0.2 # defines the influence of input vectors on the margins\n",
    "regressor = SVR(C=cost, kernel='rbf', gamma=gamma).fit(X_train, y_train)\n",
    "print('SVR model:\\n{}'.format(regressor))"
   ]
  },
  {
   "cell_type": "markdown",
   "metadata": {},
   "source": [
    "##### 6. Report on the predicted variance and the mean squared error"
   ]
  },
  {
   "cell_type": "code",
   "execution_count": 15,
   "metadata": {},
   "outputs": [
    {
     "name": "stdout",
     "output_type": "stream",
     "text": [
      "Initial SVR model:\n",
      "\n",
      "Model explained variance (R2 train): 0.575\n",
      "Adjusted R2 train: 0.574\n",
      "\n",
      "MSE test: 4.881\n"
     ]
    }
   ],
   "source": [
    "# prediction\n",
    "y_pred_regressor = regressor.predict(X_test) # test set\n",
    "y_pred_regressor_train = regressor.predict(X_train) # train set\n",
    "\n",
    "# compute R2, adjusted R2 for model using train set\n",
    "ntrain = X_train.shape[0]\n",
    "ptrain = X_train.shape[1]\n",
    "R2_regressor_train = r2_score(y_train, y_pred_regressor_train)\n",
    "adjR2_regressor_train = 1-(1-R2_regressor_train)*(ntrain-1)/(ntrain-ptrain-1)\n",
    "\n",
    "# MSE on test set\n",
    "MSE_regressor = mean_squared_error(y_test, y_pred_regressor)\n",
    "\n",
    "print('Initial SVR model:')\n",
    "print('\\nModel explained variance (R2 train): {:.3f}'.format(R2_regressor_train))\n",
    "print('Adjusted R2 train: {:.3f}'.format(adjR2_regressor_train))\n",
    "print('\\nMSE test: {:.3f}'.format(MSE_regressor))"
   ]
  },
  {
   "cell_type": "code",
   "execution_count": 16,
   "metadata": {},
   "outputs": [
    {
     "data": {
      "image/png": "[encoded data removed]",
      "text/plain": [
       "<Figure size 432x288 with 1 Axes>"
      ]
     },
     "metadata": {
      "needs_background": "light"
     },
     "output_type": "display_data"
    }
   ],
   "source": [
    "# visualize predicted vs. actual Rings\n",
    "fig, ax = plt.subplots()\n",
    "ax.scatter(y_test, y_pred_regressor, alpha=0.1)\n",
    "lims = [np.min([ax.get_xlim(), ax.get_ylim()]), np.max([ax.get_xlim(), ax.get_ylim()])]\n",
    "ax.plot(lims, lims, 'k-', alpha=0.75, zorder=10, label='Predicted = Actual')\n",
    "ax.set_xlabel('Actual Rings')\n",
    "ax.set_ylabel('Predicted Rings')\n",
    "ax.set_title('Predicted vs. actual Rings')\n",
    "ax.set_aspect('equal')\n",
    "ax.legend()\n",
    "ax.grid()\n",
    "plt.show()"
   ]
  },
  {
   "cell_type": "markdown",
   "metadata": {},
   "source": [
    "##### Try tuning SVR hyperparameters"
   ]
  },
  {
   "cell_type": "code",
   "execution_count": 17,
   "metadata": {},
   "outputs": [
    {
     "name": "stdout",
     "output_type": "stream",
     "text": [
      "The following hyperparameters were tuned:\n",
      "['C', 'kernel', 'gamma', 'epsilon']\n",
      "Fitting 3 folds for each of 180 candidates, totalling 540 fits\n"
     ]
    },
    {
     "name": "stderr",
     "output_type": "stream",
     "text": [
      "[Parallel(n_jobs=-1)]: Using backend LokyBackend with 4 concurrent workers.\n",
      "[Parallel(n_jobs=-1)]: Done  12 tasks      | elapsed:    0.8s\n",
      "[Parallel(n_jobs=-1)]: Done 120 tasks      | elapsed:    5.5s\n",
      "[Parallel(n_jobs=-1)]: Done 256 tasks      | elapsed:  1.1min\n",
      "[Parallel(n_jobs=-1)]: Done 382 tasks      | elapsed: 15.5min\n",
      "[Parallel(n_jobs=-1)]: Done 540 out of 540 | elapsed: 65.1min finished\n"
     ]
    },
    {
     "data": {
      "text/plain": [
       "GridSearchCV(cv=3, error_score='raise-deprecating',\n",
       "             estimator=SVR(C=1.0, cache_size=200, coef0=0.0, degree=3,\n",
       "                           epsilon=0.1, gamma='auto_deprecated', kernel='rbf',\n",
       "                           max_iter=-1, shrinking=True, tol=0.001,\n",
       "                           verbose=False),\n",
       "             iid=False, n_jobs=-1,\n",
       "             param_grid=[{'C': [10.0, 100.0, 1000.0, 10000.0],\n",
       "                          'epsilon': [0.01, 0.1, 1, 2, 5],\n",
       "                          'gamma': [0.01, 'auto', 1, 'scale'],\n",
       "                          'kernel': ['poly', 'rbf']},\n",
       "                         {'C': [10.0, 100.0, 1000.0, 10000.0],\n",
       "                          'epsilon': [0.01, 0.1, 1, 2, 5],\n",
       "                          'kernel': ['linear']}],\n",
       "             pre_dispatch='2*n_jobs', refit=True, return_train_score=False,\n",
       "             scoring=None, verbose=5)"
      ]
     },
     "execution_count": 17,
     "metadata": {},
     "output_type": "execute_result"
    }
   ],
   "source": [
    "# grid search parameters\n",
    "parameters = [\n",
    "    {'C': [1e1, 1e2, 1e3, 1e4], 'kernel': ['poly', 'rbf'], 'gamma': [0.01, 'auto', 1, 'scale'], 'epsilon': [0.01, 0.1, 1, 2, 5]},\n",
    "    {'C': [1e1, 1e2, 1e3, 1e4], 'kernel': ['linear'], 'epsilon': [0.01, 0.1, 1, 2, 5]}\n",
    "]\n",
    "print('The following hyperparameters were tuned:\\n{}'.format(list(parameters[0].keys())))\n",
    "\n",
    "# grid search, fit with best estimator\n",
    "gsr = GridSearchCV(estimator=SVR(),\n",
    "                      param_grid=parameters, iid=False, cv=3, n_jobs=-1, verbose=5)\n",
    "gsr.fit(X_train, y_train)"
   ]
  },
  {
   "cell_type": "code",
   "execution_count": 18,
   "metadata": {},
   "outputs": [
    {
     "name": "stdout",
     "output_type": "stream",
     "text": [
      "Best tuned estimator:\n",
      "SVR(C=10000.0, cache_size=200, coef0=0.0, degree=3, epsilon=2, gamma='auto',\n",
      "    kernel='rbf', max_iter=-1, shrinking=True, tol=0.001, verbose=False)\n",
      "\n",
      "Of the hyperparameters tested, best performing kernel: rbf\n",
      "Best hyperparameters: {'C': 10000.0, 'epsilon': 2, 'gamma': 'auto', 'kernel': 'rbf'}\n"
     ]
    }
   ],
   "source": [
    "# best tuned estimator and hyperparameters\n",
    "print('Best tuned estimator:\\n{}'.format(gsr.best_estimator_))\n",
    "print('\\nOf the hyperparameters tested, best performing kernel: {}'.format(gsr.best_params_['kernel']))\n",
    "print('Best hyperparameters: {}'.format(gsr.best_params_))"
   ]
  },
  {
   "cell_type": "code",
   "execution_count": 19,
   "metadata": {},
   "outputs": [
    {
     "name": "stdout",
     "output_type": "stream",
     "text": [
      "Tuned SVR model:\n",
      "\n",
      "Model explained variance (R2 train): 0.598\n",
      "Adjusted R2 train: 0.596\n",
      "\n",
      "MSE test: 4.760\n"
     ]
    }
   ],
   "source": [
    "# prediction\n",
    "y_pred_gsr = gsr.predict(X_test) # test set\n",
    "y_pred_gsr_train = gsr.predict(X_train) # train set\n",
    "\n",
    "# compute R2, adjusted R2 for model using train set\n",
    "ntrain = X_train.shape[0]\n",
    "ptrain = X_train.shape[1]\n",
    "R2_gsr_train = r2_score(y_train, y_pred_gsr_train)\n",
    "adjR2_gsr_train = 1-(1-R2_gsr_train)*(ntrain-1)/(ntrain-ptrain-1)\n",
    "\n",
    "# MSE on test set\n",
    "MSE_gsr = mean_squared_error(y_test, y_pred_gsr)\n",
    "\n",
    "print('Tuned SVR model:')\n",
    "print('\\nModel explained variance (R2 train): {:.3f}'.format(R2_gsr_train))\n",
    "print('Adjusted R2 train: {:.3f}'.format(adjR2_gsr_train))\n",
    "print('\\nMSE test: {:.3f}'.format(MSE_gsr))"
   ]
  },
  {
   "cell_type": "code",
   "execution_count": 20,
   "metadata": {},
   "outputs": [
    {
     "name": "stdout",
     "output_type": "stream",
     "text": [
      "Using SVR with initial kernel and hyperparameter guesses: kernel=rbf, C=100, gamma=0.2, epsilon=0.1:\n",
      "Model explained variance/R2 was 0.575 and MSE test was 4.881\n",
      "\n",
      "Using a tuned SVR with: kernel=rbf, C=10000, gamma=auto, epsilon=2:\n",
      "Model explained variance/R2 was 0.598 and MSE test was 4.760\n"
     ]
    }
   ],
   "source": [
    "print('Using SVR with initial kernel and hyperparameter guesses: kernel={}, C={:.0f}, gamma={}, epsilon={}:'.format(\n",
    "    regressor.kernel, regressor.C, regressor.gamma, regressor.epsilon))\n",
    "print('Model explained variance/R2 was {:.3f} and MSE test was {:.3f}'.format(\n",
    "    R2_regressor_train, MSE_regressor))\n",
    "\n",
    "print('\\nUsing a tuned SVR with: kernel={}, C={:.0f}, gamma={}, epsilon={}:'.format(\n",
    "    gsr.best_estimator_.kernel, gsr.best_estimator_.C, gsr.best_estimator_.gamma, gsr.best_estimator_.epsilon))\n",
    "print('Model explained variance/R2 was {:.3f} and MSE test was {:.3f}'.format(\n",
    "    R2_gsr_train, MSE_gsr))\n"
   ]
  },
  {
   "cell_type": "markdown",
   "metadata": {},
   "source": [
    "##### Results (5, 6):\n",
    "Results are shown in the above cell. A SVR model was constructed to predict the continuous target Rings. Tuning the SVR slightly increased explained variance and slightly decreased MSE."
   ]
  }
 ],
 "metadata": {
  "kernelspec": {
   "display_name": "Python 3",
   "language": "python",
   "name": "python3"
  },
  "language_info": {
   "codemirror_mode": {
    "name": "ipython",
    "version": 3
   },
   "file_extension": ".py",
   "mimetype": "text/x-python",
   "name": "python",
   "nbconvert_exporter": "python",
   "pygments_lexer": "ipython3",
   "version": "3.7.4"
  }
 },
 "nbformat": 4,
 "nbformat_minor": 2
}
