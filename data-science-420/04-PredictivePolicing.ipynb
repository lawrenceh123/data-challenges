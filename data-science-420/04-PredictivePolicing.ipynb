{
 "cells": [
  {
   "cell_type": "markdown",
   "metadata": {},
   "source": [
    "### Lesson 4 Assignment: Predictive Policing\n",
    "### Lawrence Huang\n",
    "\n",
    "#### Instructions\n",
    "Using the Communities and Crime dataset, create a new notebook and perform each of the following tasks and answer the related questions:\n",
    "\n",
    "1. Read data.\n",
    "2. Apply three techniques for feature selection: Filter methods, Wrapper methods, Embedded methods.\n",
    "3. Describe your findings."
   ]
  },
  {
   "cell_type": "code",
   "execution_count": 1,
   "metadata": {},
   "outputs": [],
   "source": [
    "# Imports\n",
    "import numpy as np\n",
    "import pandas as pd\n",
    "from sklearn.feature_selection import mutual_info_regression, SelectKBest, RFECV\n",
    "from sklearn.model_selection import train_test_split, cross_val_score\n",
    "from sklearn.linear_model import LinearRegression, LassoCV\n",
    "from sklearn.metrics import mean_squared_error\n",
    "import matplotlib.pyplot as plt\n",
    "%matplotlib inline\n",
    "import seaborn as sns"
   ]
  },
  {
   "cell_type": "markdown",
   "metadata": {},
   "source": [
    "##### 1. Read data."
   ]
  },
  {
   "cell_type": "code",
   "execution_count": 2,
   "metadata": {},
   "outputs": [
    {
     "name": "stdout",
     "output_type": "stream",
     "text": [
      "dataset shape:(1994, 128)\n"
     ]
    },
    {
     "data": {
      "text/html": [
       "<div>\n",
       "<style scoped>\n",
       "    .dataframe tbody tr th:only-of-type {\n",
       "        vertical-align: middle;\n",
       "    }\n",
       "\n",
       "    .dataframe tbody tr th {\n",
       "        vertical-align: top;\n",
       "    }\n",
       "\n",
       "    .dataframe thead th {\n",
       "        text-align: right;\n",
       "    }\n",
       "</style>\n",
       "<table border=\"1\" class=\"dataframe\">\n",
       "  <thead>\n",
       "    <tr style=\"text-align: right;\">\n",
       "      <th></th>\n",
       "      <th>state</th>\n",
       "      <th>county</th>\n",
       "      <th>community</th>\n",
       "      <th>communityname</th>\n",
       "      <th>fold</th>\n",
       "      <th>population</th>\n",
       "      <th>householdsize</th>\n",
       "      <th>racepctblack</th>\n",
       "      <th>racePctWhite</th>\n",
       "      <th>racePctAsian</th>\n",
       "      <th>...</th>\n",
       "      <th>LandArea</th>\n",
       "      <th>PopDens</th>\n",
       "      <th>PctUsePubTrans</th>\n",
       "      <th>PolicCars</th>\n",
       "      <th>PolicOperBudg</th>\n",
       "      <th>LemasPctPolicOnPatr</th>\n",
       "      <th>LemasGangUnitDeploy</th>\n",
       "      <th>LemasPctOfficDrugUn</th>\n",
       "      <th>PolicBudgPerPop</th>\n",
       "      <th>ViolentCrimesPerPop</th>\n",
       "    </tr>\n",
       "  </thead>\n",
       "  <tbody>\n",
       "    <tr>\n",
       "      <th>0</th>\n",
       "      <td>8</td>\n",
       "      <td>?</td>\n",
       "      <td>?</td>\n",
       "      <td>Lakewoodcity</td>\n",
       "      <td>1</td>\n",
       "      <td>0.19</td>\n",
       "      <td>0.33</td>\n",
       "      <td>0.02</td>\n",
       "      <td>0.90</td>\n",
       "      <td>0.12</td>\n",
       "      <td>...</td>\n",
       "      <td>0.12</td>\n",
       "      <td>0.26</td>\n",
       "      <td>0.20</td>\n",
       "      <td>0.06</td>\n",
       "      <td>0.04</td>\n",
       "      <td>0.9</td>\n",
       "      <td>0.5</td>\n",
       "      <td>0.32</td>\n",
       "      <td>0.14</td>\n",
       "      <td>0.20</td>\n",
       "    </tr>\n",
       "    <tr>\n",
       "      <th>1</th>\n",
       "      <td>53</td>\n",
       "      <td>?</td>\n",
       "      <td>?</td>\n",
       "      <td>Tukwilacity</td>\n",
       "      <td>1</td>\n",
       "      <td>0.00</td>\n",
       "      <td>0.16</td>\n",
       "      <td>0.12</td>\n",
       "      <td>0.74</td>\n",
       "      <td>0.45</td>\n",
       "      <td>...</td>\n",
       "      <td>0.02</td>\n",
       "      <td>0.12</td>\n",
       "      <td>0.45</td>\n",
       "      <td>?</td>\n",
       "      <td>?</td>\n",
       "      <td>?</td>\n",
       "      <td>?</td>\n",
       "      <td>0.00</td>\n",
       "      <td>?</td>\n",
       "      <td>0.67</td>\n",
       "    </tr>\n",
       "    <tr>\n",
       "      <th>2</th>\n",
       "      <td>24</td>\n",
       "      <td>?</td>\n",
       "      <td>?</td>\n",
       "      <td>Aberdeentown</td>\n",
       "      <td>1</td>\n",
       "      <td>0.00</td>\n",
       "      <td>0.42</td>\n",
       "      <td>0.49</td>\n",
       "      <td>0.56</td>\n",
       "      <td>0.17</td>\n",
       "      <td>...</td>\n",
       "      <td>0.01</td>\n",
       "      <td>0.21</td>\n",
       "      <td>0.02</td>\n",
       "      <td>?</td>\n",
       "      <td>?</td>\n",
       "      <td>?</td>\n",
       "      <td>?</td>\n",
       "      <td>0.00</td>\n",
       "      <td>?</td>\n",
       "      <td>0.43</td>\n",
       "    </tr>\n",
       "    <tr>\n",
       "      <th>3</th>\n",
       "      <td>34</td>\n",
       "      <td>5</td>\n",
       "      <td>81440</td>\n",
       "      <td>Willingborotownship</td>\n",
       "      <td>1</td>\n",
       "      <td>0.04</td>\n",
       "      <td>0.77</td>\n",
       "      <td>1.00</td>\n",
       "      <td>0.08</td>\n",
       "      <td>0.12</td>\n",
       "      <td>...</td>\n",
       "      <td>0.02</td>\n",
       "      <td>0.39</td>\n",
       "      <td>0.28</td>\n",
       "      <td>?</td>\n",
       "      <td>?</td>\n",
       "      <td>?</td>\n",
       "      <td>?</td>\n",
       "      <td>0.00</td>\n",
       "      <td>?</td>\n",
       "      <td>0.12</td>\n",
       "    </tr>\n",
       "    <tr>\n",
       "      <th>4</th>\n",
       "      <td>42</td>\n",
       "      <td>95</td>\n",
       "      <td>6096</td>\n",
       "      <td>Bethlehemtownship</td>\n",
       "      <td>1</td>\n",
       "      <td>0.01</td>\n",
       "      <td>0.55</td>\n",
       "      <td>0.02</td>\n",
       "      <td>0.95</td>\n",
       "      <td>0.09</td>\n",
       "      <td>...</td>\n",
       "      <td>0.04</td>\n",
       "      <td>0.09</td>\n",
       "      <td>0.02</td>\n",
       "      <td>?</td>\n",
       "      <td>?</td>\n",
       "      <td>?</td>\n",
       "      <td>?</td>\n",
       "      <td>0.00</td>\n",
       "      <td>?</td>\n",
       "      <td>0.03</td>\n",
       "    </tr>\n",
       "  </tbody>\n",
       "</table>\n",
       "<p>5 rows × 128 columns</p>\n",
       "</div>"
      ],
      "text/plain": [
       "   state county community        communityname  fold  population  \\\n",
       "0      8      ?         ?         Lakewoodcity     1        0.19   \n",
       "1     53      ?         ?          Tukwilacity     1        0.00   \n",
       "2     24      ?         ?         Aberdeentown     1        0.00   \n",
       "3     34      5     81440  Willingborotownship     1        0.04   \n",
       "4     42     95      6096    Bethlehemtownship     1        0.01   \n",
       "\n",
       "   householdsize  racepctblack  racePctWhite  racePctAsian  ...  LandArea  \\\n",
       "0           0.33          0.02          0.90          0.12  ...      0.12   \n",
       "1           0.16          0.12          0.74          0.45  ...      0.02   \n",
       "2           0.42          0.49          0.56          0.17  ...      0.01   \n",
       "3           0.77          1.00          0.08          0.12  ...      0.02   \n",
       "4           0.55          0.02          0.95          0.09  ...      0.04   \n",
       "\n",
       "   PopDens  PctUsePubTrans  PolicCars  PolicOperBudg  LemasPctPolicOnPatr  \\\n",
       "0     0.26            0.20       0.06           0.04                  0.9   \n",
       "1     0.12            0.45          ?              ?                    ?   \n",
       "2     0.21            0.02          ?              ?                    ?   \n",
       "3     0.39            0.28          ?              ?                    ?   \n",
       "4     0.09            0.02          ?              ?                    ?   \n",
       "\n",
       "   LemasGangUnitDeploy  LemasPctOfficDrugUn  PolicBudgPerPop  \\\n",
       "0                  0.5                 0.32             0.14   \n",
       "1                    ?                 0.00                ?   \n",
       "2                    ?                 0.00                ?   \n",
       "3                    ?                 0.00                ?   \n",
       "4                    ?                 0.00                ?   \n",
       "\n",
       "   ViolentCrimesPerPop  \n",
       "0                 0.20  \n",
       "1                 0.67  \n",
       "2                 0.43  \n",
       "3                 0.12  \n",
       "4                 0.03  \n",
       "\n",
       "[5 rows x 128 columns]"
      ]
     },
     "execution_count": 2,
     "metadata": {},
     "output_type": "execute_result"
    }
   ],
   "source": [
    "# load data: Communities and Crime Data Set\n",
    "filename = 'http://archive.ics.uci.edu/ml/machine-learning-databases/communities/communities.data'\n",
    "df = pd.read_csv(filename, header=None)\n",
    "# add column names\n",
    "df.columns = ['state', 'county', 'community', 'communityname', 'fold', 'population', 'householdsize', 'racepctblack',\n",
    "'racePctWhite', 'racePctAsian', 'racePctHisp', 'agePct12t21', 'agePct12t29', 'agePct16t24', 'agePct65up', 'numbUrban',\n",
    "'pctUrban', 'medIncome', 'pctWWage', 'pctWFarmSelf', 'pctWInvInc', 'pctWSocSec', 'pctWPubAsst', 'pctWRetire',\n",
    "'medFamInc', 'perCapInc', 'whitePerCap', 'blackPerCap', 'indianPerCap', 'AsianPerCap', 'OtherPerCap', 'HispPerCap',\n",
    "'NumUnderPov', 'PctPopUnderPov', 'PctLess9thGrade', 'PctNotHSGrad', 'PctBSorMore', 'PctUnemployed', 'PctEmploy', 'PctEmplManu',\n",
    "'PctEmplProfServ', 'PctOccupManu', 'PctOccupMgmtProf', 'MalePctDivorce', 'MalePctNevMarr', 'FemalePctDiv', 'TotalPctDiv', 'PersPerFam',\n",
    "'PctFam2Par', 'PctKids2Par', 'PctYoungKids2Par', 'PctTeen2Par', 'PctWorkMomYoungKids', 'PctWorkMom', 'NumIlleg', 'PctIlleg',\n",
    "'NumImmig', 'PctImmigRecent', 'PctImmigRec5', 'PctImmigRec8', 'PctImmigRec10', 'PctRecentImmig', 'PctRecImmig5', 'PctRecImmig8',\n",
    "'PctRecImmig10', 'PctSpeakEnglOnly', 'PctNotSpeakEnglWell', 'PctLargHouseFam', 'PctLargHouseOccup', 'PersPerOccupHous', 'PersPerOwnOccHous','PersPerRentOccHous',\n",
    "'PctPersOwnOccup', 'PctPersDenseHous', 'PctHousLess3BR', 'MedNumBR', 'HousVacant', 'PctHousOccup', 'PctHousOwnOcc', 'PctVacantBoarded', \n",
    "'PctVacMore6Mos', 'MedYrHousBuilt', 'PctHousNoPhone', 'PctWOFullPlumb', 'OwnOccLowQuart', 'OwnOccMedVal', 'OwnOccHiQuart', 'RentLowQ', \n",
    "'RentMedian', 'RentHighQ', 'MedRent', 'MedRentPctHousInc', 'MedOwnCostPctInc', 'MedOwnCostPctIncNoMtg', 'NumInShelters', 'NumStreet', \n",
    "'PctForeignBorn', 'PctBornSameState', 'PctSameHouse85', 'PctSameCity85', 'PctSameState85', 'LemasSwornFT', 'LemasSwFTPerPop', 'LemasSwFTFieldOps', \n",
    "'LemasSwFTFieldPerPop', 'LemasTotalReq', 'LemasTotReqPerPop', 'PolicReqPerOffic', 'PolicPerPop', 'RacialMatchCommPol', 'PctPolicWhite', 'PctPolicBlack',\n",
    "'PctPolicHisp', 'PctPolicAsian', 'PctPolicMinor', 'OfficAssgnDrugUnits', 'NumKindsDrugsSeiz', 'PolicAveOTWorked', 'LandArea', 'PopDens', \n",
    "'PctUsePubTrans', 'PolicCars', 'PolicOperBudg', 'LemasPctPolicOnPatr', 'LemasGangUnitDeploy', 'LemasPctOfficDrugUn', 'PolicBudgPerPop', 'ViolentCrimesPerPop']\n",
    "\n",
    "# preview data\n",
    "print('dataset shape:{}'.format(df.shape))\n",
    "df.head()"
   ]
  },
  {
   "cell_type": "code",
   "execution_count": 3,
   "metadata": {},
   "outputs": [
    {
     "name": "stdout",
     "output_type": "stream",
     "text": [
      "non-predictive columns per data source: ['state', 'county', 'community', 'communityname', 'fold']\n"
     ]
    }
   ],
   "source": [
    "# remove not predictive columns (per data source)\n",
    "cols_to_drop = ['state', 'county', 'community', 'communityname', 'fold']\n",
    "print('non-predictive columns per data source: {}'.format(cols_to_drop))\n",
    "df = df.drop(cols_to_drop, axis=1)"
   ]
  },
  {
   "cell_type": "code",
   "execution_count": 4,
   "metadata": {},
   "outputs": [
    {
     "name": "stdout",
     "output_type": "stream",
     "text": [
      "# missing values (indicated by ?) and # of columns:\n",
      "0       100\n",
      "1675     22\n",
      "1         1\n",
      "dtype: int64\n",
      "\n",
      "Columns with missing values:\n",
      "['OtherPerCap', 'LemasSwornFT', 'LemasSwFTPerPop', 'LemasSwFTFieldOps', 'LemasSwFTFieldPerPop', 'LemasTotalReq', 'LemasTotReqPerPop', 'PolicReqPerOffic', 'PolicPerPop', 'RacialMatchCommPol', 'PctPolicWhite', 'PctPolicBlack', 'PctPolicHisp', 'PctPolicAsian', 'PctPolicMinor', 'OfficAssgnDrugUnits', 'NumKindsDrugsSeiz', 'PolicAveOTWorked', 'PolicCars', 'PolicOperBudg', 'LemasPctPolicOnPatr', 'LemasGangUnitDeploy', 'PolicBudgPerPop']\n"
     ]
    }
   ],
   "source": [
    "# handle missing values\n",
    "num_missing = df.isin(['?']).sum()\n",
    "print('# missing values (indicated by ?) and # of columns:')\n",
    "print(num_missing.value_counts())\n",
    "# columns with missing values\n",
    "cols_with_missing = num_missing[num_missing>0].index.to_list()\n",
    "print('\\nColumns with missing values:\\n{}'.format(cols_with_missing))"
   ]
  },
  {
   "cell_type": "code",
   "execution_count": 5,
   "metadata": {},
   "outputs": [
    {
     "name": "stdout",
     "output_type": "stream",
     "text": [
      "\n",
      "Drop columns with excess missing values:\n",
      "['LemasSwornFT', 'LemasSwFTPerPop', 'LemasSwFTFieldOps', 'LemasSwFTFieldPerPop', 'LemasTotalReq', 'LemasTotReqPerPop', 'PolicReqPerOffic', 'PolicPerPop', 'RacialMatchCommPol', 'PctPolicWhite', 'PctPolicBlack', 'PctPolicHisp', 'PctPolicAsian', 'PctPolicMinor', 'OfficAssgnDrugUnits', 'NumKindsDrugsSeiz', 'PolicAveOTWorked', 'PolicCars', 'PolicOperBudg', 'LemasPctPolicOnPatr', 'LemasGangUnitDeploy', 'PolicBudgPerPop']\n"
     ]
    }
   ],
   "source": [
    "# drop the columns with 1675 missing values (84% of observations)\n",
    "cols_to_drop2 = num_missing[num_missing>100].index.to_list()\n",
    "print('\\nDrop columns with excess missing values:\\n{}'.format(cols_to_drop2))\n",
    "df = df.drop(cols_to_drop2, axis=1)"
   ]
  },
  {
   "cell_type": "code",
   "execution_count": 6,
   "metadata": {},
   "outputs": [
    {
     "name": "stdout",
     "output_type": "stream",
     "text": [
      "\n",
      "Total missing values: 1\n",
      "\n",
      "Column for median imputation:\n",
      "['OtherPerCap']\n",
      "\n",
      "Total missing values after replacement: 0\n"
     ]
    }
   ],
   "source": [
    "# per data source, all remaining data are numeric \n",
    "# change missing values to nan\n",
    "df = df.apply(pd.to_numeric, errors='coerce')\n",
    "print('\\nTotal missing values: {}'.format(df.isna().sum().sum()))\n",
    "# replace nan with median\n",
    "print('\\nColumn for median imputation:\\n{}'.format(list(set(cols_with_missing) - set(cols_to_drop2))))\n",
    "df.fillna(df.median(), inplace=True)\n",
    "print('\\nTotal missing values after replacement: {}'.format(df.isna().sum().sum()))"
   ]
  },
  {
   "cell_type": "code",
   "execution_count": 7,
   "metadata": {},
   "outputs": [
    {
     "name": "stdout",
     "output_type": "stream",
     "text": [
      "features:\n",
      "['population' 'householdsize' 'racepctblack' 'racePctWhite' 'racePctAsian'\n",
      " 'racePctHisp' 'agePct12t21' 'agePct12t29' 'agePct16t24' 'agePct65up'\n",
      " 'numbUrban' 'pctUrban' 'medIncome' 'pctWWage' 'pctWFarmSelf' 'pctWInvInc'\n",
      " 'pctWSocSec' 'pctWPubAsst' 'pctWRetire' 'medFamInc' 'perCapInc'\n",
      " 'whitePerCap' 'blackPerCap' 'indianPerCap' 'AsianPerCap' 'OtherPerCap'\n",
      " 'HispPerCap' 'NumUnderPov' 'PctPopUnderPov' 'PctLess9thGrade'\n",
      " 'PctNotHSGrad' 'PctBSorMore' 'PctUnemployed' 'PctEmploy' 'PctEmplManu'\n",
      " 'PctEmplProfServ' 'PctOccupManu' 'PctOccupMgmtProf' 'MalePctDivorce'\n",
      " 'MalePctNevMarr' 'FemalePctDiv' 'TotalPctDiv' 'PersPerFam' 'PctFam2Par'\n",
      " 'PctKids2Par' 'PctYoungKids2Par' 'PctTeen2Par' 'PctWorkMomYoungKids'\n",
      " 'PctWorkMom' 'NumIlleg' 'PctIlleg' 'NumImmig' 'PctImmigRecent'\n",
      " 'PctImmigRec5' 'PctImmigRec8' 'PctImmigRec10' 'PctRecentImmig'\n",
      " 'PctRecImmig5' 'PctRecImmig8' 'PctRecImmig10' 'PctSpeakEnglOnly'\n",
      " 'PctNotSpeakEnglWell' 'PctLargHouseFam' 'PctLargHouseOccup'\n",
      " 'PersPerOccupHous' 'PersPerOwnOccHous' 'PersPerRentOccHous'\n",
      " 'PctPersOwnOccup' 'PctPersDenseHous' 'PctHousLess3BR' 'MedNumBR'\n",
      " 'HousVacant' 'PctHousOccup' 'PctHousOwnOcc' 'PctVacantBoarded'\n",
      " 'PctVacMore6Mos' 'MedYrHousBuilt' 'PctHousNoPhone' 'PctWOFullPlumb'\n",
      " 'OwnOccLowQuart' 'OwnOccMedVal' 'OwnOccHiQuart' 'RentLowQ' 'RentMedian'\n",
      " 'RentHighQ' 'MedRent' 'MedRentPctHousInc' 'MedOwnCostPctInc'\n",
      " 'MedOwnCostPctIncNoMtg' 'NumInShelters' 'NumStreet' 'PctForeignBorn'\n",
      " 'PctBornSameState' 'PctSameHouse85' 'PctSameCity85' 'PctSameState85'\n",
      " 'LandArea' 'PopDens' 'PctUsePubTrans' 'LemasPctOfficDrugUn']\n",
      "\n",
      "# features at start: 100\n"
     ]
    }
   ],
   "source": [
    "# train/test split\n",
    "y = df['ViolentCrimesPerPop'] # target\n",
    "X = df.loc[:, ~df.columns.isin(['ViolentCrimesPerPop'])] # features, start with all but the target\n",
    "X_train, X_test, y_train, y_test = train_test_split(X, y, test_size=0.2, random_state=42)\n",
    "print('features:\\n{}'.format(X.columns.values))\n",
    "print('\\n# features at start: {}'.format(len(X.columns.values)))"
   ]
  },
  {
   "cell_type": "code",
   "execution_count": 8,
   "metadata": {},
   "outputs": [
    {
     "data": {
      "image/png": "[encoded data removed]",
      "text/plain": [
       "<Figure size 648x288 with 2 Axes>"
      ]
     },
     "metadata": {
      "needs_background": "light"
     },
     "output_type": "display_data"
    },
    {
     "name": "stdout",
     "output_type": "stream",
     "text": [
      "All features are already on the same scale (0-1)\n"
     ]
    }
   ],
   "source": [
    "# per data source, data already normalized\n",
    "# confirm that features are on the same scale\n",
    "fig, axs = plt.subplots(2,1, figsize=(9,4), sharex=True, sharey=True)\n",
    "axs[0].bar(x=range(X_train.shape[1]), height=X_train.min())\n",
    "axs[1].bar(x=range(X_train.shape[1]), height=X_train.max())\n",
    "axs[0].set_ylabel('Min feat. value')\n",
    "axs[1].set_ylabel('Max feat. value')\n",
    "plt.xlabel('Feature number')\n",
    "plt.suptitle('Feature scale: Min and Max values')\n",
    "fig.tight_layout()\n",
    "plt.subplots_adjust(top=0.9)\n",
    "plt.show()\n",
    "print('All features are already on the same scale (0-1)')"
   ]
  },
  {
   "cell_type": "markdown",
   "metadata": {},
   "source": [
    "##### 2. Apply three techniques for feature selection: Filter methods, Wrapper methods, Embedded methods."
   ]
  },
  {
   "cell_type": "markdown",
   "metadata": {},
   "source": [
    "##### (1) Filter-based selection using Mutual Information"
   ]
  },
  {
   "cell_type": "code",
   "execution_count": 9,
   "metadata": {},
   "outputs": [
    {
     "name": "stdout",
     "output_type": "stream",
     "text": [
      "selected features:\n",
      "['population', 'racepctblack', 'racePctWhite', 'racePctHisp', 'agePct12t29', 'agePct16t24', 'numbUrban', 'medIncome', 'pctWInvInc', 'pctWPubAsst', 'medFamInc', 'perCapInc', 'blackPerCap', 'NumUnderPov', 'PctPopUnderPov', 'PctLess9thGrade', 'PctNotHSGrad', 'PctUnemployed', 'PctOccupManu', 'PctOccupMgmtProf', 'MalePctDivorce', 'MalePctNevMarr', 'FemalePctDiv', 'TotalPctDiv', 'PctFam2Par', 'PctKids2Par', 'PctYoungKids2Par', 'PctTeen2Par', 'NumIlleg', 'PctIlleg', 'PctImmigRec8', 'PctImmigRec10', 'PctRecImmig5', 'PctLargHouseFam', 'PctLargHouseOccup', 'PctPersOwnOccup', 'PctPersDenseHous', 'PctHousLess3BR', 'MedNumBR', 'HousVacant', 'PctHousOccup', 'PctHousOwnOcc', 'PctVacantBoarded', 'PctHousNoPhone', 'PctWOFullPlumb', 'MedRentPctHousInc', 'NumInShelters', 'NumStreet']\n",
      "\n",
      "# selected features: 48\n"
     ]
    }
   ],
   "source": [
    "# select features based on the k highest mutual information scores\n",
    "# try k = 48 features, about 50% of the features and matching backward selection method below\n",
    "selector = SelectKBest(score_func=mutual_info_regression, k=48).fit(X_train, y_train) \n",
    "# selected features\n",
    "mi_cols = X_train.columns[selector.get_support()].to_list()\n",
    "print('selected features:\\n{}'.format(mi_cols))\n",
    "print('\\n# selected features: {}'.format(len(mi_cols)))\n",
    "X_train_mi = pd.DataFrame(selector.transform(X_train), columns=mi_cols)\n",
    "X_test_mi = pd.DataFrame(selector.transform(X_test), columns=mi_cols)"
   ]
  },
  {
   "cell_type": "code",
   "execution_count": 10,
   "metadata": {},
   "outputs": [
    {
     "name": "stdout",
     "output_type": "stream",
     "text": [
      "cross-validated Train RMSE: [0.12691559 0.13031906 0.14850459 0.15689966 0.16314634 0.12720731\n",
      " 0.12379194 0.1286664  0.15008129 0.13513189]\n",
      "mean cross-validated Train RMSE: 0.139\n",
      "Train adjusted R2: 0.66\n"
     ]
    }
   ],
   "source": [
    "# linear regression on selected features\n",
    "regressor = LinearRegression()\n",
    "regressor.fit(X_train_mi, y_train)\n",
    "\n",
    "# model evaluation \n",
    "# evaluate RMSE by 5-fold cross-validation\n",
    "cv_scores_mi = cross_val_score(regressor, X_train_mi, y_train, scoring='neg_mean_squared_error', cv=10)\n",
    "print('cross-validated Train RMSE: {}'.format(np.sqrt(-cv_scores_mi)))\n",
    "print('mean cross-validated Train RMSE: {:.3f}'.format(np.sqrt(-cv_scores_mi).mean()))\n",
    "\n",
    "# evaluate adjusted R2\n",
    "R2_mi = regressor.score(X_train_mi, y_train)\n",
    "ntrain = X_train_mi.shape[0]\n",
    "ptrain = X_train_mi.shape[1]\n",
    "adjR2_mi = 1-(1-R2_mi)*(ntrain-1)/(ntrain-ptrain-1)\n",
    "print('Train adjusted R2: {:.2f}'.format(adjR2_mi))"
   ]
  },
  {
   "cell_type": "code",
   "execution_count": 11,
   "metadata": {},
   "outputs": [
    {
     "data": {
      "image/png": "[encoded data removed]",
      "text/plain": [
       "<Figure size 432x288 with 1 Axes>"
      ]
     },
     "metadata": {
      "needs_background": "light"
     },
     "output_type": "display_data"
    }
   ],
   "source": [
    "# evaluate feature importance based on coefficients\n",
    "feat_imp_mi = pd.Series(index = X_train_mi.columns, data = np.abs(regressor.coef_))\n",
    "\n",
    "# plot feature importantance/coefficients\n",
    "fig, ax = plt.subplots()\n",
    "feat_imp_mi.sort_values(ascending=False).head(20).plot(kind='barh', ax=ax)\n",
    "ax.invert_yaxis()\n",
    "ax.set_ylabel('feature')\n",
    "ax.set_xlabel('coefficient (absolute value)')\n",
    "ax.set_title('Feature importance (Top 20)')\n",
    "fig.tight_layout()\n",
    "plt.show()"
   ]
  },
  {
   "cell_type": "code",
   "execution_count": 12,
   "metadata": {},
   "outputs": [
    {
     "name": "stdout",
     "output_type": "stream",
     "text": [
      "Test RMSE: 0.134\n"
     ]
    }
   ],
   "source": [
    "# prediction\n",
    "y_pred_mi = regressor.predict(X_test_mi)\n",
    "RMSE_test_mi = np.sqrt(mean_squared_error(y_test, y_pred_mi))\n",
    "print('Test RMSE: {:.3f}'.format(RMSE_test_mi))"
   ]
  },
  {
   "cell_type": "markdown",
   "metadata": {},
   "source": [
    "##### (2) Wrapper method: Backward selection using Recursive Feature Elimination"
   ]
  },
  {
   "cell_type": "code",
   "execution_count": 13,
   "metadata": {},
   "outputs": [
    {
     "name": "stdout",
     "output_type": "stream",
     "text": [
      "selected features:\n",
      "['population', 'racepctblack', 'agePct12t29', 'numbUrban', 'medIncome', 'pctWWage', 'pctWInvInc', 'pctWSocSec', 'pctWRetire', 'medFamInc', 'perCapInc', 'whitePerCap', 'NumUnderPov', 'PctPopUnderPov', 'PctLess9thGrade', 'PctEmploy', 'MalePctDivorce', 'MalePctNevMarr', 'FemalePctDiv', 'TotalPctDiv', 'PctKids2Par', 'PctWorkMom', 'NumIlleg', 'PctIlleg', 'NumImmig', 'PctRecentImmig', 'PctRecImmig8', 'PctRecImmig10', 'PctSpeakEnglOnly', 'PctNotSpeakEnglWell', 'PctLargHouseFam', 'PctLargHouseOccup', 'PersPerOccupHous', 'PersPerOwnOccHous', 'PersPerRentOccHous', 'PctPersOwnOccup', 'PctPersDenseHous', 'HousVacant', 'PctHousOwnOcc', 'OwnOccLowQuart', 'OwnOccHiQuart', 'RentLowQ', 'RentHighQ', 'MedRent', 'MedOwnCostPctIncNoMtg', 'NumInShelters', 'NumStreet', 'PctForeignBorn']\n",
      "\n",
      "# selected features: 48\n"
     ]
    }
   ],
   "source": [
    "# feature ranking with RFE and cross-validated selection of the best number of features\n",
    "regressor = LinearRegression()\n",
    "selector = RFECV(regressor, step=1, cv=10).fit(X_train, y_train) \n",
    "# selected features\n",
    "rfe_cols = X_train.columns[selector.support_].to_list()\n",
    "print('selected features:\\n{}'.format(rfe_cols))\n",
    "print('\\n# selected features: {}'.format(len(rfe_cols)))"
   ]
  },
  {
   "cell_type": "code",
   "execution_count": 14,
   "metadata": {},
   "outputs": [
    {
     "name": "stdout",
     "output_type": "stream",
     "text": [
      "cross-validated Train RMSE: [0.12494297 0.13091153 0.14788187 0.15084844 0.16159184 0.12538221\n",
      " 0.12075717 0.12815165 0.1524621  0.13506248]\n",
      "mean cross-validated Train RMSE: 0.138\n",
      "Train adjusted R2: 0.68\n"
     ]
    }
   ],
   "source": [
    "# model evaluation \n",
    "# evaluate RMSE by cross-validation\n",
    "cv_scores_rfe = cross_val_score(selector, X_train, y_train, scoring='neg_mean_squared_error', cv=10)\n",
    "print('cross-validated Train RMSE: {}'.format(np.sqrt(-cv_scores_rfe)))\n",
    "print('mean cross-validated Train RMSE: {:.3f}'.format(np.sqrt(-cv_scores_rfe).mean()))\n",
    "\n",
    "# evaluate adjusted R2\n",
    "R2_rfe = selector.score(X_train, y_train)\n",
    "ntrain = X_train.shape[0]\n",
    "ptrain = np.sum(selector.support_)\n",
    "adjR2_rfe = 1-(1-R2_rfe)*(ntrain-1)/(ntrain-ptrain-1)\n",
    "print('Train adjusted R2: {:.2f}'.format(adjR2_rfe))"
   ]
  },
  {
   "cell_type": "code",
   "execution_count": 15,
   "metadata": {},
   "outputs": [
    {
     "data": {
      "image/png": "[encoded data removed]",
      "text/plain": [
       "<Figure size 432x288 with 1 Axes>"
      ]
     },
     "metadata": {
      "needs_background": "light"
     },
     "output_type": "display_data"
    }
   ],
   "source": [
    "# evaluate feature importance based on coefficients\n",
    "feat_imp_rfe = pd.Series(index = X_train.columns[selector.support_], data = np.abs(selector.estimator_.coef_))\n",
    "\n",
    "# plot feature importantance/coefficients\n",
    "fig, ax = plt.subplots()\n",
    "feat_imp_rfe.sort_values(ascending=False).head(20).plot(kind='barh', ax=ax)\n",
    "ax.invert_yaxis()\n",
    "ax.set_ylabel('feature')\n",
    "ax.set_xlabel('coefficient (absolute value)')\n",
    "ax.set_title('Feature importance (Top 20)')\n",
    "fig.tight_layout()\n",
    "plt.show()"
   ]
  },
  {
   "cell_type": "code",
   "execution_count": 16,
   "metadata": {},
   "outputs": [
    {
     "name": "stdout",
     "output_type": "stream",
     "text": [
      "Test RMSE: 0.131\n"
     ]
    }
   ],
   "source": [
    "# prediction\n",
    "y_pred_rfe = selector.predict(X_test)\n",
    "RMSE_test_rfe = np.sqrt(mean_squared_error(y_test, y_pred_rfe))\n",
    "print('Test RMSE: {:.3f}'.format(RMSE_test_rfe))"
   ]
  },
  {
   "cell_type": "markdown",
   "metadata": {},
   "source": [
    "##### (3) Embedded method: Lasso regression"
   ]
  },
  {
   "cell_type": "code",
   "execution_count": 17,
   "metadata": {},
   "outputs": [
    {
     "name": "stdout",
     "output_type": "stream",
     "text": [
      "alpha: 4.0532760291270754e-05\n",
      "\n",
      "selected features:\n",
      "['householdsize', 'racepctblack', 'racePctWhite', 'racePctAsian', 'racePctHisp', 'agePct12t29', 'agePct65up', 'numbUrban', 'pctUrban', 'pctWWage', 'pctWFarmSelf', 'pctWInvInc', 'pctWSocSec', 'pctWPubAsst', 'pctWRetire', 'medFamInc', 'whitePerCap', 'blackPerCap', 'indianPerCap', 'AsianPerCap', 'OtherPerCap', 'HispPerCap', 'NumUnderPov', 'PctPopUnderPov', 'PctLess9thGrade', 'PctNotHSGrad', 'PctBSorMore', 'PctUnemployed', 'PctEmploy', 'PctEmplManu', 'PctEmplProfServ', 'PctOccupManu', 'PctOccupMgmtProf', 'MalePctDivorce', 'MalePctNevMarr', 'FemalePctDiv', 'PctFam2Par', 'PctKids2Par', 'PctYoungKids2Par', 'PctTeen2Par', 'PctWorkMomYoungKids', 'PctWorkMom', 'NumIlleg', 'PctIlleg', 'NumImmig', 'PctImmigRecent', 'PctImmigRec5', 'PctImmigRec10', 'PctRecentImmig', 'PctRecImmig8', 'PctSpeakEnglOnly', 'PctNotSpeakEnglWell', 'PctLargHouseOccup', 'PersPerOccupHous', 'PersPerOwnOccHous', 'PersPerRentOccHous', 'PctPersOwnOccup', 'PctPersDenseHous', 'PctHousLess3BR', 'MedNumBR', 'HousVacant', 'PctHousOccup', 'PctVacantBoarded', 'PctVacMore6Mos', 'PctHousNoPhone', 'PctWOFullPlumb', 'OwnOccLowQuart', 'OwnOccHiQuart', 'RentLowQ', 'RentHighQ', 'MedRent', 'MedRentPctHousInc', 'MedOwnCostPctInc', 'MedOwnCostPctIncNoMtg', 'NumInShelters', 'NumStreet', 'PctForeignBorn', 'PctBornSameState', 'PctSameCity85', 'PctSameState85', 'LandArea', 'PctUsePubTrans', 'LemasPctOfficDrugUn']\n",
      "\n",
      "# selected features: 83\n"
     ]
    }
   ],
   "source": [
    "# Lasso linear model. The best model is selected by cross-validation\n",
    "lasso = LassoCV(cv=10, random_state=0).fit(X_train, y_train)\n",
    "print('alpha: {}'.format(lasso.alpha_))\n",
    "\n",
    "# selected features\n",
    "lasso_cols = X_train.columns[lasso.coef_!=0].to_list()\n",
    "print('\\nselected features:\\n{}'.format(lasso_cols))\n",
    "print('\\n# selected features: {}'.format(len(lasso_cols)))"
   ]
  },
  {
   "cell_type": "code",
   "execution_count": 18,
   "metadata": {},
   "outputs": [
    {
     "name": "stdout",
     "output_type": "stream",
     "text": [
      "cross-validated Train RMSE: [0.12701505 0.12883436 0.14582794 0.15342114 0.16003772 0.12606863\n",
      " 0.11915896 0.12925666 0.15063447 0.13521828]\n",
      "mean cross-validated Train RMSE: 0.138\n",
      "Train adjusted R2: 0.68\n"
     ]
    }
   ],
   "source": [
    "# model evaluation      \n",
    "# evaluate RMSE by cross-validation\n",
    "cv_scores_lasso = cross_val_score(lasso, X_train, y_train, scoring='neg_mean_squared_error', cv=10)\n",
    "print('cross-validated Train RMSE: {}'.format(np.sqrt(-cv_scores_lasso)))\n",
    "print('mean cross-validated Train RMSE: {:.3f}'.format(np.sqrt(-cv_scores_lasso).mean()))\n",
    "\n",
    "# evaluate adjusted R2\n",
    "R2_lasso = lasso.score(X_train, y_train)\n",
    "ntrain = X_train.shape[0]\n",
    "ptrain = np.sum(lasso.coef_!=0)\n",
    "adjR2_lasso = 1-(1-R2_lasso)*(ntrain-1)/(ntrain-ptrain-1)\n",
    "print('Train adjusted R2: {:.2f}'.format(adjR2_lasso))"
   ]
  },
  {
   "cell_type": "code",
   "execution_count": 19,
   "metadata": {},
   "outputs": [
    {
     "data": {
      "image/png": "[encoded data removed]",
      "text/plain": [
       "<Figure size 432x288 with 1 Axes>"
      ]
     },
     "metadata": {
      "needs_background": "light"
     },
     "output_type": "display_data"
    }
   ],
   "source": [
    "# evaluate feature importance based on coefficients\n",
    "feat_imp_lasso = pd.Series(index = X_train.columns, data = np.abs(lasso.coef_))\n",
    "\n",
    "# plot feature importantance/coefficients\n",
    "fig, ax = plt.subplots()\n",
    "feat_imp_lasso.sort_values(ascending=False).head(20).plot(kind='barh', ax=ax)\n",
    "ax.invert_yaxis()\n",
    "ax.set_ylabel('feature')\n",
    "ax.set_xlabel('coefficient (absolute value)')\n",
    "ax.set_title('Feature importance (Top 20)')\n",
    "fig.tight_layout()\n",
    "plt.show()"
   ]
  },
  {
   "cell_type": "code",
   "execution_count": 20,
   "metadata": {},
   "outputs": [
    {
     "name": "stdout",
     "output_type": "stream",
     "text": [
      "Test RMSE: 0.131\n"
     ]
    }
   ],
   "source": [
    "# prediction\n",
    "y_pred_lasso = lasso.predict(X_test)\n",
    "RMSE_test_lasso = np.sqrt(mean_squared_error(y_test, y_pred_lasso))\n",
    "print('Test RMSE: {:.3f}'.format(RMSE_test_lasso))"
   ]
  },
  {
   "cell_type": "markdown",
   "metadata": {},
   "source": [
    "##### Baseline: no additional feature selection"
   ]
  },
  {
   "cell_type": "code",
   "execution_count": 21,
   "metadata": {},
   "outputs": [
    {
     "name": "stdout",
     "output_type": "stream",
     "text": [
      "# features: 100\n"
     ]
    }
   ],
   "source": [
    "# linear regression model using all features; no additional selection after preprocessing\n",
    "regressor = LinearRegression()\n",
    "regressor.fit(X_train, y_train)\n",
    "print('# features: {}'.format(X_train.shape[1]))"
   ]
  },
  {
   "cell_type": "code",
   "execution_count": 22,
   "metadata": {},
   "outputs": [
    {
     "name": "stdout",
     "output_type": "stream",
     "text": [
      "cross-validated Train RMSE: [0.12537605 0.12997093 0.1468093  0.15316818 0.1619665  0.12565712\n",
      " 0.12011993 0.12887814 0.15246135 0.13524602]\n",
      "mean cross-validated Train RMSE: 0.138\n",
      "Train adjusted R2: 0.68\n"
     ]
    }
   ],
   "source": [
    "# model evaluation \n",
    "# evaluate RMSE by cross-validation\n",
    "cv_scores_all = cross_val_score(regressor, X_train, y_train, scoring='neg_mean_squared_error', cv=10)\n",
    "print('cross-validated Train RMSE: {}'.format(np.sqrt(-cv_scores_all)))\n",
    "print('mean cross-validated Train RMSE: {:.3f}'.format(np.sqrt(-cv_scores_all).mean()))\n",
    "\n",
    "# evaluate adjusted R2\n",
    "R2_all = regressor.score(X_train, y_train)\n",
    "ntrain = X_train.shape[0]\n",
    "ptrain = X_train.shape[1]\n",
    "adjR2_all = 1-(1-R2_all)*(ntrain-1)/(ntrain-ptrain-1)\n",
    "print('Train adjusted R2: {:.2f}'.format(adjR2_all))"
   ]
  },
  {
   "cell_type": "code",
   "execution_count": 23,
   "metadata": {},
   "outputs": [
    {
     "data": {
      "image/png": "[encoded data removed]",
      "text/plain": [
       "<Figure size 432x288 with 1 Axes>"
      ]
     },
     "metadata": {
      "needs_background": "light"
     },
     "output_type": "display_data"
    }
   ],
   "source": [
    "# evaluate feature importance based on coefficients\n",
    "feat_imp_all = pd.Series(index = X_train.columns, data = np.abs(regressor.coef_))\n",
    "\n",
    "# plot feature importantance/coefficients\n",
    "fig, ax = plt.subplots()\n",
    "feat_imp_all.sort_values(ascending=False).head(20).plot(kind='barh', ax=ax)\n",
    "ax.invert_yaxis()\n",
    "ax.set_ylabel('feature')\n",
    "ax.set_xlabel('coefficient (absolute value)')\n",
    "ax.set_title('Feature importance (Top 20)')\n",
    "fig.tight_layout()\n",
    "plt.show()"
   ]
  },
  {
   "cell_type": "code",
   "execution_count": 24,
   "metadata": {},
   "outputs": [
    {
     "name": "stdout",
     "output_type": "stream",
     "text": [
      "Test RMSE: 0.132\n"
     ]
    }
   ],
   "source": [
    "# prediction\n",
    "y_pred_all = regressor.predict(X_test)\n",
    "RMSE_test_all = np.sqrt(mean_squared_error(y_test, y_pred_all))\n",
    "print('Test RMSE: {:.3f}'.format(RMSE_test_all))"
   ]
  },
  {
   "cell_type": "markdown",
   "metadata": {},
   "source": [
    "##### 3. Describe your findings."
   ]
  },
  {
   "cell_type": "code",
   "execution_count": 25,
   "metadata": {},
   "outputs": [
    {
     "data": {
      "text/html": [
       "<div>\n",
       "<style scoped>\n",
       "    .dataframe tbody tr th:only-of-type {\n",
       "        vertical-align: middle;\n",
       "    }\n",
       "\n",
       "    .dataframe tbody tr th {\n",
       "        vertical-align: top;\n",
       "    }\n",
       "\n",
       "    .dataframe thead th {\n",
       "        text-align: right;\n",
       "    }\n",
       "</style>\n",
       "<table border=\"1\" class=\"dataframe\">\n",
       "  <thead>\n",
       "    <tr style=\"text-align: right;\">\n",
       "      <th></th>\n",
       "      <th>No additional selection</th>\n",
       "      <th>Filter method</th>\n",
       "      <th>Wrarpper method</th>\n",
       "      <th>Embedded method</th>\n",
       "    </tr>\n",
       "  </thead>\n",
       "  <tbody>\n",
       "    <tr>\n",
       "      <th>Method</th>\n",
       "      <td>n/a</td>\n",
       "      <td>Mutual Information</td>\n",
       "      <td>Backward selection/RFE</td>\n",
       "      <td>Lasso</td>\n",
       "    </tr>\n",
       "    <tr>\n",
       "      <th>RMSE Train (CV-10)</th>\n",
       "      <td>0.137965</td>\n",
       "      <td>0.139066</td>\n",
       "      <td>0.137799</td>\n",
       "      <td>0.137547</td>\n",
       "    </tr>\n",
       "    <tr>\n",
       "      <th>adjR2 Train</th>\n",
       "      <td>0.680775</td>\n",
       "      <td>0.662764</td>\n",
       "      <td>0.678167</td>\n",
       "      <td>0.681251</td>\n",
       "    </tr>\n",
       "    <tr>\n",
       "      <th># selected features</th>\n",
       "      <td>100</td>\n",
       "      <td>48</td>\n",
       "      <td>48</td>\n",
       "      <td>83</td>\n",
       "    </tr>\n",
       "    <tr>\n",
       "      <th>RMSE Test</th>\n",
       "      <td>0.131692</td>\n",
       "      <td>0.133579</td>\n",
       "      <td>0.130854</td>\n",
       "      <td>0.131049</td>\n",
       "    </tr>\n",
       "  </tbody>\n",
       "</table>\n",
       "</div>"
      ],
      "text/plain": [
       "                    No additional selection       Filter method  \\\n",
       "Method                                  n/a  Mutual Information   \n",
       "RMSE Train (CV-10)                 0.137965            0.139066   \n",
       "adjR2 Train                        0.680775            0.662764   \n",
       "# selected features                     100                  48   \n",
       "RMSE Test                          0.131692            0.133579   \n",
       "\n",
       "                            Wrarpper method Embedded method  \n",
       "Method               Backward selection/RFE           Lasso  \n",
       "RMSE Train (CV-10)                 0.137799        0.137547  \n",
       "adjR2 Train                        0.678167        0.681251  \n",
       "# selected features                      48              83  \n",
       "RMSE Test                          0.130854        0.131049  "
      ]
     },
     "execution_count": 25,
     "metadata": {},
     "output_type": "execute_result"
    }
   ],
   "source": [
    "# make summary dataframe of model results \n",
    "summary_df = pd.DataFrame({\n",
    "    'No additional selection':['n/a', np.sqrt(-cv_scores_all).mean(), adjR2_all, X_train.shape[1], RMSE_test_all],\n",
    "    'Filter method':['Mutual Information', np.sqrt(-cv_scores_mi).mean(), adjR2_mi, len(mi_cols), RMSE_test_mi],\n",
    "    'Wrarpper method':['Backward selection/RFE', np.sqrt(-cv_scores_rfe).mean(), adjR2_rfe, len(rfe_cols), RMSE_test_rfe],\n",
    "    'Embedded method':['Lasso', np.sqrt(-cv_scores_lasso).mean(), adjR2_lasso, len(lasso_cols), RMSE_test_lasso]\n",
    "    }, index=['Method', 'RMSE Train (CV-10)', 'adjR2 Train', '# selected features', 'RMSE Test'])\n",
    "summary_df"
   ]
  },
  {
   "cell_type": "code",
   "execution_count": 26,
   "metadata": {},
   "outputs": [
    {
     "data": {
      "image/png": "[encoded data removed]",
      "text/plain": [
       "<Figure size 432x288 with 2 Axes>"
      ]
     },
     "metadata": {
      "needs_background": "light"
     },
     "output_type": "display_data"
    },
    {
     "name": "stdout",
     "output_type": "stream",
     "text": [
      "Common selected top features using mutual information, RFE, and Lasso:\n",
      "{'PctPersOwnOccup', 'HousVacant', 'PctPersDenseHous', 'agePct12t29', 'MalePctDivorce'}\n"
     ]
    }
   ],
   "source": [
    "# evaluate feature importance based on coefficients\n",
    "# find top 20 features for each models/feature selection techniques\n",
    "top20mi = feat_imp_mi.sort_values(ascending=False).head(20).index.to_list()\n",
    "top20rfe = feat_imp_rfe.sort_values(ascending=False).head(20).index.to_list()\n",
    "top20lasso = feat_imp_lasso.sort_values(ascending=False).head(20).index.to_list()\n",
    "top20all = feat_imp_all.sort_values(ascending=False).head(20).index.to_list()\n",
    "\n",
    "# find overlapping featurees across models/feature selection techniques\n",
    "overlap_matrix = pd.DataFrame({'No selection': [len(set(top20all).intersection(set(top20all))), len(set(top20all).intersection(set(top20mi))), len(set(top20all).intersection(set(top20rfe))), len(set(top20all).intersection(set(top20lasso)))],\n",
    " 'MI': [len(set(top20mi).intersection(set(top20all))), len(set(top20mi).intersection(set(top20mi))), len(set(top20mi).intersection(set(top20rfe))), len(set(top20mi).intersection(set(top20lasso)))],\n",
    " 'RFE': [len(set(top20rfe).intersection(set(top20all))), len(set(top20rfe).intersection(set(top20mi))), len(set(top20rfe).intersection(set(top20rfe))), len(set(top20rfe).intersection(set(top20lasso)))],\n",
    " 'Lasso': [len(set(top20lasso).intersection(set(top20all))), len(set(top20lasso).intersection(set(top20mi))), len(set(top20lasso).intersection(set(top20rfe))), len(set(top20lasso).intersection(set(top20lasso)))],\n",
    " }, index=['No selection', 'MI', 'RFE', 'Lasso'])\n",
    "\n",
    "# visualize feature overlap between models/feature selection techniques\n",
    "mask = np.zeros_like(overlap_matrix)\n",
    "mask[np.triu_indices_from(mask)] = True\n",
    "fig = plt.figure()\n",
    "ax = fig.gca()\n",
    "sns.heatmap(overlap_matrix, vmin=0, vmax=20, mask=mask, annot=True, square=True, cmap='YlGnBu', fmt='.0f', ax=ax)\n",
    "ax.set_title('Number of common top 20 features\\nColor scale: # features')\n",
    "plt.show()\n",
    "\n",
    "print('Common selected top features using mutual information, RFE, and Lasso:\\n{}'.format((set(top20mi).intersection(set(top20rfe))).intersection(set(top20lasso))))"
   ]
  },
  {
   "cell_type": "markdown",
   "metadata": {},
   "source": [
    "##### Findings:\n",
    "3 techniques for feature selection were applied: Filter method, Wrapper method, and Embedded method.\n",
    "<ul>\n",
    "    <li>Filter method: Mutual Information score was used for feature selection. Here, k=48 highest scores were selected; k was chosen to match the number of features selected by backward selection/RFE as comparison. (Using Mutual Information, k=48 performed better than k=20)</li>\n",
    "    <li>Wrapper method: Backward selection by RFE, with cross-validated selection of the best number of features (48 features)</li>\n",
    "    <li>Embedded method: Lasso regression, with cross-validated selection of the best model (83 selected features; coefficients of 17 features were set to 0)</li>\n",
    "</ul>\n",
    "\n",
    "Model results and feature importance:\n",
    "<ul>\n",
    "    <li>Overall, model performance, as assessed by RMSE and adjusted R2, was similar/comparable between the 3 feature selection techniques</li>\n",
    "    <li>Lasso produced the lowest RMSE and highest adjusted R2, despite having the largest number of features</li>\n",
    "    <li>The model with feature selection by Mutual information could be further tuned, as the selection of k highest scores was arbitrary. However, as described above, model performance was similar to RFE and Lasso models, both of which were tuned via cross-validation</li>\n",
    "    <li>All 3 feature selection techniques reduced model complexity (decreased # features) with minimal change in accuracy</li>\n",
    "    <li>The 3 feature selection techniques identified a similar set of top 20 features, with overlap of ~50% (~10 out of the top 20 features were the same across any 2 models)</li>\n",
    "    <li>Across all 3 models/feature selection techniques, common selected top features are 'PctPersOwnOccup', 'HousVacant', 'PctPersDenseHous', 'agePct12t29', 'MalePctDivorce'</li>"
   ]
  }
 ],
 "metadata": {
  "kernelspec": {
   "display_name": "Python 3",
   "language": "python",
   "name": "python3"
  },
  "language_info": {
   "codemirror_mode": {
    "name": "ipython",
    "version": 3
   },
   "file_extension": ".py",
   "mimetype": "text/x-python",
   "name": "python",
   "nbconvert_exporter": "python",
   "pygments_lexer": "ipython3",
   "version": "3.7.4"
  }
 },
 "nbformat": 4,
 "nbformat_minor": 2
}
